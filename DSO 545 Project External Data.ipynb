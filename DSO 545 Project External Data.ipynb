{
 "cells": [
  {
   "cell_type": "code",
   "execution_count": null,
   "metadata": {
    "colab": {
     "base_uri": "https://localhost:8080/",
     "height": 34
    },
    "colab_type": "code",
    "id": "yd6qNMR7LHxT",
    "outputId": "08a4b69d-5ca8-450b-96ff-af82131bdcae"
   },
   "outputs": [],
   "source": [
    "from bs4 import BeautifulSoup\n",
    "import urllib.request\n",
    "import requests\n",
    "import pandas as pd\n",
    "import numpy as np"
   ]
  },
  {
   "cell_type": "markdown",
   "metadata": {},
   "source": [
    "### 1. Import Zip Codes"
   ]
  },
  {
   "cell_type": "code",
   "execution_count": null,
   "metadata": {
    "colab": {},
    "colab_type": "code",
    "id": "EfNrDsrPLHxX"
   },
   "outputs": [],
   "source": [
    "zip5 = pd.read_csv('Zip5.csv')\n",
    "zip5.columns=['Zip5']"
   ]
  },
  {
   "cell_type": "code",
   "execution_count": null,
   "metadata": {
    "colab": {
     "base_uri": "https://localhost:8080/",
     "height": 34
    },
    "colab_type": "code",
    "id": "rTmCLQhFLHxa",
    "outputId": "47387625-1384-463a-efca-2191d314c29d"
   },
   "outputs": [],
   "source": [
    "zip5.shape"
   ]
  },
  {
   "cell_type": "markdown",
   "metadata": {},
   "source": [
    "### 2. Scrape Median HH Income \n",
    "sample URL: https://statisticalatlas.com/zip/30097/Household-Income"
   ]
  },
  {
   "cell_type": "code",
   "execution_count": null,
   "metadata": {
    "colab": {},
    "colab_type": "code",
    "id": "oPdoLqG0LHxf"
   },
   "outputs": [],
   "source": [
    "df = pd.DataFrame()\n",
    "\n",
    "for zipcode in zip5.Zip5:\n",
    "    url = \"https://statisticalatlas.com/zip/{}/Household-Income\".format(zipcode)\n",
    "    with requests.get(url) as r:\n",
    "        soup = BeautifulSoup(r.text, 'lxml')\n",
    "        table = soup.find_all('text', {\"fill-opacity\":\"0.400\"})[3:4]\n",
    "        values = [zipcode]\n",
    "        values.extend([row.text for row in table])\n",
    "        df = df.append(pd.DataFrame(values).T, ignore_index=True)\n",
    "\n",
    "cols = ['Zip5', 'MedanHHIncome']\n",
    "df.columns=cols\n",
    "df.head()"
   ]
  },
  {
   "cell_type": "code",
   "execution_count": null,
   "metadata": {},
   "outputs": [],
   "source": [
    "df.count()"
   ]
  },
  {
   "cell_type": "markdown",
   "metadata": {},
   "source": [
    "- Drop rows where zip code is not found on the website\n",
    "- Remove dollar sign, 'k', and '>' in >250k\n",
    "- Remove wrong entries with '%'\n",
    "- Change column data type to float and rename"
   ]
  },
  {
   "cell_type": "code",
   "execution_count": null,
   "metadata": {},
   "outputs": [],
   "source": [
    "df1 = df.copy()\n",
    "df1 = df1.dropna()\n",
    "df1['MedanHHIncome'] = df1['MedanHHIncome'].str.replace('$','')\n",
    "df1['MedanHHIncome'] = df1['MedanHHIncome'].str.replace('k','')\n",
    "df1['MedanHHIncome'] = df1['MedanHHIncome'].str.replace('>','')\n",
    "df1 = df1[-df1['MedanHHIncome'].str.contains('%')]\n",
    "df1['MedanHHIncome'] = df1['MedanHHIncome'].astype(float)\n",
    "df1.columns = ['Zip5', 'MedanHHIncome(000)']"
   ]
  },
  {
   "cell_type": "markdown",
   "metadata": {},
   "source": [
    "### 3. Scrape Marital Status Info\n",
    "sample URL: https://statisticalatlas.com/zip/30097/Marital-Status"
   ]
  },
  {
   "cell_type": "code",
   "execution_count": null,
   "metadata": {
    "colab": {
     "base_uri": "https://localhost:8080/",
     "height": 647
    },
    "colab_type": "code",
    "id": "zCcQht_zRuJy",
    "outputId": "66fe2ee6-d1b6-4d4a-ebd6-6b1a49f33fb6"
   },
   "outputs": [],
   "source": [
    "dfm = pd.DataFrame()\n",
    "\n",
    "for zipcode in zip5.Zip5:\n",
    "    url = \"https://statisticalatlas.com/zip/{}/Marital-Status\".format(zipcode)\n",
    "    with requests.get(url) as r:\n",
    "        soup = BeautifulSoup(r.text, 'lxml')\n",
    "        table = soup.find_all('text', {\"fill-opacity\":\"0.500\"})[:8]\n",
    "        values = [zipcode]\n",
    "        values.extend([row.text for row in table])\n",
    "        dfm = dfm.append(pd.DataFrame(values).T, ignore_index=True)\n",
    "\n",
    "cols = ['Zip5', 'Never_Married_F', 'Never_Married_M', 'Married_F', 'Married_M', \n",
    "        'Separated/Divorced_F', 'Separated/Divorced_M', 'Widowed_F', 'Widowed_M']\n",
    "dfm.columns=cols\n",
    "dfm.head()"
   ]
  },
  {
   "cell_type": "markdown",
   "metadata": {},
   "source": [
    "- Drop rows where zip code is not found on the website\n",
    "- Change format: 11.9k to 11900 \n",
    "- Change column data type to integer\n",
    "- Generate married % and male/female variables"
   ]
  },
  {
   "cell_type": "code",
   "execution_count": null,
   "metadata": {},
   "outputs": [],
   "source": [
    "dfm1 = dfm.copy()\n",
    "dfm1 = dfm1.dropna()\n",
    "for col in dfm.columns[1:]:\n",
    "    dfm1[col] = dfm1[col].str.replace(',','')\n",
    "    dfm1[col] = dfm1[col].apply(lambda x: round(float(x[:-1])*1000) if x[-1:]=='k' else x).astype(int)\n",
    "dfm1['male'] = dfm1[['Never_Married_M', 'Married_M', 'Separated/Divorced_M', 'Widowed_M']].sum(axis=1)\n",
    "dfm1['female'] = dfm1[['Never_Married_F', 'Married_F', 'Separated/Divorced_F', 'Widowed_F']].sum(axis=1)\n",
    "dfm1['population'] = dfm1[['male','female']].sum(axis=1)\n",
    "dfm1['married'] = dfm1[['Married_F', 'Married_M']].sum(axis=1)\n",
    "dfm1['married %'] = dfm1['married']/dfm1['population']*100\n",
    "dfm1['married %'].replace(0, np.nan, inplace=True)\n",
    "dfm1['male/female'] = dfm1['male']/dfm1['female']"
   ]
  },
  {
   "cell_type": "markdown",
   "metadata": {},
   "source": [
    "### 4. Merge and Export Income and Marriage data"
   ]
  },
  {
   "cell_type": "code",
   "execution_count": null,
   "metadata": {},
   "outputs": [],
   "source": [
    "dfmg = df1.merge(dfm1[['Zip5', 'married %', 'male/female']], how='outer')\n",
    "dfmg.shape"
   ]
  },
  {
   "cell_type": "code",
   "execution_count": null,
   "metadata": {},
   "outputs": [],
   "source": [
    "dfmg.describe()"
   ]
  },
  {
   "cell_type": "code",
   "execution_count": null,
   "metadata": {
    "colab": {},
    "colab_type": "code",
    "id": "-SuT2BybVaEw"
   },
   "outputs": [],
   "source": [
    "dfmg.to_csv('income_marriage.csv', index=False)"
   ]
  },
  {
   "cell_type": "markdown",
   "metadata": {},
   "source": [
    "### 5. Deposit"
   ]
  },
  {
   "cell_type": "code",
   "execution_count": null,
   "metadata": {},
   "outputs": [],
   "source": [
    "deposit = pd.read_excel('FDIC Deposit.xlsx')"
   ]
  },
  {
   "cell_type": "code",
   "execution_count": null,
   "metadata": {},
   "outputs": [],
   "source": [
    "print(deposit.shape)\n",
    "deposit.head()"
   ]
  },
  {
   "cell_type": "code",
   "execution_count": null,
   "metadata": {},
   "outputs": [],
   "source": [
    "pop = pd.read_excel('Census Population.xlsx')"
   ]
  },
  {
   "cell_type": "code",
   "execution_count": null,
   "metadata": {},
   "outputs": [],
   "source": [
    "print(pop.shape)\n",
    "pop.head()"
   ]
  },
  {
   "cell_type": "markdown",
   "metadata": {},
   "source": [
    "Extract county and state from Geography."
   ]
  },
  {
   "cell_type": "code",
   "execution_count": null,
   "metadata": {},
   "outputs": [],
   "source": [
    "pop['State'] = pop['Geography'].apply(lambda x: x.split(', ')[1])\n",
    "pop['State'] = pop['State'].map({'Texas':'TX',\n",
    "                                 'Georgia':'GA',\n",
    "                                 'North Carolina':'NC',\n",
    "                                 'Florida':'FL'})\n",
    "pop['County'] = pop['Geography'].apply(lambda x: x.split(' County')[0])\n",
    "pop.columns = ['Geography', 'Population Est 2018', 'State', 'County']\n",
    "pop.head()"
   ]
  },
  {
   "cell_type": "code",
   "execution_count": null,
   "metadata": {},
   "outputs": [],
   "source": [
    "mg = deposit.merge(pop[['State', 'County', 'Population Est 2018']], on=['State','County'])\n",
    "print(mg.shape)\n",
    "print(mg.count())\n",
    "mg.head()"
   ]
  },
  {
   "cell_type": "markdown",
   "metadata": {},
   "source": [
    "Calculate per capita saving."
   ]
  },
  {
   "cell_type": "code",
   "execution_count": null,
   "metadata": {},
   "outputs": [],
   "source": [
    "mg['Deposit (000s) Per Capita'] = mg['Deposit (000s)']/mg['Population Est 2018']\n",
    "mg.head()"
   ]
  },
  {
   "cell_type": "code",
   "execution_count": null,
   "metadata": {},
   "outputs": [],
   "source": [
    "mg.describe()"
   ]
  },
  {
   "cell_type": "code",
   "execution_count": null,
   "metadata": {},
   "outputs": [],
   "source": [
    "mg.to_csv('per_capita_deposit.csv', index=False)"
   ]
  }
 ],
 "metadata": {
  "colab": {
   "collapsed_sections": [],
   "name": "Income Scrapping.ipynb",
   "provenance": []
  },
  "kernelspec": {
   "display_name": "Python 3",
   "language": "python",
   "name": "python3"
  },
  "language_info": {
   "codemirror_mode": {
    "name": "ipython",
    "version": 3
   },
   "file_extension": ".py",
   "mimetype": "text/x-python",
   "name": "python",
   "nbconvert_exporter": "python",
   "pygments_lexer": "ipython3",
   "version": "3.7.3"
  }
 },
 "nbformat": 4,
 "nbformat_minor": 1
}
