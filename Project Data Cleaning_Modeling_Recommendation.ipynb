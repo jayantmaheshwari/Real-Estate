{
 "cells": [
  {
   "cell_type": "code",
   "execution_count": 523,
   "metadata": {},
   "outputs": [],
   "source": [
    "#Importing relevant libraries\n",
    "import pandas as pd\n",
    "import numpy as np\n",
    "import math\n",
    "import matplotlib.pyplot as plt"
   ]
  },
  {
   "cell_type": "code",
   "execution_count": 524,
   "metadata": {},
   "outputs": [],
   "source": [
    "#Importing property data\n",
    "data = pd.read_excel('Property Data Compiled.xlsx', index_col = 0)"
   ]
  },
  {
   "cell_type": "code",
   "execution_count": 525,
   "metadata": {},
   "outputs": [
    {
     "data": {
      "text/plain": [
       "(20363, 211)"
      ]
     },
     "execution_count": 525,
     "metadata": {},
     "output_type": "execute_result"
    }
   ],
   "source": [
    "#Checking rows and column numbers in data\n",
    "data.shape"
   ]
  },
  {
   "cell_type": "markdown",
   "metadata": {},
   "source": [
    "## 1. Data Cleaning\n",
    "Create a subset of original data based on EDA to reduce calculation load. Drop duplicates. Get 5 digit zip & Fix State typo."
   ]
  },
  {
   "cell_type": "code",
   "execution_count": 527,
   "metadata": {},
   "outputs": [
    {
     "data": {
      "text/plain": [
       "(20300, 62)"
      ]
     },
     "execution_count": 527,
     "metadata": {},
     "output_type": "execute_result"
    }
   ],
   "source": [
    "cols = ['PropertyID', \n",
    "        # rent fields\n",
    "        'Avg Effective/SF', 'Avg Concessions %',\n",
    "        'Studio Effective Rent/SF', 'One Bedroom Effective Rent/SF', 'Two Bedroom Effective Rent/SF',\n",
    "        'Three Bedroom Effective Rent/SF', 'Four Bedroom Effective Rent/SF',\n",
    "        # unit fields\n",
    "        'Studio Avg SF', 'Number Of Studios', 'Studio Vacant Units', 'Studio Vacancy %',\n",
    "        'One Bedroom Avg SF','Number Of 1 Bedrooms', 'One Bedroom Vacant Units', 'One Bedroom Vacancy %',\n",
    "        'Two Bedroom Avg SF', 'Number Of 2 Bedrooms', 'Two Bedroom Vacant Units', 'Two Bedroom Vacancy %',\n",
    "        'Three Bedroom Avg SF', 'Number Of 3 Bedrooms', 'Three Bedroom Vacant Units', 'Three Bedroom Vacancy %',\n",
    "        'Four Bedroom Avg SF', 'Number Of 4 Bedrooms', 'Four Bedroom Vacant Units', 'Four Bedroom Vacancy %',        \n",
    "        # location fields\n",
    "        'State', 'Market Name', 'City', 'Zip', 'County Name',\n",
    "        'Closest Transit Stop Dist (mi)', 'Latitude', 'Longitude',\n",
    "        # property fields\n",
    "        'Star Rating', 'Building Status', 'Land Area (AC)', 'Number Of Stories',\n",
    "        'Style', 'Number Of Units', 'Vacancy %', 'Avg Unit SF', 'RBA',\n",
    "        '% Studios', '% 1-Bed', '% 2-Bed', '% 3-Bed', '% 4-Bed',\n",
    "        'Rent Type', 'Affordable Type', 'Construction Material', \n",
    "        'Amenities', 'Owner Name', 'Year Built', 'Year Renovated',\n",
    "        # demographic fields\n",
    "        '2019 Avg Age(1m)', '2019 Pop Age <19(1m)', '2019 Pop Age 20-64(1m)','2019 Pop Age 65+(1m)']\n",
    "sub = data.copy()[cols]\n",
    "sub.drop_duplicates(subset='PropertyID', inplace = True)\n",
    "sub['Zip5'] = sub['Zip'].str[:5]\n",
    "sub['State'] = sub['State'].map({'TX':'TX',\n",
    "                                 'FL':'FL',\n",
    "                                 'GA':'GA',\n",
    "                                 'NC':'NC',\n",
    "                                 'Fl':'FL',\n",
    "                                 'NC ':'NC'})\n",
    "sub.shape"
   ]
  },
  {
   "cell_type": "code",
   "execution_count": 528,
   "metadata": {},
   "outputs": [],
   "source": [
    "#Exporting unique zip codes\n",
    "pd.DataFrame(sub['Zip5'].unique()).to_csv('Zip5.csv',index=False)"
   ]
  },
  {
   "cell_type": "code",
   "execution_count": 529,
   "metadata": {},
   "outputs": [
    {
     "name": "stdout",
     "output_type": "stream",
     "text": [
      "<class 'pandas.core.frame.DataFrame'>\n",
      "Int64Index: 20300 entries, 1 to 20363\n",
      "Data columns (total 62 columns):\n",
      "PropertyID                         20300 non-null int64\n",
      "Avg Effective/SF                   16751 non-null float64\n",
      "Avg Concessions %                  20300 non-null float64\n",
      "Studio Effective Rent/SF           2475 non-null float64\n",
      "One Bedroom Effective Rent/SF      15360 non-null float64\n",
      "Two Bedroom Effective Rent/SF      16207 non-null float64\n",
      "Three Bedroom Effective Rent/SF    10031 non-null float64\n",
      "Four Bedroom Effective Rent/SF     1401 non-null float64\n",
      "Studio Avg SF                      2934 non-null float64\n",
      "Number Of Studios                  3041 non-null float64\n",
      "Studio Vacant Units                2588 non-null float64\n",
      "Studio Vacancy %                   2588 non-null float64\n",
      "One Bedroom Avg SF                 16910 non-null float64\n",
      "Number Of 1 Bedrooms               17326 non-null float64\n",
      "One Bedroom Vacant Units           15815 non-null float64\n",
      "One Bedroom Vacancy %              15815 non-null float64\n",
      "Two Bedroom Avg SF                 17451 non-null float64\n",
      "Number Of 2 Bedrooms               17734 non-null float64\n",
      "Two Bedroom Vacant Units           16526 non-null float64\n",
      "Two Bedroom Vacancy %              16526 non-null float64\n",
      "Three Bedroom Avg SF               10767 non-null float64\n",
      "Number Of 3 Bedrooms               10964 non-null float64\n",
      "Three Bedroom Vacant Units         10222 non-null float64\n",
      "Three Bedroom Vacancy %            10222 non-null float64\n",
      "Four Bedroom Avg SF                1569 non-null float64\n",
      "Number Of 4 Bedrooms               1604 non-null float64\n",
      "Four Bedroom Vacant Units          1510 non-null float64\n",
      "Four Bedroom Vacancy %             1510 non-null float64\n",
      "State                              20300 non-null object\n",
      "Market Name                        20300 non-null object\n",
      "City                               20300 non-null object\n",
      "Zip                                20300 non-null object\n",
      "County Name                        20300 non-null object\n",
      "Closest Transit Stop Dist (mi)     18448 non-null float64\n",
      "Latitude                           20300 non-null float64\n",
      "Longitude                          20300 non-null float64\n",
      "Star Rating                        20300 non-null int64\n",
      "Building Status                    20300 non-null object\n",
      "Land Area (AC)                     18108 non-null float64\n",
      "Number Of Stories                  19291 non-null float64\n",
      "Style                              19462 non-null object\n",
      "Number Of Units                    20300 non-null int64\n",
      "Vacancy %                          17021 non-null float64\n",
      "Avg Unit SF                        18705 non-null float64\n",
      "RBA                                20195 non-null float64\n",
      "% Studios                          3187 non-null float64\n",
      "% 1-Bed                            17383 non-null float64\n",
      "% 2-Bed                            17782 non-null float64\n",
      "% 3-Bed                            10997 non-null float64\n",
      "% 4-Bed                            1546 non-null float64\n",
      "Rent Type                          19796 non-null object\n",
      "Affordable Type                    3735 non-null object\n",
      "Construction Material              14185 non-null object\n",
      "Amenities                          16797 non-null object\n",
      "Owner Name                         19612 non-null object\n",
      "Year Built                         19745 non-null float64\n",
      "Year Renovated                     2217 non-null float64\n",
      "2019 Avg Age(1m)                   20271 non-null float64\n",
      "2019 Pop Age <19(1m)               20271 non-null float64\n",
      "2019 Pop Age 20-64(1m)             20271 non-null float64\n",
      "2019 Pop Age 65+(1m)               20271 non-null float64\n",
      "Zip5                               20300 non-null object\n",
      "dtypes: float64(46), int64(3), object(13)\n",
      "memory usage: 9.8+ MB\n"
     ]
    }
   ],
   "source": [
    "# Understanding data present in each of the variables\n",
    "sub.info()"
   ]
  },
  {
   "cell_type": "markdown",
   "metadata": {},
   "source": [
    "### 1.1 Drop properties that are proposed, under construction or demolished"
   ]
  },
  {
   "cell_type": "code",
   "execution_count": 530,
   "metadata": {},
   "outputs": [
    {
     "data": {
      "text/plain": [
       "Existing              17934\n",
       "Proposed                964\n",
       "Under Construction      811\n",
       "Demolished              365\n",
       "Under Renovation        226\n",
       "Name: Building Status, dtype: int64"
      ]
     },
     "execution_count": 530,
     "metadata": {},
     "output_type": "execute_result"
    }
   ],
   "source": [
    "# Number of rows for each building status\n",
    "sub['Building Status'].value_counts()"
   ]
  },
  {
   "cell_type": "code",
   "execution_count": 531,
   "metadata": {},
   "outputs": [
    {
     "name": "stdout",
     "output_type": "stream",
     "text": [
      "Records dropped: 2140\n",
      "Current size: (18160, 62)\n"
     ]
    }
   ],
   "source": [
    "# Removing rows belonging to proposed, under construction and demolished categories from data\n",
    "row_initial = sub.shape[0]\n",
    "sub = sub[sub['Building Status'].isin(['Existing','Under Renovation'])].copy()\n",
    "print('Records dropped:', row_initial - sub.shape[0])\n",
    "print('Current size:', sub.shape)"
   ]
  },
  {
   "cell_type": "markdown",
   "metadata": {},
   "source": [
    "### 1.2 Drop properties that are missing Avg Effective/SF (which is our output variable i.e. final rent price/sqft)\n",
    "Almost all records missing Avg Effective/SF are missing Effective Rent/SF for specifi unit types too, so cannot be calculated and filled and have to be dropped."
   ]
  },
  {
   "cell_type": "code",
   "execution_count": 532,
   "metadata": {},
   "outputs": [
    {
     "name": "stdout",
     "output_type": "stream",
     "text": [
      "Percentage of data missing Avg Effective/SF: 0.08838105726872247\n"
     ]
    }
   ],
   "source": [
    "# Calculating how much data is missing for avg effective/sf\n",
    "print('Percentage of data missing Avg Effective/SF:',1-sub['Avg Effective/SF'].count()/sub.shape[0])"
   ]
  },
  {
   "cell_type": "code",
   "execution_count": 533,
   "metadata": {},
   "outputs": [
    {
     "data": {
      "text/plain": [
       "Studio Effective Rent/SF           0\n",
       "One Bedroom Effective Rent/SF      1\n",
       "Two Bedroom Effective Rent/SF      2\n",
       "Three Bedroom Effective Rent/SF    1\n",
       "Four Bedroom Effective Rent/SF     0\n",
       "dtype: int64"
      ]
     },
     "execution_count": 533,
     "metadata": {},
     "output_type": "execute_result"
    }
   ],
   "source": [
    "# Checking rent information for unit types where avg effective rent is missing (we find most info missing for unit types as well)\n",
    "sub[sub['Avg Effective/SF'].isnull()][['Studio Effective Rent/SF', 'One Bedroom Effective Rent/SF', \n",
    "                                       'Two Bedroom Effective Rent/SF','Three Bedroom Effective Rent/SF', \n",
    "                                       'Four Bedroom Effective Rent/SF']].count()"
   ]
  },
  {
   "cell_type": "code",
   "execution_count": 534,
   "metadata": {},
   "outputs": [
    {
     "name": "stdout",
     "output_type": "stream",
     "text": [
      "Records dropped: 1605\n",
      "Current size: (16555, 62)\n"
     ]
    }
   ],
   "source": [
    "# Dropping the rows where avg effective/SF is missing\n",
    "row_initial = sub.shape[0]\n",
    "sub = sub[sub['Avg Effective/SF'].notnull()].copy()\n",
    "print('Records dropped:', row_initial - sub.shape[0])\n",
    "print('Current size:', sub.shape)"
   ]
  },
  {
   "cell_type": "markdown",
   "metadata": {},
   "source": [
    "### 1.3 Validate property unit mix\n",
    "### 1.3.1 Fix wrong data in % 4-Bed\n",
    "Most records have % room types that don't add up to 100. Reason is that Column '% 4-Bed' is not consistent with other % room type columns. Multiply all '% 4-Bed' by 100 to make it consistent."
   ]
  },
  {
   "cell_type": "code",
   "execution_count": 535,
   "metadata": {},
   "outputs": [
    {
     "data": {
      "text/plain": [
       "100    16518\n",
       "0         37\n",
       "Name: % tot, dtype: int64"
      ]
     },
     "execution_count": 535,
     "metadata": {},
     "output_type": "execute_result"
    }
   ],
   "source": [
    "# Multiply % 4-Bed by 100 to make data consistent and creating a % total column (rounding it to nearest integer)\n",
    "sub['% 4-Bed'] = sub['% 4-Bed']*100\n",
    "sub['% tot'] = sub[['% Studios', '% 1-Bed', '% 2-Bed', '% 3-Bed', '% 4-Bed']].sum(axis=1)\n",
    "sub['% tot'] = sub['% tot'].apply(round)\n",
    "sub['% tot'].value_counts()"
   ]
  },
  {
   "cell_type": "markdown",
   "metadata": {},
   "source": [
    "Some % tot still add up to suggesting missing data. Let's dig deeper into different units and understand this."
   ]
  },
  {
   "cell_type": "markdown",
   "metadata": {},
   "source": [
    "### 1.3.2 Fill missing value in % Studios/1-Bed/2-Bed/3-Bed/4-Bed\n",
    "Some records have Number Of Studios value but no % Studios value. Fill missing value with Number Of Studios divided by Number Of Units. Do the same for 1/2/3/4 bedrooms."
   ]
  },
  {
   "cell_type": "code",
   "execution_count": 536,
   "metadata": {},
   "outputs": [],
   "source": [
    "# Filling missing values in % of unit types with calculations from existing data\n",
    "unit_type = {'Studios':'Studios', '1 Bedrooms':'1-Bed', \n",
    "             '2 Bedrooms':'2-Bed', '3 Bedrooms':'3-Bed', '4 Bedrooms':'4-Bed'}\n",
    "\n",
    "for utype in unit_type.keys():\n",
    "    sub['% {}'.format(unit_type[utype])] =\\\n",
    "    sub[['% {}'.format(unit_type[utype]), 'Number Of {}'.format(utype), 'Number Of Units']].\\\n",
    "    apply(lambda x: x[0] if np.isnan(x[0])==False else(\\\n",
    "    x[0] if np.isnan(x[1]) else x[1]/x[2]*100), axis=1)"
   ]
  },
  {
   "cell_type": "markdown",
   "metadata": {},
   "source": [
    "### 1.3.3 Fill missing value in Number Of Studios/1-Bed/2-Bed/3-Bed/4-Bed\n",
    "Some records have % Studios values but no Number Of Studios value. Fill missing value with number of total unit X % Studios. Do the same for 1/2/3/4 bedrooms."
   ]
  },
  {
   "cell_type": "code",
   "execution_count": 537,
   "metadata": {},
   "outputs": [],
   "source": [
    "# Filling missing values in numbers of unit types with calculations from existing data\n",
    "for utype in unit_type.keys():\n",
    "    sub['Number Of {}'.format(utype)] = sub[['Number Of {}'.format(utype), '% {}'.format(unit_type[utype]), \n",
    "                                             'Number Of Units']].\\\n",
    "                                        apply(lambda x: x[1] * x[2]/100 if np.isnan(x[0]) else x[0], axis=1)"
   ]
  },
  {
   "cell_type": "markdown",
   "metadata": {},
   "source": [
    "### 1.3.4 Check if % unit types add up to 100 , fix wrong numbers\n",
    "Let's come back to % tot to validate number of different units add up."
   ]
  },
  {
   "cell_type": "code",
   "execution_count": 538,
   "metadata": {},
   "outputs": [
    {
     "data": {
      "text/plain": [
       "100    16544\n",
       "101        3\n",
       "145        2\n",
       "200        1\n",
       "71         1\n",
       "166        1\n",
       "86         1\n",
       "164        1\n",
       "112        1\n",
       "Name: % tot, dtype: int64"
      ]
     },
     "execution_count": 538,
     "metadata": {},
     "output_type": "execute_result"
    }
   ],
   "source": [
    "# Rechecking the % total values\n",
    "sub['% tot'] = sub[['% Studios', '% 1-Bed', '% 2-Bed', '% 3-Bed', '% 4-Bed']].sum(axis=1)\n",
    "sub['% tot'] = sub['% tot'].apply(round)\n",
    "sub['% tot'].value_counts()"
   ]
  },
  {
   "cell_type": "code",
   "execution_count": 539,
   "metadata": {},
   "outputs": [
    {
     "data": {
      "text/html": [
       "<div>\n",
       "<style scoped>\n",
       "    .dataframe tbody tr th:only-of-type {\n",
       "        vertical-align: middle;\n",
       "    }\n",
       "\n",
       "    .dataframe tbody tr th {\n",
       "        vertical-align: top;\n",
       "    }\n",
       "\n",
       "    .dataframe thead th {\n",
       "        text-align: right;\n",
       "    }\n",
       "</style>\n",
       "<table border=\"1\" class=\"dataframe\">\n",
       "  <thead>\n",
       "    <tr style=\"text-align: right;\">\n",
       "      <th></th>\n",
       "      <th>Studio Effective Rent/SF</th>\n",
       "      <th>One Bedroom Effective Rent/SF</th>\n",
       "      <th>Two Bedroom Effective Rent/SF</th>\n",
       "      <th>Three Bedroom Effective Rent/SF</th>\n",
       "      <th>Four Bedroom Effective Rent/SF</th>\n",
       "      <th>% Studios</th>\n",
       "      <th>% 1-Bed</th>\n",
       "      <th>% 2-Bed</th>\n",
       "      <th>% 3-Bed</th>\n",
       "      <th>% 4-Bed</th>\n",
       "      <th>Number Of Studios</th>\n",
       "      <th>Number Of 1 Bedrooms</th>\n",
       "      <th>Number Of 2 Bedrooms</th>\n",
       "      <th>Number Of 3 Bedrooms</th>\n",
       "      <th>Number Of 4 Bedrooms</th>\n",
       "      <th>Number Of Units</th>\n",
       "    </tr>\n",
       "    <tr>\n",
       "      <th>Row</th>\n",
       "      <th></th>\n",
       "      <th></th>\n",
       "      <th></th>\n",
       "      <th></th>\n",
       "      <th></th>\n",
       "      <th></th>\n",
       "      <th></th>\n",
       "      <th></th>\n",
       "      <th></th>\n",
       "      <th></th>\n",
       "      <th></th>\n",
       "      <th></th>\n",
       "      <th></th>\n",
       "      <th></th>\n",
       "      <th></th>\n",
       "      <th></th>\n",
       "    </tr>\n",
       "  </thead>\n",
       "  <tbody>\n",
       "    <tr>\n",
       "      <th>835</th>\n",
       "      <td>NaN</td>\n",
       "      <td>NaN</td>\n",
       "      <td>NaN</td>\n",
       "      <td>NaN</td>\n",
       "      <td>0.64</td>\n",
       "      <td>NaN</td>\n",
       "      <td>NaN</td>\n",
       "      <td>NaN</td>\n",
       "      <td>NaN</td>\n",
       "      <td>71.282051</td>\n",
       "      <td>NaN</td>\n",
       "      <td>NaN</td>\n",
       "      <td>NaN</td>\n",
       "      <td>NaN</td>\n",
       "      <td>139.0000</td>\n",
       "      <td>195</td>\n",
       "    </tr>\n",
       "    <tr>\n",
       "      <th>924</th>\n",
       "      <td>0.51</td>\n",
       "      <td>1.02</td>\n",
       "      <td>0.78</td>\n",
       "      <td>0.82</td>\n",
       "      <td>NaN</td>\n",
       "      <td>1.123596</td>\n",
       "      <td>44.380000</td>\n",
       "      <td>46.630000</td>\n",
       "      <td>8.990000</td>\n",
       "      <td>NaN</td>\n",
       "      <td>4.0</td>\n",
       "      <td>158.0</td>\n",
       "      <td>166.0</td>\n",
       "      <td>28.0000</td>\n",
       "      <td>NaN</td>\n",
       "      <td>356</td>\n",
       "    </tr>\n",
       "    <tr>\n",
       "      <th>941</th>\n",
       "      <td>NaN</td>\n",
       "      <td>NaN</td>\n",
       "      <td>NaN</td>\n",
       "      <td>NaN</td>\n",
       "      <td>1.04</td>\n",
       "      <td>NaN</td>\n",
       "      <td>NaN</td>\n",
       "      <td>NaN</td>\n",
       "      <td>NaN</td>\n",
       "      <td>85.789474</td>\n",
       "      <td>NaN</td>\n",
       "      <td>NaN</td>\n",
       "      <td>NaN</td>\n",
       "      <td>NaN</td>\n",
       "      <td>163.0000</td>\n",
       "      <td>190</td>\n",
       "    </tr>\n",
       "    <tr>\n",
       "      <th>1677</th>\n",
       "      <td>NaN</td>\n",
       "      <td>0.73</td>\n",
       "      <td>0.51</td>\n",
       "      <td>0.49</td>\n",
       "      <td>NaN</td>\n",
       "      <td>NaN</td>\n",
       "      <td>11.594203</td>\n",
       "      <td>59.420000</td>\n",
       "      <td>40.580000</td>\n",
       "      <td>NaN</td>\n",
       "      <td>NaN</td>\n",
       "      <td>16.0</td>\n",
       "      <td>82.0</td>\n",
       "      <td>40.0000</td>\n",
       "      <td>NaN</td>\n",
       "      <td>138</td>\n",
       "    </tr>\n",
       "    <tr>\n",
       "      <th>4064</th>\n",
       "      <td>1.71</td>\n",
       "      <td>1.99</td>\n",
       "      <td>1.96</td>\n",
       "      <td>NaN</td>\n",
       "      <td>NaN</td>\n",
       "      <td>22.540000</td>\n",
       "      <td>45.081967</td>\n",
       "      <td>54.920000</td>\n",
       "      <td>22.540000</td>\n",
       "      <td>NaN</td>\n",
       "      <td>55.0</td>\n",
       "      <td>110.0</td>\n",
       "      <td>79.0</td>\n",
       "      <td>54.9976</td>\n",
       "      <td>NaN</td>\n",
       "      <td>244</td>\n",
       "    </tr>\n",
       "    <tr>\n",
       "      <th>5497</th>\n",
       "      <td>NaN</td>\n",
       "      <td>1.62</td>\n",
       "      <td>1.37</td>\n",
       "      <td>1.24</td>\n",
       "      <td>NaN</td>\n",
       "      <td>100.000000</td>\n",
       "      <td>28.571429</td>\n",
       "      <td>57.142857</td>\n",
       "      <td>14.285714</td>\n",
       "      <td>NaN</td>\n",
       "      <td>336.0</td>\n",
       "      <td>96.0</td>\n",
       "      <td>192.0</td>\n",
       "      <td>48.0000</td>\n",
       "      <td>NaN</td>\n",
       "      <td>336</td>\n",
       "    </tr>\n",
       "    <tr>\n",
       "      <th>6137</th>\n",
       "      <td>1.34</td>\n",
       "      <td>NaN</td>\n",
       "      <td>0.65</td>\n",
       "      <td>0.44</td>\n",
       "      <td>NaN</td>\n",
       "      <td>45.000000</td>\n",
       "      <td>45.000000</td>\n",
       "      <td>45.000000</td>\n",
       "      <td>10.000000</td>\n",
       "      <td>NaN</td>\n",
       "      <td>45.0</td>\n",
       "      <td>45.0</td>\n",
       "      <td>45.0</td>\n",
       "      <td>10.0000</td>\n",
       "      <td>NaN</td>\n",
       "      <td>100</td>\n",
       "    </tr>\n",
       "    <tr>\n",
       "      <th>8089</th>\n",
       "      <td>NaN</td>\n",
       "      <td>NaN</td>\n",
       "      <td>1.43</td>\n",
       "      <td>1.59</td>\n",
       "      <td>1.65</td>\n",
       "      <td>NaN</td>\n",
       "      <td>86.710000</td>\n",
       "      <td>10.490000</td>\n",
       "      <td>2.800000</td>\n",
       "      <td>65.734266</td>\n",
       "      <td>NaN</td>\n",
       "      <td>30.0</td>\n",
       "      <td>15.0</td>\n",
       "      <td>4.0000</td>\n",
       "      <td>94.0000</td>\n",
       "      <td>143</td>\n",
       "    </tr>\n",
       "    <tr>\n",
       "      <th>11073</th>\n",
       "      <td>NaN</td>\n",
       "      <td>0.95</td>\n",
       "      <td>0.92</td>\n",
       "      <td>0.80</td>\n",
       "      <td>NaN</td>\n",
       "      <td>NaN</td>\n",
       "      <td>63.960000</td>\n",
       "      <td>36.040000</td>\n",
       "      <td>0.900901</td>\n",
       "      <td>NaN</td>\n",
       "      <td>NaN</td>\n",
       "      <td>71.0</td>\n",
       "      <td>39.0</td>\n",
       "      <td>1.0000</td>\n",
       "      <td>NaN</td>\n",
       "      <td>111</td>\n",
       "    </tr>\n",
       "    <tr>\n",
       "      <th>11401</th>\n",
       "      <td>NaN</td>\n",
       "      <td>1.11</td>\n",
       "      <td>0.88</td>\n",
       "      <td>1.11</td>\n",
       "      <td>NaN</td>\n",
       "      <td>NaN</td>\n",
       "      <td>43.480000</td>\n",
       "      <td>55.650000</td>\n",
       "      <td>0.869565</td>\n",
       "      <td>0.870000</td>\n",
       "      <td>NaN</td>\n",
       "      <td>50.0</td>\n",
       "      <td>64.0</td>\n",
       "      <td>1.0000</td>\n",
       "      <td>1.0005</td>\n",
       "      <td>115</td>\n",
       "    </tr>\n",
       "    <tr>\n",
       "      <th>12945</th>\n",
       "      <td>1.59</td>\n",
       "      <td>1.39</td>\n",
       "      <td>1.15</td>\n",
       "      <td>1.20</td>\n",
       "      <td>NaN</td>\n",
       "      <td>63.398693</td>\n",
       "      <td>89.740000</td>\n",
       "      <td>10.260000</td>\n",
       "      <td>0.653595</td>\n",
       "      <td>NaN</td>\n",
       "      <td>97.0</td>\n",
       "      <td>51.0</td>\n",
       "      <td>4.0</td>\n",
       "      <td>1.0000</td>\n",
       "      <td>NaN</td>\n",
       "      <td>153</td>\n",
       "    </tr>\n",
       "  </tbody>\n",
       "</table>\n",
       "</div>"
      ],
      "text/plain": [
       "       Studio Effective Rent/SF  One Bedroom Effective Rent/SF  \\\n",
       "Row                                                              \n",
       "835                         NaN                            NaN   \n",
       "924                        0.51                           1.02   \n",
       "941                         NaN                            NaN   \n",
       "1677                        NaN                           0.73   \n",
       "4064                       1.71                           1.99   \n",
       "5497                        NaN                           1.62   \n",
       "6137                       1.34                            NaN   \n",
       "8089                        NaN                            NaN   \n",
       "11073                       NaN                           0.95   \n",
       "11401                       NaN                           1.11   \n",
       "12945                      1.59                           1.39   \n",
       "\n",
       "       Two Bedroom Effective Rent/SF  Three Bedroom Effective Rent/SF  \\\n",
       "Row                                                                     \n",
       "835                              NaN                              NaN   \n",
       "924                             0.78                             0.82   \n",
       "941                              NaN                              NaN   \n",
       "1677                            0.51                             0.49   \n",
       "4064                            1.96                              NaN   \n",
       "5497                            1.37                             1.24   \n",
       "6137                            0.65                             0.44   \n",
       "8089                            1.43                             1.59   \n",
       "11073                           0.92                             0.80   \n",
       "11401                           0.88                             1.11   \n",
       "12945                           1.15                             1.20   \n",
       "\n",
       "       Four Bedroom Effective Rent/SF   % Studios    % 1-Bed    % 2-Bed  \\\n",
       "Row                                                                       \n",
       "835                              0.64         NaN        NaN        NaN   \n",
       "924                               NaN    1.123596  44.380000  46.630000   \n",
       "941                              1.04         NaN        NaN        NaN   \n",
       "1677                              NaN         NaN  11.594203  59.420000   \n",
       "4064                              NaN   22.540000  45.081967  54.920000   \n",
       "5497                              NaN  100.000000  28.571429  57.142857   \n",
       "6137                              NaN   45.000000  45.000000  45.000000   \n",
       "8089                             1.65         NaN  86.710000  10.490000   \n",
       "11073                             NaN         NaN  63.960000  36.040000   \n",
       "11401                             NaN         NaN  43.480000  55.650000   \n",
       "12945                             NaN   63.398693  89.740000  10.260000   \n",
       "\n",
       "         % 3-Bed    % 4-Bed  Number Of Studios  Number Of 1 Bedrooms  \\\n",
       "Row                                                                    \n",
       "835          NaN  71.282051                NaN                   NaN   \n",
       "924     8.990000        NaN                4.0                 158.0   \n",
       "941          NaN  85.789474                NaN                   NaN   \n",
       "1677   40.580000        NaN                NaN                  16.0   \n",
       "4064   22.540000        NaN               55.0                 110.0   \n",
       "5497   14.285714        NaN              336.0                  96.0   \n",
       "6137   10.000000        NaN               45.0                  45.0   \n",
       "8089    2.800000  65.734266                NaN                  30.0   \n",
       "11073   0.900901        NaN                NaN                  71.0   \n",
       "11401   0.869565   0.870000                NaN                  50.0   \n",
       "12945   0.653595        NaN               97.0                  51.0   \n",
       "\n",
       "       Number Of 2 Bedrooms  Number Of 3 Bedrooms  Number Of 4 Bedrooms  \\\n",
       "Row                                                                       \n",
       "835                     NaN                   NaN              139.0000   \n",
       "924                   166.0               28.0000                   NaN   \n",
       "941                     NaN                   NaN              163.0000   \n",
       "1677                   82.0               40.0000                   NaN   \n",
       "4064                   79.0               54.9976                   NaN   \n",
       "5497                  192.0               48.0000                   NaN   \n",
       "6137                   45.0               10.0000                   NaN   \n",
       "8089                   15.0                4.0000               94.0000   \n",
       "11073                  39.0                1.0000                   NaN   \n",
       "11401                  64.0                1.0000                1.0005   \n",
       "12945                   4.0                1.0000                   NaN   \n",
       "\n",
       "       Number Of Units  \n",
       "Row                     \n",
       "835                195  \n",
       "924                356  \n",
       "941                190  \n",
       "1677               138  \n",
       "4064               244  \n",
       "5497               336  \n",
       "6137               100  \n",
       "8089               143  \n",
       "11073              111  \n",
       "11401              115  \n",
       "12945              153  "
      ]
     },
     "execution_count": 539,
     "metadata": {},
     "output_type": "execute_result"
    }
   ],
   "source": [
    "#Finding rows that don't add up to 100 \n",
    "wrong = sub['% tot'].value_counts().index.tolist()\n",
    "wrong.remove(100)\n",
    "sub[sub['% tot'].isin(wrong)][['Studio Effective Rent/SF', 'One Bedroom Effective Rent/SF', \n",
    "                               'Two Bedroom Effective Rent/SF','Three Bedroom Effective Rent/SF', \n",
    "                               'Four Bedroom Effective Rent/SF',\n",
    "                               '% Studios', '% 1-Bed', '% 2-Bed', '% 3-Bed', '% 4-Bed',\n",
    "                               'Number Of Studios', 'Number Of 1 Bedrooms', 'Number Of 2 Bedrooms', \n",
    "                               'Number Of 3 Bedrooms', 'Number Of 4 Bedrooms', 'Number Of Units']].head(11)"
   ]
  },
  {
   "cell_type": "markdown",
   "metadata": {},
   "source": [
    "Row 11401 can be easily fixed by removing number of 4 bedrooms and % 4-Bed."
   ]
  },
  {
   "cell_type": "code",
   "execution_count": 540,
   "metadata": {},
   "outputs": [],
   "source": [
    "# Replacing 4 bedroom data to null for row 11401\n",
    "sub.loc[11401, 'Number Of 4 Bedrooms']=np.nan\n",
    "sub.loc[11401, '% 4-Bed']=np.nan"
   ]
  },
  {
   "cell_type": "markdown",
   "metadata": {},
   "source": [
    "Find the rows where number of units add up and fix their % accordingly. Drop the rows where number of units don't add up."
   ]
  },
  {
   "cell_type": "code",
   "execution_count": 541,
   "metadata": {},
   "outputs": [
    {
     "name": "stdout",
     "output_type": "stream",
     "text": [
      "Matched: [924, 1677, 8089, 11073, 11401, 12945]\n",
      "Unmatched: [835, 941, 4064, 5497, 6137]\n"
     ]
    }
   ],
   "source": [
    "# Finding sum of units for the cases where % total is not 100 and seeing if the sum of units match with total units\n",
    "test = sub[sub['% tot'].isin(wrong)]\n",
    "ind = pd.DataFrame(test[['Number Of Studios', 'Number Of 1 Bedrooms', 'Number Of 2 Bedrooms', \n",
    "                         'Number Of 3 Bedrooms', 'Number Of 4 Bedrooms']].\\\n",
    "                   sum(axis=1)==test['Number Of Units']).reset_index()\n",
    "ind.columns=['Row','match']\n",
    "match = ind[ind['match']==True]['Row'].tolist()\n",
    "unmatch = ind[ind['match']==False]['Row'].tolist()\n",
    "print('Matched:', match)\n",
    "print('Unmatched:', unmatch)"
   ]
  },
  {
   "cell_type": "code",
   "execution_count": 542,
   "metadata": {},
   "outputs": [
    {
     "name": "stdout",
     "output_type": "stream",
     "text": [
      "Records dropped: 5\n",
      "Current size: (16550, 63)\n"
     ]
    }
   ],
   "source": [
    "# Remove unmatched rows and for matched ones recalculate the % based on available data\n",
    "unit_type = {'Studios':'Studios', '1 Bedrooms':'1-Bed', \n",
    "             '2 Bedrooms':'2-Bed', '3 Bedrooms':'3-Bed', '4 Bedrooms':'4-Bed'}\n",
    "for utype in unit_type.keys():\n",
    "    sub.loc[match,'% {}'.format(unit_type[utype])] =\\\n",
    "    sub.loc[match, ['% {}'.format(unit_type[utype]), 'Number Of {}'.format(utype), \n",
    "                      'Number Of Units']].apply(lambda x: x[1]/x[2]*100, axis=1)\n",
    "row_initial = sub.shape[0]\n",
    "sub = sub.drop(unmatch)\n",
    "print('Records dropped:', row_initial - sub.shape[0])\n",
    "print('Current size:', sub.shape)"
   ]
  },
  {
   "cell_type": "code",
   "execution_count": 543,
   "metadata": {},
   "outputs": [
    {
     "data": {
      "text/plain": [
       "100    16550\n",
       "Name: % tot, dtype: int64"
      ]
     },
     "execution_count": 543,
     "metadata": {},
     "output_type": "execute_result"
    }
   ],
   "source": [
    "# Confirming if % total is adding up to 100 for all room types\n",
    "sub['% tot'] = sub[['% Studios', '% 1-Bed', '% 2-Bed', '% 3-Bed', '% 4-Bed']].sum(axis=1)\n",
    "sub['% tot'] = sub['% tot'].apply(round)\n",
    "sub['% tot'].value_counts()"
   ]
  },
  {
   "cell_type": "markdown",
   "metadata": {},
   "source": [
    "### 1.3.5 Check if % and number of units match\n",
    "Manually calculate number of different types of units (i.e. # Studios,1/2/3/4 bedrooms) and see if they match with the original data"
   ]
  },
  {
   "cell_type": "code",
   "execution_count": 544,
   "metadata": {},
   "outputs": [
    {
     "data": {
      "text/html": [
       "<div>\n",
       "<style scoped>\n",
       "    .dataframe tbody tr th:only-of-type {\n",
       "        vertical-align: middle;\n",
       "    }\n",
       "\n",
       "    .dataframe tbody tr th {\n",
       "        vertical-align: top;\n",
       "    }\n",
       "\n",
       "    .dataframe thead th {\n",
       "        text-align: right;\n",
       "    }\n",
       "</style>\n",
       "<table border=\"1\" class=\"dataframe\">\n",
       "  <thead>\n",
       "    <tr style=\"text-align: right;\">\n",
       "      <th></th>\n",
       "      <th>% Studios</th>\n",
       "      <th>% 1-Bed</th>\n",
       "      <th>% 2-Bed</th>\n",
       "      <th>% 3-Bed</th>\n",
       "      <th>% 4-Bed</th>\n",
       "      <th>Number Of Studios</th>\n",
       "      <th>Number Of 1 Bedrooms</th>\n",
       "      <th>Number Of 2 Bedrooms</th>\n",
       "      <th>Number Of 3 Bedrooms</th>\n",
       "      <th>Number Of 4 Bedrooms</th>\n",
       "      <th>Number Of Units</th>\n",
       "      <th># Studios</th>\n",
       "      <th># 1 Bedrooms</th>\n",
       "      <th># 2 Bedrooms</th>\n",
       "      <th># 3 Bedrooms</th>\n",
       "      <th># 4 Bedrooms</th>\n",
       "    </tr>\n",
       "    <tr>\n",
       "      <th>Row</th>\n",
       "      <th></th>\n",
       "      <th></th>\n",
       "      <th></th>\n",
       "      <th></th>\n",
       "      <th></th>\n",
       "      <th></th>\n",
       "      <th></th>\n",
       "      <th></th>\n",
       "      <th></th>\n",
       "      <th></th>\n",
       "      <th></th>\n",
       "      <th></th>\n",
       "      <th></th>\n",
       "      <th></th>\n",
       "      <th></th>\n",
       "      <th></th>\n",
       "    </tr>\n",
       "  </thead>\n",
       "  <tbody>\n",
       "    <tr>\n",
       "      <th>1</th>\n",
       "      <td>0.00</td>\n",
       "      <td>35.71</td>\n",
       "      <td>46.67</td>\n",
       "      <td>17.62</td>\n",
       "      <td>0.00</td>\n",
       "      <td>0.0</td>\n",
       "      <td>75.0</td>\n",
       "      <td>98.0</td>\n",
       "      <td>37.0</td>\n",
       "      <td>0.0</td>\n",
       "      <td>210</td>\n",
       "      <td>0.0</td>\n",
       "      <td>75.0</td>\n",
       "      <td>98.0</td>\n",
       "      <td>37.0</td>\n",
       "      <td>0.0</td>\n",
       "    </tr>\n",
       "    <tr>\n",
       "      <th>4</th>\n",
       "      <td>32.45</td>\n",
       "      <td>45.21</td>\n",
       "      <td>22.34</td>\n",
       "      <td>0.00</td>\n",
       "      <td>0.00</td>\n",
       "      <td>61.0</td>\n",
       "      <td>85.0</td>\n",
       "      <td>42.0</td>\n",
       "      <td>0.0</td>\n",
       "      <td>0.0</td>\n",
       "      <td>188</td>\n",
       "      <td>61.0</td>\n",
       "      <td>85.0</td>\n",
       "      <td>42.0</td>\n",
       "      <td>0.0</td>\n",
       "      <td>0.0</td>\n",
       "    </tr>\n",
       "    <tr>\n",
       "      <th>5</th>\n",
       "      <td>0.00</td>\n",
       "      <td>0.00</td>\n",
       "      <td>61.02</td>\n",
       "      <td>0.00</td>\n",
       "      <td>38.98</td>\n",
       "      <td>0.0</td>\n",
       "      <td>0.0</td>\n",
       "      <td>72.0</td>\n",
       "      <td>0.0</td>\n",
       "      <td>46.0</td>\n",
       "      <td>118</td>\n",
       "      <td>0.0</td>\n",
       "      <td>0.0</td>\n",
       "      <td>72.0</td>\n",
       "      <td>0.0</td>\n",
       "      <td>46.0</td>\n",
       "    </tr>\n",
       "    <tr>\n",
       "      <th>6</th>\n",
       "      <td>58.39</td>\n",
       "      <td>41.61</td>\n",
       "      <td>0.00</td>\n",
       "      <td>0.00</td>\n",
       "      <td>0.00</td>\n",
       "      <td>87.0</td>\n",
       "      <td>62.0</td>\n",
       "      <td>0.0</td>\n",
       "      <td>0.0</td>\n",
       "      <td>0.0</td>\n",
       "      <td>149</td>\n",
       "      <td>87.0</td>\n",
       "      <td>62.0</td>\n",
       "      <td>0.0</td>\n",
       "      <td>0.0</td>\n",
       "      <td>0.0</td>\n",
       "    </tr>\n",
       "    <tr>\n",
       "      <th>7</th>\n",
       "      <td>61.24</td>\n",
       "      <td>38.76</td>\n",
       "      <td>0.00</td>\n",
       "      <td>0.00</td>\n",
       "      <td>0.00</td>\n",
       "      <td>79.0</td>\n",
       "      <td>50.0</td>\n",
       "      <td>0.0</td>\n",
       "      <td>0.0</td>\n",
       "      <td>0.0</td>\n",
       "      <td>129</td>\n",
       "      <td>79.0</td>\n",
       "      <td>50.0</td>\n",
       "      <td>0.0</td>\n",
       "      <td>0.0</td>\n",
       "      <td>0.0</td>\n",
       "    </tr>\n",
       "  </tbody>\n",
       "</table>\n",
       "</div>"
      ],
      "text/plain": [
       "     % Studios  % 1-Bed  % 2-Bed  % 3-Bed  % 4-Bed  Number Of Studios  \\\n",
       "Row                                                                     \n",
       "1         0.00    35.71    46.67    17.62     0.00                0.0   \n",
       "4        32.45    45.21    22.34     0.00     0.00               61.0   \n",
       "5         0.00     0.00    61.02     0.00    38.98                0.0   \n",
       "6        58.39    41.61     0.00     0.00     0.00               87.0   \n",
       "7        61.24    38.76     0.00     0.00     0.00               79.0   \n",
       "\n",
       "     Number Of 1 Bedrooms  Number Of 2 Bedrooms  Number Of 3 Bedrooms  \\\n",
       "Row                                                                     \n",
       "1                    75.0                  98.0                  37.0   \n",
       "4                    85.0                  42.0                   0.0   \n",
       "5                     0.0                  72.0                   0.0   \n",
       "6                    62.0                   0.0                   0.0   \n",
       "7                    50.0                   0.0                   0.0   \n",
       "\n",
       "     Number Of 4 Bedrooms  Number Of Units  # Studios  # 1 Bedrooms  \\\n",
       "Row                                                                   \n",
       "1                     0.0              210        0.0          75.0   \n",
       "4                     0.0              188       61.0          85.0   \n",
       "5                    46.0              118        0.0           0.0   \n",
       "6                     0.0              149       87.0          62.0   \n",
       "7                     0.0              129       79.0          50.0   \n",
       "\n",
       "     # 2 Bedrooms  # 3 Bedrooms  # 4 Bedrooms  \n",
       "Row                                            \n",
       "1            98.0          37.0           0.0  \n",
       "4            42.0           0.0           0.0  \n",
       "5            72.0           0.0          46.0  \n",
       "6             0.0           0.0           0.0  \n",
       "7             0.0           0.0           0.0  "
      ]
     },
     "execution_count": 544,
     "metadata": {},
     "output_type": "execute_result"
    }
   ],
   "source": [
    "# Manual calculations for # of different types of unit\n",
    "test = sub[['% Studios', '% 1-Bed', '% 2-Bed', '% 3-Bed', '% 4-Bed',\n",
    "                      'Number Of Studios', 'Number Of 1 Bedrooms', 'Number Of 2 Bedrooms', \n",
    "                      'Number Of 3 Bedrooms', 'Number Of 4 Bedrooms', 'Number Of Units']].copy()\n",
    "test = test.fillna(0)\n",
    "unit_type = {'Studios':'Studios', '1 Bedrooms':'1-Bed', \n",
    "             '2 Bedrooms':'2-Bed', '3 Bedrooms':'3-Bed', '4 Bedrooms':'4-Bed'}\n",
    "for utype in unit_type.keys():\n",
    "    test['# {}'.format(utype)] = test[['% {}'.format(unit_type[utype]),\n",
    "                                       'Number Of Units']].apply(lambda x:\n",
    "                                 round(x[0]*x[1]/100), axis=1)\n",
    "test.head()"
   ]
  },
  {
   "cell_type": "code",
   "execution_count": 545,
   "metadata": {},
   "outputs": [
    {
     "data": {
      "text/html": [
       "<div>\n",
       "<style scoped>\n",
       "    .dataframe tbody tr th:only-of-type {\n",
       "        vertical-align: middle;\n",
       "    }\n",
       "\n",
       "    .dataframe tbody tr th {\n",
       "        vertical-align: top;\n",
       "    }\n",
       "\n",
       "    .dataframe thead th {\n",
       "        text-align: right;\n",
       "    }\n",
       "</style>\n",
       "<table border=\"1\" class=\"dataframe\">\n",
       "  <thead>\n",
       "    <tr style=\"text-align: right;\">\n",
       "      <th></th>\n",
       "      <th>% Studios</th>\n",
       "      <th>% 1-Bed</th>\n",
       "      <th>% 2-Bed</th>\n",
       "      <th>% 3-Bed</th>\n",
       "      <th>% 4-Bed</th>\n",
       "      <th>Number Of Studios</th>\n",
       "      <th>Number Of 1 Bedrooms</th>\n",
       "      <th>Number Of 2 Bedrooms</th>\n",
       "      <th>Number Of 3 Bedrooms</th>\n",
       "      <th>Number Of 4 Bedrooms</th>\n",
       "      <th>Number Of Units</th>\n",
       "      <th># Studios</th>\n",
       "      <th># 1 Bedrooms</th>\n",
       "      <th># 2 Bedrooms</th>\n",
       "      <th># 3 Bedrooms</th>\n",
       "      <th># 4 Bedrooms</th>\n",
       "    </tr>\n",
       "    <tr>\n",
       "      <th>Row</th>\n",
       "      <th></th>\n",
       "      <th></th>\n",
       "      <th></th>\n",
       "      <th></th>\n",
       "      <th></th>\n",
       "      <th></th>\n",
       "      <th></th>\n",
       "      <th></th>\n",
       "      <th></th>\n",
       "      <th></th>\n",
       "      <th></th>\n",
       "      <th></th>\n",
       "      <th></th>\n",
       "      <th></th>\n",
       "      <th></th>\n",
       "      <th></th>\n",
       "    </tr>\n",
       "  </thead>\n",
       "  <tbody>\n",
       "    <tr>\n",
       "      <th>64</th>\n",
       "      <td>0.00</td>\n",
       "      <td>43.70</td>\n",
       "      <td>26.05</td>\n",
       "      <td>21.85</td>\n",
       "      <td>8.40</td>\n",
       "      <td>0.0</td>\n",
       "      <td>104.0</td>\n",
       "      <td>62.0</td>\n",
       "      <td>52.0</td>\n",
       "      <td>12.0</td>\n",
       "      <td>238</td>\n",
       "      <td>0.0</td>\n",
       "      <td>104.0</td>\n",
       "      <td>62.0</td>\n",
       "      <td>52.0</td>\n",
       "      <td>20.0</td>\n",
       "    </tr>\n",
       "    <tr>\n",
       "      <th>120</th>\n",
       "      <td>2.11</td>\n",
       "      <td>38.95</td>\n",
       "      <td>47.37</td>\n",
       "      <td>11.58</td>\n",
       "      <td>0.00</td>\n",
       "      <td>4.0</td>\n",
       "      <td>78.0</td>\n",
       "      <td>89.0</td>\n",
       "      <td>17.0</td>\n",
       "      <td>0.0</td>\n",
       "      <td>188</td>\n",
       "      <td>4.0</td>\n",
       "      <td>73.0</td>\n",
       "      <td>89.0</td>\n",
       "      <td>22.0</td>\n",
       "      <td>0.0</td>\n",
       "    </tr>\n",
       "    <tr>\n",
       "      <th>334</th>\n",
       "      <td>0.00</td>\n",
       "      <td>86.42</td>\n",
       "      <td>13.58</td>\n",
       "      <td>0.00</td>\n",
       "      <td>0.00</td>\n",
       "      <td>0.0</td>\n",
       "      <td>210.0</td>\n",
       "      <td>32.0</td>\n",
       "      <td>0.0</td>\n",
       "      <td>0.0</td>\n",
       "      <td>242</td>\n",
       "      <td>0.0</td>\n",
       "      <td>209.0</td>\n",
       "      <td>33.0</td>\n",
       "      <td>0.0</td>\n",
       "      <td>0.0</td>\n",
       "    </tr>\n",
       "    <tr>\n",
       "      <th>370</th>\n",
       "      <td>0.00</td>\n",
       "      <td>61.67</td>\n",
       "      <td>5.56</td>\n",
       "      <td>20.00</td>\n",
       "      <td>12.78</td>\n",
       "      <td>0.0</td>\n",
       "      <td>111.0</td>\n",
       "      <td>10.0</td>\n",
       "      <td>36.0</td>\n",
       "      <td>19.0</td>\n",
       "      <td>180</td>\n",
       "      <td>0.0</td>\n",
       "      <td>111.0</td>\n",
       "      <td>10.0</td>\n",
       "      <td>36.0</td>\n",
       "      <td>23.0</td>\n",
       "    </tr>\n",
       "    <tr>\n",
       "      <th>408</th>\n",
       "      <td>0.00</td>\n",
       "      <td>31.13</td>\n",
       "      <td>22.18</td>\n",
       "      <td>7.78</td>\n",
       "      <td>38.91</td>\n",
       "      <td>0.0</td>\n",
       "      <td>80.0</td>\n",
       "      <td>57.0</td>\n",
       "      <td>20.0</td>\n",
       "      <td>60.0</td>\n",
       "      <td>257</td>\n",
       "      <td>0.0</td>\n",
       "      <td>80.0</td>\n",
       "      <td>57.0</td>\n",
       "      <td>20.0</td>\n",
       "      <td>100.0</td>\n",
       "    </tr>\n",
       "  </tbody>\n",
       "</table>\n",
       "</div>"
      ],
      "text/plain": [
       "     % Studios  % 1-Bed  % 2-Bed  % 3-Bed  % 4-Bed  Number Of Studios  \\\n",
       "Row                                                                     \n",
       "64        0.00    43.70    26.05    21.85     8.40                0.0   \n",
       "120       2.11    38.95    47.37    11.58     0.00                4.0   \n",
       "334       0.00    86.42    13.58     0.00     0.00                0.0   \n",
       "370       0.00    61.67     5.56    20.00    12.78                0.0   \n",
       "408       0.00    31.13    22.18     7.78    38.91                0.0   \n",
       "\n",
       "     Number Of 1 Bedrooms  Number Of 2 Bedrooms  Number Of 3 Bedrooms  \\\n",
       "Row                                                                     \n",
       "64                  104.0                  62.0                  52.0   \n",
       "120                  78.0                  89.0                  17.0   \n",
       "334                 210.0                  32.0                   0.0   \n",
       "370                 111.0                  10.0                  36.0   \n",
       "408                  80.0                  57.0                  20.0   \n",
       "\n",
       "     Number Of 4 Bedrooms  Number Of Units  # Studios  # 1 Bedrooms  \\\n",
       "Row                                                                   \n",
       "64                   12.0              238        0.0         104.0   \n",
       "120                   0.0              188        4.0          73.0   \n",
       "334                   0.0              242        0.0         209.0   \n",
       "370                  19.0              180        0.0         111.0   \n",
       "408                  60.0              257        0.0          80.0   \n",
       "\n",
       "     # 2 Bedrooms  # 3 Bedrooms  # 4 Bedrooms  \n",
       "Row                                            \n",
       "64           62.0          52.0          20.0  \n",
       "120          89.0          22.0           0.0  \n",
       "334          33.0           0.0           0.0  \n",
       "370          10.0          36.0          23.0  \n",
       "408          57.0          20.0         100.0  "
      ]
     },
     "execution_count": 545,
     "metadata": {},
     "output_type": "execute_result"
    }
   ],
   "source": [
    "# Finding unmatched cases for # of different unit types\n",
    "unmatch = \\\n",
    "test[(test['Number Of Studios']!=test['# Studios'])|\\\n",
    "     (test['Number Of 1 Bedrooms']!=test['# 1 Bedrooms'])|\\\n",
    "     (test['Number Of 2 Bedrooms']!=test['# 2 Bedrooms'])|\\\n",
    "     (test['Number Of 3 Bedrooms']!=test['# 3 Bedrooms'])|\\\n",
    "     (test['Number Of 4 Bedrooms']!=test['# 4 Bedrooms'])]\n",
    "unmatch.head()"
   ]
  },
  {
   "cell_type": "code",
   "execution_count": 546,
   "metadata": {},
   "outputs": [
    {
     "name": "stdout",
     "output_type": "stream",
     "text": [
      "Number of rows where % and number of units don't match: 204\n",
      "Percentage of unmatch: 0.012326283987915408\n"
     ]
    }
   ],
   "source": [
    "# Percentage mismatch\n",
    "print(\"Number of rows where % and number of units don't match:\", unmatch.shape[0])\n",
    "print('Percentage of unmatch:', unmatch.shape[0]/sub.shape[0])"
   ]
  },
  {
   "cell_type": "markdown",
   "metadata": {},
   "source": [
    "1.2% rows unmatched are acceptable. Use percentage of units for regression model."
   ]
  },
  {
   "cell_type": "markdown",
   "metadata": {},
   "source": [
    "### 1.4 Remove rows that have missing values in Amenities & Construction Material\n",
    "Amenities and construction material variables are critical and filling missing values is difficult for these categories"
   ]
  },
  {
   "cell_type": "code",
   "execution_count": 547,
   "metadata": {},
   "outputs": [
    {
     "data": {
      "text/plain": [
       "Amenities                15759\n",
       "Construction Material    13337\n",
       "dtype: int64"
      ]
     },
     "execution_count": 547,
     "metadata": {},
     "output_type": "execute_result"
    }
   ],
   "source": [
    "# checking number of rows available for Amenities and Construction Material\n",
    "sub[['Amenities','Construction Material']].count()"
   ]
  },
  {
   "cell_type": "code",
   "execution_count": 548,
   "metadata": {},
   "outputs": [
    {
     "name": "stdout",
     "output_type": "stream",
     "text": [
      "Records dropped: 3642\n",
      "Current size: (12908, 63)\n"
     ]
    }
   ],
   "source": [
    "# Deleting null cases for Amenities and Construction Material\n",
    "row_initial = sub.shape[0]\n",
    "sub = sub[(sub['Amenities'].notnull()) &\\\n",
    "           (sub['Construction Material'].notnull())].copy()\n",
    "print('Records dropped:', row_initial - sub.shape[0])\n",
    "print('Current size:', sub.shape)"
   ]
  },
  {
   "cell_type": "markdown",
   "metadata": {},
   "source": [
    "### 1.5 Check if variables related to each unit type add up\n",
    "- Fill Avg SF, Vacant Unites & Vacancy % missing values\n",
    "- Check if # of vacant unit matches vacancy %\n",
    "- Check if there are outliers/wrong entries"
   ]
  },
  {
   "cell_type": "markdown",
   "metadata": {},
   "source": [
    "### 1.5.1 Define functions to fill Vacancy% and Avg SF, and calculate Vacant Units"
   ]
  },
  {
   "cell_type": "code",
   "execution_count": 549,
   "metadata": {},
   "outputs": [],
   "source": [
    "# Creating 3 functions for filling Vacancy% and Avg SF with mean & Calculating Vacant Units\n",
    "levels = ['Zip5', 'City', 'County Name', 'Market Name']\n",
    "\n",
    "def fill_vacancy_mean(uname1, uname2, level):\n",
    "    sub.loc[sub['% {}'.format(uname1)].notnull(), '{} Vacancy %'.format(uname2)] = \\\n",
    "    sub[sub['% {}'.format(uname1)].notnull()][['{} Vacancy %'.format(uname2), level]].groupby(level).\\\n",
    "    transform(lambda x: x.fillna(x.mean()))\n",
    "\n",
    "def calculate_vacant_unit(uname1, uname2, uname3):\n",
    "    sub.loc[sub['% {}'.format(uname1)].notnull(),'{} Vacant Units'.format(uname2)] =\\\n",
    "    sub.loc[sub['% {}'.format(uname1)].notnull(),'{} Vacant Units'.format(uname2)].\\\n",
    "    fillna(sub[sub['% {}'.format(uname1)].notnull()]\\\n",
    "           [['Number Of {}'.format(uname3),'{} Vacancy %'.format(uname2)]].\\\n",
    "           apply(lambda x: round(x[0]*x[1]/100), axis=1))\n",
    "\n",
    "def fill_sf_mean(uname1, uname2, level):\n",
    "    sub.loc[sub['% {}'.format(uname1)].notnull(), '{} Avg SF'.format(uname2)] = \\\n",
    "    sub[sub['% {}'.format(uname1)].notnull()][['{} Avg SF'.format(uname2), level]].groupby(level).\\\n",
    "    transform(lambda x: x.fillna(x.mean()))"
   ]
  },
  {
   "cell_type": "markdown",
   "metadata": {},
   "source": [
    "### 1.5.2 Studio related variables:"
   ]
  },
  {
   "cell_type": "code",
   "execution_count": 550,
   "metadata": {},
   "outputs": [
    {
     "data": {
      "text/html": [
       "<div>\n",
       "<style scoped>\n",
       "    .dataframe tbody tr th:only-of-type {\n",
       "        vertical-align: middle;\n",
       "    }\n",
       "\n",
       "    .dataframe tbody tr th {\n",
       "        vertical-align: top;\n",
       "    }\n",
       "\n",
       "    .dataframe thead th {\n",
       "        text-align: right;\n",
       "    }\n",
       "</style>\n",
       "<table border=\"1\" class=\"dataframe\">\n",
       "  <thead>\n",
       "    <tr style=\"text-align: right;\">\n",
       "      <th></th>\n",
       "      <th>Studio Avg SF</th>\n",
       "      <th>Number Of Studios</th>\n",
       "      <th>Studio Vacant Units</th>\n",
       "      <th>Studio Vacancy %</th>\n",
       "      <th>Studio Effective Rent/SF</th>\n",
       "      <th>% Studios</th>\n",
       "    </tr>\n",
       "  </thead>\n",
       "  <tbody>\n",
       "    <tr>\n",
       "      <th>count</th>\n",
       "      <td>1842.000000</td>\n",
       "      <td>1863.000000</td>\n",
       "      <td>1856.000000</td>\n",
       "      <td>1856.000000</td>\n",
       "      <td>1842.000000</td>\n",
       "      <td>1863.000000</td>\n",
       "    </tr>\n",
       "    <tr>\n",
       "      <th>mean</th>\n",
       "      <td>512.115092</td>\n",
       "      <td>37.958137</td>\n",
       "      <td>2.990841</td>\n",
       "      <td>9.860991</td>\n",
       "      <td>1.964061</td>\n",
       "      <td>15.451999</td>\n",
       "    </tr>\n",
       "    <tr>\n",
       "      <th>std</th>\n",
       "      <td>125.744971</td>\n",
       "      <td>40.772848</td>\n",
       "      <td>5.388560</td>\n",
       "      <td>14.523106</td>\n",
       "      <td>2.621371</td>\n",
       "      <td>15.639930</td>\n",
       "    </tr>\n",
       "    <tr>\n",
       "      <th>min</th>\n",
       "      <td>6.000000</td>\n",
       "      <td>1.000000</td>\n",
       "      <td>0.000000</td>\n",
       "      <td>0.000000</td>\n",
       "      <td>0.500000</td>\n",
       "      <td>0.140000</td>\n",
       "    </tr>\n",
       "    <tr>\n",
       "      <th>25%</th>\n",
       "      <td>436.250000</td>\n",
       "      <td>12.000000</td>\n",
       "      <td>1.000000</td>\n",
       "      <td>2.600000</td>\n",
       "      <td>1.410000</td>\n",
       "      <td>5.140000</td>\n",
       "    </tr>\n",
       "    <tr>\n",
       "      <th>50%</th>\n",
       "      <td>503.000000</td>\n",
       "      <td>27.000000</td>\n",
       "      <td>2.000000</td>\n",
       "      <td>6.300000</td>\n",
       "      <td>1.760000</td>\n",
       "      <td>11.330000</td>\n",
       "    </tr>\n",
       "    <tr>\n",
       "      <th>75%</th>\n",
       "      <td>582.000000</td>\n",
       "      <td>50.000000</td>\n",
       "      <td>3.000000</td>\n",
       "      <td>10.925000</td>\n",
       "      <td>2.197500</td>\n",
       "      <td>20.375000</td>\n",
       "    </tr>\n",
       "    <tr>\n",
       "      <th>max</th>\n",
       "      <td>1502.000000</td>\n",
       "      <td>518.000000</td>\n",
       "      <td>67.000000</td>\n",
       "      <td>100.000000</td>\n",
       "      <td>108.820000</td>\n",
       "      <td>100.000000</td>\n",
       "    </tr>\n",
       "  </tbody>\n",
       "</table>\n",
       "</div>"
      ],
      "text/plain": [
       "       Studio Avg SF  Number Of Studios  Studio Vacant Units  \\\n",
       "count    1842.000000        1863.000000          1856.000000   \n",
       "mean      512.115092          37.958137             2.990841   \n",
       "std       125.744971          40.772848             5.388560   \n",
       "min         6.000000           1.000000             0.000000   \n",
       "25%       436.250000          12.000000             1.000000   \n",
       "50%       503.000000          27.000000             2.000000   \n",
       "75%       582.000000          50.000000             3.000000   \n",
       "max      1502.000000         518.000000            67.000000   \n",
       "\n",
       "       Studio Vacancy %  Studio Effective Rent/SF    % Studios  \n",
       "count       1856.000000               1842.000000  1863.000000  \n",
       "mean           9.860991                  1.964061    15.451999  \n",
       "std           14.523106                  2.621371    15.639930  \n",
       "min            0.000000                  0.500000     0.140000  \n",
       "25%            2.600000                  1.410000     5.140000  \n",
       "50%            6.300000                  1.760000    11.330000  \n",
       "75%           10.925000                  2.197500    20.375000  \n",
       "max          100.000000                108.820000   100.000000  "
      ]
     },
     "execution_count": 550,
     "metadata": {},
     "output_type": "execute_result"
    }
   ],
   "source": [
    "#Checking descriptive statistics of Studio related variables\n",
    "sub[sub['% Studios'].notnull()][['Studio Avg SF', 'Number Of Studios', 'Studio Vacant Units', \n",
    "                                 'Studio Vacancy %', 'Studio Effective Rent/SF', '% Studios']].describe()"
   ]
  },
  {
   "cell_type": "markdown",
   "metadata": {},
   "source": [
    "Missing values for Avg SF, Vacant Units, Vacancy % and Effective Rent/SF. Unusual small Studio Avg SF - 6. Outliers in Studio Avg SF & Studio Effective Rent/SF."
   ]
  },
  {
   "cell_type": "code",
   "execution_count": 551,
   "metadata": {},
   "outputs": [
    {
     "data": {
      "text/html": [
       "<div>\n",
       "<style scoped>\n",
       "    .dataframe tbody tr th:only-of-type {\n",
       "        vertical-align: middle;\n",
       "    }\n",
       "\n",
       "    .dataframe tbody tr th {\n",
       "        vertical-align: top;\n",
       "    }\n",
       "\n",
       "    .dataframe thead th {\n",
       "        text-align: right;\n",
       "    }\n",
       "</style>\n",
       "<table border=\"1\" class=\"dataframe\">\n",
       "  <thead>\n",
       "    <tr style=\"text-align: right;\">\n",
       "      <th></th>\n",
       "      <th>PropertyID</th>\n",
       "      <th>Studio Effective Rent/SF</th>\n",
       "      <th>One Bedroom Effective Rent/SF</th>\n",
       "      <th>Two Bedroom Effective Rent/SF</th>\n",
       "      <th>Three Bedroom Effective Rent/SF</th>\n",
       "      <th>Four Bedroom Effective Rent/SF</th>\n",
       "      <th>Avg Effective/SF</th>\n",
       "      <th>Avg Unit SF</th>\n",
       "      <th>% Studios</th>\n",
       "      <th>% 1-Bed</th>\n",
       "      <th>% 2-Bed</th>\n",
       "      <th>% 3-Bed</th>\n",
       "      <th>% 4-Bed</th>\n",
       "      <th>Studio Avg SF</th>\n",
       "      <th>Number Of Studios</th>\n",
       "      <th>Studio Vacant Units</th>\n",
       "      <th>Studio Vacancy %</th>\n",
       "    </tr>\n",
       "    <tr>\n",
       "      <th>Row</th>\n",
       "      <th></th>\n",
       "      <th></th>\n",
       "      <th></th>\n",
       "      <th></th>\n",
       "      <th></th>\n",
       "      <th></th>\n",
       "      <th></th>\n",
       "      <th></th>\n",
       "      <th></th>\n",
       "      <th></th>\n",
       "      <th></th>\n",
       "      <th></th>\n",
       "      <th></th>\n",
       "      <th></th>\n",
       "      <th></th>\n",
       "      <th></th>\n",
       "      <th></th>\n",
       "    </tr>\n",
       "  </thead>\n",
       "  <tbody>\n",
       "    <tr>\n",
       "      <th>11548</th>\n",
       "      <td>8938828</td>\n",
       "      <td>3.61</td>\n",
       "      <td>1.52</td>\n",
       "      <td>1.29</td>\n",
       "      <td>NaN</td>\n",
       "      <td>NaN</td>\n",
       "      <td>1.47</td>\n",
       "      <td>550.0</td>\n",
       "      <td>20.63</td>\n",
       "      <td>22.22</td>\n",
       "      <td>57.14</td>\n",
       "      <td>NaN</td>\n",
       "      <td>NaN</td>\n",
       "      <td>154.0</td>\n",
       "      <td>26.0</td>\n",
       "      <td>2.0</td>\n",
       "      <td>7.7</td>\n",
       "    </tr>\n",
       "    <tr>\n",
       "      <th>11724</th>\n",
       "      <td>8943094</td>\n",
       "      <td>108.82</td>\n",
       "      <td>1.22</td>\n",
       "      <td>NaN</td>\n",
       "      <td>1.04</td>\n",
       "      <td>NaN</td>\n",
       "      <td>1.42</td>\n",
       "      <td>630.0</td>\n",
       "      <td>31.67</td>\n",
       "      <td>28.33</td>\n",
       "      <td>NaN</td>\n",
       "      <td>40.0</td>\n",
       "      <td>NaN</td>\n",
       "      <td>6.0</td>\n",
       "      <td>38.0</td>\n",
       "      <td>2.0</td>\n",
       "      <td>5.3</td>\n",
       "    </tr>\n",
       "  </tbody>\n",
       "</table>\n",
       "</div>"
      ],
      "text/plain": [
       "       PropertyID  Studio Effective Rent/SF  One Bedroom Effective Rent/SF  \\\n",
       "Row                                                                          \n",
       "11548     8938828                      3.61                           1.52   \n",
       "11724     8943094                    108.82                           1.22   \n",
       "\n",
       "       Two Bedroom Effective Rent/SF  Three Bedroom Effective Rent/SF  \\\n",
       "Row                                                                     \n",
       "11548                           1.29                              NaN   \n",
       "11724                            NaN                             1.04   \n",
       "\n",
       "       Four Bedroom Effective Rent/SF  Avg Effective/SF  Avg Unit SF  \\\n",
       "Row                                                                    \n",
       "11548                             NaN              1.47        550.0   \n",
       "11724                             NaN              1.42        630.0   \n",
       "\n",
       "       % Studios  % 1-Bed  % 2-Bed  % 3-Bed  % 4-Bed  Studio Avg SF  \\\n",
       "Row                                                                   \n",
       "11548      20.63    22.22    57.14      NaN      NaN          154.0   \n",
       "11724      31.67    28.33      NaN     40.0      NaN            6.0   \n",
       "\n",
       "       Number Of Studios  Studio Vacant Units  Studio Vacancy %  \n",
       "Row                                                              \n",
       "11548               26.0                  2.0               7.7  \n",
       "11724               38.0                  2.0               5.3  "
      ]
     },
     "execution_count": 551,
     "metadata": {},
     "output_type": "execute_result"
    }
   ],
   "source": [
    "# Checking for outlier cases where studio avg SF is less than 200 (A reasonable minimum size for studio)\n",
    "sub[(sub['% Studios'].notnull()) & (sub['Studio Avg SF']<200)]\\\n",
    "[['PropertyID','Studio Effective Rent/SF', 'One Bedroom Effective Rent/SF', 'Two Bedroom Effective Rent/SF',\n",
    "  'Three Bedroom Effective Rent/SF', 'Four Bedroom Effective Rent/SF', 'Avg Effective/SF', 'Avg Unit SF', \n",
    "  '% Studios', '% 1-Bed', '% 2-Bed', '% 3-Bed', '% 4-Bed',\n",
    "  'Studio Avg SF', 'Number Of Studios', 'Studio Vacant Units', 'Studio Vacancy %']]"
   ]
  },
  {
   "cell_type": "markdown",
   "metadata": {},
   "source": [
    "PropertyID 8943094 has wrong Studio Avg SF (6 sf is two small for a studio). Based on other columns, a reasonable fix would be 600."
   ]
  },
  {
   "cell_type": "code",
   "execution_count": 552,
   "metadata": {},
   "outputs": [],
   "source": [
    "# Updating Studio Avg SF and Studio effective rent/SF with new values\n",
    "sub.loc[sub.PropertyID==8943094, 'Studio Avg SF'] = sub.loc[sub.PropertyID==8943094, 'Studio Avg SF'] * 100\n",
    "sub.loc[sub.PropertyID==8943094, 'Studio Effective Rent/SF'] = \\\n",
    "sub.loc[sub.PropertyID==8943094, 'Studio Effective Rent/SF'] / 100"
   ]
  },
  {
   "cell_type": "code",
   "execution_count": 553,
   "metadata": {},
   "outputs": [
    {
     "data": {
      "text/html": [
       "<div>\n",
       "<style scoped>\n",
       "    .dataframe tbody tr th:only-of-type {\n",
       "        vertical-align: middle;\n",
       "    }\n",
       "\n",
       "    .dataframe tbody tr th {\n",
       "        vertical-align: top;\n",
       "    }\n",
       "\n",
       "    .dataframe thead th {\n",
       "        text-align: right;\n",
       "    }\n",
       "</style>\n",
       "<table border=\"1\" class=\"dataframe\">\n",
       "  <thead>\n",
       "    <tr style=\"text-align: right;\">\n",
       "      <th></th>\n",
       "      <th>Studio Avg SF</th>\n",
       "      <th>Number Of Studios</th>\n",
       "      <th>Studio Vacant Units</th>\n",
       "      <th>Studio Vacancy %</th>\n",
       "      <th>Studio Effective Rent/SF</th>\n",
       "      <th>% Studios</th>\n",
       "    </tr>\n",
       "  </thead>\n",
       "  <tbody>\n",
       "    <tr>\n",
       "      <th>count</th>\n",
       "      <td>1863.000000</td>\n",
       "      <td>1863.000000</td>\n",
       "      <td>1863.000000</td>\n",
       "      <td>1863.000000</td>\n",
       "      <td>1842.000000</td>\n",
       "      <td>1863.000000</td>\n",
       "    </tr>\n",
       "    <tr>\n",
       "      <th>mean</th>\n",
       "      <td>512.168385</td>\n",
       "      <td>37.958137</td>\n",
       "      <td>3.004831</td>\n",
       "      <td>9.857495</td>\n",
       "      <td>1.905574</td>\n",
       "      <td>15.451999</td>\n",
       "    </tr>\n",
       "    <tr>\n",
       "      <th>std</th>\n",
       "      <td>125.346267</td>\n",
       "      <td>40.772848</td>\n",
       "      <td>5.431981</td>\n",
       "      <td>14.500777</td>\n",
       "      <td>0.816340</td>\n",
       "      <td>15.639930</td>\n",
       "    </tr>\n",
       "    <tr>\n",
       "      <th>min</th>\n",
       "      <td>154.000000</td>\n",
       "      <td>1.000000</td>\n",
       "      <td>0.000000</td>\n",
       "      <td>0.000000</td>\n",
       "      <td>0.500000</td>\n",
       "      <td>0.140000</td>\n",
       "    </tr>\n",
       "    <tr>\n",
       "      <th>25%</th>\n",
       "      <td>436.000000</td>\n",
       "      <td>12.000000</td>\n",
       "      <td>1.000000</td>\n",
       "      <td>2.600000</td>\n",
       "      <td>1.410000</td>\n",
       "      <td>5.140000</td>\n",
       "    </tr>\n",
       "    <tr>\n",
       "      <th>50%</th>\n",
       "      <td>502.000000</td>\n",
       "      <td>27.000000</td>\n",
       "      <td>2.000000</td>\n",
       "      <td>6.300000</td>\n",
       "      <td>1.760000</td>\n",
       "      <td>11.330000</td>\n",
       "    </tr>\n",
       "    <tr>\n",
       "      <th>75%</th>\n",
       "      <td>581.500000</td>\n",
       "      <td>50.000000</td>\n",
       "      <td>3.000000</td>\n",
       "      <td>10.950000</td>\n",
       "      <td>2.190000</td>\n",
       "      <td>20.375000</td>\n",
       "    </tr>\n",
       "    <tr>\n",
       "      <th>max</th>\n",
       "      <td>1502.000000</td>\n",
       "      <td>518.000000</td>\n",
       "      <td>67.000000</td>\n",
       "      <td>100.000000</td>\n",
       "      <td>10.240000</td>\n",
       "      <td>100.000000</td>\n",
       "    </tr>\n",
       "  </tbody>\n",
       "</table>\n",
       "</div>"
      ],
      "text/plain": [
       "       Studio Avg SF  Number Of Studios  Studio Vacant Units  \\\n",
       "count    1863.000000        1863.000000          1863.000000   \n",
       "mean      512.168385          37.958137             3.004831   \n",
       "std       125.346267          40.772848             5.431981   \n",
       "min       154.000000           1.000000             0.000000   \n",
       "25%       436.000000          12.000000             1.000000   \n",
       "50%       502.000000          27.000000             2.000000   \n",
       "75%       581.500000          50.000000             3.000000   \n",
       "max      1502.000000         518.000000            67.000000   \n",
       "\n",
       "       Studio Vacancy %  Studio Effective Rent/SF    % Studios  \n",
       "count       1863.000000               1842.000000  1863.000000  \n",
       "mean           9.857495                  1.905574    15.451999  \n",
       "std           14.500777                  0.816340    15.639930  \n",
       "min            0.000000                  0.500000     0.140000  \n",
       "25%            2.600000                  1.410000     5.140000  \n",
       "50%            6.300000                  1.760000    11.330000  \n",
       "75%           10.950000                  2.190000    20.375000  \n",
       "max          100.000000                 10.240000   100.000000  "
      ]
     },
     "execution_count": 553,
     "metadata": {},
     "output_type": "execute_result"
    }
   ],
   "source": [
    "# Applying the defined transformation functions on relevant Studio variables\n",
    "for level in levels:\n",
    "    fill_vacancy_mean('Studios', 'Studio', level)\n",
    "    fill_sf_mean('Studios', 'Studio', level)\n",
    "calculate_vacant_unit('Studios', 'Studio', 'Studios')\n",
    "\n",
    "sub[sub['% Studios'].notnull()][['Studio Avg SF', 'Number Of Studios', 'Studio Vacant Units', \n",
    "                                 'Studio Vacancy %', 'Studio Effective Rent/SF', '% Studios']].describe()"
   ]
  },
  {
   "cell_type": "code",
   "execution_count": 554,
   "metadata": {},
   "outputs": [
    {
     "name": "stdout",
     "output_type": "stream",
     "text": [
      "(0, 64)\n"
     ]
    }
   ],
   "source": [
    "# Matching Studio Vacant units with Studio Vacancy %\n",
    "test = sub[sub['% Studios'].notnull()].copy()\n",
    "test['# Vacant Studio'] = test[['Number Of Studios', 'Studio Vacancy %']].apply(lambda x:\n",
    "                          round(x[0]*x[1]/100), axis=1)\n",
    "print(test[test['Studio Vacant Units']!=test['# Vacant Studio']].shape)\n",
    "#test[test['Studio Vacant Units']!=test['# Vacant Studio']][['Studio Vacant Units', '# Vacant Studio']]"
   ]
  },
  {
   "cell_type": "markdown",
   "metadata": {},
   "source": [
    "Studio Vacant Units and Studio Vacancy % matches."
   ]
  },
  {
   "cell_type": "markdown",
   "metadata": {},
   "source": [
    "### 1.5.2 One Bedroom related variables:"
   ]
  },
  {
   "cell_type": "code",
   "execution_count": 555,
   "metadata": {},
   "outputs": [
    {
     "data": {
      "text/html": [
       "<div>\n",
       "<style scoped>\n",
       "    .dataframe tbody tr th:only-of-type {\n",
       "        vertical-align: middle;\n",
       "    }\n",
       "\n",
       "    .dataframe tbody tr th {\n",
       "        vertical-align: top;\n",
       "    }\n",
       "\n",
       "    .dataframe thead th {\n",
       "        text-align: right;\n",
       "    }\n",
       "</style>\n",
       "<table border=\"1\" class=\"dataframe\">\n",
       "  <thead>\n",
       "    <tr style=\"text-align: right;\">\n",
       "      <th></th>\n",
       "      <th>One Bedroom Avg SF</th>\n",
       "      <th>Number Of 1 Bedrooms</th>\n",
       "      <th>One Bedroom Vacant Units</th>\n",
       "      <th>One Bedroom Vacancy %</th>\n",
       "      <th>One Bedroom Effective Rent/SF</th>\n",
       "      <th>% 1-Bed</th>\n",
       "    </tr>\n",
       "  </thead>\n",
       "  <tbody>\n",
       "    <tr>\n",
       "      <th>count</th>\n",
       "      <td>12023.000000</td>\n",
       "      <td>12027.000000</td>\n",
       "      <td>12026.000000</td>\n",
       "      <td>12026.000000</td>\n",
       "      <td>12023.000000</td>\n",
       "      <td>12027.000000</td>\n",
       "    </tr>\n",
       "    <tr>\n",
       "      <th>mean</th>\n",
       "      <td>731.794644</td>\n",
       "      <td>119.524737</td>\n",
       "      <td>8.285881</td>\n",
       "      <td>6.655987</td>\n",
       "      <td>1.361945</td>\n",
       "      <td>44.762135</td>\n",
       "    </tr>\n",
       "    <tr>\n",
       "      <th>std</th>\n",
       "      <td>106.559897</td>\n",
       "      <td>84.496398</td>\n",
       "      <td>13.700173</td>\n",
       "      <td>7.873076</td>\n",
       "      <td>0.441826</td>\n",
       "      <td>19.697155</td>\n",
       "    </tr>\n",
       "    <tr>\n",
       "      <th>min</th>\n",
       "      <td>271.000000</td>\n",
       "      <td>1.000000</td>\n",
       "      <td>0.000000</td>\n",
       "      <td>0.000000</td>\n",
       "      <td>0.350000</td>\n",
       "      <td>0.240000</td>\n",
       "    </tr>\n",
       "    <tr>\n",
       "      <th>25%</th>\n",
       "      <td>660.000000</td>\n",
       "      <td>60.000000</td>\n",
       "      <td>2.000000</td>\n",
       "      <td>3.100000</td>\n",
       "      <td>1.100000</td>\n",
       "      <td>30.210000</td>\n",
       "    </tr>\n",
       "    <tr>\n",
       "      <th>50%</th>\n",
       "      <td>730.000000</td>\n",
       "      <td>104.000000</td>\n",
       "      <td>5.000000</td>\n",
       "      <td>5.100000</td>\n",
       "      <td>1.290000</td>\n",
       "      <td>44.670000</td>\n",
       "    </tr>\n",
       "    <tr>\n",
       "      <th>75%</th>\n",
       "      <td>796.000000</td>\n",
       "      <td>159.000000</td>\n",
       "      <td>10.000000</td>\n",
       "      <td>7.700000</td>\n",
       "      <td>1.520000</td>\n",
       "      <td>58.330000</td>\n",
       "    </tr>\n",
       "    <tr>\n",
       "      <th>max</th>\n",
       "      <td>1502.000000</td>\n",
       "      <td>1431.000000</td>\n",
       "      <td>516.000000</td>\n",
       "      <td>100.000000</td>\n",
       "      <td>8.070000</td>\n",
       "      <td>100.000000</td>\n",
       "    </tr>\n",
       "  </tbody>\n",
       "</table>\n",
       "</div>"
      ],
      "text/plain": [
       "       One Bedroom Avg SF  Number Of 1 Bedrooms  One Bedroom Vacant Units  \\\n",
       "count        12023.000000          12027.000000              12026.000000   \n",
       "mean           731.794644            119.524737                  8.285881   \n",
       "std            106.559897             84.496398                 13.700173   \n",
       "min            271.000000              1.000000                  0.000000   \n",
       "25%            660.000000             60.000000                  2.000000   \n",
       "50%            730.000000            104.000000                  5.000000   \n",
       "75%            796.000000            159.000000                 10.000000   \n",
       "max           1502.000000           1431.000000                516.000000   \n",
       "\n",
       "       One Bedroom Vacancy %  One Bedroom Effective Rent/SF       % 1-Bed  \n",
       "count           12026.000000                   12023.000000  12027.000000  \n",
       "mean                6.655987                       1.361945     44.762135  \n",
       "std                 7.873076                       0.441826     19.697155  \n",
       "min                 0.000000                       0.350000      0.240000  \n",
       "25%                 3.100000                       1.100000     30.210000  \n",
       "50%                 5.100000                       1.290000     44.670000  \n",
       "75%                 7.700000                       1.520000     58.330000  \n",
       "max               100.000000                       8.070000    100.000000  "
      ]
     },
     "execution_count": 555,
     "metadata": {},
     "output_type": "execute_result"
    }
   ],
   "source": [
    "#Checking descriptive statistics of 1-Bedroom related variables\n",
    "sub[sub['% 1-Bed'].notnull()][['One Bedroom Avg SF','Number Of 1 Bedrooms', 'One Bedroom Vacant Units', \n",
    "        'One Bedroom Vacancy %', 'One Bedroom Effective Rent/SF', '% 1-Bed']].describe()"
   ]
  },
  {
   "cell_type": "markdown",
   "metadata": {},
   "source": [
    "Missing values for Avg SF, Vacant Units, Vacancy % and Effective Rent/SF. Outliers in Avg SF and Effective Rent/SF."
   ]
  },
  {
   "cell_type": "code",
   "execution_count": 556,
   "metadata": {},
   "outputs": [
    {
     "data": {
      "text/html": [
       "<div>\n",
       "<style scoped>\n",
       "    .dataframe tbody tr th:only-of-type {\n",
       "        vertical-align: middle;\n",
       "    }\n",
       "\n",
       "    .dataframe tbody tr th {\n",
       "        vertical-align: top;\n",
       "    }\n",
       "\n",
       "    .dataframe thead th {\n",
       "        text-align: right;\n",
       "    }\n",
       "</style>\n",
       "<table border=\"1\" class=\"dataframe\">\n",
       "  <thead>\n",
       "    <tr style=\"text-align: right;\">\n",
       "      <th></th>\n",
       "      <th>One Bedroom Avg SF</th>\n",
       "      <th>Number Of 1 Bedrooms</th>\n",
       "      <th>One Bedroom Vacant Units</th>\n",
       "      <th>One Bedroom Vacancy %</th>\n",
       "      <th>One Bedroom Effective Rent/SF</th>\n",
       "      <th>% 1-Bed</th>\n",
       "    </tr>\n",
       "  </thead>\n",
       "  <tbody>\n",
       "    <tr>\n",
       "      <th>count</th>\n",
       "      <td>12027.000000</td>\n",
       "      <td>12027.000000</td>\n",
       "      <td>12027.000000</td>\n",
       "      <td>12027.00000</td>\n",
       "      <td>12023.000000</td>\n",
       "      <td>12027.000000</td>\n",
       "    </tr>\n",
       "    <tr>\n",
       "      <th>mean</th>\n",
       "      <td>731.784468</td>\n",
       "      <td>119.524737</td>\n",
       "      <td>8.285275</td>\n",
       "      <td>6.65564</td>\n",
       "      <td>1.361945</td>\n",
       "      <td>44.762135</td>\n",
       "    </tr>\n",
       "    <tr>\n",
       "      <th>std</th>\n",
       "      <td>106.545452</td>\n",
       "      <td>84.496398</td>\n",
       "      <td>13.699764</td>\n",
       "      <td>7.87284</td>\n",
       "      <td>0.441826</td>\n",
       "      <td>19.697155</td>\n",
       "    </tr>\n",
       "    <tr>\n",
       "      <th>min</th>\n",
       "      <td>271.000000</td>\n",
       "      <td>1.000000</td>\n",
       "      <td>0.000000</td>\n",
       "      <td>0.00000</td>\n",
       "      <td>0.350000</td>\n",
       "      <td>0.240000</td>\n",
       "    </tr>\n",
       "    <tr>\n",
       "      <th>25%</th>\n",
       "      <td>660.000000</td>\n",
       "      <td>60.000000</td>\n",
       "      <td>2.000000</td>\n",
       "      <td>3.10000</td>\n",
       "      <td>1.100000</td>\n",
       "      <td>30.210000</td>\n",
       "    </tr>\n",
       "    <tr>\n",
       "      <th>50%</th>\n",
       "      <td>730.000000</td>\n",
       "      <td>104.000000</td>\n",
       "      <td>5.000000</td>\n",
       "      <td>5.10000</td>\n",
       "      <td>1.290000</td>\n",
       "      <td>44.670000</td>\n",
       "    </tr>\n",
       "    <tr>\n",
       "      <th>75%</th>\n",
       "      <td>796.000000</td>\n",
       "      <td>159.000000</td>\n",
       "      <td>10.000000</td>\n",
       "      <td>7.70000</td>\n",
       "      <td>1.520000</td>\n",
       "      <td>58.330000</td>\n",
       "    </tr>\n",
       "    <tr>\n",
       "      <th>max</th>\n",
       "      <td>1502.000000</td>\n",
       "      <td>1431.000000</td>\n",
       "      <td>516.000000</td>\n",
       "      <td>100.00000</td>\n",
       "      <td>8.070000</td>\n",
       "      <td>100.000000</td>\n",
       "    </tr>\n",
       "  </tbody>\n",
       "</table>\n",
       "</div>"
      ],
      "text/plain": [
       "       One Bedroom Avg SF  Number Of 1 Bedrooms  One Bedroom Vacant Units  \\\n",
       "count        12027.000000          12027.000000              12027.000000   \n",
       "mean           731.784468            119.524737                  8.285275   \n",
       "std            106.545452             84.496398                 13.699764   \n",
       "min            271.000000              1.000000                  0.000000   \n",
       "25%            660.000000             60.000000                  2.000000   \n",
       "50%            730.000000            104.000000                  5.000000   \n",
       "75%            796.000000            159.000000                 10.000000   \n",
       "max           1502.000000           1431.000000                516.000000   \n",
       "\n",
       "       One Bedroom Vacancy %  One Bedroom Effective Rent/SF       % 1-Bed  \n",
       "count            12027.00000                   12023.000000  12027.000000  \n",
       "mean                 6.65564                       1.361945     44.762135  \n",
       "std                  7.87284                       0.441826     19.697155  \n",
       "min                  0.00000                       0.350000      0.240000  \n",
       "25%                  3.10000                       1.100000     30.210000  \n",
       "50%                  5.10000                       1.290000     44.670000  \n",
       "75%                  7.70000                       1.520000     58.330000  \n",
       "max                100.00000                       8.070000    100.000000  "
      ]
     },
     "execution_count": 556,
     "metadata": {},
     "output_type": "execute_result"
    }
   ],
   "source": [
    "# Applying the defined transformation functions on relevant 1-Bedroom variables\n",
    "for level in levels:\n",
    "    fill_vacancy_mean('1-Bed', 'One Bedroom', level)\n",
    "    fill_sf_mean('1-Bed', 'One Bedroom', level)\n",
    "calculate_vacant_unit('1-Bed', 'One Bedroom', '1 Bedrooms')\n",
    "\n",
    "sub[sub['% 1-Bed'].notnull()][['One Bedroom Avg SF','Number Of 1 Bedrooms', 'One Bedroom Vacant Units', \n",
    "        'One Bedroom Vacancy %', 'One Bedroom Effective Rent/SF', '% 1-Bed']].describe()"
   ]
  },
  {
   "cell_type": "code",
   "execution_count": 557,
   "metadata": {},
   "outputs": [
    {
     "data": {
      "text/html": [
       "<div>\n",
       "<style scoped>\n",
       "    .dataframe tbody tr th:only-of-type {\n",
       "        vertical-align: middle;\n",
       "    }\n",
       "\n",
       "    .dataframe tbody tr th {\n",
       "        vertical-align: top;\n",
       "    }\n",
       "\n",
       "    .dataframe thead th {\n",
       "        text-align: right;\n",
       "    }\n",
       "</style>\n",
       "<table border=\"1\" class=\"dataframe\">\n",
       "  <thead>\n",
       "    <tr style=\"text-align: right;\">\n",
       "      <th></th>\n",
       "      <th>One Bedroom Vacant Units</th>\n",
       "      <th># Vacant 1-Bed</th>\n",
       "    </tr>\n",
       "    <tr>\n",
       "      <th>Row</th>\n",
       "      <th></th>\n",
       "      <th></th>\n",
       "    </tr>\n",
       "  </thead>\n",
       "  <tbody>\n",
       "    <tr>\n",
       "      <th>20322</th>\n",
       "      <td>516.0</td>\n",
       "      <td>517.0</td>\n",
       "    </tr>\n",
       "  </tbody>\n",
       "</table>\n",
       "</div>"
      ],
      "text/plain": [
       "       One Bedroom Vacant Units  # Vacant 1-Bed\n",
       "Row                                            \n",
       "20322                     516.0           517.0"
      ]
     },
     "execution_count": 557,
     "metadata": {},
     "output_type": "execute_result"
    }
   ],
   "source": [
    "# Matching 1-Bedroom Vacant units with 1-Bedroom Vacancy %\n",
    "test = sub[sub['% 1-Bed'].notnull()].copy()\n",
    "test['# Vacant 1-Bed'] = test[['Number Of 1 Bedrooms', 'One Bedroom Vacancy %']].apply(lambda x:\n",
    "                          round(x[0]*x[1]/100), axis=1)\n",
    "#print(test[test['One Bedroom Vacant Units']!=test['# Vacant 1-Bed']].shape)\n",
    "test[test['One Bedroom Vacant Units']!=test['# Vacant 1-Bed']]\\\n",
    "[['One Bedroom Vacant Units', '# Vacant 1-Bed']]"
   ]
  },
  {
   "cell_type": "markdown",
   "metadata": {},
   "source": [
    "One Bedroom Vacant Units and One Bedroom Vacancy % have only one minor mismatch due to rounding and can be ignored"
   ]
  },
  {
   "cell_type": "markdown",
   "metadata": {},
   "source": [
    "### 1.5.3 Two Bedroom related variables:"
   ]
  },
  {
   "cell_type": "code",
   "execution_count": 558,
   "metadata": {},
   "outputs": [
    {
     "data": {
      "text/html": [
       "<div>\n",
       "<style scoped>\n",
       "    .dataframe tbody tr th:only-of-type {\n",
       "        vertical-align: middle;\n",
       "    }\n",
       "\n",
       "    .dataframe tbody tr th {\n",
       "        vertical-align: top;\n",
       "    }\n",
       "\n",
       "    .dataframe thead th {\n",
       "        text-align: right;\n",
       "    }\n",
       "</style>\n",
       "<table border=\"1\" class=\"dataframe\">\n",
       "  <thead>\n",
       "    <tr style=\"text-align: right;\">\n",
       "      <th></th>\n",
       "      <th>Two Bedroom Avg SF</th>\n",
       "      <th>Number Of 2 Bedrooms</th>\n",
       "      <th>Two Bedroom Vacant Units</th>\n",
       "      <th>Two Bedroom Vacancy %</th>\n",
       "      <th>Two Bedroom Effective Rent/SF</th>\n",
       "      <th>% 2-Bed</th>\n",
       "    </tr>\n",
       "  </thead>\n",
       "  <tbody>\n",
       "    <tr>\n",
       "      <th>count</th>\n",
       "      <td>12612.000000</td>\n",
       "      <td>12618.000000</td>\n",
       "      <td>12617.000000</td>\n",
       "      <td>12617.000000</td>\n",
       "      <td>12612.000000</td>\n",
       "      <td>12618.000000</td>\n",
       "    </tr>\n",
       "    <tr>\n",
       "      <th>mean</th>\n",
       "      <td>1038.878925</td>\n",
       "      <td>114.991916</td>\n",
       "      <td>7.677261</td>\n",
       "      <td>6.614211</td>\n",
       "      <td>1.184188</td>\n",
       "      <td>45.374155</td>\n",
       "    </tr>\n",
       "    <tr>\n",
       "      <th>std</th>\n",
       "      <td>152.890282</td>\n",
       "      <td>67.162461</td>\n",
       "      <td>11.796372</td>\n",
       "      <td>7.954260</td>\n",
       "      <td>0.441070</td>\n",
       "      <td>17.216202</td>\n",
       "    </tr>\n",
       "    <tr>\n",
       "      <th>min</th>\n",
       "      <td>240.000000</td>\n",
       "      <td>1.000000</td>\n",
       "      <td>0.000000</td>\n",
       "      <td>0.000000</td>\n",
       "      <td>0.260000</td>\n",
       "      <td>0.300000</td>\n",
       "    </tr>\n",
       "    <tr>\n",
       "      <th>25%</th>\n",
       "      <td>937.000000</td>\n",
       "      <td>72.000000</td>\n",
       "      <td>2.000000</td>\n",
       "      <td>2.800000</td>\n",
       "      <td>0.950000</td>\n",
       "      <td>34.210000</td>\n",
       "    </tr>\n",
       "    <tr>\n",
       "      <th>50%</th>\n",
       "      <td>1030.000000</td>\n",
       "      <td>104.000000</td>\n",
       "      <td>5.000000</td>\n",
       "      <td>5.100000</td>\n",
       "      <td>1.110000</td>\n",
       "      <td>44.875000</td>\n",
       "    </tr>\n",
       "    <tr>\n",
       "      <th>75%</th>\n",
       "      <td>1137.000000</td>\n",
       "      <td>144.000000</td>\n",
       "      <td>9.000000</td>\n",
       "      <td>7.700000</td>\n",
       "      <td>1.310000</td>\n",
       "      <td>54.707500</td>\n",
       "    </tr>\n",
       "    <tr>\n",
       "      <th>max</th>\n",
       "      <td>2833.000000</td>\n",
       "      <td>1140.000000</td>\n",
       "      <td>280.000000</td>\n",
       "      <td>100.000000</td>\n",
       "      <td>15.680000</td>\n",
       "      <td>100.000000</td>\n",
       "    </tr>\n",
       "  </tbody>\n",
       "</table>\n",
       "</div>"
      ],
      "text/plain": [
       "       Two Bedroom Avg SF  Number Of 2 Bedrooms  Two Bedroom Vacant Units  \\\n",
       "count        12612.000000          12618.000000              12617.000000   \n",
       "mean          1038.878925            114.991916                  7.677261   \n",
       "std            152.890282             67.162461                 11.796372   \n",
       "min            240.000000              1.000000                  0.000000   \n",
       "25%            937.000000             72.000000                  2.000000   \n",
       "50%           1030.000000            104.000000                  5.000000   \n",
       "75%           1137.000000            144.000000                  9.000000   \n",
       "max           2833.000000           1140.000000                280.000000   \n",
       "\n",
       "       Two Bedroom Vacancy %  Two Bedroom Effective Rent/SF       % 2-Bed  \n",
       "count           12617.000000                   12612.000000  12618.000000  \n",
       "mean                6.614211                       1.184188     45.374155  \n",
       "std                 7.954260                       0.441070     17.216202  \n",
       "min                 0.000000                       0.260000      0.300000  \n",
       "25%                 2.800000                       0.950000     34.210000  \n",
       "50%                 5.100000                       1.110000     44.875000  \n",
       "75%                 7.700000                       1.310000     54.707500  \n",
       "max               100.000000                      15.680000    100.000000  "
      ]
     },
     "execution_count": 558,
     "metadata": {},
     "output_type": "execute_result"
    }
   ],
   "source": [
    "# Checking descriptive statistics of 2-Bedroom related variables\n",
    "sub[sub['% 2-Bed'].notnull()][['Two Bedroom Avg SF','Number Of 2 Bedrooms', 'Two Bedroom Vacant Units', \n",
    "        'Two Bedroom Vacancy %', 'Two Bedroom Effective Rent/SF', '% 2-Bed']].describe()"
   ]
  },
  {
   "cell_type": "markdown",
   "metadata": {},
   "source": [
    "Missing values for Avg SF, Vacant Units, Vacancy % and Effective Rent/SF. Outliers in Avg SF and Effective Rent/SF."
   ]
  },
  {
   "cell_type": "code",
   "execution_count": 559,
   "metadata": {},
   "outputs": [
    {
     "data": {
      "text/html": [
       "<div>\n",
       "<style scoped>\n",
       "    .dataframe tbody tr th:only-of-type {\n",
       "        vertical-align: middle;\n",
       "    }\n",
       "\n",
       "    .dataframe tbody tr th {\n",
       "        vertical-align: top;\n",
       "    }\n",
       "\n",
       "    .dataframe thead th {\n",
       "        text-align: right;\n",
       "    }\n",
       "</style>\n",
       "<table border=\"1\" class=\"dataframe\">\n",
       "  <thead>\n",
       "    <tr style=\"text-align: right;\">\n",
       "      <th></th>\n",
       "      <th>Two Bedroom Avg SF</th>\n",
       "      <th>Number Of 2 Bedrooms</th>\n",
       "      <th>Two Bedroom Vacant Units</th>\n",
       "      <th>Two Bedroom Vacancy %</th>\n",
       "      <th>Two Bedroom Effective Rent/SF</th>\n",
       "      <th>% 2-Bed</th>\n",
       "    </tr>\n",
       "  </thead>\n",
       "  <tbody>\n",
       "    <tr>\n",
       "      <th>count</th>\n",
       "      <td>12618.000000</td>\n",
       "      <td>12618.000000</td>\n",
       "      <td>12618.000000</td>\n",
       "      <td>12618.000000</td>\n",
       "      <td>12612.000000</td>\n",
       "      <td>12618.000000</td>\n",
       "    </tr>\n",
       "    <tr>\n",
       "      <th>mean</th>\n",
       "      <td>1038.841097</td>\n",
       "      <td>114.991916</td>\n",
       "      <td>7.676811</td>\n",
       "      <td>6.614069</td>\n",
       "      <td>1.184188</td>\n",
       "      <td>45.374155</td>\n",
       "    </tr>\n",
       "    <tr>\n",
       "      <th>std</th>\n",
       "      <td>152.872694</td>\n",
       "      <td>67.162461</td>\n",
       "      <td>11.796013</td>\n",
       "      <td>7.953961</td>\n",
       "      <td>0.441070</td>\n",
       "      <td>17.216202</td>\n",
       "    </tr>\n",
       "    <tr>\n",
       "      <th>min</th>\n",
       "      <td>240.000000</td>\n",
       "      <td>1.000000</td>\n",
       "      <td>0.000000</td>\n",
       "      <td>0.000000</td>\n",
       "      <td>0.260000</td>\n",
       "      <td>0.300000</td>\n",
       "    </tr>\n",
       "    <tr>\n",
       "      <th>25%</th>\n",
       "      <td>937.000000</td>\n",
       "      <td>72.000000</td>\n",
       "      <td>2.000000</td>\n",
       "      <td>2.800000</td>\n",
       "      <td>0.950000</td>\n",
       "      <td>34.210000</td>\n",
       "    </tr>\n",
       "    <tr>\n",
       "      <th>50%</th>\n",
       "      <td>1030.000000</td>\n",
       "      <td>104.000000</td>\n",
       "      <td>5.000000</td>\n",
       "      <td>5.100000</td>\n",
       "      <td>1.110000</td>\n",
       "      <td>44.875000</td>\n",
       "    </tr>\n",
       "    <tr>\n",
       "      <th>75%</th>\n",
       "      <td>1137.000000</td>\n",
       "      <td>144.000000</td>\n",
       "      <td>9.000000</td>\n",
       "      <td>7.700000</td>\n",
       "      <td>1.310000</td>\n",
       "      <td>54.707500</td>\n",
       "    </tr>\n",
       "    <tr>\n",
       "      <th>max</th>\n",
       "      <td>2833.000000</td>\n",
       "      <td>1140.000000</td>\n",
       "      <td>280.000000</td>\n",
       "      <td>100.000000</td>\n",
       "      <td>15.680000</td>\n",
       "      <td>100.000000</td>\n",
       "    </tr>\n",
       "  </tbody>\n",
       "</table>\n",
       "</div>"
      ],
      "text/plain": [
       "       Two Bedroom Avg SF  Number Of 2 Bedrooms  Two Bedroom Vacant Units  \\\n",
       "count        12618.000000          12618.000000              12618.000000   \n",
       "mean          1038.841097            114.991916                  7.676811   \n",
       "std            152.872694             67.162461                 11.796013   \n",
       "min            240.000000              1.000000                  0.000000   \n",
       "25%            937.000000             72.000000                  2.000000   \n",
       "50%           1030.000000            104.000000                  5.000000   \n",
       "75%           1137.000000            144.000000                  9.000000   \n",
       "max           2833.000000           1140.000000                280.000000   \n",
       "\n",
       "       Two Bedroom Vacancy %  Two Bedroom Effective Rent/SF       % 2-Bed  \n",
       "count           12618.000000                   12612.000000  12618.000000  \n",
       "mean                6.614069                       1.184188     45.374155  \n",
       "std                 7.953961                       0.441070     17.216202  \n",
       "min                 0.000000                       0.260000      0.300000  \n",
       "25%                 2.800000                       0.950000     34.210000  \n",
       "50%                 5.100000                       1.110000     44.875000  \n",
       "75%                 7.700000                       1.310000     54.707500  \n",
       "max               100.000000                      15.680000    100.000000  "
      ]
     },
     "execution_count": 559,
     "metadata": {},
     "output_type": "execute_result"
    }
   ],
   "source": [
    "# Applying the defined transformation functions on relevant 2-Bedroom variables\n",
    "for level in levels:\n",
    "    fill_vacancy_mean('2-Bed', 'Two Bedroom', level)\n",
    "    fill_sf_mean('2-Bed', 'Two Bedroom', level)\n",
    "calculate_vacant_unit('2-Bed', 'Two Bedroom', '2 Bedrooms')\n",
    "\n",
    "sub[sub['% 2-Bed'].notnull()][['Two Bedroom Avg SF','Number Of 2 Bedrooms', 'Two Bedroom Vacant Units', \n",
    "        'Two Bedroom Vacancy %', 'Two Bedroom Effective Rent/SF', '% 2-Bed']].describe()"
   ]
  },
  {
   "cell_type": "code",
   "execution_count": 560,
   "metadata": {},
   "outputs": [
    {
     "name": "stdout",
     "output_type": "stream",
     "text": [
      "(0, 64)\n"
     ]
    }
   ],
   "source": [
    "# Matching 2-Bedroom Vacant units with 2-Bedroom Vacancy %\n",
    "test = sub[sub['% 2-Bed'].notnull()].copy()\n",
    "test['# Vacant 2-Bed'] = test[['Number Of 2 Bedrooms', 'Two Bedroom Vacancy %']].apply(lambda x:\n",
    "                          round(x[0]*x[1]/100), axis=1)\n",
    "print(test[test['Two Bedroom Vacant Units']!=test['# Vacant 2-Bed']].shape)\n",
    "#print(test[test['Two Bedroom Vacant Units']!=test['# Vacant 2-Bed']]\\\n",
    "#[['Two Bedroom Vacant Units', '# Vacant 2-Bed']].count())"
   ]
  },
  {
   "cell_type": "markdown",
   "metadata": {},
   "source": [
    "Two Bedroom Vacant Units and Two Bedroom Vacancy % matches."
   ]
  },
  {
   "cell_type": "markdown",
   "metadata": {},
   "source": [
    "### 1.5.4 Three Bedroom"
   ]
  },
  {
   "cell_type": "code",
   "execution_count": 561,
   "metadata": {},
   "outputs": [
    {
     "data": {
      "text/html": [
       "<div>\n",
       "<style scoped>\n",
       "    .dataframe tbody tr th:only-of-type {\n",
       "        vertical-align: middle;\n",
       "    }\n",
       "\n",
       "    .dataframe tbody tr th {\n",
       "        vertical-align: top;\n",
       "    }\n",
       "\n",
       "    .dataframe thead th {\n",
       "        text-align: right;\n",
       "    }\n",
       "</style>\n",
       "<table border=\"1\" class=\"dataframe\">\n",
       "  <thead>\n",
       "    <tr style=\"text-align: right;\">\n",
       "      <th></th>\n",
       "      <th>Three Bedroom Avg SF</th>\n",
       "      <th>Number Of 3 Bedrooms</th>\n",
       "      <th>Three Bedroom Vacant Units</th>\n",
       "      <th>Three Bedroom Vacancy %</th>\n",
       "      <th>Three Bedroom Effective Rent/SF</th>\n",
       "      <th>% 3-Bed</th>\n",
       "    </tr>\n",
       "  </thead>\n",
       "  <tbody>\n",
       "    <tr>\n",
       "      <th>count</th>\n",
       "      <td>7782.000000</td>\n",
       "      <td>7788.000000</td>\n",
       "      <td>7785.000000</td>\n",
       "      <td>7785.000000</td>\n",
       "      <td>7782.000000</td>\n",
       "      <td>7788.000000</td>\n",
       "    </tr>\n",
       "    <tr>\n",
       "      <th>mean</th>\n",
       "      <td>1315.384477</td>\n",
       "      <td>41.302390</td>\n",
       "      <td>2.726654</td>\n",
       "      <td>7.423353</td>\n",
       "      <td>1.142404</td>\n",
       "      <td>16.790705</td>\n",
       "    </tr>\n",
       "    <tr>\n",
       "      <th>std</th>\n",
       "      <td>230.116845</td>\n",
       "      <td>36.489098</td>\n",
       "      <td>4.733851</td>\n",
       "      <td>9.016284</td>\n",
       "      <td>0.436008</td>\n",
       "      <td>13.988808</td>\n",
       "    </tr>\n",
       "    <tr>\n",
       "      <th>min</th>\n",
       "      <td>346.000000</td>\n",
       "      <td>1.000000</td>\n",
       "      <td>0.000000</td>\n",
       "      <td>0.000000</td>\n",
       "      <td>0.230000</td>\n",
       "      <td>0.120000</td>\n",
       "    </tr>\n",
       "    <tr>\n",
       "      <th>25%</th>\n",
       "      <td>1184.000000</td>\n",
       "      <td>17.000000</td>\n",
       "      <td>1.000000</td>\n",
       "      <td>2.800000</td>\n",
       "      <td>0.900000</td>\n",
       "      <td>7.155000</td>\n",
       "    </tr>\n",
       "    <tr>\n",
       "      <th>50%</th>\n",
       "      <td>1300.000000</td>\n",
       "      <td>32.000000</td>\n",
       "      <td>2.000000</td>\n",
       "      <td>5.800000</td>\n",
       "      <td>1.070000</td>\n",
       "      <td>12.800000</td>\n",
       "    </tr>\n",
       "    <tr>\n",
       "      <th>75%</th>\n",
       "      <td>1413.000000</td>\n",
       "      <td>54.000000</td>\n",
       "      <td>3.000000</td>\n",
       "      <td>8.700000</td>\n",
       "      <td>1.270000</td>\n",
       "      <td>22.452500</td>\n",
       "    </tr>\n",
       "    <tr>\n",
       "      <th>max</th>\n",
       "      <td>4099.000000</td>\n",
       "      <td>785.000000</td>\n",
       "      <td>126.000000</td>\n",
       "      <td>100.000000</td>\n",
       "      <td>9.460000</td>\n",
       "      <td>100.000000</td>\n",
       "    </tr>\n",
       "  </tbody>\n",
       "</table>\n",
       "</div>"
      ],
      "text/plain": [
       "       Three Bedroom Avg SF  Number Of 3 Bedrooms  Three Bedroom Vacant Units  \\\n",
       "count           7782.000000           7788.000000                 7785.000000   \n",
       "mean            1315.384477             41.302390                    2.726654   \n",
       "std              230.116845             36.489098                    4.733851   \n",
       "min              346.000000              1.000000                    0.000000   \n",
       "25%             1184.000000             17.000000                    1.000000   \n",
       "50%             1300.000000             32.000000                    2.000000   \n",
       "75%             1413.000000             54.000000                    3.000000   \n",
       "max             4099.000000            785.000000                  126.000000   \n",
       "\n",
       "       Three Bedroom Vacancy %  Three Bedroom Effective Rent/SF      % 3-Bed  \n",
       "count              7785.000000                      7782.000000  7788.000000  \n",
       "mean                  7.423353                         1.142404    16.790705  \n",
       "std                   9.016284                         0.436008    13.988808  \n",
       "min                   0.000000                         0.230000     0.120000  \n",
       "25%                   2.800000                         0.900000     7.155000  \n",
       "50%                   5.800000                         1.070000    12.800000  \n",
       "75%                   8.700000                         1.270000    22.452500  \n",
       "max                 100.000000                         9.460000   100.000000  "
      ]
     },
     "execution_count": 561,
     "metadata": {},
     "output_type": "execute_result"
    }
   ],
   "source": [
    "# Checking descriptive statistics of 3-Bedroom related variables\n",
    "sub[sub['% 3-Bed'].notnull()][['Three Bedroom Avg SF','Number Of 3 Bedrooms', 'Three Bedroom Vacant Units', \n",
    "        'Three Bedroom Vacancy %', 'Three Bedroom Effective Rent/SF', '% 3-Bed']].describe()"
   ]
  },
  {
   "cell_type": "markdown",
   "metadata": {},
   "source": [
    "Missing values for Avg SF, Vacant Units, Vacancy % and Effective Rent/SF. Outliers in Avg SF and Effective Rent/SF."
   ]
  },
  {
   "cell_type": "code",
   "execution_count": 562,
   "metadata": {},
   "outputs": [
    {
     "data": {
      "text/html": [
       "<div>\n",
       "<style scoped>\n",
       "    .dataframe tbody tr th:only-of-type {\n",
       "        vertical-align: middle;\n",
       "    }\n",
       "\n",
       "    .dataframe tbody tr th {\n",
       "        vertical-align: top;\n",
       "    }\n",
       "\n",
       "    .dataframe thead th {\n",
       "        text-align: right;\n",
       "    }\n",
       "</style>\n",
       "<table border=\"1\" class=\"dataframe\">\n",
       "  <thead>\n",
       "    <tr style=\"text-align: right;\">\n",
       "      <th></th>\n",
       "      <th>Three Bedroom Avg SF</th>\n",
       "      <th>Number Of 3 Bedrooms</th>\n",
       "      <th>Three Bedroom Vacant Units</th>\n",
       "      <th>Three Bedroom Vacancy %</th>\n",
       "      <th>Three Bedroom Effective Rent/SF</th>\n",
       "      <th>% 3-Bed</th>\n",
       "    </tr>\n",
       "  </thead>\n",
       "  <tbody>\n",
       "    <tr>\n",
       "      <th>count</th>\n",
       "      <td>7788.000000</td>\n",
       "      <td>7788.000000</td>\n",
       "      <td>7788.000000</td>\n",
       "      <td>7788.000000</td>\n",
       "      <td>7782.000000</td>\n",
       "      <td>7788.000000</td>\n",
       "    </tr>\n",
       "    <tr>\n",
       "      <th>mean</th>\n",
       "      <td>1315.286926</td>\n",
       "      <td>41.302390</td>\n",
       "      <td>2.726502</td>\n",
       "      <td>7.422400</td>\n",
       "      <td>1.142404</td>\n",
       "      <td>16.790705</td>\n",
       "    </tr>\n",
       "    <tr>\n",
       "      <th>std</th>\n",
       "      <td>230.063005</td>\n",
       "      <td>36.489098</td>\n",
       "      <td>4.732981</td>\n",
       "      <td>9.014811</td>\n",
       "      <td>0.436008</td>\n",
       "      <td>13.988808</td>\n",
       "    </tr>\n",
       "    <tr>\n",
       "      <th>min</th>\n",
       "      <td>346.000000</td>\n",
       "      <td>1.000000</td>\n",
       "      <td>0.000000</td>\n",
       "      <td>0.000000</td>\n",
       "      <td>0.230000</td>\n",
       "      <td>0.120000</td>\n",
       "    </tr>\n",
       "    <tr>\n",
       "      <th>25%</th>\n",
       "      <td>1183.000000</td>\n",
       "      <td>17.000000</td>\n",
       "      <td>1.000000</td>\n",
       "      <td>2.800000</td>\n",
       "      <td>0.900000</td>\n",
       "      <td>7.155000</td>\n",
       "    </tr>\n",
       "    <tr>\n",
       "      <th>50%</th>\n",
       "      <td>1300.000000</td>\n",
       "      <td>32.000000</td>\n",
       "      <td>2.000000</td>\n",
       "      <td>5.800000</td>\n",
       "      <td>1.070000</td>\n",
       "      <td>12.800000</td>\n",
       "    </tr>\n",
       "    <tr>\n",
       "      <th>75%</th>\n",
       "      <td>1413.000000</td>\n",
       "      <td>54.000000</td>\n",
       "      <td>3.000000</td>\n",
       "      <td>8.700000</td>\n",
       "      <td>1.270000</td>\n",
       "      <td>22.452500</td>\n",
       "    </tr>\n",
       "    <tr>\n",
       "      <th>max</th>\n",
       "      <td>4099.000000</td>\n",
       "      <td>785.000000</td>\n",
       "      <td>126.000000</td>\n",
       "      <td>100.000000</td>\n",
       "      <td>9.460000</td>\n",
       "      <td>100.000000</td>\n",
       "    </tr>\n",
       "  </tbody>\n",
       "</table>\n",
       "</div>"
      ],
      "text/plain": [
       "       Three Bedroom Avg SF  Number Of 3 Bedrooms  Three Bedroom Vacant Units  \\\n",
       "count           7788.000000           7788.000000                 7788.000000   \n",
       "mean            1315.286926             41.302390                    2.726502   \n",
       "std              230.063005             36.489098                    4.732981   \n",
       "min              346.000000              1.000000                    0.000000   \n",
       "25%             1183.000000             17.000000                    1.000000   \n",
       "50%             1300.000000             32.000000                    2.000000   \n",
       "75%             1413.000000             54.000000                    3.000000   \n",
       "max             4099.000000            785.000000                  126.000000   \n",
       "\n",
       "       Three Bedroom Vacancy %  Three Bedroom Effective Rent/SF      % 3-Bed  \n",
       "count              7788.000000                      7782.000000  7788.000000  \n",
       "mean                  7.422400                         1.142404    16.790705  \n",
       "std                   9.014811                         0.436008    13.988808  \n",
       "min                   0.000000                         0.230000     0.120000  \n",
       "25%                   2.800000                         0.900000     7.155000  \n",
       "50%                   5.800000                         1.070000    12.800000  \n",
       "75%                   8.700000                         1.270000    22.452500  \n",
       "max                 100.000000                         9.460000   100.000000  "
      ]
     },
     "execution_count": 562,
     "metadata": {},
     "output_type": "execute_result"
    }
   ],
   "source": [
    "# Applying the defined transformation functions on relevant 3-Bedroom variables\n",
    "for level in levels:\n",
    "    fill_vacancy_mean('3-Bed', 'Three Bedroom', level)\n",
    "    fill_sf_mean('3-Bed', 'Three Bedroom', level)\n",
    "calculate_vacant_unit('3-Bed', 'Three Bedroom', '3 Bedrooms')\n",
    "\n",
    "sub[sub['% 3-Bed'].notnull()][['Three Bedroom Avg SF','Number Of 3 Bedrooms', 'Three Bedroom Vacant Units', \n",
    "        'Three Bedroom Vacancy %', 'Three Bedroom Effective Rent/SF', '% 3-Bed']].describe()"
   ]
  },
  {
   "cell_type": "code",
   "execution_count": 563,
   "metadata": {},
   "outputs": [
    {
     "name": "stdout",
     "output_type": "stream",
     "text": [
      "(0, 64)\n"
     ]
    }
   ],
   "source": [
    "# Matching 3-Bedroom Vacant units with 3-Bedroom Vacancy %\n",
    "test = sub[sub['% 3-Bed'].notnull()].copy()\n",
    "test['# Vacant 3-Bed'] = test[['Number Of 3 Bedrooms', 'Three Bedroom Vacancy %']].apply(lambda x:\n",
    "                          round(x[0]*x[1]/100), axis=1)\n",
    "print(test[test['Three Bedroom Vacant Units']!=test['# Vacant 3-Bed']].shape)\n",
    "#print(test[test['Three Bedroom Vacant Units']!=test['# Vacant 3-Bed']]\\\n",
    "#[['Three Bedroom Vacant Units', '# Vacant 3-Bed']].count())"
   ]
  },
  {
   "cell_type": "markdown",
   "metadata": {},
   "source": [
    "Three Bedroom Vacant Units and Three Bedroom Vacancy % matches."
   ]
  },
  {
   "cell_type": "markdown",
   "metadata": {},
   "source": [
    "### 1.5.5 Four Bedroom"
   ]
  },
  {
   "cell_type": "code",
   "execution_count": 564,
   "metadata": {},
   "outputs": [
    {
     "data": {
      "text/html": [
       "<div>\n",
       "<style scoped>\n",
       "    .dataframe tbody tr th:only-of-type {\n",
       "        vertical-align: middle;\n",
       "    }\n",
       "\n",
       "    .dataframe tbody tr th {\n",
       "        vertical-align: top;\n",
       "    }\n",
       "\n",
       "    .dataframe thead th {\n",
       "        text-align: right;\n",
       "    }\n",
       "</style>\n",
       "<table border=\"1\" class=\"dataframe\">\n",
       "  <thead>\n",
       "    <tr style=\"text-align: right;\">\n",
       "      <th></th>\n",
       "      <th>Four Bedroom Avg SF</th>\n",
       "      <th>Number Of 4 Bedrooms</th>\n",
       "      <th>Four Bedroom Vacant Units</th>\n",
       "      <th>Four Bedroom Vacancy %</th>\n",
       "      <th>Four Bedroom Effective Rent/SF</th>\n",
       "      <th>% 4-Bed</th>\n",
       "    </tr>\n",
       "  </thead>\n",
       "  <tbody>\n",
       "    <tr>\n",
       "      <th>count</th>\n",
       "      <td>883.000000</td>\n",
       "      <td>887.000000</td>\n",
       "      <td>884.000000</td>\n",
       "      <td>884.000000</td>\n",
       "      <td>883.000000</td>\n",
       "      <td>887.000000</td>\n",
       "    </tr>\n",
       "    <tr>\n",
       "      <th>mean</th>\n",
       "      <td>1467.035108</td>\n",
       "      <td>50.519718</td>\n",
       "      <td>4.167421</td>\n",
       "      <td>6.629072</td>\n",
       "      <td>1.215764</td>\n",
       "      <td>22.955642</td>\n",
       "    </tr>\n",
       "    <tr>\n",
       "      <th>std</th>\n",
       "      <td>335.345204</td>\n",
       "      <td>60.483560</td>\n",
       "      <td>11.345157</td>\n",
       "      <td>10.893822</td>\n",
       "      <td>1.168431</td>\n",
       "      <td>25.108779</td>\n",
       "    </tr>\n",
       "    <tr>\n",
       "      <th>min</th>\n",
       "      <td>240.000000</td>\n",
       "      <td>0.992800</td>\n",
       "      <td>0.000000</td>\n",
       "      <td>0.000000</td>\n",
       "      <td>0.160000</td>\n",
       "      <td>0.190000</td>\n",
       "    </tr>\n",
       "    <tr>\n",
       "      <th>25%</th>\n",
       "      <td>1300.000000</td>\n",
       "      <td>12.000000</td>\n",
       "      <td>0.000000</td>\n",
       "      <td>0.000000</td>\n",
       "      <td>0.790000</td>\n",
       "      <td>5.560000</td>\n",
       "    </tr>\n",
       "    <tr>\n",
       "      <th>50%</th>\n",
       "      <td>1424.000000</td>\n",
       "      <td>26.000000</td>\n",
       "      <td>1.000000</td>\n",
       "      <td>3.950000</td>\n",
       "      <td>0.970000</td>\n",
       "      <td>12.500000</td>\n",
       "    </tr>\n",
       "    <tr>\n",
       "      <th>75%</th>\n",
       "      <td>1582.000000</td>\n",
       "      <td>72.000000</td>\n",
       "      <td>3.000000</td>\n",
       "      <td>8.300000</td>\n",
       "      <td>1.320000</td>\n",
       "      <td>31.925000</td>\n",
       "    </tr>\n",
       "    <tr>\n",
       "      <th>max</th>\n",
       "      <td>3504.000000</td>\n",
       "      <td>501.000000</td>\n",
       "      <td>180.000000</td>\n",
       "      <td>100.000000</td>\n",
       "      <td>24.410000</td>\n",
       "      <td>100.000000</td>\n",
       "    </tr>\n",
       "  </tbody>\n",
       "</table>\n",
       "</div>"
      ],
      "text/plain": [
       "       Four Bedroom Avg SF  Number Of 4 Bedrooms  Four Bedroom Vacant Units  \\\n",
       "count           883.000000            887.000000                 884.000000   \n",
       "mean           1467.035108             50.519718                   4.167421   \n",
       "std             335.345204             60.483560                  11.345157   \n",
       "min             240.000000              0.992800                   0.000000   \n",
       "25%            1300.000000             12.000000                   0.000000   \n",
       "50%            1424.000000             26.000000                   1.000000   \n",
       "75%            1582.000000             72.000000                   3.000000   \n",
       "max            3504.000000            501.000000                 180.000000   \n",
       "\n",
       "       Four Bedroom Vacancy %  Four Bedroom Effective Rent/SF     % 4-Bed  \n",
       "count              884.000000                      883.000000  887.000000  \n",
       "mean                 6.629072                        1.215764   22.955642  \n",
       "std                 10.893822                        1.168431   25.108779  \n",
       "min                  0.000000                        0.160000    0.190000  \n",
       "25%                  0.000000                        0.790000    5.560000  \n",
       "50%                  3.950000                        0.970000   12.500000  \n",
       "75%                  8.300000                        1.320000   31.925000  \n",
       "max                100.000000                       24.410000  100.000000  "
      ]
     },
     "execution_count": 564,
     "metadata": {},
     "output_type": "execute_result"
    }
   ],
   "source": [
    "# Checking descriptive statistics of 4-Bedroom related variables\n",
    "sub[sub['% 4-Bed'].notnull()][['Four Bedroom Avg SF','Number Of 4 Bedrooms', 'Four Bedroom Vacant Units', \n",
    "        'Four Bedroom Vacancy %', 'Four Bedroom Effective Rent/SF', '% 4-Bed']].describe()"
   ]
  },
  {
   "cell_type": "markdown",
   "metadata": {},
   "source": [
    "Missing values for Avg SF, Vacant Units, Vacancy % and Effective Rent/SF.  Outliers in Avg SF and Effective Rent/SF."
   ]
  },
  {
   "cell_type": "code",
   "execution_count": 565,
   "metadata": {},
   "outputs": [
    {
     "data": {
      "text/html": [
       "<div>\n",
       "<style scoped>\n",
       "    .dataframe tbody tr th:only-of-type {\n",
       "        vertical-align: middle;\n",
       "    }\n",
       "\n",
       "    .dataframe tbody tr th {\n",
       "        vertical-align: top;\n",
       "    }\n",
       "\n",
       "    .dataframe thead th {\n",
       "        text-align: right;\n",
       "    }\n",
       "</style>\n",
       "<table border=\"1\" class=\"dataframe\">\n",
       "  <thead>\n",
       "    <tr style=\"text-align: right;\">\n",
       "      <th></th>\n",
       "      <th>Four Bedroom Avg SF</th>\n",
       "      <th>Number Of 4 Bedrooms</th>\n",
       "      <th>Four Bedroom Vacant Units</th>\n",
       "      <th>Four Bedroom Vacancy %</th>\n",
       "      <th>Four Bedroom Effective Rent/SF</th>\n",
       "      <th>% 4-Bed</th>\n",
       "    </tr>\n",
       "  </thead>\n",
       "  <tbody>\n",
       "    <tr>\n",
       "      <th>count</th>\n",
       "      <td>887.000000</td>\n",
       "      <td>887.000000</td>\n",
       "      <td>887.000000</td>\n",
       "      <td>887.000000</td>\n",
       "      <td>883.000000</td>\n",
       "      <td>887.000000</td>\n",
       "    </tr>\n",
       "    <tr>\n",
       "      <th>mean</th>\n",
       "      <td>1466.612534</td>\n",
       "      <td>50.519718</td>\n",
       "      <td>4.158963</td>\n",
       "      <td>6.619457</td>\n",
       "      <td>1.215764</td>\n",
       "      <td>22.955642</td>\n",
       "    </tr>\n",
       "    <tr>\n",
       "      <th>std</th>\n",
       "      <td>334.760427</td>\n",
       "      <td>60.483560</td>\n",
       "      <td>11.327696</td>\n",
       "      <td>10.877986</td>\n",
       "      <td>1.168431</td>\n",
       "      <td>25.108779</td>\n",
       "    </tr>\n",
       "    <tr>\n",
       "      <th>min</th>\n",
       "      <td>240.000000</td>\n",
       "      <td>0.992800</td>\n",
       "      <td>0.000000</td>\n",
       "      <td>0.000000</td>\n",
       "      <td>0.160000</td>\n",
       "      <td>0.190000</td>\n",
       "    </tr>\n",
       "    <tr>\n",
       "      <th>25%</th>\n",
       "      <td>1300.000000</td>\n",
       "      <td>12.000000</td>\n",
       "      <td>0.000000</td>\n",
       "      <td>0.000000</td>\n",
       "      <td>0.790000</td>\n",
       "      <td>5.560000</td>\n",
       "    </tr>\n",
       "    <tr>\n",
       "      <th>50%</th>\n",
       "      <td>1424.000000</td>\n",
       "      <td>26.000000</td>\n",
       "      <td>1.000000</td>\n",
       "      <td>4.000000</td>\n",
       "      <td>0.970000</td>\n",
       "      <td>12.500000</td>\n",
       "    </tr>\n",
       "    <tr>\n",
       "      <th>75%</th>\n",
       "      <td>1581.000000</td>\n",
       "      <td>72.000000</td>\n",
       "      <td>3.000000</td>\n",
       "      <td>8.300000</td>\n",
       "      <td>1.320000</td>\n",
       "      <td>31.925000</td>\n",
       "    </tr>\n",
       "    <tr>\n",
       "      <th>max</th>\n",
       "      <td>3504.000000</td>\n",
       "      <td>501.000000</td>\n",
       "      <td>180.000000</td>\n",
       "      <td>100.000000</td>\n",
       "      <td>24.410000</td>\n",
       "      <td>100.000000</td>\n",
       "    </tr>\n",
       "  </tbody>\n",
       "</table>\n",
       "</div>"
      ],
      "text/plain": [
       "       Four Bedroom Avg SF  Number Of 4 Bedrooms  Four Bedroom Vacant Units  \\\n",
       "count           887.000000            887.000000                 887.000000   \n",
       "mean           1466.612534             50.519718                   4.158963   \n",
       "std             334.760427             60.483560                  11.327696   \n",
       "min             240.000000              0.992800                   0.000000   \n",
       "25%            1300.000000             12.000000                   0.000000   \n",
       "50%            1424.000000             26.000000                   1.000000   \n",
       "75%            1581.000000             72.000000                   3.000000   \n",
       "max            3504.000000            501.000000                 180.000000   \n",
       "\n",
       "       Four Bedroom Vacancy %  Four Bedroom Effective Rent/SF     % 4-Bed  \n",
       "count              887.000000                      883.000000  887.000000  \n",
       "mean                 6.619457                        1.215764   22.955642  \n",
       "std                 10.877986                        1.168431   25.108779  \n",
       "min                  0.000000                        0.160000    0.190000  \n",
       "25%                  0.000000                        0.790000    5.560000  \n",
       "50%                  4.000000                        0.970000   12.500000  \n",
       "75%                  8.300000                        1.320000   31.925000  \n",
       "max                100.000000                       24.410000  100.000000  "
      ]
     },
     "execution_count": 565,
     "metadata": {},
     "output_type": "execute_result"
    }
   ],
   "source": [
    "# Applying the defined transformation functions on relevant 4-Bedroom variables\n",
    "for level in levels:\n",
    "    fill_vacancy_mean('4-Bed', 'Four Bedroom', level)\n",
    "    fill_sf_mean('4-Bed', 'Four Bedroom', level)\n",
    "calculate_vacant_unit('4-Bed', 'Four Bedroom', '4 Bedrooms')\n",
    "\n",
    "sub[sub['% 4-Bed'].notnull()][['Four Bedroom Avg SF','Number Of 4 Bedrooms', 'Four Bedroom Vacant Units', \n",
    "        'Four Bedroom Vacancy %', 'Four Bedroom Effective Rent/SF', '% 4-Bed']].describe()"
   ]
  },
  {
   "cell_type": "code",
   "execution_count": 566,
   "metadata": {},
   "outputs": [
    {
     "name": "stdout",
     "output_type": "stream",
     "text": [
      "(0, 64)\n"
     ]
    }
   ],
   "source": [
    "# Matching 4-Bedroom Vacant units with 4-Bedroom Vacancy %\n",
    "test = sub[sub['% 4-Bed'].notnull()].copy()\n",
    "test['# Vacant 4-Bed'] = test[['Number Of 4 Bedrooms', 'Four Bedroom Vacancy %']].apply(lambda x:\n",
    "                          round(x[0]*x[1]/100), axis=1)\n",
    "print(test[test['Four Bedroom Vacant Units']!=test['# Vacant 4-Bed']].shape)"
   ]
  },
  {
   "cell_type": "markdown",
   "metadata": {},
   "source": [
    "Four Bedroom Vacant Units and Four Bedroom Vacancy % matches."
   ]
  },
  {
   "cell_type": "markdown",
   "metadata": {},
   "source": [
    "### 1.6 Fill Vacancy % missing values with calculated values\n",
    "Calculate total vacant units, then divide it by total number of units"
   ]
  },
  {
   "cell_type": "code",
   "execution_count": 567,
   "metadata": {},
   "outputs": [
    {
     "data": {
      "text/plain": [
       "12255"
      ]
     },
     "execution_count": 567,
     "metadata": {},
     "output_type": "execute_result"
    }
   ],
   "source": [
    "# Finding the count of Vacancy %\n",
    "sub['Vacancy %'].count()"
   ]
  },
  {
   "cell_type": "code",
   "execution_count": 568,
   "metadata": {},
   "outputs": [
    {
     "data": {
      "text/plain": [
       "Vacancy %    12908\n",
       "Vacancy_%    12908\n",
       "dtype: int64"
      ]
     },
     "execution_count": 568,
     "metadata": {},
     "output_type": "execute_result"
    }
   ],
   "source": [
    "# Updating missing values with new calculated field for Vacancy_% \n",
    "sub['#_Vacant_Units'] = sub[['Studio Vacant Units',\n",
    "                             'One Bedroom Vacant Units',\n",
    "                             'Two Bedroom Vacant Units',\n",
    "                             'Three Bedroom Vacant Units',\n",
    "                             'Four Bedroom Vacant Units']].fillna(0).sum(axis=1)\n",
    "sub['Vacancy_%'] = sub[['#_Vacant_Units','Number Of Units']].apply(lambda x: round(x[0]/x[1]*100,2), axis=1)\n",
    "sub['Vacancy %'].fillna(sub['Vacancy_%'], inplace=True)\n",
    "sub[['Vacancy %','Vacancy_%']].count()"
   ]
  },
  {
   "cell_type": "code",
   "execution_count": 569,
   "metadata": {},
   "outputs": [
    {
     "name": "stdout",
     "output_type": "stream",
     "text": [
      "Percentage of rows where calculated vacancy % doesn't match original vacancy %: 0.051750852184691665\n"
     ]
    }
   ],
   "source": [
    "# Checking % mismatch in original vacancy% and calculated vacancy% fields\n",
    "print(\"Percentage of rows where calculated vacancy % doesn't match original vacancy %:\", \n",
    "      sub[abs(sub['Vacancy %']-sub['Vacancy_%'])>0.05].shape[0]/sub.shape[0])"
   ]
  },
  {
   "cell_type": "markdown",
   "metadata": {},
   "source": [
    "### 1.7 Fill Avg Unit SF missing values with calculated values\n",
    "Calculated as weighted average of the average unit size of differnt unit types"
   ]
  },
  {
   "cell_type": "code",
   "execution_count": 570,
   "metadata": {},
   "outputs": [
    {
     "data": {
      "text/plain": [
       "12904"
      ]
     },
     "execution_count": 570,
     "metadata": {},
     "output_type": "execute_result"
    }
   ],
   "source": [
    "# number of rows in Avg Unit SF\n",
    "sub['Avg Unit SF'].count()"
   ]
  },
  {
   "cell_type": "code",
   "execution_count": 571,
   "metadata": {},
   "outputs": [],
   "source": [
    "# Calculating weighted average Unit SF based on different unit types\n",
    "sub['Avg_Unit_SF'] = sub[['% Studios','% 1-Bed', '% 2-Bed', '% 3-Bed', '% 4-Bed',\n",
    "                          'Studio Avg SF', 'One Bedroom Avg SF', 'Two Bedroom Avg SF',\n",
    "                          'Three Bedroom Avg SF', 'Four Bedroom Avg SF']].fillna(0).\\\n",
    "                     apply(lambda x: round((x[0]*x[5]+x[1]*x[6]+x[2]*x[7]+x[3]*x[8]+x[4]*x[9])/100), axis=1)"
   ]
  },
  {
   "cell_type": "code",
   "execution_count": 572,
   "metadata": {},
   "outputs": [
    {
     "data": {
      "text/plain": [
       "Avg Unit SF    12908\n",
       "Avg_Unit_SF    12908\n",
       "dtype: int64"
      ]
     },
     "execution_count": 572,
     "metadata": {},
     "output_type": "execute_result"
    }
   ],
   "source": [
    "# Updating missing values with new weighted average for Avg Unit SF \n",
    "sub['Avg Unit SF'].fillna(sub['Avg_Unit_SF'], inplace=True)\n",
    "sub[['Avg Unit SF', 'Avg_Unit_SF']].count()"
   ]
  },
  {
   "cell_type": "code",
   "execution_count": 573,
   "metadata": {},
   "outputs": [
    {
     "name": "stdout",
     "output_type": "stream",
     "text": [
      "Percentage of rows where calculated Avg Unit SF doesn't match original Avg Unit SF: 0.009683916950728231\n"
     ]
    }
   ],
   "source": [
    "# Checking % mismatch in original vacancy% and calculated vacancy% fields\n",
    "print(\"Percentage of rows where calculated Avg Unit SF doesn't match original Avg Unit SF:\", \n",
    "      sub[abs(sub['Avg Unit SF']-sub['Avg_Unit_SF'])>10].shape[0]/sub.shape[0])"
   ]
  },
  {
   "cell_type": "markdown",
   "metadata": {},
   "source": [
    "### 1.8 Define functions to fill missing value with mean or median\n",
    "The functions can be used at different region level (zip code, city, county, market)"
   ]
  },
  {
   "cell_type": "code",
   "execution_count": 574,
   "metadata": {},
   "outputs": [],
   "source": [
    "# Defining mean and median functions to replace missing values\n",
    "def fill_mean(var, level):\n",
    "    sub[var] = sub[[level, var]].groupby(level).transform(lambda x: x.fillna(x.mean()))\n",
    "\n",
    "def fill_median(var, level):\n",
    "    sub[var] = sub[[level, var]].groupby(level).transform(lambda x: x.fillna(x.median()))"
   ]
  },
  {
   "cell_type": "markdown",
   "metadata": {},
   "source": [
    "### 1.9 Fill 'Closest Transit Stop Dist (mi)' missing values\n",
    "- Fill with regional mean\n",
    "- Manually calculate the remaining missing values"
   ]
  },
  {
   "cell_type": "code",
   "execution_count": 575,
   "metadata": {},
   "outputs": [
    {
     "data": {
      "text/plain": [
       "count    12176.000000\n",
       "mean        14.540384\n",
       "std          9.613232\n",
       "min          0.010000\n",
       "25%          6.740000\n",
       "50%         13.495000\n",
       "75%         20.630000\n",
       "max         45.360000\n",
       "Name: Closest Transit Stop Dist (mi), dtype: float64"
      ]
     },
     "execution_count": 575,
     "metadata": {},
     "output_type": "execute_result"
    }
   ],
   "source": [
    "# Checking descriptive statistics of Closest Transit Stop Dist (mi)\n",
    "sub['Closest Transit Stop Dist (mi)'].describe() # mean close to median"
   ]
  },
  {
   "cell_type": "code",
   "execution_count": 576,
   "metadata": {},
   "outputs": [
    {
     "data": {
      "text/plain": [
       "12860"
      ]
     },
     "execution_count": 576,
     "metadata": {},
     "output_type": "execute_result"
    }
   ],
   "source": [
    "# Replacing missing values with mean for Closest Transit Stop Dist (mi)\n",
    "var = 'Closest Transit Stop Dist (mi)'\n",
    "for level in levels:\n",
    "    fill_mean(var, level)\n",
    "sub['Closest Transit Stop Dist (mi)'].count()"
   ]
  },
  {
   "cell_type": "markdown",
   "metadata": {},
   "source": [
    "Manually find the closest transit and calculate distance."
   ]
  },
  {
   "cell_type": "code",
   "execution_count": 577,
   "metadata": {},
   "outputs": [
    {
     "data": {
      "text/html": [
       "<div>\n",
       "<style scoped>\n",
       "    .dataframe tbody tr th:only-of-type {\n",
       "        vertical-align: middle;\n",
       "    }\n",
       "\n",
       "    .dataframe tbody tr th {\n",
       "        vertical-align: top;\n",
       "    }\n",
       "\n",
       "    .dataframe thead th {\n",
       "        text-align: right;\n",
       "    }\n",
       "</style>\n",
       "<table border=\"1\" class=\"dataframe\">\n",
       "  <thead>\n",
       "    <tr style=\"text-align: right;\">\n",
       "      <th></th>\n",
       "      <th>Market Name</th>\n",
       "      <th>Closest Transit Stop</th>\n",
       "    </tr>\n",
       "    <tr>\n",
       "      <th>Row</th>\n",
       "      <th></th>\n",
       "      <th></th>\n",
       "    </tr>\n",
       "  </thead>\n",
       "  <tbody>\n",
       "    <tr>\n",
       "      <th>7654</th>\n",
       "      <td>Ocala</td>\n",
       "      <td>NaN</td>\n",
       "    </tr>\n",
       "    <tr>\n",
       "      <th>7667</th>\n",
       "      <td>Port St Lucie/Fort Pierce</td>\n",
       "      <td>NaN</td>\n",
       "    </tr>\n",
       "    <tr>\n",
       "      <th>7716</th>\n",
       "      <td>Ocala</td>\n",
       "      <td>Gainesville Regional</td>\n",
       "    </tr>\n",
       "    <tr>\n",
       "      <th>7854</th>\n",
       "      <td>Port St Lucie/Fort Pierce</td>\n",
       "      <td>Palm Beach International</td>\n",
       "    </tr>\n",
       "  </tbody>\n",
       "</table>\n",
       "</div>"
      ],
      "text/plain": [
       "                    Market Name      Closest Transit Stop\n",
       "Row                                                      \n",
       "7654                      Ocala                       NaN\n",
       "7667  Port St Lucie/Fort Pierce                       NaN\n",
       "7716                      Ocala      Gainesville Regional\n",
       "7854  Port St Lucie/Fort Pierce  Palm Beach International"
      ]
     },
     "execution_count": 577,
     "metadata": {},
     "output_type": "execute_result"
    }
   ],
   "source": [
    "#Finding unique rows with closest transits based on market name\n",
    "question_markets = sub[sub['Closest Transit Stop Dist (mi)'].isnull()]['Market Name'].unique().tolist()\n",
    "data[data['Market Name'].isin(question_markets)][['Market Name', 'Closest Transit Stop']].drop_duplicates()"
   ]
  },
  {
   "cell_type": "markdown",
   "metadata": {},
   "source": [
    "Use Palm Beach International as 'Closest Transit Stop' for Port St Lucie/Fort Pierce and Gainesville Regional for Ocala. Calculate 'Closest Transit Stop Dist (mi)'."
   ]
  },
  {
   "cell_type": "code",
   "execution_count": 578,
   "metadata": {},
   "outputs": [],
   "source": [
    "# Defining a function using Latitude and Longitude information to calculate the distance manually\n",
    "# http://www.lat-long.com/Latitude-Longitude-309962-Florida-Palm_Beach_International_Airport.html\n",
    "PalmBeach = (26.683399, -80.095320) # lat, lon\n",
    "# https://www.prokerala.com/travel/airports/united-states-of-america/gainesville-regional-airport.html\n",
    "Gainesville = (29.686, -82.2768)\n",
    "\n",
    "def calculate_distance(p1, p2):\n",
    "    lat1 = p1[0]\n",
    "    lat0 = p2[0]\n",
    "    lon1 = p1[1]\n",
    "    lon0 = p2[1]\n",
    "\n",
    "    # calculation: https://stackoverflow.com/questions/28994289/calculate-euclidean-distance-with-google-maps-coordinates\n",
    "    deglen = 69 #mile\n",
    "    x = lat1 - lat0\n",
    "    yy = lon1 - lon0\n",
    "    y = (yy) * math.cos(lat0)\n",
    "    dist = deglen * math.sqrt(x*x + y*y)\n",
    "    return dist"
   ]
  },
  {
   "cell_type": "code",
   "execution_count": 579,
   "metadata": {},
   "outputs": [
    {
     "data": {
      "text/plain": [
       "12908"
      ]
     },
     "execution_count": 579,
     "metadata": {},
     "output_type": "execute_result"
    }
   ],
   "source": [
    "# Applying the distance function for the remaining missing values\n",
    "sub.loc[sub['Closest Transit Stop Dist (mi)'].isnull(),'Closest Transit Stop Dist (mi)']\\\n",
    "= sub.loc[sub['Closest Transit Stop Dist (mi)'].isnull(),\n",
    "          ['Closest Transit Stop Dist (mi)', 'Market Name', 'Latitude', 'Longitude']].\\\n",
    "apply(lambda x: x[0] if np.isnan(x[0])==False else\\\n",
    "      (calculate_distance((x[2],x[3]), PalmBeach) if x[1]=='Port St Lucie/Fort Pierce'\\\n",
    "       else calculate_distance((x[2],x[3]), Gainesville)), axis=1)\n",
    "sub['Closest Transit Stop Dist (mi)'].count()"
   ]
  },
  {
   "cell_type": "markdown",
   "metadata": {},
   "source": [
    "### 1.10 Fix Land Area (AC) wrong entry, fill missing values with regional median"
   ]
  },
  {
   "cell_type": "code",
   "execution_count": 580,
   "metadata": {},
   "outputs": [
    {
     "data": {
      "text/plain": [
       "count    12426.000000\n",
       "mean        18.515888\n",
       "std        407.179133\n",
       "min          0.001000\n",
       "25%          6.850250\n",
       "50%         11.358000\n",
       "75%         18.419750\n",
       "max      45318.000000\n",
       "Name: Land Area (AC), dtype: float64"
      ]
     },
     "execution_count": 580,
     "metadata": {},
     "output_type": "execute_result"
    }
   ],
   "source": [
    "# Checking descriptive statistics for Land Area (AC)\n",
    "sub['Land Area (AC)'].describe() # extremely large value!!! use median due to presence of outlier"
   ]
  },
  {
   "cell_type": "markdown",
   "metadata": {},
   "source": [
    "45318 acres of land area for a rental property is extremely unusual. Resaonable guess would be that it should be square feet instead of acres. "
   ]
  },
  {
   "cell_type": "code",
   "execution_count": 581,
   "metadata": {},
   "outputs": [],
   "source": [
    "# Updating wrong outlier value from sqft to acres\n",
    "acre_to_sf = 43560\n",
    "sub.loc[sub['Land Area (AC)']==45318, 'Land Area (AC)'] = 45318/acre_to_sf"
   ]
  },
  {
   "cell_type": "code",
   "execution_count": 582,
   "metadata": {},
   "outputs": [
    {
     "data": {
      "text/plain": [
       "Row\n",
       "16170    1584.0000\n",
       "13395    1060.4178\n",
       "10925    1000.0000\n",
       "3477      820.3600\n",
       "14197     481.1000\n",
       "4484      410.7200\n",
       "4024      329.0000\n",
       "9788      272.5155\n",
       "20198     263.1573\n",
       "6913      246.9915\n",
       "Name: Land Area (AC), dtype: float64"
      ]
     },
     "execution_count": 582,
     "metadata": {},
     "output_type": "execute_result"
    }
   ],
   "source": [
    "# Checking land Area values\n",
    "sub['Land Area (AC)'].sort_values(ascending=False).head(10)"
   ]
  },
  {
   "cell_type": "code",
   "execution_count": 583,
   "metadata": {},
   "outputs": [
    {
     "data": {
      "text/plain": [
       "58.96"
      ]
     },
     "execution_count": 583,
     "metadata": {},
     "output_type": "execute_result"
    }
   ],
   "source": [
    "# Checking 99 percentile for Land Area\n",
    "sub['Land Area (AC)'].quantile(0.99)"
   ]
  },
  {
   "cell_type": "code",
   "execution_count": 584,
   "metadata": {},
   "outputs": [
    {
     "data": {
      "text/plain": [
       "count    12426.000000\n",
       "mean        14.868941\n",
       "std         25.043607\n",
       "min          0.001000\n",
       "25%          6.850000\n",
       "50%         11.355000\n",
       "75%         18.417425\n",
       "max       1584.000000\n",
       "Name: Land Area (AC), dtype: float64"
      ]
     },
     "execution_count": 584,
     "metadata": {},
     "output_type": "execute_result"
    }
   ],
   "source": [
    "# Checking for more outliers\n",
    "sub['Land Area (AC)'].describe()"
   ]
  },
  {
   "cell_type": "markdown",
   "metadata": {},
   "source": [
    "Too many outliers, very likely to mess up the model, should be excluded."
   ]
  },
  {
   "cell_type": "code",
   "execution_count": 585,
   "metadata": {},
   "outputs": [
    {
     "data": {
      "text/plain": [
       "12908"
      ]
     },
     "execution_count": 585,
     "metadata": {},
     "output_type": "execute_result"
    }
   ],
   "source": [
    "# Replacing missing values Land Area with median\n",
    "var = 'Land Area (AC)'\n",
    "for level in levels:\n",
    "    fill_median(var, level)\n",
    "sub['Land Area (AC)'].count()"
   ]
  },
  {
   "cell_type": "markdown",
   "metadata": {},
   "source": [
    "### 1.11 Fill Number Of Stories missing values\n",
    "- Fill with building style median\n",
    "- Drop the rows where both number of stories and building style are missing"
   ]
  },
  {
   "cell_type": "code",
   "execution_count": 586,
   "metadata": {
    "scrolled": true
   },
   "outputs": [
    {
     "data": {
      "text/plain": [
       "count    12892.000000\n",
       "mean         3.097114\n",
       "std          3.036233\n",
       "min          1.000000\n",
       "25%          2.000000\n",
       "50%          3.000000\n",
       "75%          3.000000\n",
       "max         85.000000\n",
       "Name: Number Of Stories, dtype: float64"
      ]
     },
     "execution_count": 586,
     "metadata": {},
     "output_type": "execute_result"
    }
   ],
   "source": [
    "# Checking descriptive statistics for Number of Stories\n",
    "sub['Number Of Stories'].describe() # mean and median are close"
   ]
  },
  {
   "cell_type": "code",
   "execution_count": 587,
   "metadata": {},
   "outputs": [
    {
     "data": {
      "text/plain": [
       "Row\n",
       "2205      Garden\n",
       "2764    Low-Rise\n",
       "4539         NaN\n",
       "9570         NaN\n",
       "9811      Garden\n",
       "Name: Style, dtype: object"
      ]
     },
     "execution_count": 587,
     "metadata": {},
     "output_type": "execute_result"
    }
   ],
   "source": [
    "# Finding building style for missing values in Number of Stories\n",
    "ref = sub[sub['Number Of Stories'].isnull()]['Style']\n",
    "ref.head()"
   ]
  },
  {
   "cell_type": "code",
   "execution_count": 588,
   "metadata": {},
   "outputs": [],
   "source": [
    "# Calculating median for each style\n",
    "style_story = sub[['Number Of Stories','Style']].groupby('Style').median()"
   ]
  },
  {
   "cell_type": "code",
   "execution_count": 589,
   "metadata": {},
   "outputs": [
    {
     "data": {
      "text/plain": [
       "12903"
      ]
     },
     "execution_count": 589,
     "metadata": {},
     "output_type": "execute_result"
    }
   ],
   "source": [
    "# Upding missing Number of Stories with median value\n",
    "for ind in ref.index:\n",
    "    style = sub.loc[ind, 'Style']\n",
    "    if style in style_story.index:\n",
    "        sub.loc[ind, 'Number Of Stories'] = style_story.loc[style]['Number Of Stories']\n",
    "sub['Number Of Stories'].count()"
   ]
  },
  {
   "cell_type": "markdown",
   "metadata": {},
   "source": [
    "Drop the remaining 5 rows with missing Number Of Stories value because filling it with region mean or median doesn't make sense."
   ]
  },
  {
   "cell_type": "code",
   "execution_count": 590,
   "metadata": {},
   "outputs": [
    {
     "name": "stdout",
     "output_type": "stream",
     "text": [
      "Records dropped: 5\n",
      "Current size: (12903, 66)\n"
     ]
    }
   ],
   "source": [
    "# Dropping rows with no building style information\n",
    "row_initial = sub.shape[0]\n",
    "sub = sub[sub['Number Of Stories'].notnull()].copy()\n",
    "print('Records dropped:', row_initial - sub.shape[0])\n",
    "print('Current size:', sub.shape)"
   ]
  },
  {
   "cell_type": "markdown",
   "metadata": {},
   "source": [
    "### 1.12 Fill Year Built missing values with regional median"
   ]
  },
  {
   "cell_type": "code",
   "execution_count": 591,
   "metadata": {},
   "outputs": [
    {
     "data": {
      "text/plain": [
       "count    12875.000000\n",
       "mean      1991.660272\n",
       "std         16.528065\n",
       "min       1881.000000\n",
       "25%       1979.000000\n",
       "50%       1991.000000\n",
       "75%       2006.000000\n",
       "max       2019.000000\n",
       "Name: Year Built, dtype: float64"
      ]
     },
     "execution_count": 591,
     "metadata": {},
     "output_type": "execute_result"
    }
   ],
   "source": [
    "# Checking descriptive statistics Year Built\n",
    "sub['Year Built'].describe()"
   ]
  },
  {
   "cell_type": "code",
   "execution_count": 592,
   "metadata": {},
   "outputs": [
    {
     "data": {
      "text/plain": [
       "12903"
      ]
     },
     "execution_count": 592,
     "metadata": {},
     "output_type": "execute_result"
    }
   ],
   "source": [
    "# Replace missing values in Year Built with median\n",
    "var = 'Year Built'\n",
    "for level in levels:\n",
    "    fill_median(var, level)\n",
    "sub['Year Built'].count()"
   ]
  },
  {
   "cell_type": "markdown",
   "metadata": {},
   "source": [
    "### 1.13 Fill Year Renovated missing values with Year Built"
   ]
  },
  {
   "cell_type": "code",
   "execution_count": 593,
   "metadata": {},
   "outputs": [
    {
     "data": {
      "text/plain": [
       "1822"
      ]
     },
     "execution_count": 593,
     "metadata": {},
     "output_type": "execute_result"
    }
   ],
   "source": [
    "# Checking number of rows with Year Renovated information\n",
    "sub['Year Renovated'].count()"
   ]
  },
  {
   "cell_type": "code",
   "execution_count": 594,
   "metadata": {},
   "outputs": [
    {
     "data": {
      "text/plain": [
       "12903"
      ]
     },
     "execution_count": 594,
     "metadata": {},
     "output_type": "execute_result"
    }
   ],
   "source": [
    "# Replacing Year Renovated missing values with Year Built\n",
    "sub['Year Renovated'] = sub['Year Renovated'].fillna(sub['Year Built'])\n",
    "sub['Year Renovated'].count()"
   ]
  },
  {
   "cell_type": "markdown",
   "metadata": {},
   "source": [
    "### 1.14 Fill Average Age missing values with regional mean"
   ]
  },
  {
   "cell_type": "code",
   "execution_count": 595,
   "metadata": {},
   "outputs": [
    {
     "data": {
      "text/plain": [
       "count    12903.000000\n",
       "mean        35.845393\n",
       "std          4.713318\n",
       "min          0.000000\n",
       "25%         33.500000\n",
       "50%         35.600000\n",
       "75%         38.000000\n",
       "max         75.600000\n",
       "Name: 2019 Avg Age(1m), dtype: float64"
      ]
     },
     "execution_count": 595,
     "metadata": {},
     "output_type": "execute_result"
    }
   ],
   "source": [
    "# Checking description of 2019 Averge Age (1m) - 0 are missing values, fill with mean\n",
    "sub['2019 Avg Age(1m)'].describe()"
   ]
  },
  {
   "cell_type": "code",
   "execution_count": 596,
   "metadata": {},
   "outputs": [
    {
     "data": {
      "text/plain": [
       "(59, 66)"
      ]
     },
     "execution_count": 596,
     "metadata": {},
     "output_type": "execute_result"
    }
   ],
   "source": [
    "# Finding number of rows with missing Average age value\n",
    "sub[sub['2019 Avg Age(1m)']==0].shape"
   ]
  },
  {
   "cell_type": "code",
   "execution_count": 597,
   "metadata": {},
   "outputs": [
    {
     "data": {
      "text/plain": [
       "count    12903.000000\n",
       "mean        36.009760\n",
       "std          4.049772\n",
       "min         21.500000\n",
       "25%         33.500000\n",
       "50%         35.600000\n",
       "75%         38.000000\n",
       "max         75.600000\n",
       "Name: 2019 Avg Age(1m), dtype: float64"
      ]
     },
     "execution_count": 597,
     "metadata": {},
     "output_type": "execute_result"
    }
   ],
   "source": [
    "# Replacing missing Average age with mean value\n",
    "sub['2019 Avg Age(1m)'].replace(0, np.nan, inplace=True)\n",
    "\n",
    "var = '2019 Avg Age(1m)'\n",
    "for level in levels:\n",
    "    fill_mean(var, level)\n",
    "    \n",
    "sub['2019 Avg Age(1m)'].describe()"
   ]
  },
  {
   "cell_type": "markdown",
   "metadata": {},
   "source": [
    "### 1.15 Calculate regional population\n",
    "- Calculate total population within 1 mile\n",
    "- 59 missing values (0), fill with median (right skewed distribution)"
   ]
  },
  {
   "cell_type": "code",
   "execution_count": 598,
   "metadata": {},
   "outputs": [
    {
     "data": {
      "text/plain": [
       "2019 Pop Age <19(1m)      12903\n",
       "2019 Pop Age 20-64(1m)    12903\n",
       "2019 Pop Age 65+(1m)      12903\n",
       "dtype: int64"
      ]
     },
     "execution_count": 598,
     "metadata": {},
     "output_type": "execute_result"
    }
   ],
   "source": [
    "# Checking the count of rows for population columns\n",
    "sub[['2019 Pop Age <19(1m)', '2019 Pop Age 20-64(1m)','2019 Pop Age 65+(1m)']].count()"
   ]
  },
  {
   "cell_type": "code",
   "execution_count": 599,
   "metadata": {},
   "outputs": [
    {
     "data": {
      "text/plain": [
       "count    12903.000000\n",
       "mean     14131.631636\n",
       "std       8760.118586\n",
       "min          0.000000\n",
       "25%       8017.000000\n",
       "50%      12593.000000\n",
       "75%      18461.500000\n",
       "max      89490.000000\n",
       "Name: 2019 Pop Tot, dtype: float64"
      ]
     },
     "execution_count": 599,
     "metadata": {},
     "output_type": "execute_result"
    }
   ],
   "source": [
    "# Checking descriptive statistics of a new total population column that combines all 3\n",
    "sub['2019 Pop Tot'] = sub[['2019 Pop Age <19(1m)', '2019 Pop Age 20-64(1m)','2019 Pop Age 65+(1m)']].sum(axis=1)\n",
    "sub['2019 Pop Tot'].describe() "
   ]
  },
  {
   "cell_type": "code",
   "execution_count": 600,
   "metadata": {},
   "outputs": [
    {
     "data": {
      "text/plain": [
       "(59, 67)"
      ]
     },
     "execution_count": 600,
     "metadata": {},
     "output_type": "execute_result"
    }
   ],
   "source": [
    "# Checking number of rows where total population is 0\n",
    "sub[sub['2019 Pop Tot']==0].shape"
   ]
  },
  {
   "cell_type": "code",
   "execution_count": 601,
   "metadata": {},
   "outputs": [
    {
     "data": {
      "text/plain": [
       "count    12903.000000\n",
       "mean     14168.887584\n",
       "std       8722.713445\n",
       "min          9.000000\n",
       "25%       8064.000000\n",
       "50%      12613.000000\n",
       "75%      18464.000000\n",
       "max      89490.000000\n",
       "Name: 2019 Pop Tot, dtype: float64"
      ]
     },
     "execution_count": 601,
     "metadata": {},
     "output_type": "execute_result"
    }
   ],
   "source": [
    "# Replace total population by median\n",
    "sub['2019 Pop Tot'].replace(0, np.nan, inplace=True)\n",
    "\n",
    "var = '2019 Pop Tot'\n",
    "for level in levels:\n",
    "    fill_median(var, level)\n",
    "    \n",
    "sub['2019 Pop Tot'].describe()"
   ]
  },
  {
   "cell_type": "markdown",
   "metadata": {},
   "source": [
    "Some area has very few people (9). Since it's 1 mile radius, can be true."
   ]
  },
  {
   "cell_type": "markdown",
   "metadata": {},
   "source": [
    "# 2. External Data"
   ]
  },
  {
   "cell_type": "markdown",
   "metadata": {},
   "source": [
    "### 2.1 Import Income, marriage % and male/female variables"
   ]
  },
  {
   "cell_type": "code",
   "execution_count": 602,
   "metadata": {},
   "outputs": [],
   "source": [
    "# Reading demographic data like income , male/female and married%\n",
    "demo = pd.read_csv('income_marriage.csv')"
   ]
  },
  {
   "cell_type": "code",
   "execution_count": 603,
   "metadata": {},
   "outputs": [
    {
     "data": {
      "text/html": [
       "<div>\n",
       "<style scoped>\n",
       "    .dataframe tbody tr th:only-of-type {\n",
       "        vertical-align: middle;\n",
       "    }\n",
       "\n",
       "    .dataframe tbody tr th {\n",
       "        vertical-align: top;\n",
       "    }\n",
       "\n",
       "    .dataframe thead th {\n",
       "        text-align: right;\n",
       "    }\n",
       "</style>\n",
       "<table border=\"1\" class=\"dataframe\">\n",
       "  <thead>\n",
       "    <tr style=\"text-align: right;\">\n",
       "      <th></th>\n",
       "      <th>Zip5</th>\n",
       "      <th>MedanHHIncome(000)</th>\n",
       "      <th>married %</th>\n",
       "      <th>male/female</th>\n",
       "    </tr>\n",
       "  </thead>\n",
       "  <tbody>\n",
       "    <tr>\n",
       "      <th>0</th>\n",
       "      <td>30097.0</td>\n",
       "      <td>96.9</td>\n",
       "      <td>66.029206</td>\n",
       "      <td>0.938446</td>\n",
       "    </tr>\n",
       "    <tr>\n",
       "      <th>1</th>\n",
       "      <td>30318.0</td>\n",
       "      <td>44.0</td>\n",
       "      <td>24.433453</td>\n",
       "      <td>1.190945</td>\n",
       "    </tr>\n",
       "    <tr>\n",
       "      <th>2</th>\n",
       "      <td>30309.0</td>\n",
       "      <td>78.3</td>\n",
       "      <td>32.646975</td>\n",
       "      <td>1.114291</td>\n",
       "    </tr>\n",
       "    <tr>\n",
       "      <th>3</th>\n",
       "      <td>30363.0</td>\n",
       "      <td>66.9</td>\n",
       "      <td>28.629997</td>\n",
       "      <td>1.202408</td>\n",
       "    </tr>\n",
       "    <tr>\n",
       "      <th>4</th>\n",
       "      <td>30328.0</td>\n",
       "      <td>80.8</td>\n",
       "      <td>50.854275</td>\n",
       "      <td>0.831041</td>\n",
       "    </tr>\n",
       "  </tbody>\n",
       "</table>\n",
       "</div>"
      ],
      "text/plain": [
       "      Zip5  MedanHHIncome(000)  married %  male/female\n",
       "0  30097.0                96.9  66.029206     0.938446\n",
       "1  30318.0                44.0  24.433453     1.190945\n",
       "2  30309.0                78.3  32.646975     1.114291\n",
       "3  30363.0                66.9  28.629997     1.202408\n",
       "4  30328.0                80.8  50.854275     0.831041"
      ]
     },
     "execution_count": 603,
     "metadata": {},
     "output_type": "execute_result"
    }
   ],
   "source": [
    "# top 5 rows\n",
    "demo.head()"
   ]
  },
  {
   "cell_type": "code",
   "execution_count": 604,
   "metadata": {},
   "outputs": [
    {
     "data": {
      "text/plain": [
       "(1925, 4)"
      ]
     },
     "execution_count": 604,
     "metadata": {},
     "output_type": "execute_result"
    }
   ],
   "source": [
    "# Shape of data\n",
    "demo.shape"
   ]
  },
  {
   "cell_type": "code",
   "execution_count": 605,
   "metadata": {},
   "outputs": [],
   "source": [
    "# Converting Zip to int type in both demo and sub\n",
    "demo['Zip5'] = demo['Zip5'].astype(int)"
   ]
  },
  {
   "cell_type": "code",
   "execution_count": 606,
   "metadata": {},
   "outputs": [],
   "source": [
    "sub['Zip5'] = sub['Zip5'].astype(int)"
   ]
  },
  {
   "cell_type": "code",
   "execution_count": 607,
   "metadata": {},
   "outputs": [
    {
     "data": {
      "text/plain": [
       "(12903, 67)"
      ]
     },
     "execution_count": 607,
     "metadata": {},
     "output_type": "execute_result"
    }
   ],
   "source": [
    "sub.shape"
   ]
  },
  {
   "cell_type": "code",
   "execution_count": 608,
   "metadata": {},
   "outputs": [
    {
     "data": {
      "text/plain": [
       "(12903, 70)"
      ]
     },
     "execution_count": 608,
     "metadata": {},
     "output_type": "execute_result"
    }
   ],
   "source": [
    "# Adding demographic data to sub\n",
    "sub = sub.merge(demo, how='left')\n",
    "sub.shape"
   ]
  },
  {
   "cell_type": "code",
   "execution_count": 609,
   "metadata": {},
   "outputs": [
    {
     "data": {
      "text/html": [
       "<div>\n",
       "<style scoped>\n",
       "    .dataframe tbody tr th:only-of-type {\n",
       "        vertical-align: middle;\n",
       "    }\n",
       "\n",
       "    .dataframe tbody tr th {\n",
       "        vertical-align: top;\n",
       "    }\n",
       "\n",
       "    .dataframe thead th {\n",
       "        text-align: right;\n",
       "    }\n",
       "</style>\n",
       "<table border=\"1\" class=\"dataframe\">\n",
       "  <thead>\n",
       "    <tr style=\"text-align: right;\">\n",
       "      <th></th>\n",
       "      <th>MedanHHIncome(000)</th>\n",
       "      <th>married %</th>\n",
       "      <th>male/female</th>\n",
       "    </tr>\n",
       "  </thead>\n",
       "  <tbody>\n",
       "    <tr>\n",
       "      <th>count</th>\n",
       "      <td>12891.000000</td>\n",
       "      <td>12895.000000</td>\n",
       "      <td>12895.000000</td>\n",
       "    </tr>\n",
       "    <tr>\n",
       "      <th>mean</th>\n",
       "      <td>55.647816</td>\n",
       "      <td>43.377618</td>\n",
       "      <td>0.955707</td>\n",
       "    </tr>\n",
       "    <tr>\n",
       "      <th>std</th>\n",
       "      <td>20.958572</td>\n",
       "      <td>10.792473</td>\n",
       "      <td>0.191937</td>\n",
       "    </tr>\n",
       "    <tr>\n",
       "      <th>min</th>\n",
       "      <td>13.300000</td>\n",
       "      <td>4.905718</td>\n",
       "      <td>0.579598</td>\n",
       "    </tr>\n",
       "    <tr>\n",
       "      <th>25%</th>\n",
       "      <td>41.300000</td>\n",
       "      <td>36.678515</td>\n",
       "      <td>0.885099</td>\n",
       "    </tr>\n",
       "    <tr>\n",
       "      <th>50%</th>\n",
       "      <td>50.900000</td>\n",
       "      <td>43.698003</td>\n",
       "      <td>0.934211</td>\n",
       "    </tr>\n",
       "    <tr>\n",
       "      <th>75%</th>\n",
       "      <td>66.200000</td>\n",
       "      <td>50.166837</td>\n",
       "      <td>0.990373</td>\n",
       "    </tr>\n",
       "    <tr>\n",
       "      <th>max</th>\n",
       "      <td>250.000000</td>\n",
       "      <td>76.405127</td>\n",
       "      <td>4.852663</td>\n",
       "    </tr>\n",
       "  </tbody>\n",
       "</table>\n",
       "</div>"
      ],
      "text/plain": [
       "       MedanHHIncome(000)     married %   male/female\n",
       "count        12891.000000  12895.000000  12895.000000\n",
       "mean            55.647816     43.377618      0.955707\n",
       "std             20.958572     10.792473      0.191937\n",
       "min             13.300000      4.905718      0.579598\n",
       "25%             41.300000     36.678515      0.885099\n",
       "50%             50.900000     43.698003      0.934211\n",
       "75%             66.200000     50.166837      0.990373\n",
       "max            250.000000     76.405127      4.852663"
      ]
     },
     "execution_count": 609,
     "metadata": {},
     "output_type": "execute_result"
    }
   ],
   "source": [
    "# Calculating descriptive statistics for the demographic data\n",
    "sub[['MedanHHIncome(000)','married %','male/female']].describe()"
   ]
  },
  {
   "cell_type": "markdown",
   "metadata": {},
   "source": [
    "12 missing values in MedanHHIncome(000), 8 missing values in married % and male/female each."
   ]
  },
  {
   "cell_type": "code",
   "execution_count": 610,
   "metadata": {},
   "outputs": [],
   "source": [
    "# Fill data with mean/median at county level\n",
    "fill_median('MedanHHIncome(000)', 'County Name')\n",
    "fill_mean('married %', 'County Name')\n",
    "fill_mean('male/female', 'County Name')"
   ]
  },
  {
   "cell_type": "code",
   "execution_count": 611,
   "metadata": {},
   "outputs": [
    {
     "data": {
      "text/plain": [
       "MedanHHIncome(000)    12903\n",
       "married %             12903\n",
       "male/female           12903\n",
       "dtype: int64"
      ]
     },
     "execution_count": 611,
     "metadata": {},
     "output_type": "execute_result"
    }
   ],
   "source": [
    "# Checking if no missing values are there\n",
    "sub[['MedanHHIncome(000)','married %','male/female']].count()"
   ]
  },
  {
   "cell_type": "markdown",
   "metadata": {},
   "source": [
    "### 2.2 Import Per Capita Deposit/Saving variable"
   ]
  },
  {
   "cell_type": "code",
   "execution_count": 612,
   "metadata": {},
   "outputs": [],
   "source": [
    "# Importing Per Capita Deposit\n",
    "deposit = pd.read_csv('per_capita_deposit.csv')"
   ]
  },
  {
   "cell_type": "code",
   "execution_count": 613,
   "metadata": {},
   "outputs": [
    {
     "data": {
      "text/html": [
       "<div>\n",
       "<style scoped>\n",
       "    .dataframe tbody tr th:only-of-type {\n",
       "        vertical-align: middle;\n",
       "    }\n",
       "\n",
       "    .dataframe tbody tr th {\n",
       "        vertical-align: top;\n",
       "    }\n",
       "\n",
       "    .dataframe thead th {\n",
       "        text-align: right;\n",
       "    }\n",
       "</style>\n",
       "<table border=\"1\" class=\"dataframe\">\n",
       "  <thead>\n",
       "    <tr style=\"text-align: right;\">\n",
       "      <th></th>\n",
       "      <th>State</th>\n",
       "      <th>County</th>\n",
       "      <th>Deposit (000s)</th>\n",
       "      <th>Population Est 2018</th>\n",
       "      <th>Deposit (000s) Per Capita</th>\n",
       "    </tr>\n",
       "  </thead>\n",
       "  <tbody>\n",
       "    <tr>\n",
       "      <th>0</th>\n",
       "      <td>GA</td>\n",
       "      <td>Fulton</td>\n",
       "      <td>100332784</td>\n",
       "      <td>1050114</td>\n",
       "      <td>95.544659</td>\n",
       "    </tr>\n",
       "    <tr>\n",
       "      <th>1</th>\n",
       "      <td>GA</td>\n",
       "      <td>Gwinnett</td>\n",
       "      <td>17717075</td>\n",
       "      <td>927781</td>\n",
       "      <td>19.096182</td>\n",
       "    </tr>\n",
       "    <tr>\n",
       "      <th>2</th>\n",
       "      <td>GA</td>\n",
       "      <td>Cobb</td>\n",
       "      <td>15632932</td>\n",
       "      <td>756865</td>\n",
       "      <td>20.654849</td>\n",
       "    </tr>\n",
       "    <tr>\n",
       "      <th>3</th>\n",
       "      <td>GA</td>\n",
       "      <td>DeKalb</td>\n",
       "      <td>12481873</td>\n",
       "      <td>756558</td>\n",
       "      <td>16.498237</td>\n",
       "    </tr>\n",
       "    <tr>\n",
       "      <th>4</th>\n",
       "      <td>GA</td>\n",
       "      <td>Muscogee</td>\n",
       "      <td>8394232</td>\n",
       "      <td>194160</td>\n",
       "      <td>43.233581</td>\n",
       "    </tr>\n",
       "  </tbody>\n",
       "</table>\n",
       "</div>"
      ],
      "text/plain": [
       "  State    County  Deposit (000s)  Population Est 2018  \\\n",
       "0    GA    Fulton       100332784              1050114   \n",
       "1    GA  Gwinnett        17717075               927781   \n",
       "2    GA      Cobb        15632932               756865   \n",
       "3    GA    DeKalb        12481873               756558   \n",
       "4    GA  Muscogee         8394232               194160   \n",
       "\n",
       "   Deposit (000s) Per Capita  \n",
       "0                  95.544659  \n",
       "1                  19.096182  \n",
       "2                  20.654849  \n",
       "3                  16.498237  \n",
       "4                  43.233581  "
      ]
     },
     "execution_count": 613,
     "metadata": {},
     "output_type": "execute_result"
    }
   ],
   "source": [
    "# Top 5 rows\n",
    "deposit.head()"
   ]
  },
  {
   "cell_type": "code",
   "execution_count": 614,
   "metadata": {},
   "outputs": [
    {
     "name": "stdout",
     "output_type": "stream",
     "text": [
      "(572, 5)\n"
     ]
    },
    {
     "data": {
      "text/html": [
       "<div>\n",
       "<style scoped>\n",
       "    .dataframe tbody tr th:only-of-type {\n",
       "        vertical-align: middle;\n",
       "    }\n",
       "\n",
       "    .dataframe tbody tr th {\n",
       "        vertical-align: top;\n",
       "    }\n",
       "\n",
       "    .dataframe thead th {\n",
       "        text-align: right;\n",
       "    }\n",
       "</style>\n",
       "<table border=\"1\" class=\"dataframe\">\n",
       "  <thead>\n",
       "    <tr style=\"text-align: right;\">\n",
       "      <th></th>\n",
       "      <th>Deposit (000s)</th>\n",
       "      <th>Population Est 2018</th>\n",
       "      <th>Deposit (000s) Per Capita</th>\n",
       "    </tr>\n",
       "  </thead>\n",
       "  <tbody>\n",
       "    <tr>\n",
       "      <th>count</th>\n",
       "      <td>5.720000e+02</td>\n",
       "      <td>5.720000e+02</td>\n",
       "      <td>572.000000</td>\n",
       "    </tr>\n",
       "    <tr>\n",
       "      <th>mean</th>\n",
       "      <td>3.674213e+06</td>\n",
       "      <td>1.238987e+05</td>\n",
       "      <td>18.570632</td>\n",
       "    </tr>\n",
       "    <tr>\n",
       "      <th>std</th>\n",
       "      <td>1.751788e+07</td>\n",
       "      <td>3.437498e+05</td>\n",
       "      <td>13.667547</td>\n",
       "    </tr>\n",
       "    <tr>\n",
       "      <th>min</th>\n",
       "      <td>7.602000e+03</td>\n",
       "      <td>7.260000e+02</td>\n",
       "      <td>0.928432</td>\n",
       "    </tr>\n",
       "    <tr>\n",
       "      <th>25%</th>\n",
       "      <td>1.679305e+05</td>\n",
       "      <td>1.195700e+04</td>\n",
       "      <td>10.966622</td>\n",
       "    </tr>\n",
       "    <tr>\n",
       "      <th>50%</th>\n",
       "      <td>4.214485e+05</td>\n",
       "      <td>2.728400e+04</td>\n",
       "      <td>15.334716</td>\n",
       "    </tr>\n",
       "    <tr>\n",
       "      <th>75%</th>\n",
       "      <td>1.248876e+06</td>\n",
       "      <td>8.595475e+04</td>\n",
       "      <td>21.664140</td>\n",
       "    </tr>\n",
       "    <tr>\n",
       "      <th>max</th>\n",
       "      <td>2.086604e+08</td>\n",
       "      <td>4.698619e+06</td>\n",
       "      <td>172.786415</td>\n",
       "    </tr>\n",
       "  </tbody>\n",
       "</table>\n",
       "</div>"
      ],
      "text/plain": [
       "       Deposit (000s)  Population Est 2018  Deposit (000s) Per Capita\n",
       "count    5.720000e+02         5.720000e+02                 572.000000\n",
       "mean     3.674213e+06         1.238987e+05                  18.570632\n",
       "std      1.751788e+07         3.437498e+05                  13.667547\n",
       "min      7.602000e+03         7.260000e+02                   0.928432\n",
       "25%      1.679305e+05         1.195700e+04                  10.966622\n",
       "50%      4.214485e+05         2.728400e+04                  15.334716\n",
       "75%      1.248876e+06         8.595475e+04                  21.664140\n",
       "max      2.086604e+08         4.698619e+06                 172.786415"
      ]
     },
     "execution_count": 614,
     "metadata": {},
     "output_type": "execute_result"
    }
   ],
   "source": [
    "# Checking for shape and descriptive statistics for Per Capita Deposit\n",
    "print(deposit.shape)\n",
    "deposit.describe()"
   ]
  },
  {
   "cell_type": "code",
   "execution_count": 615,
   "metadata": {},
   "outputs": [],
   "source": [
    "# Fixing the county name issue\n",
    "deposit.rename(columns={'County':'County Name'}, inplace=True)\n",
    "deposit['County Name'] = deposit['County Name'].str.replace('Miami-Dade', 'Miami/Dade')\n",
    "deposit['County Name'] = deposit['County Name'].str.replace('St. Lucie', 'St Lucie')\n",
    "deposit['County Name'] = deposit['County Name'].str.replace('McLennan', 'Mclennan')"
   ]
  },
  {
   "cell_type": "code",
   "execution_count": 616,
   "metadata": {},
   "outputs": [
    {
     "data": {
      "text/plain": [
       "(12903, 71)"
      ]
     },
     "execution_count": 616,
     "metadata": {},
     "output_type": "execute_result"
    }
   ],
   "source": [
    "# Merging deposit information to the sub data\n",
    "sub = sub.merge(deposit[['State', 'County Name', 'Deposit (000s) Per Capita']], \n",
    "                on=['State', 'County Name',], how='left')\n",
    "sub.shape"
   ]
  },
  {
   "cell_type": "code",
   "execution_count": 617,
   "metadata": {},
   "outputs": [
    {
     "data": {
      "text/plain": [
       "count    12903.000000\n",
       "mean        40.787386\n",
       "std         33.086683\n",
       "min          2.236086\n",
       "25%         19.571416\n",
       "50%         28.355298\n",
       "75%         48.374164\n",
       "max        172.786415\n",
       "Name: Deposit (000s) Per Capita, dtype: float64"
      ]
     },
     "execution_count": 617,
     "metadata": {},
     "output_type": "execute_result"
    }
   ],
   "source": [
    "# Checking descriptive statistics of Deposit/capita\n",
    "sub['Deposit (000s) Per Capita'].describe()"
   ]
  },
  {
   "cell_type": "markdown",
   "metadata": {},
   "source": [
    "The geographic area that the property dataset covers in general has higher per capita saving than the four state average."
   ]
  },
  {
   "cell_type": "markdown",
   "metadata": {},
   "source": [
    "# 3. Feature Engineering"
   ]
  },
  {
   "cell_type": "markdown",
   "metadata": {},
   "source": [
    "### 3.1 Create Floor Area Ratio variable"
   ]
  },
  {
   "cell_type": "code",
   "execution_count": 618,
   "metadata": {},
   "outputs": [
    {
     "data": {
      "text/plain": [
       "count    1.290300e+04\n",
       "mean     2.671828e+05\n",
       "std      1.586218e+05\n",
       "min      4.160000e+03\n",
       "25%      1.607900e+05\n",
       "50%      2.351200e+05\n",
       "75%      3.310010e+05\n",
       "max      2.468016e+06\n",
       "Name: RBA, dtype: float64"
      ]
     },
     "execution_count": 618,
     "metadata": {},
     "output_type": "execute_result"
    }
   ],
   "source": [
    "# Checking descriptive statistics for RBA - Rentable Building Area\n",
    "sub['RBA'].describe()"
   ]
  },
  {
   "cell_type": "code",
   "execution_count": 619,
   "metadata": {},
   "outputs": [
    {
     "data": {
      "text/plain": [
       "count    12903.000000\n",
       "mean         1.249645\n",
       "std         31.926737\n",
       "min          0.001937\n",
       "25%          0.323446\n",
       "50%          0.447185\n",
       "75%          0.637774\n",
       "max       3219.100092\n",
       "Name: Floor Area Ratio, dtype: float64"
      ]
     },
     "execution_count": 619,
     "metadata": {},
     "output_type": "execute_result"
    }
   ],
   "source": [
    "# Calculating Floor Area Ratio\n",
    "acre_to_sf = 43560\n",
    "sub['Floor Area Ratio'] = sub['RBA']/(sub['Land Area (AC)']*acre_to_sf)\n",
    "sub['Floor Area Ratio'].describe()"
   ]
  },
  {
   "cell_type": "markdown",
   "metadata": {},
   "source": [
    "### 3.2 Create Supply variables\n",
    "- Calculate number of units under same zip code\n",
    "- Calculate number of vacant units under same zip code"
   ]
  },
  {
   "cell_type": "code",
   "execution_count": 620,
   "metadata": {},
   "outputs": [],
   "source": [
    "# Calculating total units and vacant units based on zip code\n",
    "sub['Supply_all'] = sub[['Number Of Units', 'Zip5']].groupby('Zip5').\\\n",
    "                    transform(lambda x: x.sum())\n",
    "sub['Supply_vacant'] = sub[['#_Vacant_Units', 'Zip5']].groupby('Zip5').\\\n",
    "                       transform(lambda x: x.sum())"
   ]
  },
  {
   "cell_type": "markdown",
   "metadata": {},
   "source": [
    "Extreme outliers exit, should be excluded."
   ]
  },
  {
   "cell_type": "markdown",
   "metadata": {},
   "source": [
    "### 3.3 Create Owner Type, Encode\n",
    "- Large owner: manages >=50 properties\n",
    "- Medium owner: manages [10,50) properties\n",
    "- Small owner: manages <10 properties or unspecified owner\n",
    "- One hot encode Owner Type"
   ]
  },
  {
   "cell_type": "code",
   "execution_count": 621,
   "metadata": {},
   "outputs": [
    {
     "data": {
      "text/plain": [
       "4352"
      ]
     },
     "execution_count": 621,
     "metadata": {},
     "output_type": "execute_result"
    }
   ],
   "source": [
    "# Number of unique owners\n",
    "sub['Owner Name'].nunique()"
   ]
  },
  {
   "cell_type": "code",
   "execution_count": 622,
   "metadata": {},
   "outputs": [],
   "source": [
    "# Checking number of properties under each type of owner\n",
    "owner = sub['Owner Name'].value_counts().reset_index(name='count')"
   ]
  },
  {
   "cell_type": "code",
   "execution_count": 623,
   "metadata": {},
   "outputs": [
    {
     "name": "stdout",
     "output_type": "stream",
     "text": [
      "large owner: 12\n",
      "medium owner: 255\n",
      "small owner: 4085\n"
     ]
    }
   ],
   "source": [
    "print('large owner:', owner[owner['count']>=50].shape[0])\n",
    "print('medium owner:', owner[(owner['count']>=10) & (owner['count']<50)].shape[0])\n",
    "print('small owner:', owner[owner['count']<10].shape[0])"
   ]
  },
  {
   "cell_type": "code",
   "execution_count": 624,
   "metadata": {},
   "outputs": [],
   "source": [
    "# Creating owner lists\n",
    "large_owner = owner[owner['count']>=50]['index'].tolist()\n",
    "medium_owner = owner[(owner['count']>=10) & (owner['count']<50)]['index'].tolist()\n",
    "small_owner = owner[owner['count']<10]['index'].tolist()"
   ]
  },
  {
   "cell_type": "code",
   "execution_count": 625,
   "metadata": {},
   "outputs": [],
   "source": [
    "# those who are missing owner info considered as small owner\n",
    "sub['Owner Type'] = sub['Owner Name'].apply(lambda x: 'large' if x in large_owner else(\n",
    "                                        'medium' if x in medium_owner else 'small'))"
   ]
  },
  {
   "cell_type": "code",
   "execution_count": 626,
   "metadata": {},
   "outputs": [
    {
     "data": {
      "text/html": [
       "<div>\n",
       "<style scoped>\n",
       "    .dataframe tbody tr th:only-of-type {\n",
       "        vertical-align: middle;\n",
       "    }\n",
       "\n",
       "    .dataframe tbody tr th {\n",
       "        vertical-align: top;\n",
       "    }\n",
       "\n",
       "    .dataframe thead th {\n",
       "        text-align: right;\n",
       "    }\n",
       "</style>\n",
       "<table border=\"1\" class=\"dataframe\">\n",
       "  <thead>\n",
       "    <tr style=\"text-align: right;\">\n",
       "      <th></th>\n",
       "      <th>Owner Type</th>\n",
       "      <th>Avg Effective/SF</th>\n",
       "      <th>Count</th>\n",
       "    </tr>\n",
       "  </thead>\n",
       "  <tbody>\n",
       "    <tr>\n",
       "      <th>0</th>\n",
       "      <td>large</td>\n",
       "      <td>1.369511</td>\n",
       "      <td>940</td>\n",
       "    </tr>\n",
       "    <tr>\n",
       "      <th>1</th>\n",
       "      <td>medium</td>\n",
       "      <td>1.254213</td>\n",
       "      <td>4432</td>\n",
       "    </tr>\n",
       "    <tr>\n",
       "      <th>2</th>\n",
       "      <td>small</td>\n",
       "      <td>1.227484</td>\n",
       "      <td>7531</td>\n",
       "    </tr>\n",
       "  </tbody>\n",
       "</table>\n",
       "</div>"
      ],
      "text/plain": [
       "  Owner Type  Avg Effective/SF  Count\n",
       "0      large          1.369511    940\n",
       "1     medium          1.254213   4432\n",
       "2      small          1.227484   7531"
      ]
     },
     "execution_count": 626,
     "metadata": {},
     "output_type": "execute_result"
    }
   ],
   "source": [
    "# Number of owners by owner type and Avg Effective/SF\n",
    "sub[['Owner Type', 'Avg Effective/SF']].groupby('Owner Type').mean().reset_index().\\\n",
    "merge(pd.DataFrame(sub['Owner Type'].value_counts().reset_index()).\\\n",
    "rename(columns={'index':'Owner Type', 'Owner Type':'Count'}))"
   ]
  },
  {
   "cell_type": "code",
   "execution_count": 627,
   "metadata": {},
   "outputs": [],
   "source": [
    "# Creating dummy variables\n",
    "for otype in sub['Owner Type'].unique():\n",
    "    sub['Owner Type_{}'.format(otype)] = sub['Owner Type'].apply(lambda x: 1 if x==otype else 0)"
   ]
  },
  {
   "cell_type": "markdown",
   "metadata": {},
   "source": [
    "### 3.4 Affordable Housing Encoding\n",
    "- Combine Rent Stabilized and Rent Controlled into Rent Restricted, label non-affordable properties as Market\n",
    "- One hot encode Affordable Type"
   ]
  },
  {
   "cell_type": "code",
   "execution_count": 628,
   "metadata": {},
   "outputs": [
    {
     "data": {
      "text/plain": [
       "12903"
      ]
     },
     "execution_count": 628,
     "metadata": {},
     "output_type": "execute_result"
    }
   ],
   "source": [
    "# Number of rows in Rent Type\n",
    "sub['Rent Type'].count()"
   ]
  },
  {
   "cell_type": "code",
   "execution_count": 629,
   "metadata": {},
   "outputs": [
    {
     "data": {
      "text/plain": [
       "Rent Restricted     1395\n",
       "Rent Subsidized      458\n",
       "Affordable Units     103\n",
       "Rent Stabilized        5\n",
       "Rent Controlled        2\n",
       "Name: Affordable Type, dtype: int64"
      ]
     },
     "execution_count": 629,
     "metadata": {},
     "output_type": "execute_result"
    }
   ],
   "source": [
    "# Number of rows under each Rent Type\n",
    "sub['Affordable Type'].value_counts()"
   ]
  },
  {
   "cell_type": "code",
   "execution_count": 630,
   "metadata": {},
   "outputs": [],
   "source": [
    "# Combining Rent Stabilized and Controlled as Rent Restricted and fill missing values as Market\n",
    "sub['Affordable Type*'] = sub['Affordable Type'].fillna('Market')\n",
    "sub['Affordable Type*'] = sub['Affordable Type*'].map({'Rent Stabilized':'Rent Restricted',\n",
    "                                                       'Rent Controlled':'Rent Restricted',\n",
    "                                                       'Rent Restricted':'Rent Restricted',\n",
    "                                                       'Market':'Market',\n",
    "                                                       'Rent Subsidized':'Rent Subsidized',\n",
    "                                                       'Affordable Units':'Affordable Units'})"
   ]
  },
  {
   "cell_type": "code",
   "execution_count": 631,
   "metadata": {},
   "outputs": [
    {
     "data": {
      "text/html": [
       "<div>\n",
       "<style scoped>\n",
       "    .dataframe tbody tr th:only-of-type {\n",
       "        vertical-align: middle;\n",
       "    }\n",
       "\n",
       "    .dataframe tbody tr th {\n",
       "        vertical-align: top;\n",
       "    }\n",
       "\n",
       "    .dataframe thead th {\n",
       "        text-align: right;\n",
       "    }\n",
       "</style>\n",
       "<table border=\"1\" class=\"dataframe\">\n",
       "  <thead>\n",
       "    <tr style=\"text-align: right;\">\n",
       "      <th></th>\n",
       "      <th>Affordable Type*</th>\n",
       "      <th>Avg Effective/SF</th>\n",
       "      <th>Count</th>\n",
       "    </tr>\n",
       "  </thead>\n",
       "  <tbody>\n",
       "    <tr>\n",
       "      <th>1</th>\n",
       "      <td>Market</td>\n",
       "      <td>1.287774</td>\n",
       "      <td>10940</td>\n",
       "    </tr>\n",
       "    <tr>\n",
       "      <th>0</th>\n",
       "      <td>Affordable Units</td>\n",
       "      <td>1.192039</td>\n",
       "      <td>103</td>\n",
       "    </tr>\n",
       "    <tr>\n",
       "      <th>3</th>\n",
       "      <td>Rent Subsidized</td>\n",
       "      <td>1.107860</td>\n",
       "      <td>458</td>\n",
       "    </tr>\n",
       "    <tr>\n",
       "      <th>2</th>\n",
       "      <td>Rent Restricted</td>\n",
       "      <td>0.978431</td>\n",
       "      <td>1402</td>\n",
       "    </tr>\n",
       "  </tbody>\n",
       "</table>\n",
       "</div>"
      ],
      "text/plain": [
       "   Affordable Type*  Avg Effective/SF  Count\n",
       "1            Market          1.287774  10940\n",
       "0  Affordable Units          1.192039    103\n",
       "3   Rent Subsidized          1.107860    458\n",
       "2   Rent Restricted          0.978431   1402"
      ]
     },
     "execution_count": 631,
     "metadata": {},
     "output_type": "execute_result"
    }
   ],
   "source": [
    "# Checking the Avg Effective/SF and count for each Affordable Type\n",
    "sub[['Affordable Type*', 'Avg Effective/SF']].groupby('Affordable Type*').mean().reset_index().\\\n",
    "merge(pd.DataFrame(sub['Affordable Type*'].value_counts().reset_index()).\\\n",
    "rename(columns={'index':'Affordable Type*', 'Affordable Type*':'Count'})).\\\n",
    "sort_values('Avg Effective/SF', ascending=False)"
   ]
  },
  {
   "cell_type": "code",
   "execution_count": 632,
   "metadata": {},
   "outputs": [],
   "source": [
    "# Creating Dummy Variables\n",
    "for atype in sub['Affordable Type*'].unique():\n",
    "    sub['Affordable Type_{}'.format(atype)] = sub['Affordable Type*'].apply(lambda x: 1 if x==atype else 0)"
   ]
  },
  {
   "cell_type": "markdown",
   "metadata": {},
   "source": [
    "### 3.5 State and City Encoding\n",
    "- One hot encode State\n",
    "- Group cities with <= 100 properties in it into Other by state, resulting in 23 city groups\n",
    "- One hot encode City"
   ]
  },
  {
   "cell_type": "code",
   "execution_count": 633,
   "metadata": {},
   "outputs": [
    {
     "data": {
      "text/html": [
       "<div>\n",
       "<style scoped>\n",
       "    .dataframe tbody tr th:only-of-type {\n",
       "        vertical-align: middle;\n",
       "    }\n",
       "\n",
       "    .dataframe tbody tr th {\n",
       "        vertical-align: top;\n",
       "    }\n",
       "\n",
       "    .dataframe thead th {\n",
       "        text-align: right;\n",
       "    }\n",
       "</style>\n",
       "<table border=\"1\" class=\"dataframe\">\n",
       "  <thead>\n",
       "    <tr style=\"text-align: right;\">\n",
       "      <th></th>\n",
       "      <th>State</th>\n",
       "      <th>Avg Effective/SF</th>\n",
       "      <th>Count</th>\n",
       "    </tr>\n",
       "  </thead>\n",
       "  <tbody>\n",
       "    <tr>\n",
       "      <th>0</th>\n",
       "      <td>FL</td>\n",
       "      <td>1.325436</td>\n",
       "      <td>2993</td>\n",
       "    </tr>\n",
       "    <tr>\n",
       "      <th>3</th>\n",
       "      <td>TX</td>\n",
       "      <td>1.250045</td>\n",
       "      <td>6418</td>\n",
       "    </tr>\n",
       "    <tr>\n",
       "      <th>1</th>\n",
       "      <td>GA</td>\n",
       "      <td>1.178725</td>\n",
       "      <td>1866</td>\n",
       "    </tr>\n",
       "    <tr>\n",
       "      <th>2</th>\n",
       "      <td>NC</td>\n",
       "      <td>1.169047</td>\n",
       "      <td>1626</td>\n",
       "    </tr>\n",
       "  </tbody>\n",
       "</table>\n",
       "</div>"
      ],
      "text/plain": [
       "  State  Avg Effective/SF  Count\n",
       "0    FL          1.325436   2993\n",
       "3    TX          1.250045   6418\n",
       "1    GA          1.178725   1866\n",
       "2    NC          1.169047   1626"
      ]
     },
     "execution_count": 633,
     "metadata": {},
     "output_type": "execute_result"
    }
   ],
   "source": [
    "# Calculating Average effective/SF and Count for each state\n",
    "sub[['State', 'Avg Effective/SF']].groupby('State').mean().reset_index().\\\n",
    "merge(pd.DataFrame(sub['State'].value_counts().reset_index()).\\\n",
    "rename(columns={'index':'State', 'State':'Count'})).\\\n",
    "sort_values('Avg Effective/SF', ascending=False)"
   ]
  },
  {
   "cell_type": "code",
   "execution_count": 634,
   "metadata": {},
   "outputs": [],
   "source": [
    "# Creating Dummy Variables for state\n",
    "for stype in sub['State'].unique():\n",
    "    sub['State_{}'.format(stype)] = sub['State'].apply(lambda x: 1 if x==stype else 0)"
   ]
  },
  {
   "cell_type": "code",
   "execution_count": 635,
   "metadata": {},
   "outputs": [
    {
     "data": {
      "text/plain": [
       "617"
      ]
     },
     "execution_count": 635,
     "metadata": {},
     "output_type": "execute_result"
    }
   ],
   "source": [
    "# Number of unique cities\n",
    "sub['City'].nunique()"
   ]
  },
  {
   "cell_type": "code",
   "execution_count": 636,
   "metadata": {},
   "outputs": [
    {
     "data": {
      "text/plain": [
       "(19, 2)"
      ]
     },
     "execution_count": 636,
     "metadata": {},
     "output_type": "execute_result"
    }
   ],
   "source": [
    "# Cities with count greater than 100 properties\n",
    "city = sub['City'].value_counts().reset_index()\n",
    "city.columns = ['City', 'Count']\n",
    "city[city['Count']>100].shape"
   ]
  },
  {
   "cell_type": "code",
   "execution_count": 637,
   "metadata": {},
   "outputs": [
    {
     "name": "stdout",
     "output_type": "stream",
     "text": [
      "68.6% cities have less than 10 properties in it\n"
     ]
    }
   ],
   "source": [
    "# Cities with less than 10 properties\n",
    "print('{}% cities have less than 10 properties in it'.\\\n",
    "      format(round(city[city['Count']<10].shape[0]/sub['City'].nunique()*100,1)))"
   ]
  },
  {
   "cell_type": "code",
   "execution_count": 638,
   "metadata": {},
   "outputs": [],
   "source": [
    "# Transformation based on count and checking unique cities\n",
    "large_city = city[city['Count']>100]['City'].unique()\n",
    "sub['City*'] = sub[['City','State']].apply(lambda x: x[0] if x[0] in large_city\\\n",
    "                                          else '{} Other'.format(x[1]), axis=1)"
   ]
  },
  {
   "cell_type": "code",
   "execution_count": 639,
   "metadata": {},
   "outputs": [
    {
     "data": {
      "text/plain": [
       "23"
      ]
     },
     "execution_count": 639,
     "metadata": {},
     "output_type": "execute_result"
    }
   ],
   "source": [
    "sub['City*'].nunique()"
   ]
  },
  {
   "cell_type": "code",
   "execution_count": 640,
   "metadata": {},
   "outputs": [
    {
     "data": {
      "text/plain": [
       "Greensboro     134\n",
       "El Paso        125\n",
       "Durham         120\n",
       "Tallahassee    106\n",
       "Plano          104\n",
       "Name: City*, dtype: int64"
      ]
     },
     "execution_count": 640,
     "metadata": {},
     "output_type": "execute_result"
    }
   ],
   "source": [
    "# Bottom 5 cities\n",
    "sub['City*'].value_counts().tail()"
   ]
  },
  {
   "cell_type": "code",
   "execution_count": 641,
   "metadata": {},
   "outputs": [],
   "source": [
    "# Creating dummy variables for cities\n",
    "for ctype in sub['City*'].unique():\n",
    "    sub['City_{}'.format(ctype)] = sub['City*'].apply(lambda x: 1 if x==ctype else 0)"
   ]
  },
  {
   "cell_type": "markdown",
   "metadata": {},
   "source": [
    "### 3.6 Construction Material\n",
    "- Combine Steel and Metal into Steel or Metal\n",
    "- One hot encode Construction Material"
   ]
  },
  {
   "cell_type": "code",
   "execution_count": 642,
   "metadata": {},
   "outputs": [
    {
     "data": {
      "text/plain": [
       "Wood Frame             7135\n",
       "Masonry                4500\n",
       "Reinforced Concrete    1074\n",
       "Steel                   168\n",
       "Metal                    26\n",
       "Name: Construction Material, dtype: int64"
      ]
     },
     "execution_count": 642,
     "metadata": {},
     "output_type": "execute_result"
    }
   ],
   "source": [
    "# Checking number of rows for each construction material\n",
    "sub['Construction Material'].value_counts()"
   ]
  },
  {
   "cell_type": "code",
   "execution_count": 643,
   "metadata": {},
   "outputs": [],
   "source": [
    "# Combining Steel and Metal\n",
    "sub['Construction Material*'] = sub['Construction Material'].map({'Wood Frame':'Wood Frame',\n",
    "                                                                    'Masonry':'Masonry',\n",
    "                                                                    'Reinforced Concrete':'Reinforced Concrete',\n",
    "                                                                    'Steel':'Steel or Metal',\n",
    "                                                                    'Metal':'Steel or Metal'})"
   ]
  },
  {
   "cell_type": "code",
   "execution_count": 644,
   "metadata": {},
   "outputs": [
    {
     "data": {
      "text/html": [
       "<div>\n",
       "<style scoped>\n",
       "    .dataframe tbody tr th:only-of-type {\n",
       "        vertical-align: middle;\n",
       "    }\n",
       "\n",
       "    .dataframe tbody tr th {\n",
       "        vertical-align: top;\n",
       "    }\n",
       "\n",
       "    .dataframe thead th {\n",
       "        text-align: right;\n",
       "    }\n",
       "</style>\n",
       "<table border=\"1\" class=\"dataframe\">\n",
       "  <thead>\n",
       "    <tr style=\"text-align: right;\">\n",
       "      <th></th>\n",
       "      <th>Construction Material*</th>\n",
       "      <th>Avg Effective/SF</th>\n",
       "      <th>Count</th>\n",
       "    </tr>\n",
       "  </thead>\n",
       "  <tbody>\n",
       "    <tr>\n",
       "      <th>2</th>\n",
       "      <td>Steel or Metal</td>\n",
       "      <td>1.881340</td>\n",
       "      <td>194</td>\n",
       "    </tr>\n",
       "    <tr>\n",
       "      <th>1</th>\n",
       "      <td>Reinforced Concrete</td>\n",
       "      <td>1.566285</td>\n",
       "      <td>1074</td>\n",
       "    </tr>\n",
       "    <tr>\n",
       "      <th>0</th>\n",
       "      <td>Masonry</td>\n",
       "      <td>1.232227</td>\n",
       "      <td>4500</td>\n",
       "    </tr>\n",
       "    <tr>\n",
       "      <th>3</th>\n",
       "      <td>Wood Frame</td>\n",
       "      <td>1.191030</td>\n",
       "      <td>7135</td>\n",
       "    </tr>\n",
       "  </tbody>\n",
       "</table>\n",
       "</div>"
      ],
      "text/plain": [
       "  Construction Material*  Avg Effective/SF  Count\n",
       "2         Steel or Metal          1.881340    194\n",
       "1    Reinforced Concrete          1.566285   1074\n",
       "0                Masonry          1.232227   4500\n",
       "3             Wood Frame          1.191030   7135"
      ]
     },
     "execution_count": 644,
     "metadata": {},
     "output_type": "execute_result"
    }
   ],
   "source": [
    "# Calculating count and avg effective for each construction material\n",
    "sub[['Construction Material*', 'Avg Effective/SF']].groupby('Construction Material*').mean().reset_index().\\\n",
    "merge(pd.DataFrame(sub['Construction Material*'].value_counts().reset_index()).\\\n",
    "rename(columns={'index':'Construction Material*', 'Construction Material*':'Count'})).\\\n",
    "sort_values('Avg Effective/SF', ascending=False)"
   ]
  },
  {
   "cell_type": "code",
   "execution_count": 645,
   "metadata": {},
   "outputs": [],
   "source": [
    "# Creating dummy variables for construction material\n",
    "for material in sub['Construction Material*'].unique():\n",
    "    sub['Construction Material_{}'.format(material)] = \\\n",
    "    sub['Construction Material*'].apply(lambda x: 1 if x==material else 0)"
   ]
  },
  {
   "cell_type": "markdown",
   "metadata": {},
   "source": [
    "### 3.7 Amenities w/o grouping"
   ]
  },
  {
   "cell_type": "code",
   "execution_count": 646,
   "metadata": {},
   "outputs": [
    {
     "data": {
      "text/plain": [
       "93"
      ]
     },
     "execution_count": 646,
     "metadata": {},
     "output_type": "execute_result"
    }
   ],
   "source": [
    "# Finding number of amenities\n",
    "amenities = {}\n",
    "all_amenities = sub['Amenities'].str.split(', ').tolist()\n",
    "for row in all_amenities:\n",
    "    #print(row)\n",
    "    for item in row:\n",
    "        #print(item)\n",
    "        if item not in amenities.keys():\n",
    "            amenities[item] = 1\n",
    "        else:\n",
    "            amenities[item] += 1\n",
    "len(amenities)"
   ]
  },
  {
   "cell_type": "code",
   "execution_count": 647,
   "metadata": {},
   "outputs": [
    {
     "data": {
      "text/html": [
       "<div>\n",
       "<style scoped>\n",
       "    .dataframe tbody tr th:only-of-type {\n",
       "        vertical-align: middle;\n",
       "    }\n",
       "\n",
       "    .dataframe tbody tr th {\n",
       "        vertical-align: top;\n",
       "    }\n",
       "\n",
       "    .dataframe thead th {\n",
       "        text-align: right;\n",
       "    }\n",
       "</style>\n",
       "<table border=\"1\" class=\"dataframe\">\n",
       "  <thead>\n",
       "    <tr style=\"text-align: right;\">\n",
       "      <th></th>\n",
       "      <th>amenity</th>\n",
       "      <th>count</th>\n",
       "      <th>yes</th>\n",
       "      <th>no</th>\n",
       "      <th>diff</th>\n",
       "    </tr>\n",
       "  </thead>\n",
       "  <tbody>\n",
       "    <tr>\n",
       "      <th>92</th>\n",
       "      <td>Walk To Campus</td>\n",
       "      <td>1</td>\n",
       "      <td>2.12</td>\n",
       "      <td>1.24694</td>\n",
       "      <td>0.873056</td>\n",
       "    </tr>\n",
       "    <tr>\n",
       "      <th>86</th>\n",
       "      <td>LEED Certified</td>\n",
       "      <td>43</td>\n",
       "      <td>2.17814</td>\n",
       "      <td>1.2439</td>\n",
       "      <td>0.934241</td>\n",
       "    </tr>\n",
       "    <tr>\n",
       "      <th>77</th>\n",
       "      <td>LEED Certified - Silver</td>\n",
       "      <td>21</td>\n",
       "      <td>2.24381</td>\n",
       "      <td>1.24539</td>\n",
       "      <td>0.998423</td>\n",
       "    </tr>\n",
       "    <tr>\n",
       "      <th>56</th>\n",
       "      <td>Meal Service</td>\n",
       "      <td>53</td>\n",
       "      <td>2.36264</td>\n",
       "      <td>1.24241</td>\n",
       "      <td>1.12023</td>\n",
       "    </tr>\n",
       "    <tr>\n",
       "      <th>91</th>\n",
       "      <td>Study Lounge</td>\n",
       "      <td>4</td>\n",
       "      <td>5.165</td>\n",
       "      <td>1.2458</td>\n",
       "      <td>3.9192</td>\n",
       "    </tr>\n",
       "  </tbody>\n",
       "</table>\n",
       "</div>"
      ],
      "text/plain": [
       "                    amenity count      yes       no      diff\n",
       "92           Walk To Campus     1     2.12  1.24694  0.873056\n",
       "86           LEED Certified    43  2.17814   1.2439  0.934241\n",
       "77  LEED Certified - Silver    21  2.24381  1.24539  0.998423\n",
       "56             Meal Service    53  2.36264  1.24241   1.12023\n",
       "91             Study Lounge     4    5.165   1.2458    3.9192"
      ]
     },
     "execution_count": 647,
     "metadata": {},
     "output_type": "execute_result"
    }
   ],
   "source": [
    "# Checking impact on effective rent due to presence on amenities\n",
    "amenity_vs_rent = pd.DataFrame()\n",
    "\n",
    "for amenity in amenities:\n",
    "    yes = sub[sub['Amenities'].str.contains(amenity)]['Avg Effective/SF'].mean()\n",
    "    no = sub[-sub['Amenities'].str.contains(amenity)]['Avg Effective/SF'].mean()\n",
    "    count = sub[sub['Amenities'].str.contains(amenity)]['Avg Effective/SF'].count()\n",
    "    amenity_vs_rent = amenity_vs_rent.append(pd.DataFrame([amenity,count,yes,no,yes-no]).T,\n",
    "                                             ignore_index=True)\n",
    "\n",
    "amenity_vs_rent.columns = ['amenity','count','yes', 'no', 'diff']\n",
    "amenity_vs_rent = amenity_vs_rent.sort_values('diff')\n",
    "amenity_vs_rent.tail()"
   ]
  },
  {
   "cell_type": "code",
   "execution_count": 648,
   "metadata": {},
   "outputs": [
    {
     "data": {
      "text/html": [
       "<div>\n",
       "<style scoped>\n",
       "    .dataframe tbody tr th:only-of-type {\n",
       "        vertical-align: middle;\n",
       "    }\n",
       "\n",
       "    .dataframe tbody tr th {\n",
       "        vertical-align: top;\n",
       "    }\n",
       "\n",
       "    .dataframe thead th {\n",
       "        text-align: right;\n",
       "    }\n",
       "</style>\n",
       "<table border=\"1\" class=\"dataframe\">\n",
       "  <thead>\n",
       "    <tr style=\"text-align: right;\">\n",
       "      <th></th>\n",
       "      <th>amenity</th>\n",
       "      <th>count</th>\n",
       "      <th>yes</th>\n",
       "      <th>no</th>\n",
       "      <th>diff</th>\n",
       "    </tr>\n",
       "  </thead>\n",
       "  <tbody>\n",
       "    <tr>\n",
       "      <th>3</th>\n",
       "      <td>Fitness Center</td>\n",
       "      <td>9157</td>\n",
       "      <td>1.30969</td>\n",
       "      <td>1.0938</td>\n",
       "      <td>0.215894</td>\n",
       "    </tr>\n",
       "    <tr>\n",
       "      <th>4</th>\n",
       "      <td>Laundry Facilities</td>\n",
       "      <td>8358</td>\n",
       "      <td>1.18304</td>\n",
       "      <td>1.36465</td>\n",
       "      <td>-0.181611</td>\n",
       "    </tr>\n",
       "    <tr>\n",
       "      <th>2</th>\n",
       "      <td>Clubhouse</td>\n",
       "      <td>7553</td>\n",
       "      <td>1.2436</td>\n",
       "      <td>1.25183</td>\n",
       "      <td>-0.00822814</td>\n",
       "    </tr>\n",
       "    <tr>\n",
       "      <th>6</th>\n",
       "      <td>Property Manager on Site</td>\n",
       "      <td>6836</td>\n",
       "      <td>1.22259</td>\n",
       "      <td>1.27452</td>\n",
       "      <td>-0.0519309</td>\n",
       "    </tr>\n",
       "    <tr>\n",
       "      <th>0</th>\n",
       "      <td>Business Center</td>\n",
       "      <td>6439</td>\n",
       "      <td>1.28083</td>\n",
       "      <td>1.21332</td>\n",
       "      <td>0.0675079</td>\n",
       "    </tr>\n",
       "    <tr>\n",
       "      <th>8</th>\n",
       "      <td>Grill</td>\n",
       "      <td>5304</td>\n",
       "      <td>1.27989</td>\n",
       "      <td>1.22407</td>\n",
       "      <td>0.0558219</td>\n",
       "    </tr>\n",
       "    <tr>\n",
       "      <th>5</th>\n",
       "      <td>Playground</td>\n",
       "      <td>5117</td>\n",
       "      <td>1.08825</td>\n",
       "      <td>1.35135</td>\n",
       "      <td>-0.263099</td>\n",
       "    </tr>\n",
       "    <tr>\n",
       "      <th>13</th>\n",
       "      <td>Maintenance on site</td>\n",
       "      <td>4416</td>\n",
       "      <td>1.23916</td>\n",
       "      <td>1.2511</td>\n",
       "      <td>-0.0119405</td>\n",
       "    </tr>\n",
       "    <tr>\n",
       "      <th>18</th>\n",
       "      <td>Gated</td>\n",
       "      <td>4226</td>\n",
       "      <td>1.23899</td>\n",
       "      <td>1.25092</td>\n",
       "      <td>-0.0119289</td>\n",
       "    </tr>\n",
       "    <tr>\n",
       "      <th>16</th>\n",
       "      <td>Picnic Area</td>\n",
       "      <td>4145</td>\n",
       "      <td>1.17653</td>\n",
       "      <td>1.28037</td>\n",
       "      <td>-0.103838</td>\n",
       "    </tr>\n",
       "    <tr>\n",
       "      <th>37</th>\n",
       "      <td>Spa</td>\n",
       "      <td>3916</td>\n",
       "      <td>1.30311</td>\n",
       "      <td>1.22257</td>\n",
       "      <td>0.0805396</td>\n",
       "    </tr>\n",
       "    <tr>\n",
       "      <th>10</th>\n",
       "      <td>Package Service</td>\n",
       "      <td>3655</td>\n",
       "      <td>1.26297</td>\n",
       "      <td>1.2407</td>\n",
       "      <td>0.0222673</td>\n",
       "    </tr>\n",
       "    <tr>\n",
       "      <th>1</th>\n",
       "      <td>Controlled Access</td>\n",
       "      <td>3318</td>\n",
       "      <td>1.32833</td>\n",
       "      <td>1.21886</td>\n",
       "      <td>0.109464</td>\n",
       "    </tr>\n",
       "    <tr>\n",
       "      <th>14</th>\n",
       "      <td>Sundeck</td>\n",
       "      <td>2875</td>\n",
       "      <td>1.27052</td>\n",
       "      <td>1.24027</td>\n",
       "      <td>0.030246</td>\n",
       "    </tr>\n",
       "    <tr>\n",
       "      <th>42</th>\n",
       "      <td>Tennis Court</td>\n",
       "      <td>2732</td>\n",
       "      <td>1.18383</td>\n",
       "      <td>1.26398</td>\n",
       "      <td>-0.0801542</td>\n",
       "    </tr>\n",
       "  </tbody>\n",
       "</table>\n",
       "</div>"
      ],
      "text/plain": [
       "                     amenity count      yes       no        diff\n",
       "3             Fitness Center  9157  1.30969   1.0938    0.215894\n",
       "4         Laundry Facilities  8358  1.18304  1.36465   -0.181611\n",
       "2                  Clubhouse  7553   1.2436  1.25183 -0.00822814\n",
       "6   Property Manager on Site  6836  1.22259  1.27452  -0.0519309\n",
       "0            Business Center  6439  1.28083  1.21332   0.0675079\n",
       "8                      Grill  5304  1.27989  1.22407   0.0558219\n",
       "5                 Playground  5117  1.08825  1.35135   -0.263099\n",
       "13       Maintenance on site  4416  1.23916   1.2511  -0.0119405\n",
       "18                     Gated  4226  1.23899  1.25092  -0.0119289\n",
       "16               Picnic Area  4145  1.17653  1.28037   -0.103838\n",
       "37                       Spa  3916  1.30311  1.22257   0.0805396\n",
       "10           Package Service  3655  1.26297   1.2407   0.0222673\n",
       "1          Controlled Access  3318  1.32833  1.21886    0.109464\n",
       "14                   Sundeck  2875  1.27052  1.24027    0.030246\n",
       "42              Tennis Court  2732  1.18383  1.26398  -0.0801542"
      ]
     },
     "execution_count": 648,
     "metadata": {},
     "output_type": "execute_result"
    }
   ],
   "source": [
    "# Sorting\n",
    "amenity_vs_rent.sort_values('count', ascending=False).head(15)"
   ]
  },
  {
   "cell_type": "code",
   "execution_count": 649,
   "metadata": {},
   "outputs": [
    {
     "data": {
      "image/png": "[encoded data removed]",
      "text/plain": [
       "<Figure size 1440x432 with 1 Axes>"
      ]
     },
     "metadata": {
      "needs_background": "light"
     },
     "output_type": "display_data"
    }
   ],
   "source": [
    "# Creating a plot to show how average rent/SF varies (difference when amenity is there vs. not)\n",
    "test = amenity_vs_rent[amenity_vs_rent['amenity']!='Study Lounge']\n",
    "xticklabel = test[['amenity','count']].apply(lambda x: x[0]+' '+str(x[1]), axis=1)\n",
    "\n",
    "plt.figure(figsize=(20,6))\n",
    "plt.bar(np.arange(test.shape[0]),\n",
    "        test['diff'])\n",
    "plt.xticks(np.arange(test.shape[0]),\n",
    "           xticklabel,\n",
    "           rotation=90)\n",
    "plt.axhline(sub['Avg Effective/SF'].std(),\n",
    "            color='red',\n",
    "            linestyle='--')\n",
    "plt.annotate('Average Effective Rent/SF Std', \n",
    "             (0,0.5), fontsize=12, color='red')\n",
    "plt.title('Average Effective Rent/SF With vs Without Amenity', fontsize=15)\n",
    "plt.ylabel('Average Effective Rent/SF')\n",
    "plt.show()"
   ]
  },
  {
   "cell_type": "markdown",
   "metadata": {},
   "source": [
    "#### Group Amenities\n",
    "- LEED Certified - Silver, LEED Certified - Gold, LEED Certified, LEED Certified - Platinum, Energy Star Labeled\n",
    "- Sports: Tennis Court, Volleyball Court, Basketball Court\n",
    "- Business: Business Center, Corporate Suites, Confere Rooms, Multi Use Room\n",
    "- Laundry: Laundry Facilities, Laundry Service\n",
    "- Spa: Spa, Sauna\n",
    "- Pet: Pet Washing Station, Pet Care, Pet Play Area\n",
    "- Wifi: Community-Wide WiFi, Wi-Fi\n",
    "\n",
    "#### + Less popular high impact amenities:\n",
    "- Roof Terrace\n",
    "- Maid Service\n",
    "- Bicycle Storage\n",
    "- Car Charging Station\t\n",
    "- On-Site Retail\n",
    "- Elevator\n",
    "\n",
    "#### + Top 15 popular amenities"
   ]
  },
  {
   "cell_type": "code",
   "execution_count": 650,
   "metadata": {},
   "outputs": [
    {
     "data": {
      "text/plain": [
       "38"
      ]
     },
     "execution_count": 650,
     "metadata": {},
     "output_type": "execute_result"
    }
   ],
   "source": [
    "# Total Amenities after grouping and adding popular amenities\n",
    "amen = ['LEED Certified - Silver', 'LEED Certified - Gold', 'LEED Certified', 'LEED Certified - Platinum', \n",
    "        'Energy Star Labeled',\n",
    "        # Sports\n",
    "        'Tennis Court', 'Volleyball Court', 'Basketball Court',\n",
    "        # Business\n",
    "        'Business Center', 'Corporate Suites', 'Confere Rooms', 'Multi Use Room',\n",
    "        # Laundry\n",
    "        'Laundry Facilities', 'Laundry Service',\n",
    "        # Spa\n",
    "        'Spa', 'Sauna',\n",
    "        # Pet\n",
    "        'Pet Washing Station', 'Pet Care', 'Pet Play Area',\n",
    "        # Wifi\n",
    "        'Community-Wide WiFi', 'Wi-Fi',\n",
    "        # Less popular high impact\n",
    "        'Roof Terrace', 'Maid Service', 'Bicycle Storage',\n",
    "        'Car Charging Station', 'On-Site Retail', 'Elevator']\n",
    "top_15_amenities = amenity_vs_rent.sort_values('count', ascending=False).head(15)['amenity'].tolist()\n",
    "\n",
    "for amenity in top_15_amenities:\n",
    "    if amenity not in amen:\n",
    "        amen.append(amenity)\n",
    "\n",
    "len(amen)"
   ]
  },
  {
   "cell_type": "code",
   "execution_count": 651,
   "metadata": {},
   "outputs": [],
   "source": [
    "# Refining further\n",
    "for amenity in amen:\n",
    "    sub['Amenity_{}'.format(amenity)] = sub['Amenities'].apply(lambda x: 1 if amenity in x.split(', ') else 0)\n",
    "\n",
    "sub['Amenity_LEED/Energy Star'] = sub[['Amenity_LEED Certified - Silver', \n",
    "                                       'Amenity_LEED Certified - Gold', \n",
    "                                       'Amenity_LEED Certified', \n",
    "                                       'Amenity_LEED Certified - Platinum', \n",
    "                                       'Amenity_Energy Star Labeled']].max(axis=1)\n",
    "sub['Amenity_Sports'] = sub[['Amenity_Tennis Court', \n",
    "                             'Amenity_Volleyball Court', \n",
    "                             'Amenity_Basketball Court']].max(axis=1)\n",
    "sub['Amenity_Business'] = sub[['Amenity_Business Center', \n",
    "                               'Amenity_Corporate Suites', \n",
    "                               'Amenity_Confere Rooms', \n",
    "                               'Amenity_Multi Use Room']].max(axis=1)\n",
    "sub['Amenity_Laundry'] = sub[['Amenity_Laundry Facilities', \n",
    "                              'Amenity_Laundry Service']].max(axis=1)\n",
    "sub['Amenity_Spa/Sauna'] = sub[['Amenity_Spa', \n",
    "                                'Amenity_Sauna']].max(axis=1)\n",
    "sub['Amenity_Pet'] = sub[['Amenity_Pet Washing Station', \n",
    "                          'Amenity_Pet Care', \n",
    "                          'Amenity_Pet Play Area']].max(axis=1)\n",
    "sub['Amenity_Wifi'] = sub[['Amenity_Community-Wide WiFi', \n",
    "                           'Amenity_Wi-Fi']].max(axis=1)\n",
    "cols = ['Amenity_LEED Certified - Silver', 'Amenity_LEED Certified - Gold', 'Amenity_LEED Certified', \n",
    "        'Amenity_LEED Certified - Platinum', 'Amenity_Energy Star Labeled',\n",
    "        'Amenity_Tennis Court', 'Amenity_Volleyball Court', 'Amenity_Basketball Court',\n",
    "        'Amenity_Business Center', 'Amenity_Corporate Suites', \n",
    "        'Amenity_Confere Rooms', 'Amenity_Multi Use Room',\n",
    "        'Amenity_Laundry Facilities', 'Amenity_Laundry Service',\n",
    "        'Amenity_Spa', 'Amenity_Sauna',\n",
    "        'Amenity_Pet Washing Station', 'Amenity_Pet Care', 'Amenity_Pet Play Area',\n",
    "        'Amenity_Community-Wide WiFi', 'Amenity_Wi-Fi']\n",
    "sub.drop(columns=cols, inplace=True)"
   ]
  },
  {
   "cell_type": "code",
   "execution_count": 652,
   "metadata": {},
   "outputs": [
    {
     "data": {
      "text/html": [
       "<div>\n",
       "<style scoped>\n",
       "    .dataframe tbody tr th:only-of-type {\n",
       "        vertical-align: middle;\n",
       "    }\n",
       "\n",
       "    .dataframe tbody tr th {\n",
       "        vertical-align: top;\n",
       "    }\n",
       "\n",
       "    .dataframe thead th {\n",
       "        text-align: right;\n",
       "    }\n",
       "</style>\n",
       "<table border=\"1\" class=\"dataframe\">\n",
       "  <thead>\n",
       "    <tr style=\"text-align: right;\">\n",
       "      <th></th>\n",
       "      <th># Properties</th>\n",
       "      <th>% Properties</th>\n",
       "      <th>Avg Effective/SF w/ Amenity</th>\n",
       "      <th>Avg Effective/SF w/o Amenity</th>\n",
       "      <th>Avg Effective/SF Diff</th>\n",
       "    </tr>\n",
       "  </thead>\n",
       "  <tbody>\n",
       "    <tr>\n",
       "      <th>Amenity_Roof Terrace</th>\n",
       "      <td>122</td>\n",
       "      <td>0.9</td>\n",
       "      <td>2.048852</td>\n",
       "      <td>1.239358</td>\n",
       "      <td>0.809495</td>\n",
       "    </tr>\n",
       "    <tr>\n",
       "      <th>Amenity_Maid Service</th>\n",
       "      <td>172</td>\n",
       "      <td>1.3</td>\n",
       "      <td>1.946047</td>\n",
       "      <td>1.237567</td>\n",
       "      <td>0.708479</td>\n",
       "    </tr>\n",
       "    <tr>\n",
       "      <th>Amenity_Bicycle Storage</th>\n",
       "      <td>243</td>\n",
       "      <td>1.9</td>\n",
       "      <td>1.825021</td>\n",
       "      <td>1.235917</td>\n",
       "      <td>0.589104</td>\n",
       "    </tr>\n",
       "    <tr>\n",
       "      <th>Amenity_Car Charging Station</th>\n",
       "      <td>172</td>\n",
       "      <td>1.3</td>\n",
       "      <td>1.804826</td>\n",
       "      <td>1.239475</td>\n",
       "      <td>0.565350</td>\n",
       "    </tr>\n",
       "    <tr>\n",
       "      <th>Amenity_On-Site Retail</th>\n",
       "      <td>277</td>\n",
       "      <td>2.1</td>\n",
       "      <td>1.734549</td>\n",
       "      <td>1.236316</td>\n",
       "      <td>0.498233</td>\n",
       "    </tr>\n",
       "    <tr>\n",
       "      <th>Amenity_Elevator</th>\n",
       "      <td>1270</td>\n",
       "      <td>9.8</td>\n",
       "      <td>1.692252</td>\n",
       "      <td>1.198404</td>\n",
       "      <td>0.493848</td>\n",
       "    </tr>\n",
       "    <tr>\n",
       "      <th>Amenity_LEED/Energy Star</th>\n",
       "      <td>134</td>\n",
       "      <td>1.0</td>\n",
       "      <td>1.733433</td>\n",
       "      <td>1.241907</td>\n",
       "      <td>0.491526</td>\n",
       "    </tr>\n",
       "    <tr>\n",
       "      <th>Amenity_Fitness Center</th>\n",
       "      <td>9157</td>\n",
       "      <td>71.0</td>\n",
       "      <td>1.309690</td>\n",
       "      <td>1.093796</td>\n",
       "      <td>0.215894</td>\n",
       "    </tr>\n",
       "    <tr>\n",
       "      <th>Amenity_Wifi</th>\n",
       "      <td>1788</td>\n",
       "      <td>13.9</td>\n",
       "      <td>1.373674</td>\n",
       "      <td>1.226636</td>\n",
       "      <td>0.147038</td>\n",
       "    </tr>\n",
       "    <tr>\n",
       "      <th>Amenity_Controlled Access</th>\n",
       "      <td>3318</td>\n",
       "      <td>25.7</td>\n",
       "      <td>1.328327</td>\n",
       "      <td>1.218863</td>\n",
       "      <td>0.109464</td>\n",
       "    </tr>\n",
       "    <tr>\n",
       "      <th>Amenity_Pet</th>\n",
       "      <td>2003</td>\n",
       "      <td>15.5</td>\n",
       "      <td>1.336051</td>\n",
       "      <td>1.230650</td>\n",
       "      <td>0.105401</td>\n",
       "    </tr>\n",
       "    <tr>\n",
       "      <th>Amenity_Spa/Sauna</th>\n",
       "      <td>2421</td>\n",
       "      <td>18.8</td>\n",
       "      <td>1.322701</td>\n",
       "      <td>1.229530</td>\n",
       "      <td>0.093172</td>\n",
       "    </tr>\n",
       "    <tr>\n",
       "      <th>Amenity_Business</th>\n",
       "      <td>6724</td>\n",
       "      <td>52.1</td>\n",
       "      <td>1.290338</td>\n",
       "      <td>1.199864</td>\n",
       "      <td>0.090474</td>\n",
       "    </tr>\n",
       "    <tr>\n",
       "      <th>Amenity_Grill</th>\n",
       "      <td>5304</td>\n",
       "      <td>41.1</td>\n",
       "      <td>1.279887</td>\n",
       "      <td>1.224065</td>\n",
       "      <td>0.055822</td>\n",
       "    </tr>\n",
       "    <tr>\n",
       "      <th>Amenity_Sundeck</th>\n",
       "      <td>2875</td>\n",
       "      <td>22.3</td>\n",
       "      <td>1.270518</td>\n",
       "      <td>1.240272</td>\n",
       "      <td>0.030246</td>\n",
       "    </tr>\n",
       "    <tr>\n",
       "      <th>Amenity_Package Service</th>\n",
       "      <td>3655</td>\n",
       "      <td>28.3</td>\n",
       "      <td>1.262971</td>\n",
       "      <td>1.240704</td>\n",
       "      <td>0.022267</td>\n",
       "    </tr>\n",
       "    <tr>\n",
       "      <th>Amenity_Clubhouse</th>\n",
       "      <td>7553</td>\n",
       "      <td>58.5</td>\n",
       "      <td>1.243600</td>\n",
       "      <td>1.251828</td>\n",
       "      <td>-0.008228</td>\n",
       "    </tr>\n",
       "    <tr>\n",
       "      <th>Amenity_Gated</th>\n",
       "      <td>4226</td>\n",
       "      <td>32.8</td>\n",
       "      <td>1.238990</td>\n",
       "      <td>1.250919</td>\n",
       "      <td>-0.011929</td>\n",
       "    </tr>\n",
       "    <tr>\n",
       "      <th>Amenity_Maintenance on site</th>\n",
       "      <td>4416</td>\n",
       "      <td>34.2</td>\n",
       "      <td>1.239158</td>\n",
       "      <td>1.251098</td>\n",
       "      <td>-0.011941</td>\n",
       "    </tr>\n",
       "    <tr>\n",
       "      <th>Amenity_Property Manager on Site</th>\n",
       "      <td>6836</td>\n",
       "      <td>53.0</td>\n",
       "      <td>1.222594</td>\n",
       "      <td>1.274524</td>\n",
       "      <td>-0.051931</td>\n",
       "    </tr>\n",
       "    <tr>\n",
       "      <th>Amenity_Sports</th>\n",
       "      <td>4257</td>\n",
       "      <td>33.0</td>\n",
       "      <td>1.186281</td>\n",
       "      <td>1.276913</td>\n",
       "      <td>-0.090632</td>\n",
       "    </tr>\n",
       "    <tr>\n",
       "      <th>Amenity_Picnic Area</th>\n",
       "      <td>4145</td>\n",
       "      <td>32.1</td>\n",
       "      <td>1.176531</td>\n",
       "      <td>1.280369</td>\n",
       "      <td>-0.103838</td>\n",
       "    </tr>\n",
       "    <tr>\n",
       "      <th>Amenity_Laundry</th>\n",
       "      <td>8419</td>\n",
       "      <td>65.2</td>\n",
       "      <td>1.187084</td>\n",
       "      <td>1.359529</td>\n",
       "      <td>-0.172445</td>\n",
       "    </tr>\n",
       "    <tr>\n",
       "      <th>Amenity_Playground</th>\n",
       "      <td>5117</td>\n",
       "      <td>39.7</td>\n",
       "      <td>1.088251</td>\n",
       "      <td>1.351350</td>\n",
       "      <td>-0.263099</td>\n",
       "    </tr>\n",
       "  </tbody>\n",
       "</table>\n",
       "</div>"
      ],
      "text/plain": [
       "                                  # Properties  % Properties  \\\n",
       "Amenity_Roof Terrace                       122           0.9   \n",
       "Amenity_Maid Service                       172           1.3   \n",
       "Amenity_Bicycle Storage                    243           1.9   \n",
       "Amenity_Car Charging Station               172           1.3   \n",
       "Amenity_On-Site Retail                     277           2.1   \n",
       "Amenity_Elevator                          1270           9.8   \n",
       "Amenity_LEED/Energy Star                   134           1.0   \n",
       "Amenity_Fitness Center                    9157          71.0   \n",
       "Amenity_Wifi                              1788          13.9   \n",
       "Amenity_Controlled Access                 3318          25.7   \n",
       "Amenity_Pet                               2003          15.5   \n",
       "Amenity_Spa/Sauna                         2421          18.8   \n",
       "Amenity_Business                          6724          52.1   \n",
       "Amenity_Grill                             5304          41.1   \n",
       "Amenity_Sundeck                           2875          22.3   \n",
       "Amenity_Package Service                   3655          28.3   \n",
       "Amenity_Clubhouse                         7553          58.5   \n",
       "Amenity_Gated                             4226          32.8   \n",
       "Amenity_Maintenance on site               4416          34.2   \n",
       "Amenity_Property Manager on Site          6836          53.0   \n",
       "Amenity_Sports                            4257          33.0   \n",
       "Amenity_Picnic Area                       4145          32.1   \n",
       "Amenity_Laundry                           8419          65.2   \n",
       "Amenity_Playground                        5117          39.7   \n",
       "\n",
       "                                  Avg Effective/SF w/ Amenity  \\\n",
       "Amenity_Roof Terrace                                 2.048852   \n",
       "Amenity_Maid Service                                 1.946047   \n",
       "Amenity_Bicycle Storage                              1.825021   \n",
       "Amenity_Car Charging Station                         1.804826   \n",
       "Amenity_On-Site Retail                               1.734549   \n",
       "Amenity_Elevator                                     1.692252   \n",
       "Amenity_LEED/Energy Star                             1.733433   \n",
       "Amenity_Fitness Center                               1.309690   \n",
       "Amenity_Wifi                                         1.373674   \n",
       "Amenity_Controlled Access                            1.328327   \n",
       "Amenity_Pet                                          1.336051   \n",
       "Amenity_Spa/Sauna                                    1.322701   \n",
       "Amenity_Business                                     1.290338   \n",
       "Amenity_Grill                                        1.279887   \n",
       "Amenity_Sundeck                                      1.270518   \n",
       "Amenity_Package Service                              1.262971   \n",
       "Amenity_Clubhouse                                    1.243600   \n",
       "Amenity_Gated                                        1.238990   \n",
       "Amenity_Maintenance on site                          1.239158   \n",
       "Amenity_Property Manager on Site                     1.222594   \n",
       "Amenity_Sports                                       1.186281   \n",
       "Amenity_Picnic Area                                  1.176531   \n",
       "Amenity_Laundry                                      1.187084   \n",
       "Amenity_Playground                                   1.088251   \n",
       "\n",
       "                                  Avg Effective/SF w/o Amenity  \\\n",
       "Amenity_Roof Terrace                                  1.239358   \n",
       "Amenity_Maid Service                                  1.237567   \n",
       "Amenity_Bicycle Storage                               1.235917   \n",
       "Amenity_Car Charging Station                          1.239475   \n",
       "Amenity_On-Site Retail                                1.236316   \n",
       "Amenity_Elevator                                      1.198404   \n",
       "Amenity_LEED/Energy Star                              1.241907   \n",
       "Amenity_Fitness Center                                1.093796   \n",
       "Amenity_Wifi                                          1.226636   \n",
       "Amenity_Controlled Access                             1.218863   \n",
       "Amenity_Pet                                           1.230650   \n",
       "Amenity_Spa/Sauna                                     1.229530   \n",
       "Amenity_Business                                      1.199864   \n",
       "Amenity_Grill                                         1.224065   \n",
       "Amenity_Sundeck                                       1.240272   \n",
       "Amenity_Package Service                               1.240704   \n",
       "Amenity_Clubhouse                                     1.251828   \n",
       "Amenity_Gated                                         1.250919   \n",
       "Amenity_Maintenance on site                           1.251098   \n",
       "Amenity_Property Manager on Site                      1.274524   \n",
       "Amenity_Sports                                        1.276913   \n",
       "Amenity_Picnic Area                                   1.280369   \n",
       "Amenity_Laundry                                       1.359529   \n",
       "Amenity_Playground                                    1.351350   \n",
       "\n",
       "                                  Avg Effective/SF Diff  \n",
       "Amenity_Roof Terrace                           0.809495  \n",
       "Amenity_Maid Service                           0.708479  \n",
       "Amenity_Bicycle Storage                        0.589104  \n",
       "Amenity_Car Charging Station                   0.565350  \n",
       "Amenity_On-Site Retail                         0.498233  \n",
       "Amenity_Elevator                               0.493848  \n",
       "Amenity_LEED/Energy Star                       0.491526  \n",
       "Amenity_Fitness Center                         0.215894  \n",
       "Amenity_Wifi                                   0.147038  \n",
       "Amenity_Controlled Access                      0.109464  \n",
       "Amenity_Pet                                    0.105401  \n",
       "Amenity_Spa/Sauna                              0.093172  \n",
       "Amenity_Business                               0.090474  \n",
       "Amenity_Grill                                  0.055822  \n",
       "Amenity_Sundeck                                0.030246  \n",
       "Amenity_Package Service                        0.022267  \n",
       "Amenity_Clubhouse                             -0.008228  \n",
       "Amenity_Gated                                 -0.011929  \n",
       "Amenity_Maintenance on site                   -0.011941  \n",
       "Amenity_Property Manager on Site              -0.051931  \n",
       "Amenity_Sports                                -0.090632  \n",
       "Amenity_Picnic Area                           -0.103838  \n",
       "Amenity_Laundry                               -0.172445  \n",
       "Amenity_Playground                            -0.263099  "
      ]
     },
     "execution_count": 652,
     "metadata": {},
     "output_type": "execute_result"
    }
   ],
   "source": [
    "# Amenity vs. Avg effective/SF (when amenity is present vs. not present) + dummy variable creation\n",
    "cols = ['Amenity_Roof Terrace', 'Amenity_Maid Service', 'Amenity_Bicycle Storage',\n",
    "       'Amenity_Car Charging Station', 'Amenity_On-Site Retail', 'Amenity_Elevator',\n",
    "       'Amenity_Fitness Center', 'Amenity_Clubhouse', 'Amenity_Property Manager on Site',\n",
    "       'Amenity_Grill', 'Amenity_Playground', 'Amenity_Maintenance on site', 'Amenity_Gated',\n",
    "       'Amenity_Picnic Area', 'Amenity_Package Service', 'Amenity_Controlled Access',\n",
    "       'Amenity_Sundeck', 'Amenity_LEED/Energy Star', 'Amenity_Sports', 'Amenity_Business',\n",
    "       'Amenity_Laundry', 'Amenity_Spa/Sauna', 'Amenity_Pet', 'Amenity_Wifi']\n",
    "amenity_summary = pd.DataFrame(sub[cols].sum()).rename(columns={0:'# Properties'})\n",
    "amenity_summary['% Properties'] = amenity_summary['# Properties']/sub.shape[0]*100\n",
    "amenity_summary['% Properties'] = amenity_summary['% Properties'].apply(lambda x: round(x,1))\n",
    "for amenity in cols:\n",
    "    amenity_summary.loc[amenity, 'Avg Effective/SF w/ Amenity'] = \\\n",
    "    sub[sub[amenity]==1]['Avg Effective/SF'].mean()\n",
    "    amenity_summary.loc[amenity, 'Avg Effective/SF w/o Amenity'] = \\\n",
    "    sub[sub[amenity]==0]['Avg Effective/SF'].mean()\n",
    "amenity_summary['Avg Effective/SF Diff'] = amenity_summary['Avg Effective/SF w/ Amenity']-\\\n",
    "                                           amenity_summary['Avg Effective/SF w/o Amenity']\n",
    "amenity_summary = amenity_summary.sort_values('Avg Effective/SF Diff', ascending=False)\n",
    "amenity_summary"
   ]
  },
  {
   "cell_type": "markdown",
   "metadata": {},
   "source": [
    "# 4. Linear Regression"
   ]
  },
  {
   "cell_type": "code",
   "execution_count": 657,
   "metadata": {},
   "outputs": [
    {
     "data": {
      "text/plain": [
       "(12903, 80)"
      ]
     },
     "execution_count": 657,
     "metadata": {},
     "output_type": "execute_result"
    }
   ],
   "source": [
    "# Final list of variables considered for regression model (Base group excluded for analsysi)\n",
    "cols = ['PropertyID', 'Avg Effective/SF', \n",
    "       # Property\n",
    "       'Avg Concessions %', 'Vacancy %', 'Avg Unit SF', 'Year Built', 'Year Renovated', 'Star Rating', \n",
    "       'Number Of Units', 'RBA', 'Floor Area Ratio', 'Land Area (AC)', 'Number Of Stories', \n",
    "       '% 1-Bed', '% 2-Bed', '% 3-Bed', '% 4-Bed', \n",
    "       'Construction Material_Masonry', 'Construction Material_Reinforced Concrete',\n",
    "       'Construction Material_Steel or Metal',\n",
    "       'Owner Type_large', 'Owner Type_medium',\n",
    "       'Affordable Type_Rent Restricted', 'Affordable Type_Rent Subsidized', 'Affordable Type_Affordable Units',\n",
    "       # Location & Demographic\n",
    "       'Closest Transit Stop Dist (mi)', '2019 Avg Age(1m)', '2019 Pop Tot', \n",
    "       'MedanHHIncome(000)', 'married %', 'male/female', 'Deposit (000s) Per Capita',\n",
    "       'Supply_all', 'Supply_vacant',\n",
    "       'State_GA', 'State_FL', 'State_NC',\n",
    "       'City_Atlanta', 'City_Dallas', 'City_Tampa', 'City_Orlando', 'City_Miami',\n",
    "       'City_Jacksonville', 'City_Tallahassee', 'City_Charlotte', 'City_Durham',\n",
    "       'City_Greensboro', 'City_Raleigh', 'City_Fort Worth', 'City_San Antonio',\n",
    "       'City_Austin', 'City_Houston', 'City_Arlington', 'City_El Paso', 'City_Irving', 'City_Plano',\n",
    "       # Amenities\n",
    "       'Amenity_Roof Terrace', 'Amenity_Maid Service', 'Amenity_Bicycle Storage',\n",
    "       'Amenity_Car Charging Station', 'Amenity_On-Site Retail', 'Amenity_Elevator',\n",
    "       'Amenity_Fitness Center', 'Amenity_Clubhouse', 'Amenity_Property Manager on Site',\n",
    "       'Amenity_Grill', 'Amenity_Playground', 'Amenity_Maintenance on site', 'Amenity_Gated',\n",
    "       'Amenity_Picnic Area', 'Amenity_Package Service', 'Amenity_Controlled Access',\n",
    "       'Amenity_Sundeck', 'Amenity_LEED/Energy Star', 'Amenity_Sports', 'Amenity_Business',\n",
    "       'Amenity_Laundry', 'Amenity_Spa/Sauna', 'Amenity_Pet', 'Amenity_Wifi']\n",
    "final_onehot = sub[cols].copy()\n",
    "final_onehot = final_onehot.fillna(0)\n",
    "final_onehot.shape"
   ]
  },
  {
   "cell_type": "markdown",
   "metadata": {},
   "source": [
    "### 4.1 Export for JMP"
   ]
  },
  {
   "cell_type": "code",
   "execution_count": 655,
   "metadata": {},
   "outputs": [],
   "source": [
    "final_onehot.to_csv('final_onehot_1125.csv', index=False)"
   ]
  },
  {
   "cell_type": "markdown",
   "metadata": {},
   "source": [
    "### 4.2 Statsmodels\n",
    "- The result matches JMP result\n",
    "- Further variable and outlier exclusions are done in JMP"
   ]
  },
  {
   "cell_type": "code",
   "execution_count": 133,
   "metadata": {},
   "outputs": [],
   "source": [
    "test = final_onehot.copy()"
   ]
  },
  {
   "cell_type": "code",
   "execution_count": 134,
   "metadata": {},
   "outputs": [],
   "source": [
    "import statsmodels.api as sm\n",
    "from statsmodels.stats.outliers_influence import variance_inflation_factor as vif\n",
    "from statsmodels.tools.tools import add_constant\n",
    "from statsmodels.stats.outliers_influence import OLSInfluence as infl"
   ]
  },
  {
   "cell_type": "markdown",
   "metadata": {},
   "source": [
    "Check VIF to ensure no severe multicolinearity."
   ]
  },
  {
   "cell_type": "code",
   "execution_count": 135,
   "metadata": {},
   "outputs": [
    {
     "name": "stderr",
     "output_type": "stream",
     "text": [
      "/Library/Frameworks/Python.framework/Versions/3.7/lib/python3.7/site-packages/numpy/core/fromnumeric.py:2223: FutureWarning: Method .ptp is deprecated and will be removed in a future version. Use numpy.ptp instead.\n",
      "  return ptp(axis=axis, out=out, **kwargs)\n"
     ]
    },
    {
     "data": {
      "text/plain": [
       "const                                   47551.034684\n",
       "% 1-Bed                                     9.412069\n",
       "% 2-Bed                                     7.005639\n",
       "Supply_vacant                               6.956090\n",
       "Supply_all                                  6.868208\n",
       "% 3-Bed                                     5.478698\n",
       "RBA                                         4.331890\n",
       "Number Of Units                             4.128782\n",
       "Year Built                                  3.853151\n",
       "married %                                   3.670934\n",
       "Deposit (000s) Per Capita                   3.536555\n",
       "State_FL                                    3.492203\n",
       "City_Charlotte                              3.205380\n",
       "MedanHHIncome(000)                          3.032181\n",
       "Avg Unit SF                                 2.978755\n",
       "% 4-Bed                                     2.934404\n",
       "Star Rating                                 2.861852\n",
       "State_NC                                    2.853037\n",
       "Year Renovated                              2.554101\n",
       "State_GA                                    2.329580\n",
       "2019 Pop Tot                                2.151365\n",
       "City_Houston                                1.950099\n",
       "Amenity_Maintenance on site                 1.928520\n",
       "City_Dallas                                 1.849001\n",
       "Number Of Stories                           1.825543\n",
       "City_Atlanta                                1.803963\n",
       "Amenity_Fitness Center                      1.790801\n",
       "Amenity_Package Service                     1.765254\n",
       "2019 Avg Age(1m)                            1.663167\n",
       "Amenity_Grill                               1.597699\n",
       "                                            ...     \n",
       "Construction Material_Steel or Metal        1.282758\n",
       "City_Orlando                                1.276317\n",
       "Amenity_Laundry                             1.231115\n",
       "male/female                                 1.222513\n",
       "City_Irving                                 1.218052\n",
       "Vacancy %                                   1.203675\n",
       "Amenity_Bicycle Storage                     1.199086\n",
       "City_Tampa                                  1.197687\n",
       "City_Greensboro                             1.195640\n",
       "City_Durham                                 1.175744\n",
       "City_Fort Worth                             1.172993\n",
       "Amenity_Spa/Sauna                           1.168588\n",
       "City_Tallahassee                            1.167728\n",
       "Land Area (AC)                              1.167444\n",
       "Amenity_Pet                                 1.161951\n",
       "Amenity_Wifi                                1.144294\n",
       "Affordable Type_Rent Subsidized             1.142639\n",
       "Owner Type_large                            1.139981\n",
       "Avg Concessions %                           1.139287\n",
       "Amenity_Roof Terrace                        1.136265\n",
       "Owner Type_medium                           1.127687\n",
       "Amenity_Car Charging Station                1.115983\n",
       "Amenity_On-Site Retail                      1.097522\n",
       "City_El Paso                                1.087768\n",
       "City_Arlington                              1.086626\n",
       "City_Plano                                  1.063534\n",
       "Amenity_LEED/Energy Star                    1.035300\n",
       "Amenity_Maid Service                        1.030196\n",
       "Affordable Type_Affordable Units            1.029274\n",
       "Floor Area Ratio                            1.007222\n",
       "Length: 79, dtype: float64"
      ]
     },
     "execution_count": 135,
     "metadata": {},
     "output_type": "execute_result"
    }
   ],
   "source": [
    "Xc = add_constant(test.iloc[:,2:])\n",
    "vifs = [vif(Xc.values, i) for i in range(len(Xc.columns))]\n",
    "pd.Series(data=vifs, index=Xc.columns).sort_values(ascending=False)"
   ]
  },
  {
   "cell_type": "code",
   "execution_count": 136,
   "metadata": {},
   "outputs": [],
   "source": [
    "model = sm.OLS(test['Avg Effective/SF'], Xc)"
   ]
  },
  {
   "cell_type": "code",
   "execution_count": 137,
   "metadata": {},
   "outputs": [],
   "source": [
    "result = model.fit()"
   ]
  },
  {
   "cell_type": "code",
   "execution_count": 138,
   "metadata": {},
   "outputs": [
    {
     "name": "stdout",
     "output_type": "stream",
     "text": [
      "                            OLS Regression Results                            \n",
      "==============================================================================\n",
      "Dep. Variable:       Avg Effective/SF   R-squared:                       0.494\n",
      "Model:                            OLS   Adj. R-squared:                  0.491\n",
      "Method:                 Least Squares   F-statistic:                     160.6\n",
      "Date:                Wed, 27 Nov 2019   Prob (F-statistic):               0.00\n",
      "Time:                        15:47:23   Log-Likelihood:                -4033.3\n",
      "No. Observations:               12903   AIC:                             8225.\n",
      "Df Residuals:                   12824   BIC:                             8814.\n",
      "Df Model:                          78                                         \n",
      "Covariance Type:            nonrobust                                         \n",
      "=============================================================================================================\n",
      "                                                coef    std err          t      P>|t|      [0.025      0.975]\n",
      "-------------------------------------------------------------------------------------------------------------\n",
      "const                                        -8.5018      0.637    -13.348      0.000      -9.750      -7.253\n",
      "Avg Concessions %                            -0.0121      0.002     -7.952      0.000      -0.015      -0.009\n",
      "Vacancy %                                     0.0036      0.000      8.652      0.000       0.003       0.004\n",
      "Avg Unit SF                                  -0.0009   2.86e-05    -31.420      0.000      -0.001      -0.001\n",
      "Year Built                                    0.0051      0.000     14.626      0.000       0.004       0.006\n",
      "Year Renovated                             7.997e-05      0.000      0.278      0.781      -0.000       0.001\n",
      "Star Rating                                   0.0543      0.007      8.028      0.000       0.041       0.068\n",
      "Number Of Units                              -0.0002   4.55e-05     -5.072      0.000      -0.000      -0.000\n",
      "RBA                                        1.953e-07   3.83e-08      5.096      0.000     1.2e-07     2.7e-07\n",
      "Floor Area Ratio                          -4.608e-05   9.18e-05     -0.502      0.616      -0.000       0.000\n",
      "Land Area (AC)                               -0.0002      0.000     -1.404      0.160      -0.000    7.13e-05\n",
      "Number Of Stories                             0.0208      0.001     15.969      0.000       0.018       0.023\n",
      "% 1-Bed                                      -0.0042      0.000    -10.426      0.000      -0.005      -0.003\n",
      "% 2-Bed                                      -0.0037      0.000     -8.800      0.000      -0.005      -0.003\n",
      "% 3-Bed                                      -0.0025      0.001     -4.993      0.000      -0.003      -0.002\n",
      "% 4-Bed                                       0.0046      0.001      8.069      0.000       0.003       0.006\n",
      "Construction Material_Masonry                 0.0100      0.007      1.445      0.148      -0.004       0.024\n",
      "Construction Material_Reinforced Concrete     0.0922      0.013      7.371      0.000       0.068       0.117\n",
      "Construction Material_Steel or Metal          0.0668      0.027      2.457      0.014       0.013       0.120\n",
      "Owner Type_large                              0.0187      0.012      1.558      0.119      -0.005       0.042\n",
      "Owner Type_medium                            -0.0073      0.007     -1.124      0.261      -0.020       0.005\n",
      "Affordable Type_Rent Restricted              -0.3031      0.011    -27.884      0.000      -0.324      -0.282\n",
      "Affordable Type_Rent Subsidized              -0.2353      0.017    -13.944      0.000      -0.268      -0.202\n",
      "Affordable Type_Affordable Units             -0.1893      0.033     -5.686      0.000      -0.255      -0.124\n",
      "Closest Transit Stop Dist (mi)               -0.0008      0.000     -2.274      0.023      -0.002      -0.000\n",
      "2019 Avg Age(1m)                              0.0088      0.001      9.493      0.000       0.007       0.011\n",
      "2019 Pop Tot                               5.071e-06   4.91e-07     10.324      0.000    4.11e-06    6.03e-06\n",
      "MedanHHIncome(000)                            0.0061      0.000     25.038      0.000       0.006       0.007\n",
      "married %                                    -0.0073      0.001    -14.134      0.000      -0.008      -0.006\n",
      "male/female                                   0.0279      0.017      1.659      0.097      -0.005       0.061\n",
      "Deposit (000s) Per Capita                     0.0005      0.000      3.138      0.002       0.000       0.001\n",
      "Supply_all                                 9.681e-06   2.03e-06      4.769      0.000     5.7e-06    1.37e-05\n",
      "Supply_vacant                                -0.0001   2.39e-05     -6.076      0.000      -0.000   -9.82e-05\n",
      "State_GA                                      0.0520      0.013      4.105      0.000       0.027       0.077\n",
      "State_FL                                      0.1679      0.013     12.983      0.000       0.143       0.193\n",
      "State_NC                                     -0.0280      0.015     -1.881      0.060      -0.057       0.001\n",
      "City_Atlanta                                  0.0085      0.020      0.428      0.668      -0.030       0.047\n",
      "City_Dallas                                   0.0130      0.017      0.775      0.438      -0.020       0.046\n",
      "City_Tampa                                   -0.1506      0.022     -6.818      0.000      -0.194      -0.107\n",
      "City_Orlando                                 -0.0935      0.020     -4.576      0.000      -0.134      -0.053\n",
      "City_Miami                                   -0.0084      0.027     -0.307      0.759      -0.062       0.045\n",
      "City_Jacksonville                            -0.1890      0.022     -8.452      0.000      -0.233      -0.145\n",
      "City_Tallahassee                             -0.1876      0.035     -5.364      0.000      -0.256      -0.119\n",
      "City_Charlotte                               -0.0844      0.031     -2.717      0.007      -0.145      -0.023\n",
      "City_Durham                                   0.0652      0.033      1.977      0.048       0.001       0.130\n",
      "City_Greensboro                              -0.1302      0.032     -4.134      0.000      -0.192      -0.068\n",
      "City_Raleigh                                  0.0013      0.025      0.052      0.959      -0.048       0.051\n",
      "City_Fort Worth                               0.0326      0.023      1.416      0.157      -0.013       0.078\n",
      "City_San Antonio                             -0.0827      0.016     -5.073      0.000      -0.115      -0.051\n",
      "City_Austin                                   0.1621      0.017      9.343      0.000       0.128       0.196\n",
      "City_Houston                                 -0.0176      0.013     -1.328      0.184      -0.044       0.008\n",
      "City_Arlington                                0.0955      0.028      3.384      0.001       0.040       0.151\n",
      "City_El Paso                                 -0.1628      0.031     -5.235      0.000      -0.224      -0.102\n",
      "City_Irving                                   0.0797      0.030      2.686      0.007       0.022       0.138\n",
      "City_Plano                                    0.1308      0.034      3.883      0.000       0.065       0.197\n",
      "Amenity_Roof Terrace                          0.1208      0.032      3.754      0.000       0.058       0.184\n",
      "Amenity_Maid Service                          0.5319      0.026     20.575      0.000       0.481       0.583\n",
      "Amenity_Bicycle Storage                       0.0763      0.024      3.243      0.001       0.030       0.122\n",
      "Amenity_Car Charging Station                  0.0823      0.027      3.058      0.002       0.030       0.135\n",
      "Amenity_On-Site Retail                        0.0962      0.021      4.558      0.000       0.055       0.138\n",
      "Amenity_Elevator                              0.0534      0.012      4.504      0.000       0.030       0.077\n",
      "Amenity_Fitness Center                        0.0562      0.009      6.527      0.000       0.039       0.073\n",
      "Amenity_Clubhouse                            -0.0264      0.007     -3.888      0.000      -0.040      -0.013\n",
      "Amenity_Property Manager on Site             -0.0029      0.007     -0.406      0.685      -0.017       0.011\n",
      "Amenity_Grill                                 0.0046      0.008      0.617      0.537      -0.010       0.019\n",
      "Amenity_Playground                           -0.0347      0.007     -4.893      0.000      -0.049      -0.021\n",
      "Amenity_Maintenance on site                  -0.0218      0.009     -2.556      0.011      -0.039      -0.005\n",
      "Amenity_Gated                                -0.0196      0.007     -2.770      0.006      -0.034      -0.006\n",
      "Amenity_Picnic Area                          -0.0296      0.008     -3.792      0.000      -0.045      -0.014\n",
      "Amenity_Package Service                      -0.0084      0.009     -0.975      0.329      -0.025       0.008\n",
      "Amenity_Controlled Access                    -0.0011      0.008     -0.132      0.895      -0.017       0.015\n",
      "Amenity_Sundeck                              -0.0075      0.009     -0.845      0.398      -0.025       0.010\n",
      "Amenity_LEED/Energy Star                      0.1282      0.029      4.374      0.000       0.071       0.186\n",
      "Amenity_Sports                               -0.0093      0.007     -1.320      0.187      -0.023       0.005\n",
      "Amenity_Business                              0.0014      0.007      0.206      0.837      -0.012       0.015\n",
      "Amenity_Laundry                              -0.0236      0.007     -3.466      0.001      -0.037      -0.010\n",
      "Amenity_Spa/Sauna                            -0.0021      0.008     -0.255      0.798      -0.018       0.014\n",
      "Amenity_Pet                                  -0.0109      0.009     -1.259      0.208      -0.028       0.006\n",
      "Amenity_Wifi                                  0.0149      0.009      1.649      0.099      -0.003       0.033\n",
      "==============================================================================\n",
      "Omnibus:                    18700.767   Durbin-Watson:                   1.919\n",
      "Prob(Omnibus):                  0.000   Jarque-Bera (JB):         18243745.463\n",
      "Skew:                           8.309   Prob(JB):                         0.00\n",
      "Kurtosis:                     186.461   Cond. No.                     6.78e+07\n",
      "==============================================================================\n",
      "\n",
      "Warnings:\n",
      "[1] Standard Errors assume that the covariance matrix of the errors is correctly specified.\n",
      "[2] The condition number is large, 6.78e+07. This might indicate that there are\n",
      "strong multicollinearity or other numerical problems.\n"
     ]
    }
   ],
   "source": [
    "print(result.summary())"
   ]
  },
  {
   "cell_type": "markdown",
   "metadata": {},
   "source": [
    "# 5. Random Forest Regressor with Scikit-Learn"
   ]
  },
  {
   "cell_type": "markdown",
   "metadata": {},
   "source": [
    "### 5.1 Exclude outliers identified from the regression model"
   ]
  },
  {
   "cell_type": "code",
   "execution_count": 139,
   "metadata": {},
   "outputs": [],
   "source": [
    "jmp = pd.read_csv('final_onehot_1125_outlier_est_CI.dat')"
   ]
  },
  {
   "cell_type": "code",
   "execution_count": 140,
   "metadata": {},
   "outputs": [
    {
     "data": {
      "text/plain": [
       "(12903, 85)"
      ]
     },
     "execution_count": 140,
     "metadata": {},
     "output_type": "execute_result"
    }
   ],
   "source": [
    "jmp.shape"
   ]
  },
  {
   "cell_type": "code",
   "execution_count": 141,
   "metadata": {},
   "outputs": [
    {
     "data": {
      "text/plain": [
       "507"
      ]
     },
     "execution_count": 141,
     "metadata": {},
     "output_type": "execute_result"
    }
   ],
   "source": [
    "outlier = jmp[jmp['Outlier']==1]['PropertyID'].tolist()\n",
    "len(outlier)"
   ]
  },
  {
   "cell_type": "code",
   "execution_count": 142,
   "metadata": {},
   "outputs": [
    {
     "data": {
      "text/plain": [
       "(12396, 56)"
      ]
     },
     "execution_count": 142,
     "metadata": {},
     "output_type": "execute_result"
    }
   ],
   "source": [
    "cols = ['PropertyID', 'Avg Effective/SF', \n",
    "       # Property\n",
    "       'Avg Concessions %', 'Vacancy %', 'Avg Unit SF', 'Year Built', 'Year Renovated', 'Star Rating', \n",
    "       'Number Of Units', 'RBA', 'Floor Area Ratio', 'Land Area (AC)', 'Number Of Stories', \n",
    "       '% 1-Bed', '% 2-Bed', '% 3-Bed', '% 4-Bed', \n",
    "       'Construction Material*', 'Owner Type', 'Affordable Type*',\n",
    "       # Location & Demographic\n",
    "       'Closest Transit Stop Dist (mi)', '2019 Avg Age(1m)', '2019 Pop Tot',\n",
    "       'MedanHHIncome(000)', 'married %', 'male/female', 'Deposit (000s) Per Capita',\n",
    "       'Supply_all', 'Supply_vacant',\n",
    "       'State', 'City', 'County Name',\n",
    "       # Amenities\n",
    "       'Amenity_Roof Terrace', 'Amenity_Maid Service', 'Amenity_Bicycle Storage',\n",
    "       'Amenity_Car Charging Station', 'Amenity_On-Site Retail', 'Amenity_Elevator',\n",
    "       'Amenity_Fitness Center', 'Amenity_Clubhouse', 'Amenity_Property Manager on Site',\n",
    "       'Amenity_Grill', 'Amenity_Playground', 'Amenity_Maintenance on site', 'Amenity_Gated',\n",
    "       'Amenity_Picnic Area', 'Amenity_Package Service', 'Amenity_Controlled Access',\n",
    "       'Amenity_Sundeck', 'Amenity_LEED/Energy Star', 'Amenity_Sports', 'Amenity_Business',\n",
    "       'Amenity_Laundry', 'Amenity_Spa/Sauna', 'Amenity_Pet', 'Amenity_Wifi']\n",
    "sub1 = sub[-sub['PropertyID'].isin(outlier)][cols].copy()\n",
    "sub1 = sub1.fillna(0)\n",
    "sub1.shape"
   ]
  },
  {
   "cell_type": "markdown",
   "metadata": {},
   "source": [
    "### 5.2 Regroup City, County and Affordable Type\n",
    "- Make sure test subset will have enough observations in each category"
   ]
  },
  {
   "cell_type": "code",
   "execution_count": 143,
   "metadata": {},
   "outputs": [
    {
     "name": "stdout",
     "output_type": "stream",
     "text": [
      "# City: 15\n",
      "Smallest city bin: Raleigh    229\n",
      "Name: City**, dtype: int64\n"
     ]
    }
   ],
   "source": [
    "city = sub1['City'].value_counts().reset_index()\n",
    "city.columns = ['City', 'Count']\n",
    "large_city = city[city['Count']>200]['City'].unique()\n",
    "sub1['City**'] = sub1[['City','State']].apply(lambda x: x[0] if x[0] in large_city\\\n",
    "                                          else '{} Other'.format(x[1]), axis=1)\n",
    "print('# City:', sub1['City**'].nunique())\n",
    "print('Smallest city bin:', sub1['City**'].value_counts().tail(1))"
   ]
  },
  {
   "cell_type": "code",
   "execution_count": 144,
   "metadata": {},
   "outputs": [
    {
     "name": "stdout",
     "output_type": "stream",
     "text": [
      "# County: 22\n",
      "Smallest county bin: Palm Beach    201\n",
      "Name: County**, dtype: int64\n"
     ]
    }
   ],
   "source": [
    "county = sub1['County Name'].value_counts().reset_index()\n",
    "county.columns = ['County', 'Count']\n",
    "large_county = county[county['Count']>200]['County'].unique()\n",
    "sub1['County**'] = sub1[['County Name','State']].apply(lambda x: x[0] if x[0] in large_county\\\n",
    "                                          else '{} Other'.format(x[1]), axis=1)\n",
    "print('# County:', sub1['County**'].nunique())\n",
    "print('Smallest county bin:', sub1['County**'].value_counts().tail(1))"
   ]
  },
  {
   "cell_type": "code",
   "execution_count": 145,
   "metadata": {},
   "outputs": [
    {
     "data": {
      "text/plain": [
       "Wood Frame             6977\n",
       "Masonry                4334\n",
       "Reinforced Concrete     952\n",
       "Steel or Metal          133\n",
       "Name: Construction Material*, dtype: int64"
      ]
     },
     "execution_count": 145,
     "metadata": {},
     "output_type": "execute_result"
    }
   ],
   "source": [
    "sub1['Construction Material*'].value_counts()"
   ]
  },
  {
   "cell_type": "markdown",
   "metadata": {},
   "source": [
    "Although Steel or Metal only have 134 observations, it's hard to reason combining it with any other categories, so will leave it as it is."
   ]
  },
  {
   "cell_type": "code",
   "execution_count": 146,
   "metadata": {},
   "outputs": [
    {
     "data": {
      "text/plain": [
       "small     7184\n",
       "medium    4296\n",
       "large      916\n",
       "Name: Owner Type, dtype: int64"
      ]
     },
     "execution_count": 146,
     "metadata": {},
     "output_type": "execute_result"
    }
   ],
   "source": [
    "sub1['Owner Type'].value_counts()"
   ]
  },
  {
   "cell_type": "code",
   "execution_count": 147,
   "metadata": {},
   "outputs": [
    {
     "data": {
      "text/plain": [
       "Market              10525\n",
       "Rent Restricted      1364\n",
       "Rent Subsidized       418\n",
       "Affordable Units       89\n",
       "Name: Affordable Type*, dtype: int64"
      ]
     },
     "execution_count": 147,
     "metadata": {},
     "output_type": "execute_result"
    }
   ],
   "source": [
    "sub1['Affordable Type*'].value_counts()"
   ]
  },
  {
   "cell_type": "code",
   "execution_count": 148,
   "metadata": {},
   "outputs": [],
   "source": [
    "sub1['Affordable Type**'] = sub1['Affordable Type*'].map({'Rent Restricted':'Rent Restricted',\n",
    "                                                          'Market':'Market',\n",
    "                                                          'Rent Subsidized':'Rent Subsidized/Affordable Units',\n",
    "                                                          'Affordable Units':'Rent Subsidized/Affordable Units'})"
   ]
  },
  {
   "cell_type": "code",
   "execution_count": 149,
   "metadata": {},
   "outputs": [
    {
     "data": {
      "text/plain": [
       "Market                              10525\n",
       "Rent Restricted                      1364\n",
       "Rent Subsidized/Affordable Units      507\n",
       "Name: Affordable Type**, dtype: int64"
      ]
     },
     "execution_count": 149,
     "metadata": {},
     "output_type": "execute_result"
    }
   ],
   "source": [
    "sub1['Affordable Type**'].value_counts()"
   ]
  },
  {
   "cell_type": "code",
   "execution_count": 150,
   "metadata": {},
   "outputs": [],
   "source": [
    "cols = ['PropertyID', 'Avg Effective/SF', \n",
    "       # Property\n",
    "       'Avg Concessions %', 'Vacancy %', 'Avg Unit SF', 'Year Built', 'Year Renovated', 'Star Rating', \n",
    "       'Number Of Units', 'RBA', 'Floor Area Ratio', 'Land Area (AC)', 'Number Of Stories', \n",
    "       '% 1-Bed', '% 2-Bed', '% 3-Bed', '% 4-Bed', \n",
    "       'Construction Material*', 'Owner Type', 'Affordable Type**',\n",
    "       # Location & Demographic\n",
    "       'Closest Transit Stop Dist (mi)', '2019 Avg Age(1m)', '2019 Pop Tot',\n",
    "       'MedanHHIncome(000)', 'married %', 'male/female', 'Deposit (000s) Per Capita',\n",
    "       'Supply_all', 'Supply_vacant',\n",
    "       'State', 'City**', 'County**',\n",
    "       # Amenities\n",
    "       'Amenity_Roof Terrace', 'Amenity_Maid Service', 'Amenity_Bicycle Storage',\n",
    "       'Amenity_Car Charging Station', 'Amenity_On-Site Retail', 'Amenity_Elevator',\n",
    "       'Amenity_Fitness Center', 'Amenity_Clubhouse', 'Amenity_Property Manager on Site',\n",
    "       'Amenity_Grill', 'Amenity_Playground', 'Amenity_Maintenance on site', 'Amenity_Gated',\n",
    "       'Amenity_Picnic Area', 'Amenity_Package Service', 'Amenity_Controlled Access',\n",
    "       'Amenity_Sundeck', 'Amenity_LEED/Energy Star', 'Amenity_Sports', 'Amenity_Business',\n",
    "       'Amenity_Laundry', 'Amenity_Spa/Sauna', 'Amenity_Pet', 'Amenity_Wifi']\n",
    "var = sub1[cols].copy()"
   ]
  },
  {
   "cell_type": "markdown",
   "metadata": {},
   "source": [
    "### 5.3 Separate train and test sets\n",
    "- 0.7 train and 0.3 test to make sure test set have enough observations in each category"
   ]
  },
  {
   "cell_type": "code",
   "execution_count": 151,
   "metadata": {},
   "outputs": [],
   "source": [
    "from sklearn.model_selection import train_test_split\n",
    "\n",
    "train, test = train_test_split(var, test_size=0.3, random_state=0)\n",
    "train = train.copy()\n",
    "test = test.copy()"
   ]
  },
  {
   "cell_type": "code",
   "execution_count": 152,
   "metadata": {},
   "outputs": [
    {
     "name": "stdout",
     "output_type": "stream",
     "text": [
      "(8677, 56)\n",
      "(3719, 56)\n"
     ]
    }
   ],
   "source": [
    "print(train.shape)\n",
    "print(test.shape)"
   ]
  },
  {
   "cell_type": "markdown",
   "metadata": {},
   "source": [
    "### 5.4 Target encode six categorical features"
   ]
  },
  {
   "cell_type": "code",
   "execution_count": 153,
   "metadata": {},
   "outputs": [],
   "source": [
    "# 'Construction Material*', 'Owner Type', 'Affordable Type**', 'State', 'City**', 'County**'"
   ]
  },
  {
   "cell_type": "code",
   "execution_count": 154,
   "metadata": {},
   "outputs": [],
   "source": [
    "train['Construction Material_encoded'] = train[['Construction Material*','Avg Effective/SF']].\\\n",
    "                                         groupby('Construction Material*').transform(lambda x: x.mean())\n",
    "test['Construction Material_encoded'] = test[['Construction Material*','Avg Effective/SF']].\\\n",
    "                                        groupby('Construction Material*').transform(lambda x: x.mean())\n",
    "    \n",
    "train['Owner Type_encoded'] = train[['Owner Type','Avg Effective/SF']].\\\n",
    "                              groupby('Owner Type').transform(lambda x: x.mean())\n",
    "test['Owner Type_encoded'] = test[['Owner Type','Avg Effective/SF']].\\\n",
    "                              groupby('Owner Type').transform(lambda x: x.mean())\n",
    "\n",
    "train['Affordable Type_encoded'] = train[['Affordable Type**','Avg Effective/SF']].\\\n",
    "                              groupby('Affordable Type**').transform(lambda x: x.mean())\n",
    "test['Affordable Type_encoded'] = test[['Affordable Type**','Avg Effective/SF']].\\\n",
    "                              groupby('Affordable Type**').transform(lambda x: x.mean())\n",
    "\n",
    "train['State_encoded'] = train[['State','Avg Effective/SF']].\\\n",
    "                              groupby('State').transform(lambda x: x.mean())\n",
    "test['State_encoded'] = test[['State','Avg Effective/SF']].\\\n",
    "                              groupby('State').transform(lambda x: x.mean())\n",
    "\n",
    "train['City_encoded'] = train[['City**','Avg Effective/SF']].\\\n",
    "                              groupby('City**').transform(lambda x: x.mean())\n",
    "test['City_encoded'] = test[['City**','Avg Effective/SF']].\\\n",
    "                              groupby('City**').transform(lambda x: x.mean())\n",
    "\n",
    "train['County_encoded'] = train[['County**','Avg Effective/SF']].\\\n",
    "                              groupby('County**').transform(lambda x: x.mean())\n",
    "test['County_encoded'] = test[['County**','Avg Effective/SF']].\\\n",
    "                              groupby('County**').transform(lambda x: x.mean())"
   ]
  },
  {
   "cell_type": "code",
   "execution_count": 155,
   "metadata": {},
   "outputs": [],
   "source": [
    "cols = ['Construction Material*', 'Owner Type', 'Affordable Type**', 'State', 'City**', 'County**']\n",
    "train = train.drop(columns=cols)\n",
    "test = test.drop(columns=cols)"
   ]
  },
  {
   "cell_type": "code",
   "execution_count": 156,
   "metadata": {},
   "outputs": [],
   "source": [
    "X_train = train.iloc[:, 2:].values\n",
    "y_train = train.iloc[:, 1].values\n",
    "X_test = test.iloc[:, 2:].values\n",
    "y_test = test.iloc[:, 1].values"
   ]
  },
  {
   "cell_type": "markdown",
   "metadata": {},
   "source": [
    "### 5.5 Model fitting with 54 features"
   ]
  },
  {
   "cell_type": "code",
   "execution_count": 157,
   "metadata": {},
   "outputs": [],
   "source": [
    "from sklearn.ensemble import RandomForestRegressor\n",
    "\n",
    "regressor = RandomForestRegressor(n_estimators=200, random_state=0)\n",
    "regressor.fit(X_train, y_train)\n",
    "y_pred_train = regressor.predict(X_train)\n",
    "y_pred_test = regressor.predict(X_test)"
   ]
  },
  {
   "cell_type": "code",
   "execution_count": 158,
   "metadata": {},
   "outputs": [
    {
     "name": "stdout",
     "output_type": "stream",
     "text": [
      "------------------------------TRAIN------------------------------\n",
      "Mean Absolute Error: 0.04466652068687335\n",
      "Mean Squared Error: 0.00380021394260689\n",
      "Root Mean Squared Error: 0.06164587530895226\n",
      "R Squared: 0.9656867174194602\n",
      "\n",
      "------------------------------TEST------------------------------\n",
      "Mean Absolute Error: 0.12429448776552837\n",
      "Mean Squared Error: 0.02851194776418393\n",
      "Root Mean Squared Error: 0.16885481267699753\n",
      "R Squared: 0.728666816991679\n"
     ]
    }
   ],
   "source": [
    "from sklearn import metrics\n",
    "\n",
    "print('------------------------------TRAIN------------------------------')\n",
    "print('Mean Absolute Error:', metrics.mean_absolute_error(y_train, y_pred_train))\n",
    "print('Mean Squared Error:', metrics.mean_squared_error(y_train, y_pred_train))\n",
    "print('Root Mean Squared Error:', np.sqrt(metrics.mean_squared_error(y_train, y_pred_train)))\n",
    "print('R Squared:', metrics.r2_score(y_train, y_pred_train))\n",
    "print('')\n",
    "print('------------------------------TEST------------------------------')\n",
    "print('Mean Absolute Error:', metrics.mean_absolute_error(y_test, y_pred_test))\n",
    "print('Mean Squared Error:', metrics.mean_squared_error(y_test, y_pred_test))\n",
    "print('Root Mean Squared Error:', np.sqrt(metrics.mean_squared_error(y_test, y_pred_test)))\n",
    "print('R Squared:', metrics.r2_score(y_test, y_pred_test))"
   ]
  },
  {
   "cell_type": "markdown",
   "metadata": {},
   "source": [
    "High Overfitting. Requires future work."
   ]
  },
  {
   "cell_type": "markdown",
   "metadata": {},
   "source": [
    "# 6. Identify Underpriced Properties"
   ]
  },
  {
   "cell_type": "code",
   "execution_count": 159,
   "metadata": {},
   "outputs": [
    {
     "data": {
      "text/html": [
       "<div>\n",
       "<style scoped>\n",
       "    .dataframe tbody tr th:only-of-type {\n",
       "        vertical-align: middle;\n",
       "    }\n",
       "\n",
       "    .dataframe tbody tr th {\n",
       "        vertical-align: top;\n",
       "    }\n",
       "\n",
       "    .dataframe thead th {\n",
       "        text-align: right;\n",
       "    }\n",
       "</style>\n",
       "<table border=\"1\" class=\"dataframe\">\n",
       "  <thead>\n",
       "    <tr style=\"text-align: right;\">\n",
       "      <th></th>\n",
       "      <th>PropertyID</th>\n",
       "      <th>Avg Effective/SF</th>\n",
       "      <th>Pred Formula Avg Effective/SF</th>\n",
       "      <th>Lower 95% Indiv Avg Effective/SF</th>\n",
       "      <th>Upper 95% Indiv Avg Effective/SF</th>\n",
       "      <th>Outlier</th>\n",
       "    </tr>\n",
       "  </thead>\n",
       "  <tbody>\n",
       "    <tr>\n",
       "      <th>0</th>\n",
       "      <td>6400737</td>\n",
       "      <td>1.46</td>\n",
       "      <td>1.265123</td>\n",
       "      <td>0.917724</td>\n",
       "      <td>1.612521</td>\n",
       "      <td>0</td>\n",
       "    </tr>\n",
       "    <tr>\n",
       "      <th>1</th>\n",
       "      <td>6897678</td>\n",
       "      <td>2.11</td>\n",
       "      <td>1.792363</td>\n",
       "      <td>1.444436</td>\n",
       "      <td>2.140290</td>\n",
       "      <td>0</td>\n",
       "    </tr>\n",
       "    <tr>\n",
       "      <th>2</th>\n",
       "      <td>6865125</td>\n",
       "      <td>2.11</td>\n",
       "      <td>1.845737</td>\n",
       "      <td>1.497319</td>\n",
       "      <td>2.194155</td>\n",
       "      <td>0</td>\n",
       "    </tr>\n",
       "    <tr>\n",
       "      <th>3</th>\n",
       "      <td>6900122</td>\n",
       "      <td>1.03</td>\n",
       "      <td>1.813714</td>\n",
       "      <td>1.463738</td>\n",
       "      <td>2.163691</td>\n",
       "      <td>1</td>\n",
       "    </tr>\n",
       "    <tr>\n",
       "      <th>4</th>\n",
       "      <td>6900121</td>\n",
       "      <td>1.63</td>\n",
       "      <td>1.763190</td>\n",
       "      <td>1.414693</td>\n",
       "      <td>2.111687</td>\n",
       "      <td>0</td>\n",
       "    </tr>\n",
       "  </tbody>\n",
       "</table>\n",
       "</div>"
      ],
      "text/plain": [
       "   PropertyID  Avg Effective/SF  Pred Formula Avg Effective/SF  \\\n",
       "0     6400737              1.46                       1.265123   \n",
       "1     6897678              2.11                       1.792363   \n",
       "2     6865125              2.11                       1.845737   \n",
       "3     6900122              1.03                       1.813714   \n",
       "4     6900121              1.63                       1.763190   \n",
       "\n",
       "   Lower 95% Indiv Avg Effective/SF  Upper 95% Indiv Avg Effective/SF  Outlier  \n",
       "0                          0.917724                          1.612521        0  \n",
       "1                          1.444436                          2.140290        0  \n",
       "2                          1.497319                          2.194155        0  \n",
       "3                          1.463738                          2.163691        1  \n",
       "4                          1.414693                          2.111687        0  "
      ]
     },
     "execution_count": 159,
     "metadata": {},
     "output_type": "execute_result"
    }
   ],
   "source": [
    "pred = jmp[['PropertyID', 'Avg Effective/SF', 'Pred Formula Avg Effective/SF',\n",
    "            'Lower 95% Indiv Avg Effective/SF', 'Upper 95% Indiv Avg Effective/SF', 'Outlier']].copy()\n",
    "pred.head()"
   ]
  },
  {
   "cell_type": "code",
   "execution_count": 160,
   "metadata": {},
   "outputs": [],
   "source": [
    "pred['Overpriced'] = pred[['Avg Effective/SF', 'Upper 95% Indiv Avg Effective/SF']].\\\n",
    "                     apply(lambda x: 1 if x[0]>x[1] else 0, axis=1)\n",
    "pred['Underpriced'] = pred[['Avg Effective/SF', 'Lower 95% Indiv Avg Effective/SF']].\\\n",
    "                     apply(lambda x: 1 if x[0]<x[1] else 0, axis=1)"
   ]
  },
  {
   "cell_type": "code",
   "execution_count": 161,
   "metadata": {},
   "outputs": [
    {
     "data": {
      "text/plain": [
       "Overpriced     689\n",
       "Underpriced    425\n",
       "dtype: int64"
      ]
     },
     "execution_count": 161,
     "metadata": {},
     "output_type": "execute_result"
    }
   ],
   "source": [
    "pred[['Overpriced', 'Underpriced']].sum()"
   ]
  },
  {
   "cell_type": "code",
   "execution_count": 162,
   "metadata": {},
   "outputs": [
    {
     "data": {
      "text/plain": [
       "Overpriced     458\n",
       "Underpriced    239\n",
       "dtype: int64"
      ]
     },
     "execution_count": 162,
     "metadata": {},
     "output_type": "execute_result"
    }
   ],
   "source": [
    "pred[pred['Outlier']==0][['Overpriced', 'Underpriced']].sum()"
   ]
  },
  {
   "cell_type": "code",
   "execution_count": 177,
   "metadata": {},
   "outputs": [
    {
     "data": {
      "text/html": [
       "<div>\n",
       "<style scoped>\n",
       "    .dataframe tbody tr th:only-of-type {\n",
       "        vertical-align: middle;\n",
       "    }\n",
       "\n",
       "    .dataframe tbody tr th {\n",
       "        vertical-align: top;\n",
       "    }\n",
       "\n",
       "    .dataframe thead th {\n",
       "        text-align: right;\n",
       "    }\n",
       "</style>\n",
       "<table border=\"1\" class=\"dataframe\">\n",
       "  <thead>\n",
       "    <tr style=\"text-align: right;\">\n",
       "      <th></th>\n",
       "      <th>PropertyID</th>\n",
       "      <th>Pred Formula Avg Effective/SF</th>\n",
       "      <th>State</th>\n",
       "      <th>Latitude</th>\n",
       "      <th>Longitude</th>\n",
       "      <th>Avg Effective/SF</th>\n",
       "    </tr>\n",
       "  </thead>\n",
       "  <tbody>\n",
       "    <tr>\n",
       "      <th>0</th>\n",
       "      <td>9021275</td>\n",
       "      <td>1.261372</td>\n",
       "      <td>GA</td>\n",
       "      <td>33.688340</td>\n",
       "      <td>-84.505842</td>\n",
       "      <td>0.68</td>\n",
       "    </tr>\n",
       "    <tr>\n",
       "      <th>1</th>\n",
       "      <td>8325011</td>\n",
       "      <td>1.167366</td>\n",
       "      <td>GA</td>\n",
       "      <td>33.718105</td>\n",
       "      <td>-84.370369</td>\n",
       "      <td>0.70</td>\n",
       "    </tr>\n",
       "    <tr>\n",
       "      <th>2</th>\n",
       "      <td>4719499</td>\n",
       "      <td>1.118949</td>\n",
       "      <td>GA</td>\n",
       "      <td>33.667620</td>\n",
       "      <td>-84.498327</td>\n",
       "      <td>0.74</td>\n",
       "    </tr>\n",
       "    <tr>\n",
       "      <th>3</th>\n",
       "      <td>8077716</td>\n",
       "      <td>1.289297</td>\n",
       "      <td>GA</td>\n",
       "      <td>33.734370</td>\n",
       "      <td>-84.428340</td>\n",
       "      <td>0.92</td>\n",
       "    </tr>\n",
       "    <tr>\n",
       "      <th>4</th>\n",
       "      <td>8436498</td>\n",
       "      <td>1.173577</td>\n",
       "      <td>GA</td>\n",
       "      <td>33.737731</td>\n",
       "      <td>-84.403056</td>\n",
       "      <td>0.81</td>\n",
       "    </tr>\n",
       "  </tbody>\n",
       "</table>\n",
       "</div>"
      ],
      "text/plain": [
       "   PropertyID  Pred Formula Avg Effective/SF State   Latitude  Longitude  \\\n",
       "0     9021275                       1.261372    GA  33.688340 -84.505842   \n",
       "1     8325011                       1.167366    GA  33.718105 -84.370369   \n",
       "2     4719499                       1.118949    GA  33.667620 -84.498327   \n",
       "3     8077716                       1.289297    GA  33.734370 -84.428340   \n",
       "4     8436498                       1.173577    GA  33.737731 -84.403056   \n",
       "\n",
       "   Avg Effective/SF  \n",
       "0              0.68  \n",
       "1              0.70  \n",
       "2              0.74  \n",
       "3              0.92  \n",
       "4              0.81  "
      ]
     },
     "execution_count": 177,
     "metadata": {},
     "output_type": "execute_result"
    }
   ],
   "source": [
    "underpriced = pred[(pred['Outlier']==0) & (pred['Underpriced']==1)]\\\n",
    "              [['PropertyID', 'Pred Formula Avg Effective/SF']]\n",
    "underpriced = underpriced.merge(sub[['PropertyID', 'State', 'Latitude', 'Longitude', 'Avg Effective/SF']])\n",
    "underpriced.head()"
   ]
  },
  {
   "cell_type": "code",
   "execution_count": 179,
   "metadata": {},
   "outputs": [],
   "source": [
    "underpriced.to_csv('underpriced.csv',index=False)"
   ]
  }
 ],
 "metadata": {
  "kernelspec": {
   "display_name": "Python 3",
   "language": "python",
   "name": "python3"
  },
  "language_info": {
   "codemirror_mode": {
    "name": "ipython",
    "version": 3
   },
   "file_extension": ".py",
   "mimetype": "text/x-python",
   "name": "python",
   "nbconvert_exporter": "python",
   "pygments_lexer": "ipython3",
   "version": "3.7.3"
  }
 },
 "nbformat": 4,
 "nbformat_minor": 2
}
