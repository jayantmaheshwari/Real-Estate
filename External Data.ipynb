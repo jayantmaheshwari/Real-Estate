{
 "cells": [
  {
   "cell_type": "code",
   "execution_count": 1,
   "metadata": {
    "colab": {
     "base_uri": "https://localhost:8080/",
     "height": 34
    },
    "colab_type": "code",
    "id": "yd6qNMR7LHxT",
    "outputId": "08a4b69d-5ca8-450b-96ff-af82131bdcae"
   },
   "outputs": [],
   "source": [
    "# Importing relevant packages\n",
    "from bs4 import BeautifulSoup\n",
    "import urllib.request\n",
    "import requests\n",
    "import pandas as pd\n",
    "import numpy as np"
   ]
  },
  {
   "cell_type": "markdown",
   "metadata": {},
   "source": [
    "### 1. Import Zip Codes"
   ]
  },
  {
   "cell_type": "code",
   "execution_count": 2,
   "metadata": {
    "colab": {},
    "colab_type": "code",
    "id": "EfNrDsrPLHxX"
   },
   "outputs": [],
   "source": [
    "zip5 = pd.read_csv('Zip5.csv')\n",
    "zip5.columns=['Zip5']"
   ]
  },
  {
   "cell_type": "code",
   "execution_count": 3,
   "metadata": {
    "colab": {
     "base_uri": "https://localhost:8080/",
     "height": 34
    },
    "colab_type": "code",
    "id": "rTmCLQhFLHxa",
    "outputId": "47387625-1384-463a-efca-2191d314c29d"
   },
   "outputs": [
    {
     "data": {
      "text/plain": [
       "(1954, 1)"
      ]
     },
     "execution_count": 3,
     "metadata": {},
     "output_type": "execute_result"
    }
   ],
   "source": [
    "zip5.shape"
   ]
  },
  {
   "cell_type": "markdown",
   "metadata": {},
   "source": [
    "### 2. Scrape Median HH Income \n",
    "sample URL: https://statisticalatlas.com/zip/30097/Household-Income"
   ]
  },
  {
   "cell_type": "code",
   "execution_count": 4,
   "metadata": {
    "colab": {},
    "colab_type": "code",
    "id": "oPdoLqG0LHxf"
   },
   "outputs": [
    {
     "data": {
      "text/html": [
       "<div>\n",
       "<style scoped>\n",
       "    .dataframe tbody tr th:only-of-type {\n",
       "        vertical-align: middle;\n",
       "    }\n",
       "\n",
       "    .dataframe tbody tr th {\n",
       "        vertical-align: top;\n",
       "    }\n",
       "\n",
       "    .dataframe thead th {\n",
       "        text-align: right;\n",
       "    }\n",
       "</style>\n",
       "<table border=\"1\" class=\"dataframe\">\n",
       "  <thead>\n",
       "    <tr style=\"text-align: right;\">\n",
       "      <th></th>\n",
       "      <th>Zip5</th>\n",
       "      <th>MedanHHIncome</th>\n",
       "    </tr>\n",
       "  </thead>\n",
       "  <tbody>\n",
       "    <tr>\n",
       "      <th>0</th>\n",
       "      <td>30097</td>\n",
       "      <td>$96.9k</td>\n",
       "    </tr>\n",
       "    <tr>\n",
       "      <th>1</th>\n",
       "      <td>30318</td>\n",
       "      <td>$44.0k</td>\n",
       "    </tr>\n",
       "    <tr>\n",
       "      <th>2</th>\n",
       "      <td>30309</td>\n",
       "      <td>$78.3k</td>\n",
       "    </tr>\n",
       "    <tr>\n",
       "      <th>3</th>\n",
       "      <td>30363</td>\n",
       "      <td>$66.9k</td>\n",
       "    </tr>\n",
       "    <tr>\n",
       "      <th>4</th>\n",
       "      <td>30328</td>\n",
       "      <td>$80.8k</td>\n",
       "    </tr>\n",
       "  </tbody>\n",
       "</table>\n",
       "</div>"
      ],
      "text/plain": [
       "    Zip5 MedanHHIncome\n",
       "0  30097        $96.9k\n",
       "1  30318        $44.0k\n",
       "2  30309        $78.3k\n",
       "3  30363        $66.9k\n",
       "4  30328        $80.8k"
      ]
     },
     "execution_count": 4,
     "metadata": {},
     "output_type": "execute_result"
    }
   ],
   "source": [
    "df = pd.DataFrame()\n",
    "\n",
    "for zipcode in zip5.Zip5:\n",
    "    url = \"https://statisticalatlas.com/zip/{}/Household-Income\".format(zipcode)\n",
    "    with requests.get(url) as r:\n",
    "        soup = BeautifulSoup(r.text, 'lxml')\n",
    "        table = soup.find_all('text', {\"fill-opacity\":\"0.400\"})[3:4]\n",
    "        values = [zipcode]\n",
    "        values.extend([row.text for row in table])\n",
    "        df = df.append(pd.DataFrame(values).T, ignore_index=True)\n",
    "\n",
    "cols = ['Zip5', 'MedanHHIncome']\n",
    "df.columns=cols\n",
    "df.head()"
   ]
  },
  {
   "cell_type": "code",
   "execution_count": 5,
   "metadata": {},
   "outputs": [
    {
     "data": {
      "text/plain": [
       "Zip5             1954\n",
       "MedanHHIncome    1913\n",
       "dtype: int64"
      ]
     },
     "execution_count": 5,
     "metadata": {},
     "output_type": "execute_result"
    }
   ],
   "source": [
    "df.count()"
   ]
  },
  {
   "cell_type": "markdown",
   "metadata": {},
   "source": [
    "- Drop rows where zip code is not found on the website\n",
    "- Remove dollar sign, 'k', and '>' in >250k\n",
    "- Remove wrong entries with '%'\n",
    "- Change column data type to float and rename"
   ]
  },
  {
   "cell_type": "code",
   "execution_count": 6,
   "metadata": {},
   "outputs": [],
   "source": [
    "df1 = df.copy()\n",
    "df1 = df1.dropna()\n",
    "df1['MedanHHIncome'] = df1['MedanHHIncome'].str.replace('$','')\n",
    "df1['MedanHHIncome'] = df1['MedanHHIncome'].str.replace('k','')\n",
    "df1['MedanHHIncome'] = df1['MedanHHIncome'].str.replace('>','')\n",
    "df1 = df1[-df1['MedanHHIncome'].str.contains('%')]\n",
    "df1['MedanHHIncome'] = df1['MedanHHIncome'].astype(float)\n",
    "df1.columns = ['Zip5', 'MedanHHIncome(000)']"
   ]
  },
  {
   "cell_type": "markdown",
   "metadata": {},
   "source": [
    "### 3. Scrape Marital Status Info\n",
    "sample URL: https://statisticalatlas.com/zip/30097/Marital-Status"
   ]
  },
  {
   "cell_type": "code",
   "execution_count": 7,
   "metadata": {
    "colab": {
     "base_uri": "https://localhost:8080/",
     "height": 647
    },
    "colab_type": "code",
    "id": "zCcQht_zRuJy",
    "outputId": "66fe2ee6-d1b6-4d4a-ebd6-6b1a49f33fb6"
   },
   "outputs": [
    {
     "data": {
      "text/html": [
       "<div>\n",
       "<style scoped>\n",
       "    .dataframe tbody tr th:only-of-type {\n",
       "        vertical-align: middle;\n",
       "    }\n",
       "\n",
       "    .dataframe tbody tr th {\n",
       "        vertical-align: top;\n",
       "    }\n",
       "\n",
       "    .dataframe thead th {\n",
       "        text-align: right;\n",
       "    }\n",
       "</style>\n",
       "<table border=\"1\" class=\"dataframe\">\n",
       "  <thead>\n",
       "    <tr style=\"text-align: right;\">\n",
       "      <th></th>\n",
       "      <th>Zip5</th>\n",
       "      <th>Never_Married_F</th>\n",
       "      <th>Never_Married_M</th>\n",
       "      <th>Married_F</th>\n",
       "      <th>Married_M</th>\n",
       "      <th>Separated/Divorced_F</th>\n",
       "      <th>Separated/Divorced_M</th>\n",
       "      <th>Widowed_F</th>\n",
       "      <th>Widowed_M</th>\n",
       "    </tr>\n",
       "  </thead>\n",
       "  <tbody>\n",
       "    <tr>\n",
       "      <th>0</th>\n",
       "      <td>30097</td>\n",
       "      <td>4,507</td>\n",
       "      <td>4,384</td>\n",
       "      <td>11.9k</td>\n",
       "      <td>12.2k</td>\n",
       "      <td>1,578</td>\n",
       "      <td>909</td>\n",
       "      <td>844</td>\n",
       "      <td>177</td>\n",
       "    </tr>\n",
       "    <tr>\n",
       "      <th>1</th>\n",
       "      <td>30318</td>\n",
       "      <td>9,604</td>\n",
       "      <td>14.2k</td>\n",
       "      <td>4,882</td>\n",
       "      <td>5,393</td>\n",
       "      <td>2,518</td>\n",
       "      <td>1,978</td>\n",
       "      <td>2,190</td>\n",
       "      <td>1,288</td>\n",
       "    </tr>\n",
       "    <tr>\n",
       "      <th>2</th>\n",
       "      <td>30309</td>\n",
       "      <td>5,031</td>\n",
       "      <td>6,226</td>\n",
       "      <td>3,302</td>\n",
       "      <td>3,595</td>\n",
       "      <td>1,358</td>\n",
       "      <td>1,163</td>\n",
       "      <td>301</td>\n",
       "      <td>150</td>\n",
       "    </tr>\n",
       "    <tr>\n",
       "      <th>3</th>\n",
       "      <td>30363</td>\n",
       "      <td>798</td>\n",
       "      <td>1,097</td>\n",
       "      <td>405</td>\n",
       "      <td>433</td>\n",
       "      <td>126</td>\n",
       "      <td>68</td>\n",
       "      <td>0</td>\n",
       "      <td>0</td>\n",
       "    </tr>\n",
       "    <tr>\n",
       "      <th>4</th>\n",
       "      <td>30328</td>\n",
       "      <td>5,246</td>\n",
       "      <td>4,440</td>\n",
       "      <td>7,420</td>\n",
       "      <td>7,879</td>\n",
       "      <td>2,526</td>\n",
       "      <td>1,092</td>\n",
       "      <td>1,238</td>\n",
       "      <td>243</td>\n",
       "    </tr>\n",
       "  </tbody>\n",
       "</table>\n",
       "</div>"
      ],
      "text/plain": [
       "    Zip5 Never_Married_F Never_Married_M Married_F Married_M  \\\n",
       "0  30097           4,507           4,384     11.9k     12.2k   \n",
       "1  30318           9,604           14.2k     4,882     5,393   \n",
       "2  30309           5,031           6,226     3,302     3,595   \n",
       "3  30363             798           1,097       405       433   \n",
       "4  30328           5,246           4,440     7,420     7,879   \n",
       "\n",
       "  Separated/Divorced_F Separated/Divorced_M Widowed_F Widowed_M  \n",
       "0                1,578                  909       844       177  \n",
       "1                2,518                1,978     2,190     1,288  \n",
       "2                1,358                1,163       301       150  \n",
       "3                  126                   68         0         0  \n",
       "4                2,526                1,092     1,238       243  "
      ]
     },
     "execution_count": 7,
     "metadata": {},
     "output_type": "execute_result"
    }
   ],
   "source": [
    "dfm = pd.DataFrame()\n",
    "\n",
    "for zipcode in zip5.Zip5:\n",
    "    url = \"https://statisticalatlas.com/zip/{}/Marital-Status\".format(zipcode)\n",
    "    with requests.get(url) as r:\n",
    "        soup = BeautifulSoup(r.text, 'lxml')\n",
    "        table = soup.find_all('text', {\"fill-opacity\":\"0.500\"})[:8]\n",
    "        values = [zipcode]\n",
    "        values.extend([row.text for row in table])\n",
    "        dfm = dfm.append(pd.DataFrame(values).T, ignore_index=True)\n",
    "\n",
    "cols = ['Zip5', 'Never_Married_F', 'Never_Married_M', 'Married_F', 'Married_M', \n",
    "        'Separated/Divorced_F', 'Separated/Divorced_M', 'Widowed_F', 'Widowed_M']\n",
    "dfm.columns=cols\n",
    "dfm.head()"
   ]
  },
  {
   "cell_type": "markdown",
   "metadata": {},
   "source": [
    "- Drop rows where zip code is not found on the website\n",
    "- Change format: 11.9k to 11900 \n",
    "- Change column data type to integer\n",
    "- Generate married % and male/female variables"
   ]
  },
  {
   "cell_type": "code",
   "execution_count": 8,
   "metadata": {},
   "outputs": [],
   "source": [
    "dfm1 = dfm.copy()\n",
    "dfm1 = dfm1.dropna()\n",
    "for col in dfm.columns[1:]:\n",
    "    dfm1[col] = dfm1[col].str.replace(',','')\n",
    "    dfm1[col] = dfm1[col].apply(lambda x: round(float(x[:-1])*1000) if x[-1:]=='k' else x).astype(int)\n",
    "dfm1['male'] = dfm1[['Never_Married_M', 'Married_M', 'Separated/Divorced_M', 'Widowed_M']].sum(axis=1)\n",
    "dfm1['female'] = dfm1[['Never_Married_F', 'Married_F', 'Separated/Divorced_F', 'Widowed_F']].sum(axis=1)\n",
    "dfm1['population'] = dfm1[['male','female']].sum(axis=1)\n",
    "dfm1['married'] = dfm1[['Married_F', 'Married_M']].sum(axis=1)\n",
    "dfm1['married %'] = dfm1['married']/dfm1['population']*100\n",
    "dfm1['married %'].replace(0, np.nan, inplace=True)\n",
    "dfm1['male/female'] = dfm1['male']/dfm1['female']"
   ]
  },
  {
   "cell_type": "markdown",
   "metadata": {},
   "source": [
    "### 4. Merge and Export Income and Marriage data"
   ]
  },
  {
   "cell_type": "code",
   "execution_count": 9,
   "metadata": {},
   "outputs": [
    {
     "data": {
      "text/plain": [
       "(1925, 4)"
      ]
     },
     "execution_count": 9,
     "metadata": {},
     "output_type": "execute_result"
    }
   ],
   "source": [
    "dfmg = df1.merge(dfm1[['Zip5', 'married %', 'male/female']], how='outer')\n",
    "dfmg.shape"
   ]
  },
  {
   "cell_type": "code",
   "execution_count": 10,
   "metadata": {},
   "outputs": [
    {
     "data": {
      "text/html": [
       "<div>\n",
       "<style scoped>\n",
       "    .dataframe tbody tr th:only-of-type {\n",
       "        vertical-align: middle;\n",
       "    }\n",
       "\n",
       "    .dataframe tbody tr th {\n",
       "        vertical-align: top;\n",
       "    }\n",
       "\n",
       "    .dataframe thead th {\n",
       "        text-align: right;\n",
       "    }\n",
       "</style>\n",
       "<table border=\"1\" class=\"dataframe\">\n",
       "  <thead>\n",
       "    <tr style=\"text-align: right;\">\n",
       "      <th></th>\n",
       "      <th>Zip5</th>\n",
       "      <th>MedanHHIncome(000)</th>\n",
       "      <th>married %</th>\n",
       "      <th>male/female</th>\n",
       "    </tr>\n",
       "  </thead>\n",
       "  <tbody>\n",
       "    <tr>\n",
       "      <th>count</th>\n",
       "      <td>1925.000000</td>\n",
       "      <td>1910.000000</td>\n",
       "      <td>1922.000000</td>\n",
       "      <td>1925.000000</td>\n",
       "    </tr>\n",
       "    <tr>\n",
       "      <th>mean</th>\n",
       "      <td>50132.948052</td>\n",
       "      <td>54.527068</td>\n",
       "      <td>46.575208</td>\n",
       "      <td>0.995139</td>\n",
       "    </tr>\n",
       "    <tr>\n",
       "      <th>std</th>\n",
       "      <td>22473.225784</td>\n",
       "      <td>21.769816</td>\n",
       "      <td>11.448893</td>\n",
       "      <td>0.822831</td>\n",
       "    </tr>\n",
       "    <tr>\n",
       "      <th>min</th>\n",
       "      <td>27006.000000</td>\n",
       "      <td>13.100000</td>\n",
       "      <td>0.101877</td>\n",
       "      <td>0.394516</td>\n",
       "    </tr>\n",
       "    <tr>\n",
       "      <th>25%</th>\n",
       "      <td>31792.000000</td>\n",
       "      <td>40.000000</td>\n",
       "      <td>40.186142</td>\n",
       "      <td>0.887395</td>\n",
       "    </tr>\n",
       "    <tr>\n",
       "      <th>50%</th>\n",
       "      <td>33809.000000</td>\n",
       "      <td>49.700000</td>\n",
       "      <td>47.536718</td>\n",
       "      <td>0.935197</td>\n",
       "    </tr>\n",
       "    <tr>\n",
       "      <th>75%</th>\n",
       "      <td>77011.000000</td>\n",
       "      <td>64.650000</td>\n",
       "      <td>54.059453</td>\n",
       "      <td>0.991362</td>\n",
       "    </tr>\n",
       "    <tr>\n",
       "      <th>max</th>\n",
       "      <td>79938.000000</td>\n",
       "      <td>250.000000</td>\n",
       "      <td>90.712431</td>\n",
       "      <td>33.600000</td>\n",
       "    </tr>\n",
       "  </tbody>\n",
       "</table>\n",
       "</div>"
      ],
      "text/plain": [
       "               Zip5  MedanHHIncome(000)    married %  male/female\n",
       "count   1925.000000         1910.000000  1922.000000  1925.000000\n",
       "mean   50132.948052           54.527068    46.575208     0.995139\n",
       "std    22473.225784           21.769816    11.448893     0.822831\n",
       "min    27006.000000           13.100000     0.101877     0.394516\n",
       "25%    31792.000000           40.000000    40.186142     0.887395\n",
       "50%    33809.000000           49.700000    47.536718     0.935197\n",
       "75%    77011.000000           64.650000    54.059453     0.991362\n",
       "max    79938.000000          250.000000    90.712431    33.600000"
      ]
     },
     "execution_count": 10,
     "metadata": {},
     "output_type": "execute_result"
    }
   ],
   "source": [
    "dfmg.describe()"
   ]
  },
  {
   "cell_type": "code",
   "execution_count": 11,
   "metadata": {
    "colab": {},
    "colab_type": "code",
    "id": "-SuT2BybVaEw"
   },
   "outputs": [],
   "source": [
    "dfmg.to_csv('income_marriage.csv', index=False)"
   ]
  },
  {
   "cell_type": "markdown",
   "metadata": {},
   "source": [
    "### 5. Deposit"
   ]
  },
  {
   "cell_type": "code",
   "execution_count": 12,
   "metadata": {},
   "outputs": [],
   "source": [
    "deposit = pd.read_excel('FDIC Deposit.xlsx')"
   ]
  },
  {
   "cell_type": "code",
   "execution_count": 13,
   "metadata": {},
   "outputs": [
    {
     "name": "stdout",
     "output_type": "stream",
     "text": [
      "(574, 3)\n"
     ]
    },
    {
     "data": {
      "text/html": [
       "<div>\n",
       "<style scoped>\n",
       "    .dataframe tbody tr th:only-of-type {\n",
       "        vertical-align: middle;\n",
       "    }\n",
       "\n",
       "    .dataframe tbody tr th {\n",
       "        vertical-align: top;\n",
       "    }\n",
       "\n",
       "    .dataframe thead th {\n",
       "        text-align: right;\n",
       "    }\n",
       "</style>\n",
       "<table border=\"1\" class=\"dataframe\">\n",
       "  <thead>\n",
       "    <tr style=\"text-align: right;\">\n",
       "      <th></th>\n",
       "      <th>State</th>\n",
       "      <th>County</th>\n",
       "      <th>Deposit (000s)</th>\n",
       "    </tr>\n",
       "  </thead>\n",
       "  <tbody>\n",
       "    <tr>\n",
       "      <th>0</th>\n",
       "      <td>GA</td>\n",
       "      <td>Fulton</td>\n",
       "      <td>100332784</td>\n",
       "    </tr>\n",
       "    <tr>\n",
       "      <th>1</th>\n",
       "      <td>GA</td>\n",
       "      <td>Gwinnett</td>\n",
       "      <td>17717075</td>\n",
       "    </tr>\n",
       "    <tr>\n",
       "      <th>2</th>\n",
       "      <td>GA</td>\n",
       "      <td>Cobb</td>\n",
       "      <td>15632932</td>\n",
       "    </tr>\n",
       "    <tr>\n",
       "      <th>3</th>\n",
       "      <td>GA</td>\n",
       "      <td>DeKalb</td>\n",
       "      <td>12481873</td>\n",
       "    </tr>\n",
       "    <tr>\n",
       "      <th>4</th>\n",
       "      <td>GA</td>\n",
       "      <td>Muscogee</td>\n",
       "      <td>8394232</td>\n",
       "    </tr>\n",
       "  </tbody>\n",
       "</table>\n",
       "</div>"
      ],
      "text/plain": [
       "  State    County  Deposit (000s)\n",
       "0    GA    Fulton       100332784\n",
       "1    GA  Gwinnett        17717075\n",
       "2    GA      Cobb        15632932\n",
       "3    GA    DeKalb        12481873\n",
       "4    GA  Muscogee         8394232"
      ]
     },
     "execution_count": 13,
     "metadata": {},
     "output_type": "execute_result"
    }
   ],
   "source": [
    "print(deposit.shape)\n",
    "deposit.head()"
   ]
  },
  {
   "cell_type": "code",
   "execution_count": 14,
   "metadata": {},
   "outputs": [],
   "source": [
    "pop = pd.read_excel('Census Population.xlsx')"
   ]
  },
  {
   "cell_type": "code",
   "execution_count": 15,
   "metadata": {},
   "outputs": [
    {
     "name": "stdout",
     "output_type": "stream",
     "text": [
      "(580, 2)\n"
     ]
    },
    {
     "data": {
      "text/html": [
       "<div>\n",
       "<style scoped>\n",
       "    .dataframe tbody tr th:only-of-type {\n",
       "        vertical-align: middle;\n",
       "    }\n",
       "\n",
       "    .dataframe tbody tr th {\n",
       "        vertical-align: top;\n",
       "    }\n",
       "\n",
       "    .dataframe thead th {\n",
       "        text-align: right;\n",
       "    }\n",
       "</style>\n",
       "<table border=\"1\" class=\"dataframe\">\n",
       "  <thead>\n",
       "    <tr style=\"text-align: right;\">\n",
       "      <th></th>\n",
       "      <th>Geography</th>\n",
       "      <th>Population Estimate (as of July 1) - 2018</th>\n",
       "    </tr>\n",
       "  </thead>\n",
       "  <tbody>\n",
       "    <tr>\n",
       "      <th>0</th>\n",
       "      <td>Anderson County, Texas</td>\n",
       "      <td>58057</td>\n",
       "    </tr>\n",
       "    <tr>\n",
       "      <th>1</th>\n",
       "      <td>Andrews County, Texas</td>\n",
       "      <td>18128</td>\n",
       "    </tr>\n",
       "    <tr>\n",
       "      <th>2</th>\n",
       "      <td>Angelina County, Texas</td>\n",
       "      <td>87092</td>\n",
       "    </tr>\n",
       "    <tr>\n",
       "      <th>3</th>\n",
       "      <td>Aransas County, Texas</td>\n",
       "      <td>23792</td>\n",
       "    </tr>\n",
       "    <tr>\n",
       "      <th>4</th>\n",
       "      <td>Archer County, Texas</td>\n",
       "      <td>8786</td>\n",
       "    </tr>\n",
       "  </tbody>\n",
       "</table>\n",
       "</div>"
      ],
      "text/plain": [
       "                Geography  Population Estimate (as of July 1) - 2018\n",
       "0  Anderson County, Texas                                      58057\n",
       "1   Andrews County, Texas                                      18128\n",
       "2  Angelina County, Texas                                      87092\n",
       "3   Aransas County, Texas                                      23792\n",
       "4    Archer County, Texas                                       8786"
      ]
     },
     "execution_count": 15,
     "metadata": {},
     "output_type": "execute_result"
    }
   ],
   "source": [
    "print(pop.shape)\n",
    "pop.head()"
   ]
  },
  {
   "cell_type": "markdown",
   "metadata": {},
   "source": [
    "Extract county and state from Geography."
   ]
  },
  {
   "cell_type": "code",
   "execution_count": 16,
   "metadata": {},
   "outputs": [
    {
     "data": {
      "text/html": [
       "<div>\n",
       "<style scoped>\n",
       "    .dataframe tbody tr th:only-of-type {\n",
       "        vertical-align: middle;\n",
       "    }\n",
       "\n",
       "    .dataframe tbody tr th {\n",
       "        vertical-align: top;\n",
       "    }\n",
       "\n",
       "    .dataframe thead th {\n",
       "        text-align: right;\n",
       "    }\n",
       "</style>\n",
       "<table border=\"1\" class=\"dataframe\">\n",
       "  <thead>\n",
       "    <tr style=\"text-align: right;\">\n",
       "      <th></th>\n",
       "      <th>Geography</th>\n",
       "      <th>Population Est 2018</th>\n",
       "      <th>State</th>\n",
       "      <th>County</th>\n",
       "    </tr>\n",
       "  </thead>\n",
       "  <tbody>\n",
       "    <tr>\n",
       "      <th>0</th>\n",
       "      <td>Anderson County, Texas</td>\n",
       "      <td>58057</td>\n",
       "      <td>TX</td>\n",
       "      <td>Anderson</td>\n",
       "    </tr>\n",
       "    <tr>\n",
       "      <th>1</th>\n",
       "      <td>Andrews County, Texas</td>\n",
       "      <td>18128</td>\n",
       "      <td>TX</td>\n",
       "      <td>Andrews</td>\n",
       "    </tr>\n",
       "    <tr>\n",
       "      <th>2</th>\n",
       "      <td>Angelina County, Texas</td>\n",
       "      <td>87092</td>\n",
       "      <td>TX</td>\n",
       "      <td>Angelina</td>\n",
       "    </tr>\n",
       "    <tr>\n",
       "      <th>3</th>\n",
       "      <td>Aransas County, Texas</td>\n",
       "      <td>23792</td>\n",
       "      <td>TX</td>\n",
       "      <td>Aransas</td>\n",
       "    </tr>\n",
       "    <tr>\n",
       "      <th>4</th>\n",
       "      <td>Archer County, Texas</td>\n",
       "      <td>8786</td>\n",
       "      <td>TX</td>\n",
       "      <td>Archer</td>\n",
       "    </tr>\n",
       "  </tbody>\n",
       "</table>\n",
       "</div>"
      ],
      "text/plain": [
       "                Geography  Population Est 2018 State    County\n",
       "0  Anderson County, Texas                58057    TX  Anderson\n",
       "1   Andrews County, Texas                18128    TX   Andrews\n",
       "2  Angelina County, Texas                87092    TX  Angelina\n",
       "3   Aransas County, Texas                23792    TX   Aransas\n",
       "4    Archer County, Texas                 8786    TX    Archer"
      ]
     },
     "execution_count": 16,
     "metadata": {},
     "output_type": "execute_result"
    }
   ],
   "source": [
    "pop['State'] = pop['Geography'].apply(lambda x: x.split(', ')[1])\n",
    "pop['State'] = pop['State'].map({'Texas':'TX',\n",
    "                                 'Georgia':'GA',\n",
    "                                 'North Carolina':'NC',\n",
    "                                 'Florida':'FL'})\n",
    "pop['County'] = pop['Geography'].apply(lambda x: x.split(' County')[0])\n",
    "pop.columns = ['Geography', 'Population Est 2018', 'State', 'County']\n",
    "pop.head()"
   ]
  },
  {
   "cell_type": "code",
   "execution_count": 17,
   "metadata": {},
   "outputs": [
    {
     "name": "stdout",
     "output_type": "stream",
     "text": [
      "(572, 4)\n",
      "State                  572\n",
      "County                 572\n",
      "Deposit (000s)         572\n",
      "Population Est 2018    572\n",
      "dtype: int64\n"
     ]
    },
    {
     "data": {
      "text/html": [
       "<div>\n",
       "<style scoped>\n",
       "    .dataframe tbody tr th:only-of-type {\n",
       "        vertical-align: middle;\n",
       "    }\n",
       "\n",
       "    .dataframe tbody tr th {\n",
       "        vertical-align: top;\n",
       "    }\n",
       "\n",
       "    .dataframe thead th {\n",
       "        text-align: right;\n",
       "    }\n",
       "</style>\n",
       "<table border=\"1\" class=\"dataframe\">\n",
       "  <thead>\n",
       "    <tr style=\"text-align: right;\">\n",
       "      <th></th>\n",
       "      <th>State</th>\n",
       "      <th>County</th>\n",
       "      <th>Deposit (000s)</th>\n",
       "      <th>Population Est 2018</th>\n",
       "    </tr>\n",
       "  </thead>\n",
       "  <tbody>\n",
       "    <tr>\n",
       "      <th>0</th>\n",
       "      <td>GA</td>\n",
       "      <td>Fulton</td>\n",
       "      <td>100332784</td>\n",
       "      <td>1050114</td>\n",
       "    </tr>\n",
       "    <tr>\n",
       "      <th>1</th>\n",
       "      <td>GA</td>\n",
       "      <td>Gwinnett</td>\n",
       "      <td>17717075</td>\n",
       "      <td>927781</td>\n",
       "    </tr>\n",
       "    <tr>\n",
       "      <th>2</th>\n",
       "      <td>GA</td>\n",
       "      <td>Cobb</td>\n",
       "      <td>15632932</td>\n",
       "      <td>756865</td>\n",
       "    </tr>\n",
       "    <tr>\n",
       "      <th>3</th>\n",
       "      <td>GA</td>\n",
       "      <td>DeKalb</td>\n",
       "      <td>12481873</td>\n",
       "      <td>756558</td>\n",
       "    </tr>\n",
       "    <tr>\n",
       "      <th>4</th>\n",
       "      <td>GA</td>\n",
       "      <td>Muscogee</td>\n",
       "      <td>8394232</td>\n",
       "      <td>194160</td>\n",
       "    </tr>\n",
       "  </tbody>\n",
       "</table>\n",
       "</div>"
      ],
      "text/plain": [
       "  State    County  Deposit (000s)  Population Est 2018\n",
       "0    GA    Fulton       100332784              1050114\n",
       "1    GA  Gwinnett        17717075               927781\n",
       "2    GA      Cobb        15632932               756865\n",
       "3    GA    DeKalb        12481873               756558\n",
       "4    GA  Muscogee         8394232               194160"
      ]
     },
     "execution_count": 17,
     "metadata": {},
     "output_type": "execute_result"
    }
   ],
   "source": [
    "mg = deposit.merge(pop[['State', 'County', 'Population Est 2018']], on=['State','County'])\n",
    "print(mg.shape)\n",
    "print(mg.count())\n",
    "mg.head()"
   ]
  },
  {
   "cell_type": "markdown",
   "metadata": {},
   "source": [
    "Calculate per capita saving."
   ]
  },
  {
   "cell_type": "code",
   "execution_count": 18,
   "metadata": {},
   "outputs": [
    {
     "data": {
      "text/html": [
       "<div>\n",
       "<style scoped>\n",
       "    .dataframe tbody tr th:only-of-type {\n",
       "        vertical-align: middle;\n",
       "    }\n",
       "\n",
       "    .dataframe tbody tr th {\n",
       "        vertical-align: top;\n",
       "    }\n",
       "\n",
       "    .dataframe thead th {\n",
       "        text-align: right;\n",
       "    }\n",
       "</style>\n",
       "<table border=\"1\" class=\"dataframe\">\n",
       "  <thead>\n",
       "    <tr style=\"text-align: right;\">\n",
       "      <th></th>\n",
       "      <th>State</th>\n",
       "      <th>County</th>\n",
       "      <th>Deposit (000s)</th>\n",
       "      <th>Population Est 2018</th>\n",
       "      <th>Deposit (000s) Per Capita</th>\n",
       "    </tr>\n",
       "  </thead>\n",
       "  <tbody>\n",
       "    <tr>\n",
       "      <th>0</th>\n",
       "      <td>GA</td>\n",
       "      <td>Fulton</td>\n",
       "      <td>100332784</td>\n",
       "      <td>1050114</td>\n",
       "      <td>95.544659</td>\n",
       "    </tr>\n",
       "    <tr>\n",
       "      <th>1</th>\n",
       "      <td>GA</td>\n",
       "      <td>Gwinnett</td>\n",
       "      <td>17717075</td>\n",
       "      <td>927781</td>\n",
       "      <td>19.096182</td>\n",
       "    </tr>\n",
       "    <tr>\n",
       "      <th>2</th>\n",
       "      <td>GA</td>\n",
       "      <td>Cobb</td>\n",
       "      <td>15632932</td>\n",
       "      <td>756865</td>\n",
       "      <td>20.654849</td>\n",
       "    </tr>\n",
       "    <tr>\n",
       "      <th>3</th>\n",
       "      <td>GA</td>\n",
       "      <td>DeKalb</td>\n",
       "      <td>12481873</td>\n",
       "      <td>756558</td>\n",
       "      <td>16.498237</td>\n",
       "    </tr>\n",
       "    <tr>\n",
       "      <th>4</th>\n",
       "      <td>GA</td>\n",
       "      <td>Muscogee</td>\n",
       "      <td>8394232</td>\n",
       "      <td>194160</td>\n",
       "      <td>43.233581</td>\n",
       "    </tr>\n",
       "  </tbody>\n",
       "</table>\n",
       "</div>"
      ],
      "text/plain": [
       "  State    County  Deposit (000s)  Population Est 2018  \\\n",
       "0    GA    Fulton       100332784              1050114   \n",
       "1    GA  Gwinnett        17717075               927781   \n",
       "2    GA      Cobb        15632932               756865   \n",
       "3    GA    DeKalb        12481873               756558   \n",
       "4    GA  Muscogee         8394232               194160   \n",
       "\n",
       "   Deposit (000s) Per Capita  \n",
       "0                  95.544659  \n",
       "1                  19.096182  \n",
       "2                  20.654849  \n",
       "3                  16.498237  \n",
       "4                  43.233581  "
      ]
     },
     "execution_count": 18,
     "metadata": {},
     "output_type": "execute_result"
    }
   ],
   "source": [
    "mg['Deposit (000s) Per Capita'] = mg['Deposit (000s)']/mg['Population Est 2018']\n",
    "mg.head()"
   ]
  },
  {
   "cell_type": "code",
   "execution_count": 19,
   "metadata": {},
   "outputs": [
    {
     "data": {
      "text/html": [
       "<div>\n",
       "<style scoped>\n",
       "    .dataframe tbody tr th:only-of-type {\n",
       "        vertical-align: middle;\n",
       "    }\n",
       "\n",
       "    .dataframe tbody tr th {\n",
       "        vertical-align: top;\n",
       "    }\n",
       "\n",
       "    .dataframe thead th {\n",
       "        text-align: right;\n",
       "    }\n",
       "</style>\n",
       "<table border=\"1\" class=\"dataframe\">\n",
       "  <thead>\n",
       "    <tr style=\"text-align: right;\">\n",
       "      <th></th>\n",
       "      <th>Deposit (000s)</th>\n",
       "      <th>Population Est 2018</th>\n",
       "      <th>Deposit (000s) Per Capita</th>\n",
       "    </tr>\n",
       "  </thead>\n",
       "  <tbody>\n",
       "    <tr>\n",
       "      <th>count</th>\n",
       "      <td>5.720000e+02</td>\n",
       "      <td>5.720000e+02</td>\n",
       "      <td>572.000000</td>\n",
       "    </tr>\n",
       "    <tr>\n",
       "      <th>mean</th>\n",
       "      <td>3.674213e+06</td>\n",
       "      <td>1.238987e+05</td>\n",
       "      <td>18.570632</td>\n",
       "    </tr>\n",
       "    <tr>\n",
       "      <th>std</th>\n",
       "      <td>1.751788e+07</td>\n",
       "      <td>3.437498e+05</td>\n",
       "      <td>13.667547</td>\n",
       "    </tr>\n",
       "    <tr>\n",
       "      <th>min</th>\n",
       "      <td>7.602000e+03</td>\n",
       "      <td>7.260000e+02</td>\n",
       "      <td>0.928432</td>\n",
       "    </tr>\n",
       "    <tr>\n",
       "      <th>25%</th>\n",
       "      <td>1.679305e+05</td>\n",
       "      <td>1.195700e+04</td>\n",
       "      <td>10.966622</td>\n",
       "    </tr>\n",
       "    <tr>\n",
       "      <th>50%</th>\n",
       "      <td>4.214485e+05</td>\n",
       "      <td>2.728400e+04</td>\n",
       "      <td>15.334716</td>\n",
       "    </tr>\n",
       "    <tr>\n",
       "      <th>75%</th>\n",
       "      <td>1.248876e+06</td>\n",
       "      <td>8.595475e+04</td>\n",
       "      <td>21.664140</td>\n",
       "    </tr>\n",
       "    <tr>\n",
       "      <th>max</th>\n",
       "      <td>2.086604e+08</td>\n",
       "      <td>4.698619e+06</td>\n",
       "      <td>172.786415</td>\n",
       "    </tr>\n",
       "  </tbody>\n",
       "</table>\n",
       "</div>"
      ],
      "text/plain": [
       "       Deposit (000s)  Population Est 2018  Deposit (000s) Per Capita\n",
       "count    5.720000e+02         5.720000e+02                 572.000000\n",
       "mean     3.674213e+06         1.238987e+05                  18.570632\n",
       "std      1.751788e+07         3.437498e+05                  13.667547\n",
       "min      7.602000e+03         7.260000e+02                   0.928432\n",
       "25%      1.679305e+05         1.195700e+04                  10.966622\n",
       "50%      4.214485e+05         2.728400e+04                  15.334716\n",
       "75%      1.248876e+06         8.595475e+04                  21.664140\n",
       "max      2.086604e+08         4.698619e+06                 172.786415"
      ]
     },
     "execution_count": 19,
     "metadata": {},
     "output_type": "execute_result"
    }
   ],
   "source": [
    "mg.describe()"
   ]
  },
  {
   "cell_type": "code",
   "execution_count": 21,
   "metadata": {},
   "outputs": [],
   "source": [
    "mg.to_csv('per_capita_deposit.csv', index=False)"
   ]
  },
  {
   "cell_type": "code",
   "execution_count": null,
   "metadata": {},
   "outputs": [],
   "source": []
  }
 ],
 "metadata": {
  "colab": {
   "collapsed_sections": [],
   "name": "Income Scrapping.ipynb",
   "provenance": []
  },
  "kernelspec": {
   "display_name": "Python 3",
   "language": "python",
   "name": "python3"
  },
  "language_info": {
   "codemirror_mode": {
    "name": "ipython",
    "version": 3
   },
   "file_extension": ".py",
   "mimetype": "text/x-python",
   "name": "python",
   "nbconvert_exporter": "python",
   "pygments_lexer": "ipython3",
   "version": "3.7.3"
  }
 },
 "nbformat": 4,
 "nbformat_minor": 1
}
