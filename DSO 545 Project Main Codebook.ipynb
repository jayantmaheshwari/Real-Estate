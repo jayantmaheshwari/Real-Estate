{
 "cells": [
  {
   "cell_type": "code",
   "execution_count": null,
   "metadata": {},
   "outputs": [],
   "source": [
    "# Import relevant libraries\n",
    "import pandas as pd\n",
    "import numpy as np\n",
    "import math\n",
    "import matplotlib.pyplot as plt"
   ]
  },
  {
   "cell_type": "code",
   "execution_count": null,
   "metadata": {},
   "outputs": [],
   "source": [
    "# Import property data\n",
    "data = pd.read_excel('Property Data Compiled.xlsx', index_col = 0)"
   ]
  },
  {
   "cell_type": "code",
   "execution_count": null,
   "metadata": {},
   "outputs": [],
   "source": [
    "#  Check rows and column numbers in data\n",
    "data.shape"
   ]
  },
  {
   "cell_type": "code",
   "execution_count": null,
   "metadata": {},
   "outputs": [],
   "source": [
    "# List of Columns\n",
    "data.columns.tolist()"
   ]
  },
  {
   "cell_type": "markdown",
   "metadata": {},
   "source": [
    "## 1. Data Cleaning\n",
    "Create a subset of original data based on EDA to reduce calculation load. Drop duplicates. Get 5 digit zip & Fix State typo."
   ]
  },
  {
   "cell_type": "code",
   "execution_count": null,
   "metadata": {},
   "outputs": [],
   "source": [
    "cols = ['PropertyID', \n",
    "        # rent fields\n",
    "        'Avg Effective/SF', 'Avg Concessions %',\n",
    "        'Studio Effective Rent/SF', 'One Bedroom Effective Rent/SF', 'Two Bedroom Effective Rent/SF',\n",
    "        'Three Bedroom Effective Rent/SF', 'Four Bedroom Effective Rent/SF',\n",
    "        # unit fields\n",
    "        'Studio Avg SF', 'Number Of Studios', 'Studio Vacant Units', 'Studio Vacancy %',\n",
    "        'One Bedroom Avg SF','Number Of 1 Bedrooms', 'One Bedroom Vacant Units', 'One Bedroom Vacancy %',\n",
    "        'Two Bedroom Avg SF', 'Number Of 2 Bedrooms', 'Two Bedroom Vacant Units', 'Two Bedroom Vacancy %',\n",
    "        'Three Bedroom Avg SF', 'Number Of 3 Bedrooms', 'Three Bedroom Vacant Units', 'Three Bedroom Vacancy %',\n",
    "        'Four Bedroom Avg SF', 'Number Of 4 Bedrooms', 'Four Bedroom Vacant Units', 'Four Bedroom Vacancy %',        \n",
    "        # location fields\n",
    "        'State', 'Market Name', 'City', 'Zip', 'County Name',\n",
    "        'Closest Transit Stop Dist (mi)', 'Latitude', 'Longitude',\n",
    "        # property fields\n",
    "        'Star Rating', 'Building Status', 'Land Area (AC)', 'Number Of Stories',\n",
    "        'Style', 'Number Of Units', 'Vacancy %', 'Avg Unit SF', 'RBA',\n",
    "        '% Studios', '% 1-Bed', '% 2-Bed', '% 3-Bed', '% 4-Bed',\n",
    "        'Rent Type', 'Affordable Type', 'Construction Material', \n",
    "        'Amenities', 'Owner Name', 'Year Built', 'Year Renovated',\n",
    "        # demographic fields\n",
    "        '2019 Avg Age(1m)', '2019 Pop Age <19(1m)', '2019 Pop Age 20-64(1m)','2019 Pop Age 65+(1m)']\n",
    "sub = data.copy()[cols]\n",
    "sub.drop_duplicates(subset='PropertyID', inplace = True)\n",
    "sub['Zip5'] = sub['Zip'].str[:5]\n",
    "sub['State'] = sub['State'].map({'TX':'TX',\n",
    "                                 'FL':'FL',\n",
    "                                 'GA':'GA',\n",
    "                                 'NC':'NC',\n",
    "                                 'Fl':'FL',\n",
    "                                 'NC ':'NC'})\n",
    "sub.shape"
   ]
  },
  {
   "cell_type": "code",
   "execution_count": null,
   "metadata": {},
   "outputs": [],
   "source": [
    "# Export unique zip codes\n",
    "pd.DataFrame(sub['Zip5'].unique()).to_csv('Zip5.csv',index=False)"
   ]
  },
  {
   "cell_type": "code",
   "execution_count": null,
   "metadata": {},
   "outputs": [],
   "source": [
    "# Check data type and missing values for each of the variables\n",
    "sub.info()"
   ]
  },
  {
   "cell_type": "markdown",
   "metadata": {},
   "source": [
    "### 1.1 Drop properties that are proposed, under construction or demolished"
   ]
  },
  {
   "cell_type": "code",
   "execution_count": null,
   "metadata": {},
   "outputs": [],
   "source": [
    "# Number of rows for each building status\n",
    "sub['Building Status'].value_counts()"
   ]
  },
  {
   "cell_type": "code",
   "execution_count": null,
   "metadata": {},
   "outputs": [],
   "source": [
    "# Remove rows belonging to proposed, under construction and demolished categories\n",
    "row_initial = sub.shape[0]\n",
    "sub = sub[sub['Building Status'].isin(['Existing','Under Renovation'])].copy()\n",
    "print('Records dropped:', row_initial - sub.shape[0])\n",
    "print('Current size:', sub.shape)"
   ]
  },
  {
   "cell_type": "markdown",
   "metadata": {},
   "source": [
    "### 1.2 Drop properties that are missing Avg Effective/SF (which is our output variable i.e. final rent price/sqft)\n",
    "Almost all records missing Avg Effective/SF are missing Effective Rent/SF for specifi unit types too, so cannot be calculated and filled and have to be dropped."
   ]
  },
  {
   "cell_type": "code",
   "execution_count": null,
   "metadata": {},
   "outputs": [],
   "source": [
    "# Calculate how much data is missing for avg effective/sf\n",
    "print('Percentage of data missing Avg Effective/SF:',1-sub['Avg Effective/SF'].count()/sub.shape[0])"
   ]
  },
  {
   "cell_type": "code",
   "execution_count": null,
   "metadata": {},
   "outputs": [],
   "source": [
    "# When overal rent/SF is missing, detailed rents by unit types are usually missing too\n",
    "# The first can't be calculated and filled from the latter\n",
    "sub[sub['Avg Effective/SF'].isnull()][['Studio Effective Rent/SF', 'One Bedroom Effective Rent/SF', \n",
    "                                       'Two Bedroom Effective Rent/SF','Three Bedroom Effective Rent/SF', \n",
    "                                       'Four Bedroom Effective Rent/SF']].count()"
   ]
  },
  {
   "cell_type": "code",
   "execution_count": null,
   "metadata": {},
   "outputs": [],
   "source": [
    "# Drop the rows where avg effective/SF is missing\n",
    "row_initial = sub.shape[0]\n",
    "sub = sub[sub['Avg Effective/SF'].notnull()].copy()\n",
    "print('Records dropped:', row_initial - sub.shape[0])\n",
    "print('Current size:', sub.shape)"
   ]
  },
  {
   "cell_type": "markdown",
   "metadata": {},
   "source": [
    "### 1.3 Validate property unit mix\n",
    "### 1.3.1 Fix wrong data in % 4-Bed\n",
    "Most records have % room types that don't add up to 100. Reason is that Column '% 4-Bed' is not consistent with other % room type columns. Multiply all '% 4-Bed' by 100 to make it consistent."
   ]
  },
  {
   "cell_type": "code",
   "execution_count": null,
   "metadata": {},
   "outputs": [],
   "source": [
    "# Multiply % 4-Bed by 100 to make data consistent\n",
    "# Create a % total column to see if all % columns add up to 100\n",
    "sub['% 4-Bed'] = sub['% 4-Bed']*100\n",
    "sub['% tot'] = sub[['% Studios', '% 1-Bed', '% 2-Bed', '% 3-Bed', '% 4-Bed']].sum(axis=1)\n",
    "sub['% tot'] = sub['% tot'].apply(round)\n",
    "sub['% tot'].value_counts()"
   ]
  },
  {
   "cell_type": "markdown",
   "metadata": {},
   "source": [
    "Some % tot still add up to suggesting missing data. Let's dig deeper into different units and understand this."
   ]
  },
  {
   "cell_type": "markdown",
   "metadata": {},
   "source": [
    "### 1.3.2 Fill missing value in % Studios/1-Bed/2-Bed/3-Bed/4-Bed\n",
    "Some records have Number Of Studios value but no % Studios value. Fill missing value with Number Of Studios divided by Number Of Units. Do the same for 1/2/3/4 bedrooms."
   ]
  },
  {
   "cell_type": "code",
   "execution_count": null,
   "metadata": {},
   "outputs": [],
   "source": [
    "# Fill missing values in % of unit types with values calculated from other fields\n",
    "unit_type = {'Studios':'Studios', '1 Bedrooms':'1-Bed', \n",
    "             '2 Bedrooms':'2-Bed', '3 Bedrooms':'3-Bed', '4 Bedrooms':'4-Bed'}\n",
    "\n",
    "for utype in unit_type.keys():\n",
    "    sub['% {}'.format(unit_type[utype])] =\\\n",
    "    sub[['% {}'.format(unit_type[utype]), 'Number Of {}'.format(utype), 'Number Of Units']].\\\n",
    "    apply(lambda x: x[0] if np.isnan(x[0])==False else(\\\n",
    "    x[0] if np.isnan(x[1]) else x[1]/x[2]*100), axis=1)"
   ]
  },
  {
   "cell_type": "markdown",
   "metadata": {},
   "source": [
    "### 1.3.3 Fill missing value in Number Of Studios/1-Bed/2-Bed/3-Bed/4-Bed\n",
    "Some records have % Studios values but no Number Of Studios value. Fill missing value with number of total unit X % Studios. Do the same for 1/2/3/4 bedrooms."
   ]
  },
  {
   "cell_type": "code",
   "execution_count": null,
   "metadata": {},
   "outputs": [],
   "source": [
    "# Fill missing values in numbers of unit types with values calculated from other fields\n",
    "for utype in unit_type.keys():\n",
    "    sub['Number Of {}'.format(utype)] = sub[['Number Of {}'.format(utype), '% {}'.format(unit_type[utype]), \n",
    "                                             'Number Of Units']].\\\n",
    "                                        apply(lambda x: x[1] * x[2]/100 if np.isnan(x[0]) else x[0], axis=1)"
   ]
  },
  {
   "cell_type": "markdown",
   "metadata": {},
   "source": [
    "### 1.3.4 Check if % unit types add up to 100 , fix wrong numbers\n",
    "Let's come back to % tot to validate number of different units add up."
   ]
  },
  {
   "cell_type": "code",
   "execution_count": null,
   "metadata": {},
   "outputs": [],
   "source": [
    "# Recheck % total to see if there are still non-100s\n",
    "sub['% tot'] = sub[['% Studios', '% 1-Bed', '% 2-Bed', '% 3-Bed', '% 4-Bed']].sum(axis=1)\n",
    "sub['% tot'] = sub['% tot'].apply(round)\n",
    "sub['% tot'].value_counts()"
   ]
  },
  {
   "cell_type": "code",
   "execution_count": null,
   "metadata": {},
   "outputs": [],
   "source": [
    "# Find rows that don't add up to 100 \n",
    "wrong = sub['% tot'].value_counts().index.tolist()\n",
    "wrong.remove(100)\n",
    "sub[sub['% tot'].isin(wrong)][['Studio Effective Rent/SF', 'One Bedroom Effective Rent/SF', \n",
    "                               'Two Bedroom Effective Rent/SF','Three Bedroom Effective Rent/SF', \n",
    "                               'Four Bedroom Effective Rent/SF',\n",
    "                               '% Studios', '% 1-Bed', '% 2-Bed', '% 3-Bed', '% 4-Bed',\n",
    "                               'Number Of Studios', 'Number Of 1 Bedrooms', 'Number Of 2 Bedrooms', \n",
    "                               'Number Of 3 Bedrooms', 'Number Of 4 Bedrooms', 'Number Of Units']].head(11)"
   ]
  },
  {
   "cell_type": "markdown",
   "metadata": {},
   "source": [
    "Row 11401 can be easily fixed by removing number of 4 bedrooms and % 4-Bed."
   ]
  },
  {
   "cell_type": "code",
   "execution_count": null,
   "metadata": {},
   "outputs": [],
   "source": [
    "# Fix row 11401\n",
    "sub.loc[11401, 'Number Of 4 Bedrooms']=np.nan\n",
    "sub.loc[11401, '% 4-Bed']=np.nan"
   ]
  },
  {
   "cell_type": "markdown",
   "metadata": {},
   "source": [
    "Find the rows where number of units add up and fix their % accordingly. Drop the rows where number of units don't add up."
   ]
  },
  {
   "cell_type": "code",
   "execution_count": null,
   "metadata": {},
   "outputs": [],
   "source": [
    "# Find rows where absolute numbers do and do not add up\n",
    "test = sub[sub['% tot'].isin(wrong)]\n",
    "ind = pd.DataFrame(test[['Number Of Studios', 'Number Of 1 Bedrooms', 'Number Of 2 Bedrooms', \n",
    "                         'Number Of 3 Bedrooms', 'Number Of 4 Bedrooms']].\\\n",
    "                   sum(axis=1)==test['Number Of Units']).reset_index()\n",
    "ind.columns=['Row','match']\n",
    "match = ind[ind['match']==True]['Row'].tolist()\n",
    "unmatch = ind[ind['match']==False]['Row'].tolist()\n",
    "print('Matched:', match)\n",
    "print('Unmatched:', unmatch)"
   ]
  },
  {
   "cell_type": "code",
   "execution_count": null,
   "metadata": {},
   "outputs": [],
   "source": [
    "# Remove unmatched rows\n",
    "# For matched ones, recalculate the % based on absolute number of units\n",
    "unit_type = {'Studios':'Studios', '1 Bedrooms':'1-Bed', \n",
    "             '2 Bedrooms':'2-Bed', '3 Bedrooms':'3-Bed', '4 Bedrooms':'4-Bed'}\n",
    "for utype in unit_type.keys():\n",
    "    sub.loc[match,'% {}'.format(unit_type[utype])] =\\\n",
    "    sub.loc[match, ['% {}'.format(unit_type[utype]), 'Number Of {}'.format(utype), \n",
    "                      'Number Of Units']].apply(lambda x: x[1]/x[2]*100, axis=1)\n",
    "row_initial = sub.shape[0]\n",
    "sub = sub.drop(unmatch)\n",
    "print('Records dropped:', row_initial - sub.shape[0])\n",
    "print('Current size:', sub.shape)"
   ]
  },
  {
   "cell_type": "code",
   "execution_count": null,
   "metadata": {},
   "outputs": [],
   "source": [
    "# Confirm % total all equal to 100 now\n",
    "sub['% tot'] = sub[['% Studios', '% 1-Bed', '% 2-Bed', '% 3-Bed', '% 4-Bed']].sum(axis=1)\n",
    "sub['% tot'] = sub['% tot'].apply(round)\n",
    "sub['% tot'].value_counts()"
   ]
  },
  {
   "cell_type": "markdown",
   "metadata": {},
   "source": [
    "### 1.3.5 Check if % and number of units match\n",
    "Manually calculate number of different types of units (i.e. # Studios,1/2/3/4 bedrooms) and see if they match with the original data"
   ]
  },
  {
   "cell_type": "code",
   "execution_count": null,
   "metadata": {},
   "outputs": [],
   "source": [
    "# Manually calculate number of unit by types from %\n",
    "test = sub[['% Studios', '% 1-Bed', '% 2-Bed', '% 3-Bed', '% 4-Bed',\n",
    "                      'Number Of Studios', 'Number Of 1 Bedrooms', 'Number Of 2 Bedrooms', \n",
    "                      'Number Of 3 Bedrooms', 'Number Of 4 Bedrooms', 'Number Of Units']].copy()\n",
    "test = test.fillna(0)\n",
    "unit_type = {'Studios':'Studios', '1 Bedrooms':'1-Bed', \n",
    "             '2 Bedrooms':'2-Bed', '3 Bedrooms':'3-Bed', '4 Bedrooms':'4-Bed'}\n",
    "for utype in unit_type.keys():\n",
    "    test['# {}'.format(utype)] = test[['% {}'.format(unit_type[utype]),\n",
    "                                       'Number Of Units']].apply(lambda x:\n",
    "                                 round(x[0]*x[1]/100), axis=1)\n",
    "test.head()"
   ]
  },
  {
   "cell_type": "code",
   "execution_count": null,
   "metadata": {},
   "outputs": [],
   "source": [
    "# Find cases where manually calculated numbers don't match original input\n",
    "unmatch = \\\n",
    "test[(test['Number Of Studios']!=test['# Studios'])|\\\n",
    "     (test['Number Of 1 Bedrooms']!=test['# 1 Bedrooms'])|\\\n",
    "     (test['Number Of 2 Bedrooms']!=test['# 2 Bedrooms'])|\\\n",
    "     (test['Number Of 3 Bedrooms']!=test['# 3 Bedrooms'])|\\\n",
    "     (test['Number Of 4 Bedrooms']!=test['# 4 Bedrooms'])]\n",
    "unmatch.head()"
   ]
  },
  {
   "cell_type": "code",
   "execution_count": null,
   "metadata": {},
   "outputs": [],
   "source": [
    "# Percentage mismatch\n",
    "print(\"Number of rows where % and number of units don't match:\", unmatch.shape[0])\n",
    "print('Percentage of unmatch:', unmatch.shape[0]/sub.shape[0])"
   ]
  },
  {
   "cell_type": "markdown",
   "metadata": {},
   "source": [
    "1.2% rows unmatched are acceptable. Use percentage of units for regression model."
   ]
  },
  {
   "cell_type": "markdown",
   "metadata": {},
   "source": [
    "### 1.4 Remove rows that have missing values in Amenities & Construction Material\n",
    "Amenities and construction material variables are critical and filling missing values is difficult for these categories"
   ]
  },
  {
   "cell_type": "code",
   "execution_count": null,
   "metadata": {},
   "outputs": [],
   "source": [
    "# Check number of rows with Amenities and Construction Material information\n",
    "sub[['Amenities','Construction Material']].count()"
   ]
  },
  {
   "cell_type": "code",
   "execution_count": null,
   "metadata": {},
   "outputs": [],
   "source": [
    "# Delete rows that are missing Amenities and Construction Material information\n",
    "row_initial = sub.shape[0]\n",
    "sub = sub[(sub['Amenities'].notnull()) &\\\n",
    "           (sub['Construction Material'].notnull())].copy()\n",
    "print('Records dropped:', row_initial - sub.shape[0])\n",
    "print('Current size:', sub.shape)"
   ]
  },
  {
   "cell_type": "markdown",
   "metadata": {},
   "source": [
    "### 1.5 Check if variables related to each unit type add up\n",
    "- Fill Avg SF, Vacant Unites & Vacancy % missing values\n",
    "- Check if # of vacant unit matches vacancy %\n",
    "- Check if there are outliers/wrong entries"
   ]
  },
  {
   "cell_type": "markdown",
   "metadata": {},
   "source": [
    "### 1.5.1 Define functions to fill Vacancy% and Avg SF, and calculate Vacant Units"
   ]
  },
  {
   "cell_type": "code",
   "execution_count": null,
   "metadata": {},
   "outputs": [],
   "source": [
    "levels = ['Zip5', 'City', 'County Name', 'Market Name']\n",
    "\n",
    "# Function to fill vacancy % by unit type missing values with regional mean\n",
    "def fill_vacancy_mean(uname1, uname2, level):\n",
    "    sub.loc[sub['% {}'.format(uname1)].notnull(), '{} Vacancy %'.format(uname2)] = \\\n",
    "    sub[sub['% {}'.format(uname1)].notnull()][['{} Vacancy %'.format(uname2), level]].groupby(level).\\\n",
    "    transform(lambda x: x.fillna(x.mean()))\n",
    "\n",
    "# Function to calculate vacant unit by type from vacancy % to fill missing values\n",
    "def calculate_vacant_unit(uname1, uname2, uname3):\n",
    "    sub.loc[sub['% {}'.format(uname1)].notnull(),'{} Vacant Units'.format(uname2)] =\\\n",
    "    sub.loc[sub['% {}'.format(uname1)].notnull(),'{} Vacant Units'.format(uname2)].\\\n",
    "    fillna(sub[sub['% {}'.format(uname1)].notnull()]\\\n",
    "           [['Number Of {}'.format(uname3),'{} Vacancy %'.format(uname2)]].\\\n",
    "           apply(lambda x: round(x[0]*x[1]/100), axis=1))\n",
    "\n",
    "# Function to fill unit size by unit type missing values with regional mean\n",
    "def fill_sf_mean(uname1, uname2, level):\n",
    "    sub.loc[sub['% {}'.format(uname1)].notnull(), '{} Avg SF'.format(uname2)] = \\\n",
    "    sub[sub['% {}'.format(uname1)].notnull()][['{} Avg SF'.format(uname2), level]].groupby(level).\\\n",
    "    transform(lambda x: x.fillna(x.mean()))"
   ]
  },
  {
   "cell_type": "markdown",
   "metadata": {},
   "source": [
    "### 1.5.2 Studio related variables:"
   ]
  },
  {
   "cell_type": "code",
   "execution_count": null,
   "metadata": {},
   "outputs": [],
   "source": [
    "# Check descriptive statistics of Studio related variables\n",
    "sub[sub['% Studios'].notnull()][['Studio Avg SF', 'Number Of Studios', 'Studio Vacant Units', \n",
    "                                 'Studio Vacancy %', 'Studio Effective Rent/SF', '% Studios']].describe()"
   ]
  },
  {
   "cell_type": "markdown",
   "metadata": {},
   "source": [
    "Missing values for Avg SF, Vacant Units, Vacancy % and Effective Rent/SF. Unusual small Studio Avg SF - 6. Outliers in Studio Avg SF & Studio Effective Rent/SF."
   ]
  },
  {
   "cell_type": "code",
   "execution_count": null,
   "metadata": {},
   "outputs": [],
   "source": [
    "# Check for outlier cases where studio avg SF is less than 200\n",
    "sub[(sub['% Studios'].notnull()) & (sub['Studio Avg SF']<200)]\\\n",
    "[['PropertyID','Studio Effective Rent/SF', 'One Bedroom Effective Rent/SF', 'Two Bedroom Effective Rent/SF',\n",
    "  'Three Bedroom Effective Rent/SF', 'Four Bedroom Effective Rent/SF', 'Avg Effective/SF', 'Avg Unit SF', \n",
    "  '% Studios', '% 1-Bed', '% 2-Bed', '% 3-Bed', '% 4-Bed',\n",
    "  'Studio Avg SF', 'Number Of Studios', 'Studio Vacant Units', 'Studio Vacancy %']]"
   ]
  },
  {
   "cell_type": "markdown",
   "metadata": {},
   "source": [
    "PropertyID 8943094 has wrong Studio Avg SF (6 sf is two small for a studio). Based on other columns, a reasonable fix would be 600."
   ]
  },
  {
   "cell_type": "code",
   "execution_count": null,
   "metadata": {},
   "outputs": [],
   "source": [
    "# Update Studio Avg SF and Studio effective rent/SF with new values for PropertyID 8943094\n",
    "sub.loc[sub.PropertyID==8943094, 'Studio Avg SF'] = sub.loc[sub.PropertyID==8943094, 'Studio Avg SF'] * 100\n",
    "sub.loc[sub.PropertyID==8943094, 'Studio Effective Rent/SF'] = \\\n",
    "sub.loc[sub.PropertyID==8943094, 'Studio Effective Rent/SF'] / 100"
   ]
  },
  {
   "cell_type": "code",
   "execution_count": null,
   "metadata": {},
   "outputs": [],
   "source": [
    "# Fill missing values with predefined functions\n",
    "for level in levels:\n",
    "    fill_vacancy_mean('Studios', 'Studio', level)\n",
    "    fill_sf_mean('Studios', 'Studio', level)\n",
    "calculate_vacant_unit('Studios', 'Studio', 'Studios')\n",
    "\n",
    "sub[sub['% Studios'].notnull()][['Studio Avg SF', 'Number Of Studios', 'Studio Vacant Units', \n",
    "                                 'Studio Vacancy %', 'Studio Effective Rent/SF', '% Studios']].describe()"
   ]
  },
  {
   "cell_type": "code",
   "execution_count": null,
   "metadata": {},
   "outputs": [],
   "source": [
    "# Check if Studio Vacant units match with Studio Vacancy %\n",
    "test = sub[sub['% Studios'].notnull()].copy()\n",
    "test['# Vacant Studio'] = test[['Number Of Studios', 'Studio Vacancy %']].apply(lambda x:\n",
    "                          round(x[0]*x[1]/100), axis=1)\n",
    "print(test[test['Studio Vacant Units']!=test['# Vacant Studio']].shape)\n",
    "#test[test['Studio Vacant Units']!=test['# Vacant Studio']][['Studio Vacant Units', '# Vacant Studio']]"
   ]
  },
  {
   "cell_type": "markdown",
   "metadata": {},
   "source": [
    "Studio Vacant Units and Studio Vacancy % matches."
   ]
  },
  {
   "cell_type": "markdown",
   "metadata": {},
   "source": [
    "### 1.5.2 One Bedroom related variables:"
   ]
  },
  {
   "cell_type": "code",
   "execution_count": null,
   "metadata": {},
   "outputs": [],
   "source": [
    "# Check descriptive statistics of 1-Bedroom related variables\n",
    "sub[sub['% 1-Bed'].notnull()][['One Bedroom Avg SF','Number Of 1 Bedrooms', 'One Bedroom Vacant Units', \n",
    "        'One Bedroom Vacancy %', 'One Bedroom Effective Rent/SF', '% 1-Bed']].describe()"
   ]
  },
  {
   "cell_type": "markdown",
   "metadata": {},
   "source": [
    "Missing values for Avg SF, Vacant Units, Vacancy % and Effective Rent/SF. Outliers in Avg SF and Effective Rent/SF."
   ]
  },
  {
   "cell_type": "code",
   "execution_count": null,
   "metadata": {},
   "outputs": [],
   "source": [
    "# Fill missing values with predefined functions\n",
    "for level in levels:\n",
    "    fill_vacancy_mean('1-Bed', 'One Bedroom', level)\n",
    "    fill_sf_mean('1-Bed', 'One Bedroom', level)\n",
    "calculate_vacant_unit('1-Bed', 'One Bedroom', '1 Bedrooms')\n",
    "\n",
    "sub[sub['% 1-Bed'].notnull()][['One Bedroom Avg SF','Number Of 1 Bedrooms', 'One Bedroom Vacant Units', \n",
    "        'One Bedroom Vacancy %', 'One Bedroom Effective Rent/SF', '% 1-Bed']].describe()"
   ]
  },
  {
   "cell_type": "code",
   "execution_count": null,
   "metadata": {},
   "outputs": [],
   "source": [
    "# Check if 1-Bedroom Vacant units match with 1-Bedroom Vacancy %\n",
    "test = sub[sub['% 1-Bed'].notnull()].copy()\n",
    "test['# Vacant 1-Bed'] = test[['Number Of 1 Bedrooms', 'One Bedroom Vacancy %']].apply(lambda x:\n",
    "                          round(x[0]*x[1]/100), axis=1)\n",
    "#print(test[test['One Bedroom Vacant Units']!=test['# Vacant 1-Bed']].shape)\n",
    "test[test['One Bedroom Vacant Units']!=test['# Vacant 1-Bed']]\\\n",
    "[['One Bedroom Vacant Units', '# Vacant 1-Bed']]"
   ]
  },
  {
   "cell_type": "markdown",
   "metadata": {},
   "source": [
    "One Bedroom Vacant Units and One Bedroom Vacancy % have only one minor mismatch due to rounding and can be ignored"
   ]
  },
  {
   "cell_type": "markdown",
   "metadata": {},
   "source": [
    "### 1.5.3 Two Bedroom related variables:"
   ]
  },
  {
   "cell_type": "code",
   "execution_count": null,
   "metadata": {},
   "outputs": [],
   "source": [
    "# Check descriptive statistics of 2-Bedroom related variables\n",
    "sub[sub['% 2-Bed'].notnull()][['Two Bedroom Avg SF','Number Of 2 Bedrooms', 'Two Bedroom Vacant Units', \n",
    "        'Two Bedroom Vacancy %', 'Two Bedroom Effective Rent/SF', '% 2-Bed']].describe()"
   ]
  },
  {
   "cell_type": "markdown",
   "metadata": {},
   "source": [
    "Missing values for Avg SF, Vacant Units, Vacancy % and Effective Rent/SF. Outliers in Avg SF and Effective Rent/SF."
   ]
  },
  {
   "cell_type": "code",
   "execution_count": null,
   "metadata": {},
   "outputs": [],
   "source": [
    "# Fill missing values with predefined functions\n",
    "for level in levels:\n",
    "    fill_vacancy_mean('2-Bed', 'Two Bedroom', level)\n",
    "    fill_sf_mean('2-Bed', 'Two Bedroom', level)\n",
    "calculate_vacant_unit('2-Bed', 'Two Bedroom', '2 Bedrooms')\n",
    "\n",
    "sub[sub['% 2-Bed'].notnull()][['Two Bedroom Avg SF','Number Of 2 Bedrooms', 'Two Bedroom Vacant Units', \n",
    "        'Two Bedroom Vacancy %', 'Two Bedroom Effective Rent/SF', '% 2-Bed']].describe()"
   ]
  },
  {
   "cell_type": "code",
   "execution_count": null,
   "metadata": {},
   "outputs": [],
   "source": [
    "# Check if 2-Bedroom Vacant units match with 2-Bedroom Vacancy %\n",
    "test = sub[sub['% 2-Bed'].notnull()].copy()\n",
    "test['# Vacant 2-Bed'] = test[['Number Of 2 Bedrooms', 'Two Bedroom Vacancy %']].apply(lambda x:\n",
    "                          round(x[0]*x[1]/100), axis=1)\n",
    "print(test[test['Two Bedroom Vacant Units']!=test['# Vacant 2-Bed']].shape)\n",
    "#print(test[test['Two Bedroom Vacant Units']!=test['# Vacant 2-Bed']]\\\n",
    "#[['Two Bedroom Vacant Units', '# Vacant 2-Bed']].count())"
   ]
  },
  {
   "cell_type": "markdown",
   "metadata": {},
   "source": [
    "Two Bedroom Vacant Units and Two Bedroom Vacancy % matches."
   ]
  },
  {
   "cell_type": "markdown",
   "metadata": {},
   "source": [
    "### 1.5.4 Three Bedroom"
   ]
  },
  {
   "cell_type": "code",
   "execution_count": null,
   "metadata": {},
   "outputs": [],
   "source": [
    "# Check descriptive statistics of 3-Bedroom related variables\n",
    "sub[sub['% 3-Bed'].notnull()][['Three Bedroom Avg SF','Number Of 3 Bedrooms', 'Three Bedroom Vacant Units', \n",
    "        'Three Bedroom Vacancy %', 'Three Bedroom Effective Rent/SF', '% 3-Bed']].describe()"
   ]
  },
  {
   "cell_type": "markdown",
   "metadata": {},
   "source": [
    "Missing values for Avg SF, Vacant Units, Vacancy % and Effective Rent/SF. Outliers in Avg SF and Effective Rent/SF."
   ]
  },
  {
   "cell_type": "code",
   "execution_count": null,
   "metadata": {},
   "outputs": [],
   "source": [
    "# Fill missing values with predefined functions\n",
    "for level in levels:\n",
    "    fill_vacancy_mean('3-Bed', 'Three Bedroom', level)\n",
    "    fill_sf_mean('3-Bed', 'Three Bedroom', level)\n",
    "calculate_vacant_unit('3-Bed', 'Three Bedroom', '3 Bedrooms')\n",
    "\n",
    "sub[sub['% 3-Bed'].notnull()][['Three Bedroom Avg SF','Number Of 3 Bedrooms', 'Three Bedroom Vacant Units', \n",
    "        'Three Bedroom Vacancy %', 'Three Bedroom Effective Rent/SF', '% 3-Bed']].describe()"
   ]
  },
  {
   "cell_type": "code",
   "execution_count": null,
   "metadata": {},
   "outputs": [],
   "source": [
    "# Check if 3-Bedroom Vacant units match with 3-Bedroom Vacancy %\n",
    "test = sub[sub['% 3-Bed'].notnull()].copy()\n",
    "test['# Vacant 3-Bed'] = test[['Number Of 3 Bedrooms', 'Three Bedroom Vacancy %']].apply(lambda x:\n",
    "                          round(x[0]*x[1]/100), axis=1)\n",
    "print(test[test['Three Bedroom Vacant Units']!=test['# Vacant 3-Bed']].shape)\n",
    "#print(test[test['Three Bedroom Vacant Units']!=test['# Vacant 3-Bed']]\\\n",
    "#[['Three Bedroom Vacant Units', '# Vacant 3-Bed']].count())"
   ]
  },
  {
   "cell_type": "markdown",
   "metadata": {},
   "source": [
    "Three Bedroom Vacant Units and Three Bedroom Vacancy % matches."
   ]
  },
  {
   "cell_type": "markdown",
   "metadata": {},
   "source": [
    "### 1.5.5 Four Bedroom"
   ]
  },
  {
   "cell_type": "code",
   "execution_count": null,
   "metadata": {},
   "outputs": [],
   "source": [
    "# Check descriptive statistics of 4-Bedroom related variables\n",
    "sub[sub['% 4-Bed'].notnull()][['Four Bedroom Avg SF','Number Of 4 Bedrooms', 'Four Bedroom Vacant Units', \n",
    "        'Four Bedroom Vacancy %', 'Four Bedroom Effective Rent/SF', '% 4-Bed']].describe()"
   ]
  },
  {
   "cell_type": "markdown",
   "metadata": {},
   "source": [
    "Missing values for Avg SF, Vacant Units, Vacancy % and Effective Rent/SF.  Outliers in Avg SF and Effective Rent/SF."
   ]
  },
  {
   "cell_type": "code",
   "execution_count": null,
   "metadata": {},
   "outputs": [],
   "source": [
    "# Fill missing values with predefined functions\n",
    "for level in levels:\n",
    "    fill_vacancy_mean('4-Bed', 'Four Bedroom', level)\n",
    "    fill_sf_mean('4-Bed', 'Four Bedroom', level)\n",
    "calculate_vacant_unit('4-Bed', 'Four Bedroom', '4 Bedrooms')\n",
    "\n",
    "sub[sub['% 4-Bed'].notnull()][['Four Bedroom Avg SF','Number Of 4 Bedrooms', 'Four Bedroom Vacant Units', \n",
    "        'Four Bedroom Vacancy %', 'Four Bedroom Effective Rent/SF', '% 4-Bed']].describe()"
   ]
  },
  {
   "cell_type": "code",
   "execution_count": null,
   "metadata": {},
   "outputs": [],
   "source": [
    "# Check if 4-Bedroom Vacant units match with 4-Bedroom Vacancy %\n",
    "test = sub[sub['% 4-Bed'].notnull()].copy()\n",
    "test['# Vacant 4-Bed'] = test[['Number Of 4 Bedrooms', 'Four Bedroom Vacancy %']].apply(lambda x:\n",
    "                          round(x[0]*x[1]/100), axis=1)\n",
    "print(test[test['Four Bedroom Vacant Units']!=test['# Vacant 4-Bed']].shape)"
   ]
  },
  {
   "cell_type": "markdown",
   "metadata": {},
   "source": [
    "Four Bedroom Vacant Units and Four Bedroom Vacancy % matches."
   ]
  },
  {
   "cell_type": "markdown",
   "metadata": {},
   "source": [
    "### 1.6 Fill Vacancy % missing values with calculated values\n",
    "Calculate total vacant units, then divide it by total number of units"
   ]
  },
  {
   "cell_type": "code",
   "execution_count": null,
   "metadata": {},
   "outputs": [],
   "source": [
    "# Check Vacancy % missing values (if < 12908)\n",
    "sub['Vacancy %'].count()"
   ]
  },
  {
   "cell_type": "code",
   "execution_count": null,
   "metadata": {},
   "outputs": [],
   "source": [
    "# Fill missing values with values calculated from related fields \n",
    "sub['#_Vacant_Units'] = sub[['Studio Vacant Units',\n",
    "                             'One Bedroom Vacant Units',\n",
    "                             'Two Bedroom Vacant Units',\n",
    "                             'Three Bedroom Vacant Units',\n",
    "                             'Four Bedroom Vacant Units']].fillna(0).sum(axis=1)\n",
    "sub['Vacancy_%'] = sub[['#_Vacant_Units','Number Of Units']].apply(lambda x: round(x[0]/x[1]*100,2), axis=1)\n",
    "sub['Vacancy %'].fillna(sub['Vacancy_%'], inplace=True)\n",
    "sub[['Vacancy %','Vacancy_%']].count()"
   ]
  },
  {
   "cell_type": "code",
   "execution_count": null,
   "metadata": {},
   "outputs": [],
   "source": [
    "# Check % mismatch in original vacancy% and calculated vacancy% field\n",
    "print(\"Percentage of rows where calculated vacancy % doesn't match original vacancy %:\", \n",
    "      sub[abs(sub['Vacancy %']-sub['Vacancy_%'])>0.05].shape[0]/sub.shape[0])"
   ]
  },
  {
   "cell_type": "markdown",
   "metadata": {},
   "source": [
    "### 1.7 Fill Avg Unit SF missing values with calculated values\n",
    "Calculated as weighted average of the average unit size of differnt unit types"
   ]
  },
  {
   "cell_type": "code",
   "execution_count": null,
   "metadata": {},
   "outputs": [],
   "source": [
    "# Check Avg Unit SF missing values (if < 12908)\n",
    "sub['Avg Unit SF'].count()"
   ]
  },
  {
   "cell_type": "code",
   "execution_count": null,
   "metadata": {},
   "outputs": [],
   "source": [
    "# Calculate weighted average Unit SF based on related fields\n",
    "sub['Avg_Unit_SF'] = sub[['% Studios','% 1-Bed', '% 2-Bed', '% 3-Bed', '% 4-Bed',\n",
    "                          'Studio Avg SF', 'One Bedroom Avg SF', 'Two Bedroom Avg SF',\n",
    "                          'Three Bedroom Avg SF', 'Four Bedroom Avg SF']].fillna(0).\\\n",
    "                     apply(lambda x: round((x[0]*x[5]+x[1]*x[6]+x[2]*x[7]+x[3]*x[8]+x[4]*x[9])/100), axis=1)"
   ]
  },
  {
   "cell_type": "code",
   "execution_count": null,
   "metadata": {},
   "outputs": [],
   "source": [
    "# Fill missing values with calculated  values \n",
    "sub['Avg Unit SF'].fillna(sub['Avg_Unit_SF'], inplace=True)\n",
    "sub[['Avg Unit SF', 'Avg_Unit_SF']].count()"
   ]
  },
  {
   "cell_type": "code",
   "execution_count": null,
   "metadata": {},
   "outputs": [],
   "source": [
    "# Check % mismatch in original Avg Unit SF and calculated Avg Unit SF fields\n",
    "print(\"Percentage of rows where calculated Avg Unit SF doesn't match original Avg Unit SF:\", \n",
    "      sub[abs(sub['Avg Unit SF']-sub['Avg_Unit_SF'])>10].shape[0]/sub.shape[0])"
   ]
  },
  {
   "cell_type": "markdown",
   "metadata": {},
   "source": [
    "### 1.8 Define functions to fill missing value with mean or median\n",
    "The functions can be used at different region level (zip code, city, county, market)"
   ]
  },
  {
   "cell_type": "code",
   "execution_count": null,
   "metadata": {},
   "outputs": [],
   "source": [
    "def fill_mean(var, level):\n",
    "    sub[var] = sub[[level, var]].groupby(level).transform(lambda x: x.fillna(x.mean()))\n",
    "\n",
    "def fill_median(var, level):\n",
    "    sub[var] = sub[[level, var]].groupby(level).transform(lambda x: x.fillna(x.median()))"
   ]
  },
  {
   "cell_type": "markdown",
   "metadata": {},
   "source": [
    "### 1.9 Fill 'Closest Transit Stop Dist (mi)' missing values\n",
    "- Fill with regional mean\n",
    "- Manually calculate the remaining missing values"
   ]
  },
  {
   "cell_type": "code",
   "execution_count": null,
   "metadata": {},
   "outputs": [],
   "source": [
    "# Check descriptive statistics of Closest Transit Stop Dist (mi)\n",
    "sub['Closest Transit Stop Dist (mi)'].describe() # mean close to median"
   ]
  },
  {
   "cell_type": "code",
   "execution_count": null,
   "metadata": {},
   "outputs": [],
   "source": [
    "# Fill missing values\n",
    "var = 'Closest Transit Stop Dist (mi)'\n",
    "for level in levels:\n",
    "    fill_mean(var, level)\n",
    "sub['Closest Transit Stop Dist (mi)'].count()"
   ]
  },
  {
   "cell_type": "markdown",
   "metadata": {},
   "source": [
    "Manually find the closest transit and calculate distance."
   ]
  },
  {
   "cell_type": "code",
   "execution_count": null,
   "metadata": {},
   "outputs": [],
   "source": [
    "# Find the Market Names where no closest transit stops are assigned\n",
    "# Go back to the original dataset to find the closest transit stops for those markets\n",
    "question_markets = sub[sub['Closest Transit Stop Dist (mi)'].isnull()]['Market Name'].unique().tolist()\n",
    "data[data['Market Name'].isin(question_markets)][['Market Name', 'Closest Transit Stop']].drop_duplicates()"
   ]
  },
  {
   "cell_type": "markdown",
   "metadata": {},
   "source": [
    "Use Palm Beach International as 'Closest Transit Stop' for Port St Lucie/Fort Pierce and Gainesville Regional for Ocala. Calculate 'Closest Transit Stop Dist (mi)'."
   ]
  },
  {
   "cell_type": "code",
   "execution_count": null,
   "metadata": {},
   "outputs": [],
   "source": [
    "# Define a function using Latitude and Longitude information to calculate the distances manually\n",
    "\n",
    "# http://www.lat-long.com/Latitude-Longitude-309962-Florida-Palm_Beach_International_Airport.html\n",
    "PalmBeach = (26.683399, -80.095320) # lat, lon\n",
    "# https://www.prokerala.com/travel/airports/united-states-of-america/gainesville-regional-airport.html\n",
    "Gainesville = (29.686, -82.2768)\n",
    "\n",
    "def calculate_distance(p1, p2):\n",
    "    lat1 = p1[0]\n",
    "    lat0 = p2[0]\n",
    "    lon1 = p1[1]\n",
    "    lon0 = p2[1]\n",
    "\n",
    "    # calculation: https://stackoverflow.com/questions/28994289/calculate-euclidean-distance-with-google-maps-coordinates\n",
    "    deglen = 69 #mile\n",
    "    x = lat1 - lat0\n",
    "    yy = lon1 - lon0\n",
    "    y = (yy) * math.cos(lat0)\n",
    "    dist = deglen * math.sqrt(x*x + y*y)\n",
    "    return dist"
   ]
  },
  {
   "cell_type": "code",
   "execution_count": null,
   "metadata": {},
   "outputs": [],
   "source": [
    "# Apply the distance function to fill missing values\n",
    "sub.loc[sub['Closest Transit Stop Dist (mi)'].isnull(),'Closest Transit Stop Dist (mi)']\\\n",
    "= sub.loc[sub['Closest Transit Stop Dist (mi)'].isnull(),\n",
    "          ['Closest Transit Stop Dist (mi)', 'Market Name', 'Latitude', 'Longitude']].\\\n",
    "apply(lambda x: x[0] if np.isnan(x[0])==False else\\\n",
    "      (calculate_distance((x[2],x[3]), PalmBeach) if x[1]=='Port St Lucie/Fort Pierce'\\\n",
    "       else calculate_distance((x[2],x[3]), Gainesville)), axis=1)\n",
    "sub['Closest Transit Stop Dist (mi)'].count()"
   ]
  },
  {
   "cell_type": "markdown",
   "metadata": {},
   "source": [
    "### 1.10 Fix Land Area (AC) wrong entry, fill missing values with regional median"
   ]
  },
  {
   "cell_type": "code",
   "execution_count": null,
   "metadata": {},
   "outputs": [],
   "source": [
    "# Check descriptive statistics for Land Area (AC)\n",
    "sub['Land Area (AC)'].describe() # extremely large value!!! use median due to presence of outlier"
   ]
  },
  {
   "cell_type": "markdown",
   "metadata": {},
   "source": [
    "45318 acres of land area for a rental property is extremely unusual. Resaonable guess would be that it should be square feet instead of acres. "
   ]
  },
  {
   "cell_type": "code",
   "execution_count": null,
   "metadata": {},
   "outputs": [],
   "source": [
    "# Update wrong entry\n",
    "acre_to_sf = 43560\n",
    "sub.loc[sub['Land Area (AC)']==45318, 'Land Area (AC)'] = 45318/acre_to_sf"
   ]
  },
  {
   "cell_type": "code",
   "execution_count": null,
   "metadata": {},
   "outputs": [],
   "source": [
    "# Check land Area extreme values\n",
    "sub['Land Area (AC)'].sort_values(ascending=False).head(10)"
   ]
  },
  {
   "cell_type": "code",
   "execution_count": null,
   "metadata": {},
   "outputs": [],
   "source": [
    "# Check 99 percentile for Land Area\n",
    "sub['Land Area (AC)'].quantile(0.99)"
   ]
  },
  {
   "cell_type": "code",
   "execution_count": null,
   "metadata": {},
   "outputs": [],
   "source": [
    "sub['Land Area (AC)'].describe()"
   ]
  },
  {
   "cell_type": "markdown",
   "metadata": {},
   "source": [
    "Too many outliers, very likely to mess up the model, should be excluded."
   ]
  },
  {
   "cell_type": "code",
   "execution_count": null,
   "metadata": {},
   "outputs": [],
   "source": [
    "# Fill missing values with regional median\n",
    "var = 'Land Area (AC)'\n",
    "for level in levels:\n",
    "    fill_median(var, level)\n",
    "sub['Land Area (AC)'].count()"
   ]
  },
  {
   "cell_type": "markdown",
   "metadata": {},
   "source": [
    "### 1.11 Fill Number Of Stories missing values\n",
    "- Fill with building style median\n",
    "- Drop the rows where both number of stories and building style are missing"
   ]
  },
  {
   "cell_type": "code",
   "execution_count": null,
   "metadata": {
    "scrolled": true
   },
   "outputs": [],
   "source": [
    "# Check descriptive statistics for Number of Stories\n",
    "sub['Number Of Stories'].describe() # mean and median are close"
   ]
  },
  {
   "cell_type": "code",
   "execution_count": null,
   "metadata": {},
   "outputs": [],
   "source": [
    "# Find building style associated to those properties missing values in Number of Stories\n",
    "ref = sub[sub['Number Of Stories'].isnull()]['Style']\n",
    "ref.head()"
   ]
  },
  {
   "cell_type": "code",
   "execution_count": null,
   "metadata": {},
   "outputs": [],
   "source": [
    "# Calculate median number of stories for each style\n",
    "style_story = sub[['Number Of Stories','Style']].groupby('Style').median()"
   ]
  },
  {
   "cell_type": "code",
   "execution_count": null,
   "metadata": {},
   "outputs": [],
   "source": [
    "# Fill missing values with style median\n",
    "for ind in ref.index:\n",
    "    style = sub.loc[ind, 'Style']\n",
    "    if style in style_story.index:\n",
    "        sub.loc[ind, 'Number Of Stories'] = style_story.loc[style]['Number Of Stories']\n",
    "sub['Number Of Stories'].count()"
   ]
  },
  {
   "cell_type": "markdown",
   "metadata": {},
   "source": [
    "Drop the remaining 5 rows with missing Number Of Stories value because filling it with region mean or median doesn't make sense."
   ]
  },
  {
   "cell_type": "code",
   "execution_count": null,
   "metadata": {},
   "outputs": [],
   "source": [
    "# Drop rows with no building style information\n",
    "row_initial = sub.shape[0]\n",
    "sub = sub[sub['Number Of Stories'].notnull()].copy()\n",
    "print('Records dropped:', row_initial - sub.shape[0])\n",
    "print('Current size:', sub.shape)"
   ]
  },
  {
   "cell_type": "markdown",
   "metadata": {},
   "source": [
    "### 1.12 Fill Year Built missing values with regional median"
   ]
  },
  {
   "cell_type": "code",
   "execution_count": null,
   "metadata": {},
   "outputs": [],
   "source": [
    "# Check descriptive statistics Year Built\n",
    "sub['Year Built'].describe()"
   ]
  },
  {
   "cell_type": "code",
   "execution_count": null,
   "metadata": {},
   "outputs": [],
   "source": [
    "# Fill missing values with median\n",
    "var = 'Year Built'\n",
    "for level in levels:\n",
    "    fill_median(var, level)\n",
    "sub['Year Built'].count()"
   ]
  },
  {
   "cell_type": "markdown",
   "metadata": {},
   "source": [
    "### 1.13 Fill Year Renovated missing values with Year Built"
   ]
  },
  {
   "cell_type": "code",
   "execution_count": null,
   "metadata": {},
   "outputs": [],
   "source": [
    "# Check Year Renovated non null values\n",
    "sub['Year Renovated'].count()"
   ]
  },
  {
   "cell_type": "code",
   "execution_count": null,
   "metadata": {},
   "outputs": [],
   "source": [
    "# Replace Year Renovated missing values with Year Built\n",
    "sub['Year Renovated'] = sub['Year Renovated'].fillna(sub['Year Built'])\n",
    "sub['Year Renovated'].count()"
   ]
  },
  {
   "cell_type": "markdown",
   "metadata": {},
   "source": [
    "### 1.14 Fill Average Age missing values with regional mean"
   ]
  },
  {
   "cell_type": "code",
   "execution_count": null,
   "metadata": {},
   "outputs": [],
   "source": [
    "# Check description of 2019 Averge Age (1m) - 0 are missing values, fill with mean\n",
    "sub['2019 Avg Age(1m)'].describe()"
   ]
  },
  {
   "cell_type": "code",
   "execution_count": null,
   "metadata": {},
   "outputs": [],
   "source": [
    "# Find number of rows with missing Average age value\n",
    "sub[sub['2019 Avg Age(1m)']==0].shape"
   ]
  },
  {
   "cell_type": "code",
   "execution_count": null,
   "metadata": {},
   "outputs": [],
   "source": [
    "# Fill missing values with regional mean\n",
    "sub['2019 Avg Age(1m)'].replace(0, np.nan, inplace=True)\n",
    "\n",
    "var = '2019 Avg Age(1m)'\n",
    "for level in levels:\n",
    "    fill_mean(var, level)\n",
    "    \n",
    "sub['2019 Avg Age(1m)'].describe()"
   ]
  },
  {
   "cell_type": "markdown",
   "metadata": {},
   "source": [
    "### 1.15 Calculate regional population\n",
    "- Calculate total population within 1 mile\n",
    "- 59 missing values (0), fill with median (right skewed distribution)"
   ]
  },
  {
   "cell_type": "code",
   "execution_count": null,
   "metadata": {},
   "outputs": [],
   "source": [
    "# Check non null values for population variables\n",
    "sub[['2019 Pop Age <19(1m)', '2019 Pop Age 20-64(1m)','2019 Pop Age 65+(1m)']].count()"
   ]
  },
  {
   "cell_type": "code",
   "execution_count": null,
   "metadata": {},
   "outputs": [],
   "source": [
    "# Calculate total population and check descriptive statistics\n",
    "sub['2019 Pop Tot'] = sub[['2019 Pop Age <19(1m)', '2019 Pop Age 20-64(1m)','2019 Pop Age 65+(1m)']].sum(axis=1)\n",
    "sub['2019 Pop Tot'].describe() "
   ]
  },
  {
   "cell_type": "code",
   "execution_count": null,
   "metadata": {},
   "outputs": [],
   "source": [
    "# Checking number of rows where total population is 0 (missing values)\n",
    "sub[sub['2019 Pop Tot']==0].shape"
   ]
  },
  {
   "cell_type": "code",
   "execution_count": null,
   "metadata": {},
   "outputs": [],
   "source": [
    "# Fill missing values with regional median\n",
    "sub['2019 Pop Tot'].replace(0, np.nan, inplace=True)\n",
    "\n",
    "var = '2019 Pop Tot'\n",
    "for level in levels:\n",
    "    fill_median(var, level)\n",
    "    \n",
    "sub['2019 Pop Tot'].describe()"
   ]
  },
  {
   "cell_type": "markdown",
   "metadata": {},
   "source": [
    "Some area has very few people (9). Since it's 1 mile radius, can be true."
   ]
  },
  {
   "cell_type": "markdown",
   "metadata": {},
   "source": [
    "# 2. External Data"
   ]
  },
  {
   "cell_type": "markdown",
   "metadata": {},
   "source": [
    "### 2.1 Import Income, marriage % and male/female variables"
   ]
  },
  {
   "cell_type": "code",
   "execution_count": null,
   "metadata": {},
   "outputs": [],
   "source": [
    "# Import demographic data\n",
    "demo = pd.read_csv('income_marriage.csv')"
   ]
  },
  {
   "cell_type": "code",
   "execution_count": null,
   "metadata": {},
   "outputs": [],
   "source": [
    "demo.head()"
   ]
  },
  {
   "cell_type": "code",
   "execution_count": null,
   "metadata": {},
   "outputs": [],
   "source": [
    "demo.shape"
   ]
  },
  {
   "cell_type": "code",
   "execution_count": null,
   "metadata": {},
   "outputs": [],
   "source": [
    "# Convert Zip to int type in both demo and sub\n",
    "demo['Zip5'] = demo['Zip5'].astype(int)\n",
    "sub['Zip5'] = sub['Zip5'].astype(int)"
   ]
  },
  {
   "cell_type": "code",
   "execution_count": null,
   "metadata": {},
   "outputs": [],
   "source": [
    "sub.shape"
   ]
  },
  {
   "cell_type": "code",
   "execution_count": null,
   "metadata": {},
   "outputs": [],
   "source": [
    "# Merge demographic data into property dataset\n",
    "sub = sub.merge(demo, how='left')\n",
    "sub.shape"
   ]
  },
  {
   "cell_type": "code",
   "execution_count": null,
   "metadata": {},
   "outputs": [],
   "source": [
    "# Check descriptive statistics and look for missing values\n",
    "sub[['MedanHHIncome(000)','married %','male/female']].describe()"
   ]
  },
  {
   "cell_type": "markdown",
   "metadata": {},
   "source": [
    "12 missing values in MedanHHIncome(000), 8 missing values in married % and male/female each."
   ]
  },
  {
   "cell_type": "code",
   "execution_count": null,
   "metadata": {},
   "outputs": [],
   "source": [
    "# Fill missing values with county mean/median\n",
    "fill_median('MedanHHIncome(000)', 'County Name')\n",
    "fill_mean('married %', 'County Name')\n",
    "fill_mean('male/female', 'County Name')"
   ]
  },
  {
   "cell_type": "code",
   "execution_count": null,
   "metadata": {},
   "outputs": [],
   "source": [
    "# Check if no missing values\n",
    "sub[['MedanHHIncome(000)','married %','male/female']].count()"
   ]
  },
  {
   "cell_type": "markdown",
   "metadata": {},
   "source": [
    "### 2.2 Import Per Capita Deposit/Saving variable"
   ]
  },
  {
   "cell_type": "code",
   "execution_count": null,
   "metadata": {},
   "outputs": [],
   "source": [
    "# Import Per Capita Deposit data\n",
    "deposit = pd.read_csv('per_capita_deposit.csv')"
   ]
  },
  {
   "cell_type": "code",
   "execution_count": null,
   "metadata": {},
   "outputs": [],
   "source": [
    "deposit.head()"
   ]
  },
  {
   "cell_type": "code",
   "execution_count": null,
   "metadata": {},
   "outputs": [],
   "source": [
    "# Check descriptive statistics\n",
    "print(deposit.shape)\n",
    "deposit.describe()"
   ]
  },
  {
   "cell_type": "code",
   "execution_count": null,
   "metadata": {},
   "outputs": [],
   "source": [
    "# Fix county name that are named differently\n",
    "deposit.rename(columns={'County':'County Name'}, inplace=True)\n",
    "deposit['County Name'] = deposit['County Name'].str.replace('Miami-Dade', 'Miami/Dade')\n",
    "deposit['County Name'] = deposit['County Name'].str.replace('St. Lucie', 'St Lucie')\n",
    "deposit['County Name'] = deposit['County Name'].str.replace('McLennan', 'Mclennan')"
   ]
  },
  {
   "cell_type": "code",
   "execution_count": null,
   "metadata": {},
   "outputs": [],
   "source": [
    "# Merge deposit information into property dataset\n",
    "sub = sub.merge(deposit[['State', 'County Name', 'Deposit (000s) Per Capita']], \n",
    "                on=['State', 'County Name',], how='left')\n",
    "sub.shape"
   ]
  },
  {
   "cell_type": "code",
   "execution_count": null,
   "metadata": {},
   "outputs": [],
   "source": [
    "# Check descriptive statistics after merging\n",
    "sub['Deposit (000s) Per Capita'].describe()"
   ]
  },
  {
   "cell_type": "markdown",
   "metadata": {},
   "source": [
    "The geographic area that the property dataset covers in general has higher per capita saving than the four state average."
   ]
  },
  {
   "cell_type": "markdown",
   "metadata": {},
   "source": [
    "# 3. Feature Engineering"
   ]
  },
  {
   "cell_type": "markdown",
   "metadata": {},
   "source": [
    "### 3.1 Create Floor Area Ratio variable"
   ]
  },
  {
   "cell_type": "code",
   "execution_count": null,
   "metadata": {},
   "outputs": [],
   "source": [
    "# Check descriptive statistics for RBA - Rentable Building Area\n",
    "sub['RBA'].describe()"
   ]
  },
  {
   "cell_type": "code",
   "execution_count": null,
   "metadata": {},
   "outputs": [],
   "source": [
    "# Calculate Floor Area Ratio\n",
    "acre_to_sf = 43560\n",
    "sub['Floor Area Ratio'] = sub['RBA']/(sub['Land Area (AC)']*acre_to_sf)\n",
    "sub['Floor Area Ratio'].describe()"
   ]
  },
  {
   "cell_type": "markdown",
   "metadata": {},
   "source": [
    "### 3.2 Create Supply variables\n",
    "- Calculate number of units under same zip code\n",
    "- Calculate number of vacant units under same zip code"
   ]
  },
  {
   "cell_type": "code",
   "execution_count": null,
   "metadata": {},
   "outputs": [],
   "source": [
    "sub['Supply_all'] = sub[['Number Of Units', 'Zip5']].groupby('Zip5').\\\n",
    "                    transform(lambda x: x.sum())\n",
    "sub['Supply_vacant'] = sub[['#_Vacant_Units', 'Zip5']].groupby('Zip5').\\\n",
    "                       transform(lambda x: x.sum())"
   ]
  },
  {
   "cell_type": "markdown",
   "metadata": {},
   "source": [
    "Extreme outliers exit, should be excluded."
   ]
  },
  {
   "cell_type": "markdown",
   "metadata": {},
   "source": [
    "### 3.3 Create Owner Type, Encode\n",
    "- Large owner: manages >=50 properties\n",
    "- Medium owner: manages [10,50) properties\n",
    "- Small owner: manages <10 properties or unspecified owner\n",
    "- One hot encode Owner Type"
   ]
  },
  {
   "cell_type": "code",
   "execution_count": null,
   "metadata": {},
   "outputs": [],
   "source": [
    "sub['Owner Name'].nunique()"
   ]
  },
  {
   "cell_type": "code",
   "execution_count": null,
   "metadata": {},
   "outputs": [],
   "source": [
    "# Create a datafame to store property count for each owner\n",
    "owner = sub['Owner Name'].value_counts().reset_index(name='count')"
   ]
  },
  {
   "cell_type": "code",
   "execution_count": null,
   "metadata": {},
   "outputs": [],
   "source": [
    "print('large owner:', owner[owner['count']>=50].shape[0])\n",
    "print('medium owner:', owner[(owner['count']>=10) & (owner['count']<50)].shape[0])\n",
    "print('small owner:', owner[owner['count']<10].shape[0])"
   ]
  },
  {
   "cell_type": "code",
   "execution_count": null,
   "metadata": {},
   "outputs": [],
   "source": [
    "# Create owner lists by owner type\n",
    "large_owner = owner[owner['count']>=50]['index'].tolist()\n",
    "medium_owner = owner[(owner['count']>=10) & (owner['count']<50)]['index'].tolist()\n",
    "small_owner = owner[owner['count']<10]['index'].tolist()"
   ]
  },
  {
   "cell_type": "code",
   "execution_count": null,
   "metadata": {},
   "outputs": [],
   "source": [
    "# Assign owner type to each property\n",
    "# those who are missing owner info considered as small owner\n",
    "sub['Owner Type'] = sub['Owner Name'].apply(lambda x: 'large' if x in large_owner else(\n",
    "                                        'medium' if x in medium_owner else 'small'))"
   ]
  },
  {
   "cell_type": "code",
   "execution_count": null,
   "metadata": {},
   "outputs": [],
   "source": [
    "# Owner Type summary\n",
    "sub[['Owner Type', 'Avg Effective/SF']].groupby('Owner Type').mean().reset_index().\\\n",
    "merge(pd.DataFrame(sub['Owner Type'].value_counts().reset_index()).\\\n",
    "rename(columns={'index':'Owner Type', 'Owner Type':'Count'}))"
   ]
  },
  {
   "cell_type": "code",
   "execution_count": null,
   "metadata": {},
   "outputs": [],
   "source": [
    "# CreatE dummy variables\n",
    "for otype in sub['Owner Type'].unique():\n",
    "    sub['Owner Type_{}'.format(otype)] = sub['Owner Type'].apply(lambda x: 1 if x==otype else 0)"
   ]
  },
  {
   "cell_type": "markdown",
   "metadata": {},
   "source": [
    "### 3.4 Affordable Housing Encoding\n",
    "- Combine Rent Stabilized and Rent Controlled into Rent Restricted, label non-affordable properties as Market\n",
    "- One hot encode Affordable Type"
   ]
  },
  {
   "cell_type": "code",
   "execution_count": null,
   "metadata": {},
   "outputs": [],
   "source": [
    "sub['Rent Type'].count()"
   ]
  },
  {
   "cell_type": "code",
   "execution_count": null,
   "metadata": {},
   "outputs": [],
   "source": [
    "sub['Affordable Type'].value_counts()"
   ]
  },
  {
   "cell_type": "code",
   "execution_count": null,
   "metadata": {},
   "outputs": [],
   "source": [
    "# Combining Rent Stabilized and Controlled as Rent Restricted and fill NULL values as Market\n",
    "sub['Affordable Type*'] = sub['Affordable Type'].fillna('Market')\n",
    "sub['Affordable Type*'] = sub['Affordable Type*'].map({'Rent Stabilized':'Rent Restricted',\n",
    "                                                       'Rent Controlled':'Rent Restricted',\n",
    "                                                       'Rent Restricted':'Rent Restricted',\n",
    "                                                       'Market':'Market',\n",
    "                                                       'Rent Subsidized':'Rent Subsidized',\n",
    "                                                       'Affordable Units':'Affordable Units'})"
   ]
  },
  {
   "cell_type": "code",
   "execution_count": null,
   "metadata": {},
   "outputs": [],
   "source": [
    "# Affordable Type Summary\n",
    "sub[['Affordable Type*', 'Avg Effective/SF']].groupby('Affordable Type*').mean().reset_index().\\\n",
    "merge(pd.DataFrame(sub['Affordable Type*'].value_counts().reset_index()).\\\n",
    "rename(columns={'index':'Affordable Type*', 'Affordable Type*':'Count'})).\\\n",
    "sort_values('Avg Effective/SF', ascending=False)"
   ]
  },
  {
   "cell_type": "code",
   "execution_count": null,
   "metadata": {},
   "outputs": [],
   "source": [
    "# Create Dummy Variables\n",
    "for atype in sub['Affordable Type*'].unique():\n",
    "    sub['Affordable Type_{}'.format(atype)] = sub['Affordable Type*'].apply(lambda x: 1 if x==atype else 0)"
   ]
  },
  {
   "cell_type": "markdown",
   "metadata": {},
   "source": [
    "### 3.5 State and City Encoding\n",
    "- One hot encode State\n",
    "- Group cities with <= 100 properties in it into Other by state, resulting in 23 city groups\n",
    "- One hot encode City"
   ]
  },
  {
   "cell_type": "code",
   "execution_count": null,
   "metadata": {},
   "outputs": [],
   "source": [
    "# State summary\n",
    "sub[['State', 'Avg Effective/SF']].groupby('State').mean().reset_index().\\\n",
    "merge(pd.DataFrame(sub['State'].value_counts().reset_index()).\\\n",
    "rename(columns={'index':'State', 'State':'Count'})).\\\n",
    "sort_values('Avg Effective/SF', ascending=False)"
   ]
  },
  {
   "cell_type": "code",
   "execution_count": null,
   "metadata": {},
   "outputs": [],
   "source": [
    "# Create Dummy Variables for state\n",
    "for stype in sub['State'].unique():\n",
    "    sub['State_{}'.format(stype)] = sub['State'].apply(lambda x: 1 if x==stype else 0)"
   ]
  },
  {
   "cell_type": "code",
   "execution_count": null,
   "metadata": {},
   "outputs": [],
   "source": [
    "sub['City'].nunique()"
   ]
  },
  {
   "cell_type": "code",
   "execution_count": null,
   "metadata": {},
   "outputs": [],
   "source": [
    "# Check number of cities with more than 100 properties\n",
    "city = sub['City'].value_counts().reset_index()\n",
    "city.columns = ['City', 'Count']\n",
    "city[city['Count']>100].shape"
   ]
  },
  {
   "cell_type": "code",
   "execution_count": null,
   "metadata": {},
   "outputs": [],
   "source": [
    "# Cities with less than 10 properties\n",
    "print('{}% cities have less than 10 properties in it'.\\\n",
    "      format(round(city[city['Count']<10].shape[0]/sub['City'].nunique()*100,1)))"
   ]
  },
  {
   "cell_type": "code",
   "execution_count": null,
   "metadata": {},
   "outputs": [],
   "source": [
    "# Combine cities with fewer than 100 properties for each state\n",
    "large_city = city[city['Count']>100]['City'].unique()\n",
    "sub['City*'] = sub[['City','State']].apply(lambda x: x[0] if x[0] in large_city\\\n",
    "                                          else '{} Other'.format(x[1]), axis=1)"
   ]
  },
  {
   "cell_type": "code",
   "execution_count": null,
   "metadata": {},
   "outputs": [],
   "source": [
    "sub['City*'].nunique()"
   ]
  },
  {
   "cell_type": "code",
   "execution_count": null,
   "metadata": {},
   "outputs": [],
   "source": [
    "# Check if the smallest cities have enough property count\n",
    "sub['City*'].value_counts().tail()"
   ]
  },
  {
   "cell_type": "code",
   "execution_count": null,
   "metadata": {},
   "outputs": [],
   "source": [
    "# Create dummy variables for cities\n",
    "for ctype in sub['City*'].unique():\n",
    "    sub['City_{}'.format(ctype)] = sub['City*'].apply(lambda x: 1 if x==ctype else 0)"
   ]
  },
  {
   "cell_type": "markdown",
   "metadata": {},
   "source": [
    "### 3.6 Construction Material\n",
    "- Combine Steel and Metal into Steel or Metal\n",
    "- One hot encode Construction Material"
   ]
  },
  {
   "cell_type": "code",
   "execution_count": null,
   "metadata": {},
   "outputs": [],
   "source": [
    "sub['Construction Material'].value_counts()"
   ]
  },
  {
   "cell_type": "code",
   "execution_count": null,
   "metadata": {},
   "outputs": [],
   "source": [
    "# Combine Steel and Metal\n",
    "sub['Construction Material*'] = sub['Construction Material'].map({'Wood Frame':'Wood Frame',\n",
    "                                                                    'Masonry':'Masonry',\n",
    "                                                                    'Reinforced Concrete':'Reinforced Concrete',\n",
    "                                                                    'Steel':'Steel or Metal',\n",
    "                                                                    'Metal':'Steel or Metal'})"
   ]
  },
  {
   "cell_type": "code",
   "execution_count": null,
   "metadata": {},
   "outputs": [],
   "source": [
    "# Construction Material summary\n",
    "sub[['Construction Material*', 'Avg Effective/SF']].groupby('Construction Material*').mean().reset_index().\\\n",
    "merge(pd.DataFrame(sub['Construction Material*'].value_counts().reset_index()).\\\n",
    "rename(columns={'index':'Construction Material*', 'Construction Material*':'Count'})).\\\n",
    "sort_values('Avg Effective/SF', ascending=False)"
   ]
  },
  {
   "cell_type": "code",
   "execution_count": null,
   "metadata": {},
   "outputs": [],
   "source": [
    "# Create dummy variables for construction material\n",
    "for material in sub['Construction Material*'].unique():\n",
    "    sub['Construction Material_{}'.format(material)] = \\\n",
    "    sub['Construction Material*'].apply(lambda x: 1 if x==material else 0)"
   ]
  },
  {
   "cell_type": "markdown",
   "metadata": {},
   "source": [
    "### 3.7 Amenities w/o grouping"
   ]
  },
  {
   "cell_type": "code",
   "execution_count": null,
   "metadata": {},
   "outputs": [],
   "source": [
    "# Parse all amenities\n",
    "amenities = {}\n",
    "all_amenities = sub['Amenities'].str.split(', ').tolist()\n",
    "for row in all_amenities:\n",
    "    #print(row)\n",
    "    for item in row:\n",
    "        #print(item)\n",
    "        if item not in amenities.keys():\n",
    "            amenities[item] = 1\n",
    "        else:\n",
    "            amenities[item] += 1\n",
    "len(amenities)"
   ]
  },
  {
   "cell_type": "code",
   "execution_count": null,
   "metadata": {},
   "outputs": [],
   "source": [
    "# Calculate rent with or without a given amenity\n",
    "amenity_vs_rent = pd.DataFrame()\n",
    "\n",
    "for amenity in amenities:\n",
    "    yes = sub[sub['Amenities'].str.contains(amenity)]['Avg Effective/SF'].mean()\n",
    "    no = sub[-sub['Amenities'].str.contains(amenity)]['Avg Effective/SF'].mean()\n",
    "    count = sub[sub['Amenities'].str.contains(amenity)]['Avg Effective/SF'].count()\n",
    "    amenity_vs_rent = amenity_vs_rent.append(pd.DataFrame([amenity,count,yes,no,yes-no]).T,\n",
    "                                             ignore_index=True)\n",
    "\n",
    "amenity_vs_rent.columns = ['amenity','count','yes', 'no', 'diff']\n",
    "amenity_vs_rent = amenity_vs_rent.sort_values('diff')\n",
    "amenity_vs_rent.tail()"
   ]
  },
  {
   "cell_type": "code",
   "execution_count": null,
   "metadata": {},
   "outputs": [],
   "source": [
    "# Top 15 most popular amenities\n",
    "amenity_vs_rent.sort_values('count', ascending=False).head(15)"
   ]
  },
  {
   "cell_type": "code",
   "execution_count": null,
   "metadata": {},
   "outputs": [],
   "source": [
    "# Plotting rent difference with vs without amenities\n",
    "test = amenity_vs_rent[amenity_vs_rent['amenity']!='Study Lounge']\n",
    "xticklabel = test[['amenity','count']].apply(lambda x: x[0]+' '+str(x[1]), axis=1)\n",
    "\n",
    "plt.figure(figsize=(20,10))\n",
    "plt.bar(np.arange(test.shape[0]),\n",
    "        test['diff'])\n",
    "plt.xticks(np.arange(test.shape[0]),\n",
    "           xticklabel,\n",
    "           rotation=90)\n",
    "plt.yticks(rotation=90)\n",
    "plt.axhline(sub['Avg Effective/SF'].std(),\n",
    "            color='red',\n",
    "            linestyle='--')\n",
    "plt.annotate('Average\\nEffective Rent/SF\\nStd', \n",
    "             (0,0.5), fontsize=12, color='red',\n",
    "             rotation=90)\n",
    "#plt.title('Average Effective Rent/SF With vs Without Amenity', fontsize=15)\n",
    "plt.ylabel('Difference in Average Effective Rent/SF', fontsize=15)\n",
    "plt.show()"
   ]
  },
  {
   "cell_type": "markdown",
   "metadata": {},
   "source": [
    "#### Group Amenities\n",
    "- LEED Certified - Silver, LEED Certified - Gold, LEED Certified, LEED Certified - Platinum, Energy Star Labeled\n",
    "- Sports: Tennis Court, Volleyball Court, Basketball Court\n",
    "- Business: Business Center, Corporate Suites, Confere Rooms, Multi Use Room\n",
    "- Laundry: Laundry Facilities, Laundry Service\n",
    "- Spa: Spa, Sauna\n",
    "- Pet: Pet Washing Station, Pet Care, Pet Play Area\n",
    "- Wifi: Community-Wide WiFi, Wi-Fi\n",
    "\n",
    "#### + Less popular high impact amenities:\n",
    "- Roof Terrace\n",
    "- Maid Service\n",
    "- Bicycle Storage\n",
    "- Car Charging Station\t\n",
    "- On-Site Retail\n",
    "- Elevator\n",
    "\n",
    "#### + Top 15 popular amenities"
   ]
  },
  {
   "cell_type": "code",
   "execution_count": null,
   "metadata": {},
   "outputs": [],
   "source": [
    "# Total Amenities after grouping and adding popular amenities\n",
    "amen = ['LEED Certified - Silver', 'LEED Certified - Gold', 'LEED Certified', 'LEED Certified - Platinum', \n",
    "        'Energy Star Labeled',\n",
    "        # Sports\n",
    "        'Tennis Court', 'Volleyball Court', 'Basketball Court',\n",
    "        # Business\n",
    "        'Business Center', 'Corporate Suites', 'Confere Rooms', 'Multi Use Room',\n",
    "        # Laundry\n",
    "        'Laundry Facilities', 'Laundry Service',\n",
    "        # Spa\n",
    "        'Spa', 'Sauna',\n",
    "        # Pet\n",
    "        'Pet Washing Station', 'Pet Care', 'Pet Play Area',\n",
    "        # Wifi\n",
    "        'Community-Wide WiFi', 'Wi-Fi',\n",
    "        # Less popular high impact\n",
    "        'Roof Terrace', 'Maid Service', 'Bicycle Storage',\n",
    "        'Car Charging Station', 'On-Site Retail', 'Elevator']\n",
    "top_15_amenities = amenity_vs_rent.sort_values('count', ascending=False).head(15)['amenity'].tolist()\n",
    "\n",
    "for amenity in top_15_amenities:\n",
    "    if amenity not in amen:\n",
    "        amen.append(amenity)\n",
    "\n",
    "len(amen)"
   ]
  },
  {
   "cell_type": "code",
   "execution_count": null,
   "metadata": {},
   "outputs": [],
   "source": [
    "# One hot encode selected amenites\n",
    "# Group encoded amenities and discard original ones\n",
    "for amenity in amen:\n",
    "    sub['Amenity_{}'.format(amenity)] = sub['Amenities'].apply(lambda x: 1 if amenity in x.split(', ') else 0)\n",
    "\n",
    "sub['Amenity_LEED/Energy Star'] = sub[['Amenity_LEED Certified - Silver', \n",
    "                                       'Amenity_LEED Certified - Gold', \n",
    "                                       'Amenity_LEED Certified', \n",
    "                                       'Amenity_LEED Certified - Platinum', \n",
    "                                       'Amenity_Energy Star Labeled']].max(axis=1)\n",
    "sub['Amenity_Sports'] = sub[['Amenity_Tennis Court', \n",
    "                             'Amenity_Volleyball Court', \n",
    "                             'Amenity_Basketball Court']].max(axis=1)\n",
    "sub['Amenity_Business'] = sub[['Amenity_Business Center', \n",
    "                               'Amenity_Corporate Suites', \n",
    "                               'Amenity_Confere Rooms', \n",
    "                               'Amenity_Multi Use Room']].max(axis=1)\n",
    "sub['Amenity_Laundry'] = sub[['Amenity_Laundry Facilities', \n",
    "                              'Amenity_Laundry Service']].max(axis=1)\n",
    "sub['Amenity_Spa/Sauna'] = sub[['Amenity_Spa', \n",
    "                                'Amenity_Sauna']].max(axis=1)\n",
    "sub['Amenity_Pet'] = sub[['Amenity_Pet Washing Station', \n",
    "                          'Amenity_Pet Care', \n",
    "                          'Amenity_Pet Play Area']].max(axis=1)\n",
    "sub['Amenity_Wifi'] = sub[['Amenity_Community-Wide WiFi', \n",
    "                           'Amenity_Wi-Fi']].max(axis=1)\n",
    "cols = ['Amenity_LEED Certified - Silver', 'Amenity_LEED Certified - Gold', 'Amenity_LEED Certified', \n",
    "        'Amenity_LEED Certified - Platinum', 'Amenity_Energy Star Labeled',\n",
    "        'Amenity_Tennis Court', 'Amenity_Volleyball Court', 'Amenity_Basketball Court',\n",
    "        'Amenity_Business Center', 'Amenity_Corporate Suites', \n",
    "        'Amenity_Confere Rooms', 'Amenity_Multi Use Room',\n",
    "        'Amenity_Laundry Facilities', 'Amenity_Laundry Service',\n",
    "        'Amenity_Spa', 'Amenity_Sauna',\n",
    "        'Amenity_Pet Washing Station', 'Amenity_Pet Care', 'Amenity_Pet Play Area',\n",
    "        'Amenity_Community-Wide WiFi', 'Amenity_Wi-Fi']\n",
    "sub.drop(columns=cols, inplace=True)"
   ]
  },
  {
   "cell_type": "code",
   "execution_count": null,
   "metadata": {},
   "outputs": [],
   "source": [
    "# Amenity vs. Avg effective/SF (when amenity is present vs. not present)\n",
    "cols = ['Amenity_Roof Terrace', 'Amenity_Maid Service', 'Amenity_Bicycle Storage',\n",
    "       'Amenity_Car Charging Station', 'Amenity_On-Site Retail', 'Amenity_Elevator',\n",
    "       'Amenity_Fitness Center', 'Amenity_Clubhouse', 'Amenity_Property Manager on Site',\n",
    "       'Amenity_Grill', 'Amenity_Playground', 'Amenity_Maintenance on site', 'Amenity_Gated',\n",
    "       'Amenity_Picnic Area', 'Amenity_Package Service', 'Amenity_Controlled Access',\n",
    "       'Amenity_Sundeck', 'Amenity_LEED/Energy Star', 'Amenity_Sports', 'Amenity_Business',\n",
    "       'Amenity_Laundry', 'Amenity_Spa/Sauna', 'Amenity_Pet', 'Amenity_Wifi']\n",
    "amenity_summary = pd.DataFrame(sub[cols].sum()).rename(columns={0:'# Properties'})\n",
    "amenity_summary['% Properties'] = amenity_summary['# Properties']/sub.shape[0]*100\n",
    "amenity_summary['% Properties'] = amenity_summary['% Properties'].apply(lambda x: round(x,1))\n",
    "for amenity in cols:\n",
    "    amenity_summary.loc[amenity, 'Avg Effective/SF w/ Amenity'] = \\\n",
    "    sub[sub[amenity]==1]['Avg Effective/SF'].mean()\n",
    "    amenity_summary.loc[amenity, 'Avg Effective/SF w/o Amenity'] = \\\n",
    "    sub[sub[amenity]==0]['Avg Effective/SF'].mean()\n",
    "amenity_summary['Avg Effective/SF Diff'] = amenity_summary['Avg Effective/SF w/ Amenity']-\\\n",
    "                                           amenity_summary['Avg Effective/SF w/o Amenity']\n",
    "amenity_summary = amenity_summary.sort_values('Avg Effective/SF Diff', ascending=False)\n",
    "amenity_summary"
   ]
  },
  {
   "cell_type": "markdown",
   "metadata": {},
   "source": [
    "# 4. Linear Regression"
   ]
  },
  {
   "cell_type": "code",
   "execution_count": null,
   "metadata": {},
   "outputs": [],
   "source": [
    "# Final list of variables considered for regression model (Base group excluded for analsysi)\n",
    "cols = ['PropertyID', 'Avg Effective/SF', \n",
    "       # Property\n",
    "       'Avg Concessions %', 'Vacancy %', 'Avg Unit SF', 'Year Built', 'Year Renovated', 'Star Rating', \n",
    "       'Number Of Units', 'RBA', 'Floor Area Ratio', 'Land Area (AC)', 'Number Of Stories', \n",
    "       '% 1-Bed', '% 2-Bed', '% 3-Bed', '% 4-Bed', \n",
    "       'Construction Material_Masonry', 'Construction Material_Reinforced Concrete',\n",
    "       'Construction Material_Steel or Metal',\n",
    "       'Owner Type_large', 'Owner Type_medium',\n",
    "       'Affordable Type_Rent Restricted', 'Affordable Type_Rent Subsidized', 'Affordable Type_Affordable Units',\n",
    "       # Location & Demographic\n",
    "       'Closest Transit Stop Dist (mi)', '2019 Avg Age(1m)', '2019 Pop Tot', \n",
    "       'MedanHHIncome(000)', 'married %', 'male/female', 'Deposit (000s) Per Capita',\n",
    "       'Supply_all', 'Supply_vacant',\n",
    "       'State_GA', 'State_FL', 'State_NC',\n",
    "       'City_Atlanta', 'City_Dallas', 'City_Tampa', 'City_Orlando', 'City_Miami',\n",
    "       'City_Jacksonville', 'City_Tallahassee', 'City_Charlotte', 'City_Durham',\n",
    "       'City_Greensboro', 'City_Raleigh', 'City_Fort Worth', 'City_San Antonio',\n",
    "       'City_Austin', 'City_Houston', 'City_Arlington', 'City_El Paso', 'City_Irving', 'City_Plano',\n",
    "       # Amenities\n",
    "       'Amenity_Roof Terrace', 'Amenity_Maid Service', 'Amenity_Bicycle Storage',\n",
    "       'Amenity_Car Charging Station', 'Amenity_On-Site Retail', 'Amenity_Elevator',\n",
    "       'Amenity_Fitness Center', 'Amenity_Clubhouse', 'Amenity_Property Manager on Site',\n",
    "       'Amenity_Grill', 'Amenity_Playground', 'Amenity_Maintenance on site', 'Amenity_Gated',\n",
    "       'Amenity_Picnic Area', 'Amenity_Package Service', 'Amenity_Controlled Access',\n",
    "       'Amenity_Sundeck', 'Amenity_LEED/Energy Star', 'Amenity_Sports', 'Amenity_Business',\n",
    "       'Amenity_Laundry', 'Amenity_Spa/Sauna', 'Amenity_Pet', 'Amenity_Wifi']\n",
    "final_onehot = sub[cols].copy()\n",
    "final_onehot = final_onehot.fillna(0)\n",
    "final_onehot.shape"
   ]
  },
  {
   "cell_type": "markdown",
   "metadata": {},
   "source": [
    "### 4.1 Export for JMP"
   ]
  },
  {
   "cell_type": "code",
   "execution_count": null,
   "metadata": {},
   "outputs": [],
   "source": [
    "final_onehot.to_csv('final_onehot_1125.csv', index=False)"
   ]
  },
  {
   "cell_type": "markdown",
   "metadata": {},
   "source": [
    "### 4.2 Statsmodels\n",
    "- The result matches JMP result\n",
    "- Further variable and outlier exclusions are done in JMP"
   ]
  },
  {
   "cell_type": "code",
   "execution_count": null,
   "metadata": {},
   "outputs": [],
   "source": [
    "test = final_onehot.copy()"
   ]
  },
  {
   "cell_type": "code",
   "execution_count": null,
   "metadata": {},
   "outputs": [],
   "source": [
    "import statsmodels.api as sm\n",
    "from statsmodels.stats.outliers_influence import variance_inflation_factor as vif\n",
    "from statsmodels.tools.tools import add_constant\n",
    "from statsmodels.stats.outliers_influence import OLSInfluence as infl"
   ]
  },
  {
   "cell_type": "markdown",
   "metadata": {},
   "source": [
    "Check VIF to ensure no severe multicolinearity."
   ]
  },
  {
   "cell_type": "code",
   "execution_count": null,
   "metadata": {},
   "outputs": [],
   "source": [
    "Xc = add_constant(test.iloc[:,2:])\n",
    "vifs = [vif(Xc.values, i) for i in range(len(Xc.columns))]\n",
    "pd.Series(data=vifs, index=Xc.columns).sort_values(ascending=False)"
   ]
  },
  {
   "cell_type": "code",
   "execution_count": null,
   "metadata": {},
   "outputs": [],
   "source": [
    "model = sm.OLS(test['Avg Effective/SF'], Xc)"
   ]
  },
  {
   "cell_type": "code",
   "execution_count": null,
   "metadata": {},
   "outputs": [],
   "source": [
    "result = model.fit()"
   ]
  },
  {
   "cell_type": "code",
   "execution_count": null,
   "metadata": {},
   "outputs": [],
   "source": [
    "print(result.summary())"
   ]
  },
  {
   "cell_type": "markdown",
   "metadata": {},
   "source": [
    "# 5. Random Forest Regressor with Scikit-Learn"
   ]
  },
  {
   "cell_type": "markdown",
   "metadata": {},
   "source": [
    "### 5.1 Exclude outliers identified from the regression model"
   ]
  },
  {
   "cell_type": "code",
   "execution_count": null,
   "metadata": {},
   "outputs": [],
   "source": [
    "jmp = pd.read_csv('final_onehot_1125_outlier_est_CI.dat')"
   ]
  },
  {
   "cell_type": "code",
   "execution_count": null,
   "metadata": {},
   "outputs": [],
   "source": [
    "jmp.shape"
   ]
  },
  {
   "cell_type": "code",
   "execution_count": null,
   "metadata": {},
   "outputs": [],
   "source": [
    "outlier = jmp[jmp['Outlier']==1]['PropertyID'].tolist()\n",
    "len(outlier)"
   ]
  },
  {
   "cell_type": "code",
   "execution_count": null,
   "metadata": {},
   "outputs": [],
   "source": [
    "cols = ['PropertyID', 'Avg Effective/SF', \n",
    "       # Property\n",
    "       'Avg Concessions %', 'Vacancy %', 'Avg Unit SF', 'Year Built', 'Year Renovated', 'Star Rating', \n",
    "       'Number Of Units', 'RBA', 'Floor Area Ratio', 'Land Area (AC)', 'Number Of Stories', \n",
    "       '% 1-Bed', '% 2-Bed', '% 3-Bed', '% 4-Bed', \n",
    "       'Construction Material*', 'Owner Type', 'Affordable Type*',\n",
    "       # Location & Demographic\n",
    "       'Closest Transit Stop Dist (mi)', '2019 Avg Age(1m)', '2019 Pop Tot',\n",
    "       'MedanHHIncome(000)', 'married %', 'male/female', 'Deposit (000s) Per Capita',\n",
    "       'Supply_all', 'Supply_vacant',\n",
    "       'State', 'City', 'County Name',\n",
    "       # Amenities\n",
    "       'Amenity_Roof Terrace', 'Amenity_Maid Service', 'Amenity_Bicycle Storage',\n",
    "       'Amenity_Car Charging Station', 'Amenity_On-Site Retail', 'Amenity_Elevator',\n",
    "       'Amenity_Fitness Center', 'Amenity_Clubhouse', 'Amenity_Property Manager on Site',\n",
    "       'Amenity_Grill', 'Amenity_Playground', 'Amenity_Maintenance on site', 'Amenity_Gated',\n",
    "       'Amenity_Picnic Area', 'Amenity_Package Service', 'Amenity_Controlled Access',\n",
    "       'Amenity_Sundeck', 'Amenity_LEED/Energy Star', 'Amenity_Sports', 'Amenity_Business',\n",
    "       'Amenity_Laundry', 'Amenity_Spa/Sauna', 'Amenity_Pet', 'Amenity_Wifi']\n",
    "sub1 = sub[-sub['PropertyID'].isin(outlier)][cols].copy()\n",
    "sub1 = sub1.fillna(0)\n",
    "sub1.shape"
   ]
  },
  {
   "cell_type": "markdown",
   "metadata": {},
   "source": [
    "### 5.2 Regroup City, County and Affordable Type\n",
    "- Make sure test subset will have enough observations in each category"
   ]
  },
  {
   "cell_type": "code",
   "execution_count": null,
   "metadata": {},
   "outputs": [],
   "source": [
    "city = sub1['City'].value_counts().reset_index()\n",
    "city.columns = ['City', 'Count']\n",
    "large_city = city[city['Count']>200]['City'].unique()\n",
    "sub1['City**'] = sub1[['City','State']].apply(lambda x: x[0] if x[0] in large_city\\\n",
    "                                          else '{} Other'.format(x[1]), axis=1)\n",
    "print('# City:', sub1['City**'].nunique())\n",
    "print('Smallest city bin:', sub1['City**'].value_counts().tail(1))"
   ]
  },
  {
   "cell_type": "code",
   "execution_count": null,
   "metadata": {},
   "outputs": [],
   "source": [
    "county = sub1['County Name'].value_counts().reset_index()\n",
    "county.columns = ['County', 'Count']\n",
    "large_county = county[county['Count']>200]['County'].unique()\n",
    "sub1['County**'] = sub1[['County Name','State']].apply(lambda x: x[0] if x[0] in large_county\\\n",
    "                                          else '{} Other'.format(x[1]), axis=1)\n",
    "print('# County:', sub1['County**'].nunique())\n",
    "print('Smallest county bin:', sub1['County**'].value_counts().tail(1))"
   ]
  },
  {
   "cell_type": "code",
   "execution_count": null,
   "metadata": {},
   "outputs": [],
   "source": [
    "sub1['Construction Material*'].value_counts()"
   ]
  },
  {
   "cell_type": "markdown",
   "metadata": {},
   "source": [
    "Although Steel or Metal only have 134 observations, it's hard to reason combining it with any other categories, so will leave it as it is."
   ]
  },
  {
   "cell_type": "code",
   "execution_count": null,
   "metadata": {},
   "outputs": [],
   "source": [
    "sub1['Owner Type'].value_counts()"
   ]
  },
  {
   "cell_type": "code",
   "execution_count": null,
   "metadata": {},
   "outputs": [],
   "source": [
    "sub1['Affordable Type*'].value_counts()"
   ]
  },
  {
   "cell_type": "code",
   "execution_count": null,
   "metadata": {},
   "outputs": [],
   "source": [
    "sub1['Affordable Type**'] = sub1['Affordable Type*'].map({'Rent Restricted':'Rent Restricted',\n",
    "                                                          'Market':'Market',\n",
    "                                                          'Rent Subsidized':'Rent Subsidized/Affordable Units',\n",
    "                                                          'Affordable Units':'Rent Subsidized/Affordable Units'})"
   ]
  },
  {
   "cell_type": "code",
   "execution_count": null,
   "metadata": {},
   "outputs": [],
   "source": [
    "sub1['Affordable Type**'].value_counts()"
   ]
  },
  {
   "cell_type": "code",
   "execution_count": null,
   "metadata": {},
   "outputs": [],
   "source": [
    "cols = ['PropertyID', 'Avg Effective/SF', \n",
    "       # Property\n",
    "       'Avg Concessions %', 'Vacancy %', 'Avg Unit SF', 'Year Built', 'Year Renovated', 'Star Rating', \n",
    "       'Number Of Units', 'RBA', 'Floor Area Ratio', 'Land Area (AC)', 'Number Of Stories', \n",
    "       '% 1-Bed', '% 2-Bed', '% 3-Bed', '% 4-Bed', \n",
    "       'Construction Material*', 'Owner Type', 'Affordable Type**',\n",
    "       # Location & Demographic\n",
    "       'Closest Transit Stop Dist (mi)', '2019 Avg Age(1m)', '2019 Pop Tot',\n",
    "       'MedanHHIncome(000)', 'married %', 'male/female', 'Deposit (000s) Per Capita',\n",
    "       'Supply_all', 'Supply_vacant',\n",
    "       'State', 'City**', 'County**',\n",
    "       # Amenities\n",
    "       'Amenity_Roof Terrace', 'Amenity_Maid Service', 'Amenity_Bicycle Storage',\n",
    "       'Amenity_Car Charging Station', 'Amenity_On-Site Retail', 'Amenity_Elevator',\n",
    "       'Amenity_Fitness Center', 'Amenity_Clubhouse', 'Amenity_Property Manager on Site',\n",
    "       'Amenity_Grill', 'Amenity_Playground', 'Amenity_Maintenance on site', 'Amenity_Gated',\n",
    "       'Amenity_Picnic Area', 'Amenity_Package Service', 'Amenity_Controlled Access',\n",
    "       'Amenity_Sundeck', 'Amenity_LEED/Energy Star', 'Amenity_Sports', 'Amenity_Business',\n",
    "       'Amenity_Laundry', 'Amenity_Spa/Sauna', 'Amenity_Pet', 'Amenity_Wifi']\n",
    "var = sub1[cols].copy()"
   ]
  },
  {
   "cell_type": "markdown",
   "metadata": {},
   "source": [
    "### 5.3 Separate train and test sets\n",
    "- 0.7 train and 0.3 test to make sure test set have enough observations in each category"
   ]
  },
  {
   "cell_type": "code",
   "execution_count": null,
   "metadata": {},
   "outputs": [],
   "source": [
    "from sklearn.model_selection import train_test_split\n",
    "\n",
    "train, test = train_test_split(var, test_size=0.3, random_state=0)\n",
    "train = train.copy()\n",
    "test = test.copy()"
   ]
  },
  {
   "cell_type": "code",
   "execution_count": null,
   "metadata": {},
   "outputs": [],
   "source": [
    "print(train.shape)\n",
    "print(test.shape)"
   ]
  },
  {
   "cell_type": "markdown",
   "metadata": {},
   "source": [
    "### 5.4 Target encode six categorical features"
   ]
  },
  {
   "cell_type": "code",
   "execution_count": null,
   "metadata": {},
   "outputs": [],
   "source": [
    "# 'Construction Material*', 'Owner Type', 'Affordable Type**', 'State', 'City**', 'County**'"
   ]
  },
  {
   "cell_type": "code",
   "execution_count": null,
   "metadata": {},
   "outputs": [],
   "source": [
    "train['Construction Material_encoded'] = train[['Construction Material*','Avg Effective/SF']].\\\n",
    "                                         groupby('Construction Material*').transform(lambda x: x.mean())\n",
    "test['Construction Material_encoded'] = test[['Construction Material*','Avg Effective/SF']].\\\n",
    "                                        groupby('Construction Material*').transform(lambda x: x.mean())\n",
    "    \n",
    "train['Owner Type_encoded'] = train[['Owner Type','Avg Effective/SF']].\\\n",
    "                              groupby('Owner Type').transform(lambda x: x.mean())\n",
    "test['Owner Type_encoded'] = test[['Owner Type','Avg Effective/SF']].\\\n",
    "                              groupby('Owner Type').transform(lambda x: x.mean())\n",
    "\n",
    "train['Affordable Type_encoded'] = train[['Affordable Type**','Avg Effective/SF']].\\\n",
    "                              groupby('Affordable Type**').transform(lambda x: x.mean())\n",
    "test['Affordable Type_encoded'] = test[['Affordable Type**','Avg Effective/SF']].\\\n",
    "                              groupby('Affordable Type**').transform(lambda x: x.mean())\n",
    "\n",
    "train['State_encoded'] = train[['State','Avg Effective/SF']].\\\n",
    "                              groupby('State').transform(lambda x: x.mean())\n",
    "test['State_encoded'] = test[['State','Avg Effective/SF']].\\\n",
    "                              groupby('State').transform(lambda x: x.mean())\n",
    "\n",
    "train['City_encoded'] = train[['City**','Avg Effective/SF']].\\\n",
    "                              groupby('City**').transform(lambda x: x.mean())\n",
    "test['City_encoded'] = test[['City**','Avg Effective/SF']].\\\n",
    "                              groupby('City**').transform(lambda x: x.mean())\n",
    "\n",
    "train['County_encoded'] = train[['County**','Avg Effective/SF']].\\\n",
    "                              groupby('County**').transform(lambda x: x.mean())\n",
    "test['County_encoded'] = test[['County**','Avg Effective/SF']].\\\n",
    "                              groupby('County**').transform(lambda x: x.mean())"
   ]
  },
  {
   "cell_type": "code",
   "execution_count": null,
   "metadata": {},
   "outputs": [],
   "source": [
    "cols = ['Construction Material*', 'Owner Type', 'Affordable Type**', 'State', 'City**', 'County**']\n",
    "train = train.drop(columns=cols)\n",
    "test = test.drop(columns=cols)"
   ]
  },
  {
   "cell_type": "code",
   "execution_count": null,
   "metadata": {},
   "outputs": [],
   "source": [
    "X_train = train.iloc[:, 2:].values\n",
    "y_train = train.iloc[:, 1].values\n",
    "X_test = test.iloc[:, 2:].values\n",
    "y_test = test.iloc[:, 1].values"
   ]
  },
  {
   "cell_type": "markdown",
   "metadata": {},
   "source": [
    "### 5.5 Model fitting with 54 features"
   ]
  },
  {
   "cell_type": "code",
   "execution_count": null,
   "metadata": {},
   "outputs": [],
   "source": [
    "from sklearn.ensemble import RandomForestRegressor\n",
    "\n",
    "regressor = RandomForestRegressor(n_estimators=200, random_state=0)\n",
    "regressor.fit(X_train, y_train)\n",
    "y_pred_train = regressor.predict(X_train)\n",
    "y_pred_test = regressor.predict(X_test)"
   ]
  },
  {
   "cell_type": "code",
   "execution_count": null,
   "metadata": {},
   "outputs": [],
   "source": [
    "from sklearn import metrics\n",
    "\n",
    "print('------------------------------TRAIN------------------------------')\n",
    "print('Mean Absolute Error:', metrics.mean_absolute_error(y_train, y_pred_train))\n",
    "print('Mean Squared Error:', metrics.mean_squared_error(y_train, y_pred_train))\n",
    "print('Root Mean Squared Error:', np.sqrt(metrics.mean_squared_error(y_train, y_pred_train)))\n",
    "print('R Squared:', metrics.r2_score(y_train, y_pred_train))\n",
    "print('')\n",
    "print('------------------------------TEST------------------------------')\n",
    "print('Mean Absolute Error:', metrics.mean_absolute_error(y_test, y_pred_test))\n",
    "print('Mean Squared Error:', metrics.mean_squared_error(y_test, y_pred_test))\n",
    "print('Root Mean Squared Error:', np.sqrt(metrics.mean_squared_error(y_test, y_pred_test)))\n",
    "print('R Squared:', metrics.r2_score(y_test, y_pred_test))"
   ]
  },
  {
   "cell_type": "markdown",
   "metadata": {},
   "source": [
    "High Overfitting. Requires future work."
   ]
  },
  {
   "cell_type": "markdown",
   "metadata": {},
   "source": [
    "# 6. Identify Underpriced Properties"
   ]
  },
  {
   "cell_type": "code",
   "execution_count": null,
   "metadata": {},
   "outputs": [],
   "source": [
    "pred = jmp[['PropertyID', 'Avg Effective/SF', 'Pred Formula Avg Effective/SF',\n",
    "            'Lower 95% Indiv Avg Effective/SF', 'Upper 95% Indiv Avg Effective/SF', 'Outlier']].copy()\n",
    "pred.head()"
   ]
  },
  {
   "cell_type": "code",
   "execution_count": null,
   "metadata": {},
   "outputs": [],
   "source": [
    "pred['Overpriced'] = pred[['Avg Effective/SF', 'Upper 95% Indiv Avg Effective/SF']].\\\n",
    "                     apply(lambda x: 1 if x[0]>x[1] else 0, axis=1)\n",
    "pred['Underpriced'] = pred[['Avg Effective/SF', 'Lower 95% Indiv Avg Effective/SF']].\\\n",
    "                     apply(lambda x: 1 if x[0]<x[1] else 0, axis=1)"
   ]
  },
  {
   "cell_type": "code",
   "execution_count": null,
   "metadata": {},
   "outputs": [],
   "source": [
    "pred[['Overpriced', 'Underpriced']].sum()"
   ]
  },
  {
   "cell_type": "code",
   "execution_count": null,
   "metadata": {},
   "outputs": [],
   "source": [
    "pred[pred['Outlier']==0][['Overpriced', 'Underpriced']].sum()"
   ]
  },
  {
   "cell_type": "code",
   "execution_count": null,
   "metadata": {},
   "outputs": [],
   "source": [
    "underpriced = pred[(pred['Outlier']==0) & (pred['Underpriced']==1)]\\\n",
    "              [['PropertyID', 'Pred Formula Avg Effective/SF']]\n",
    "underpriced = underpriced.merge(sub[['PropertyID', 'State', 'Latitude', 'Longitude', 'Avg Effective/SF']])\n",
    "underpriced.head()"
   ]
  },
  {
   "cell_type": "code",
   "execution_count": null,
   "metadata": {},
   "outputs": [],
   "source": [
    "underpriced.to_csv('underpriced.csv',index=False)"
   ]
  }
 ],
 "metadata": {
  "kernelspec": {
   "display_name": "Python 3",
   "language": "python",
   "name": "python3"
  },
  "language_info": {
   "codemirror_mode": {
    "name": "ipython",
    "version": 3
   },
   "file_extension": ".py",
   "mimetype": "text/x-python",
   "name": "python",
   "nbconvert_exporter": "python",
   "pygments_lexer": "ipython3",
   "version": "3.7.3"
  }
 },
 "nbformat": 4,
 "nbformat_minor": 2
}
